{
 "cells": [
  {
   "cell_type": "markdown",
   "metadata": {},
   "source": [
    "正規表現モジュールの使い方\n",
    "\n",
    "- Apacheのログをパースしてみる"
   ]
  },
  {
   "cell_type": "markdown",
   "metadata": {},
   "source": [
    "Apacheログの形式\n",
    "\n",
    "- https://httpd.apache.org/docs/2.4/ja/logs.html#accesslog\n",
    "\n",
    "---\n",
    "\n",
    "Commonログ\n",
    "\n",
    "```\n",
    "LogFormat \"%h %l %u %t \\\"%r\\\" %>s %b\" common\n",
    "```\n",
    "\n",
    "---\n",
    "\n",
    "Combinedログ\n",
    "\n",
    "- combinedにはリファラーとユーザーエージェント（＝ブラウザ）の情報が追加される\n",
    "\n",
    "```\n",
    "LogFormat \"%h %l %u %t \\\"%r\\\" %>s %b \\\"%{Referer}i\\\" \\\"%{User-agent}i\\\"\" combined\n",
    "```\n",
    "\n",
    "---\n",
    "\n",
    "LTSVログ\n",
    "\n",
    "- パースしやすいように名前付きタブ区切りにする形式も、最近ある\n",
    "- 読みやすいように``\\t``のあとに改行をいれた。運用するならこの改行は不要\n",
    "\n",
    "```\n",
    "LogFormat \"\n",
    "remote_host:%h\\t\n",
    "ident:%l\\t\n",
    "user:%u\\t\n",
    "time:%{%d/%b/%Y:%H:%M:%S %z}t\\t\n",
    "request:\\\"%r\\\"\\t\n",
    "status:%>s\\t\n",
    "size:%b\\t\n",
    "referer:\\\"%{Referer}i\\\"\\t\n",
    "user_agent:\\\"%{User-Agent}i\n",
    "\" apache_ltsv\n",
    "```"
   ]
  },
  {
   "cell_type": "markdown",
   "metadata": {},
   "source": [
    "実サンプル"
   ]
  },
  {
   "cell_type": "code",
   "execution_count": 2,
   "metadata": {},
   "outputs": [
    {
     "data": {
      "text/plain": [
       "'64.124.8.47 - - [01/Oct/2022:03:17:08 +0900] \"GET /proffice/archives/intra-j/images/safty.gif HTTP/1.1\" 200 241 \"-\" \"Mozilla/5.0 (X11; Linux x86_64) AppleWebKit/\\n537.36 (KHTML, like Gecko) Chrome/61.0.3163.79 Safari/537.36\" www2.kek.jp'"
      ]
     },
     "execution_count": 2,
     "metadata": {},
     "output_type": "execute_result"
    }
   ],
   "source": [
    "s01 = \"\"\"64.124.8.47 - - [01/Oct/2022:03:17:08 +0900] \"GET /proffice/archives/intra-j/images/safty.gif HTTP/1.1\" 200 241 \"-\" \"Mozilla/5.0 (X11; Linux x86_64) AppleWebKit/\n",
    "537.36 (KHTML, like Gecko) Chrome/61.0.3163.79 Safari/537.36\" www2.kek.jp\"\"\"\n",
    "s01"
   ]
  },
  {
   "cell_type": "code",
   "execution_count": 4,
   "metadata": {},
   "outputs": [
    {
     "data": {
      "text/plain": [
       "'24.129.70.237 - - [01/Oct/2022:03:21:19 +0900] \"GET /ja/news/highlights/2011/images/Aerosol2s.jpg HTTP/1.1\" 200 24799 \"https://www.kek.jp/\" \"Mozilla/5.0 (Macintosh; Intel Mac OS X 10_15_7) AppleWebKit/605.1.15 (KHTML, like Gecko) Version/16.0 Safari/605.1.15\" www2.kek.jp'"
      ]
     },
     "execution_count": 4,
     "metadata": {},
     "output_type": "execute_result"
    }
   ],
   "source": [
    "s02 = \"\"\"24.129.70.237 - - [01/Oct/2022:03:21:19 +0900] \"GET /ja/news/highlights/2011/images/Aerosol2s.jpg HTTP/1.1\" 200 24799 \"https://www.kek.jp/\" \"Mozilla/5.0 (Macintosh; Intel Mac OS X 10_15_7) AppleWebKit/605.1.15 (KHTML, like Gecko) Version/16.0 Safari/605.1.15\" www2.kek.jp\"\"\"\n",
    "s02"
   ]
  },
  {
   "cell_type": "code",
   "execution_count": 68,
   "metadata": {},
   "outputs": [
    {
     "data": {
      "text/plain": [
       "'114.119.144.65 - - [01/Oct/2022:03:17:55 +0900] \"GET /engineer/oho/giken/procedng/paper/met063.pdf HTTP/1.1\" 200 34855 \"https://www2.kek.jp/engineer/oho/giken/pr\\nocedng/html/kwall.htm\" \"Mozilla/5.0 (Linux; Android 7.0;) AppleWebKit/537.36 (KHTML, like Gecko) Mobile Safari/537.36 (compatible; PetalBot;+https://webmaster.pe\\ntalsearch.com/site/petalbot)\" www2.kek.jp'"
      ]
     },
     "execution_count": 68,
     "metadata": {},
     "output_type": "execute_result"
    }
   ],
   "source": [
    "s03 = \"\"\"114.119.144.65 - - [01/Oct/2022:03:17:55 +0900] \"GET /engineer/oho/giken/procedng/paper/met063.pdf HTTP/1.1\" 200 34855 \"https://www2.kek.jp/engineer/oho/giken/pr\n",
    "ocedng/html/kwall.htm\" \"Mozilla/5.0 (Linux; Android 7.0;) AppleWebKit/537.36 (KHTML, like Gecko) Mobile Safari/537.36 (compatible; PetalBot;+https://webmaster.pe\n",
    "talsearch.com/site/petalbot)\" www2.kek.jp\"\"\"\n",
    "s03"
   ]
  },
  {
   "cell_type": "markdown",
   "metadata": {},
   "source": [
    "ホスト名（IPアドレス）を抽出したい\n",
    "\n",
    "- IPv4 : ``xxx.xxx.xxx.xxx``\n",
    "  - 4組の数字をピリオドで結合した文字列\n",
    "  - それぞれの数字は8ビットを10進数で表したもの（0 - 255）\n",
    "  - 正規表現 : ``(\\d{1,3}\\.){3}\\d{1,3}`` でOK\n",
    "- IPv6は``xxxx:xxxx:xxxx:xxxx:xxxx:xxxx:xxxx:xxxx``\n",
    "  - 8組の文字列を``:``で結合した文字列\n",
    "  - それぞれの文字列は16ビットを16進数で表したもの\n",
    "  - 正規表現 : ``([0-9A-Fa-f]{0,4}\\:){7}[0-9A-Fa-f]{0,4}`` でOKなはず"
   ]
  },
  {
   "cell_type": "code",
   "execution_count": 16,
   "metadata": {},
   "outputs": [],
   "source": [
    "import re"
   ]
  },
  {
   "cell_type": "code",
   "execution_count": 69,
   "metadata": {},
   "outputs": [
    {
     "data": {
      "text/plain": [
       "re.compile(r'(\\d{1,3}\\.){3}\\d{1,3}', re.UNICODE)"
      ]
     },
     "execution_count": 69,
     "metadata": {},
     "output_type": "execute_result"
    }
   ],
   "source": [
    "ipv4 = re.compile(\"(\\d{1,3}\\.){3}\\d{1,3}\")\n",
    "ipv4"
   ]
  },
  {
   "cell_type": "code",
   "execution_count": 70,
   "metadata": {},
   "outputs": [
    {
     "data": {
      "text/plain": [
       "re.compile(r'([0-9A-Fa-f]{0,4}:){7}[0-9A-Fa-f]{0,4}', re.UNICODE)"
      ]
     },
     "execution_count": 70,
     "metadata": {},
     "output_type": "execute_result"
    }
   ],
   "source": [
    "ipv6 = re.compile(\"([0-9A-Fa-f]{0,4}:){7}[0-9A-Fa-f]{0,4}\")\n",
    "ipv6\n"
   ]
  },
  {
   "cell_type": "code",
   "execution_count": 71,
   "metadata": {},
   "outputs": [
    {
     "data": {
      "text/plain": [
       "<re.Match object; span=(0, 11), match='64.124.8.47'>"
      ]
     },
     "execution_count": 71,
     "metadata": {},
     "output_type": "execute_result"
    }
   ],
   "source": [
    "m = ipv4.match(s01)\n",
    "m"
   ]
  },
  {
   "cell_type": "code",
   "execution_count": 76,
   "metadata": {},
   "outputs": [],
   "source": [
    "m = ipv6.match(s01)\n",
    "m"
   ]
  },
  {
   "cell_type": "code",
   "execution_count": 20,
   "metadata": {},
   "outputs": [
    {
     "data": {
      "text/plain": [
       "re.compile(r'(\\d{1,3}\\.){3}\\d{1,3}', re.UNICODE)"
      ]
     },
     "execution_count": 20,
     "metadata": {},
     "output_type": "execute_result"
    }
   ],
   "source": [
    "m.re"
   ]
  },
  {
   "cell_type": "code",
   "execution_count": 23,
   "metadata": {},
   "outputs": [
    {
     "data": {
      "text/plain": [
       "'64.124.8.47'"
      ]
     },
     "execution_count": 23,
     "metadata": {},
     "output_type": "execute_result"
    }
   ],
   "source": [
    "m.group()"
   ]
  },
  {
   "cell_type": "code",
   "execution_count": 27,
   "metadata": {},
   "outputs": [
    {
     "data": {
      "text/plain": [
       "('8.',)"
      ]
     },
     "execution_count": 27,
     "metadata": {},
     "output_type": "execute_result"
    }
   ],
   "source": []
  },
  {
   "cell_type": "markdown",
   "metadata": {},
   "source": [
    "アクセス日時を抽出したい\n",
    "\n",
    "- 時刻は``[``と``]``で囲まれた内容\n",
    "- 正規表現は``\\[.*?\\]``"
   ]
  },
  {
   "cell_type": "code",
   "execution_count": 28,
   "metadata": {},
   "outputs": [
    {
     "data": {
      "text/plain": [
       "re.compile(r'\\[.*?\\]', re.UNICODE)"
      ]
     },
     "execution_count": 28,
     "metadata": {},
     "output_type": "execute_result"
    }
   ],
   "source": [
    "tm = re.compile(\"\\[.*?\\]\")\n",
    "tm"
   ]
  },
  {
   "cell_type": "code",
   "execution_count": 30,
   "metadata": {},
   "outputs": [
    {
     "data": {
      "text/plain": [
       "<re.Match object; span=(16, 44), match='[01/Oct/2022:03:17:08 +0900]'>"
      ]
     },
     "execution_count": 30,
     "metadata": {},
     "output_type": "execute_result"
    }
   ],
   "source": [
    "m = tm.search(s01)\n",
    "m"
   ]
  },
  {
   "cell_type": "code",
   "execution_count": 31,
   "metadata": {},
   "outputs": [
    {
     "data": {
      "text/plain": [
       "'[01/Oct/2022:03:17:08 +0900]'"
      ]
     },
     "execution_count": 31,
     "metadata": {},
     "output_type": "execute_result"
    }
   ],
   "source": [
    "m.group()"
   ]
  },
  {
   "cell_type": "markdown",
   "metadata": {},
   "source": [
    "リクエストを取得したい\n",
    "\n",
    "- リクエストは``\"GET /ja/news/highlights/2011/images/Aerosol2s.jpg HTTP/1.1\"``のように``\"``と``\"``で挟まれた部分\n",
    "- 正規表現は``\\\".*?\\\"``"
   ]
  },
  {
   "cell_type": "code",
   "execution_count": 32,
   "metadata": {},
   "outputs": [
    {
     "data": {
      "text/plain": [
       "re.compile(r'\".*?\"', re.UNICODE)"
      ]
     },
     "execution_count": 32,
     "metadata": {},
     "output_type": "execute_result"
    }
   ],
   "source": [
    "rq = re.compile('\\\".*?\\\"')\n",
    "rq"
   ]
  },
  {
   "cell_type": "code",
   "execution_count": 34,
   "metadata": {},
   "outputs": [
    {
     "data": {
      "text/plain": [
       "<re.Match object; span=(45, 103), match='\"GET /proffice/archives/intra-j/images/safty.gif >"
      ]
     },
     "execution_count": 34,
     "metadata": {},
     "output_type": "execute_result"
    }
   ],
   "source": [
    "m = rq.search(s01)\n",
    "m"
   ]
  },
  {
   "cell_type": "code",
   "execution_count": 35,
   "metadata": {},
   "outputs": [
    {
     "data": {
      "text/plain": [
       "'\"GET /proffice/archives/intra-j/images/safty.gif HTTP/1.1\"'"
      ]
     },
     "execution_count": 35,
     "metadata": {},
     "output_type": "execute_result"
    }
   ],
   "source": [
    "m.group()"
   ]
  },
  {
   "cell_type": "markdown",
   "metadata": {},
   "source": [
    "Combinedログ全部盛りの正規表現を作ってみる"
   ]
  },
  {
   "cell_type": "code",
   "execution_count": 463,
   "metadata": {},
   "outputs": [
    {
     "data": {
      "text/plain": [
       "'114.119.144.65 - - [01/Oct/2022:03:17:55 +0900] \"GET /engineer/oho/giken/procedng/paper/met063.pdf HTTP/1.1\" 200 34855 \"https://www2.kek.jp/engineer/oho/giken/pr\\nocedng/html/kwall.htm\" \"Mozilla/5.0 (Linux; Android 7.0;) AppleWebKit/537.36 (KHTML, like Gecko) Mobile Safari/537.36 (compatible; PetalBot;+https://webmaster.pe\\ntalsearch.com/site/petalbot)\" www2.kek.jp'"
      ]
     },
     "execution_count": 463,
     "metadata": {},
     "output_type": "execute_result"
    }
   ],
   "source": [
    "s03"
   ]
  },
  {
   "cell_type": "code",
   "execution_count": 570,
   "metadata": {},
   "outputs": [],
   "source": [
    "#_regex_str = \"\"\"\"(\\d{1,3}\\.){3}\\d{1,3} (\\s+|-) (\\s+|-) (\\[.*?\\]) (\\\".*?\\\") (\\d+) (\\d+|-) (\\\".*?\\\") (\\\".*?\\\")\"\"\"\n",
    "# _regex_str = '(?P<remote_host>(\\d{1,3}\\.){3}\\d{1,3}) (?P<ident>(\\S+|-)) (?P<user>(\\S+|-)) (?P<time>(\\[.*?\\])) (?P<request_first_line>(\\\"[\\S\\s]+?\\\")) (?P<status>(\\d+)) (?P<size>(\\d+|-)) (?P<referer>(\\S+)) (?P<ua>(\\\"[\\S\\s]+?\\\"))'\n",
    "# _regex_str = '(?P<remote_host>(\\d{1,3}\\.){3}\\d{1,3}) (?P<ident>(\\S+|-)) (?P<user>(\\S+|-)) (?P<time>(\\[[\\S\\s]+?\\])) (?P<request_first_line>(\\\"[\\S\\s]+?\\\")) (?P<status>(\\d+)) (?P<size>(\\d+|-)) (?P<referer>([\\S\\s]+)) (?P<ua>(\\\"[\\S\\s]+?\\\"))'\n",
    "_regex_str = '(?P<remote_host>(\\d{1,3}\\.){3}\\d{1,3}) (?P<ident>(\\S+|-)) (?P<user>(\\S+|-)) (?P<time>(\\[[\\S\\s]+?\\])) (?P<request_first_line>(\\\"[\\S\\s]+?\\\")) (?P<status>(\\d+)) (?P<size>(\\d+|-)) (?P<referer>([\\S\\s]*)) (?P<ua>(\\\"[\\S\\s]+?\\\"))'\n",
    "# _regex_str"
   ]
  },
  {
   "cell_type": "code",
   "execution_count": 571,
   "metadata": {},
   "outputs": [
    {
     "data": {
      "text/plain": [
       "<re.Match object; span=(0, 259), match='24.129.70.237 - - [01/Oct/2022:03:21:19 +0900] \"G>"
      ]
     },
     "execution_count": 571,
     "metadata": {},
     "output_type": "execute_result"
    }
   ],
   "source": [
    "m = re.search(_regex_str, s02)\n",
    "m"
   ]
  },
  {
   "cell_type": "code",
   "execution_count": 572,
   "metadata": {},
   "outputs": [
    {
     "data": {
      "text/plain": [
       "'24.129.70.237 - - [01/Oct/2022:03:21:19 +0900] \"GET /ja/news/highlights/2011/images/Aerosol2s.jpg HTTP/1.1\" 200 24799 \"https://www.kek.jp/\" \"Mozilla/5.0 (Macintosh; Intel Mac OS X 10_15_7) AppleWebKit/605.1.15 (KHTML, like Gecko) Version/16.0 Safari/605.1.15\"'"
      ]
     },
     "execution_count": 572,
     "metadata": {},
     "output_type": "execute_result"
    }
   ],
   "source": [
    "m.group()"
   ]
  },
  {
   "cell_type": "code",
   "execution_count": 573,
   "metadata": {},
   "outputs": [
    {
     "data": {
      "text/plain": [
       "'24.129.70.237'"
      ]
     },
     "execution_count": 573,
     "metadata": {},
     "output_type": "execute_result"
    }
   ],
   "source": [
    "m.group(\"remote_host\")"
   ]
  },
  {
   "cell_type": "code",
   "execution_count": 574,
   "metadata": {},
   "outputs": [
    {
     "data": {
      "text/plain": [
       "'-'"
      ]
     },
     "execution_count": 574,
     "metadata": {},
     "output_type": "execute_result"
    }
   ],
   "source": [
    "m.group(\"ident\")"
   ]
  },
  {
   "cell_type": "code",
   "execution_count": 575,
   "metadata": {},
   "outputs": [
    {
     "data": {
      "text/plain": [
       "'-'"
      ]
     },
     "execution_count": 575,
     "metadata": {},
     "output_type": "execute_result"
    }
   ],
   "source": [
    "m.group(\"user\")"
   ]
  },
  {
   "cell_type": "code",
   "execution_count": 576,
   "metadata": {},
   "outputs": [
    {
     "data": {
      "text/plain": [
       "'[01/Oct/2022:03:21:19 +0900]'"
      ]
     },
     "execution_count": 576,
     "metadata": {},
     "output_type": "execute_result"
    }
   ],
   "source": [
    "m.group(\"time\")"
   ]
  },
  {
   "cell_type": "code",
   "execution_count": 577,
   "metadata": {},
   "outputs": [
    {
     "data": {
      "text/plain": [
       "'\"GET /ja/news/highlights/2011/images/Aerosol2s.jpg HTTP/1.1\"'"
      ]
     },
     "execution_count": 577,
     "metadata": {},
     "output_type": "execute_result"
    }
   ],
   "source": [
    "m.group(\"request_first_line\")"
   ]
  },
  {
   "cell_type": "code",
   "execution_count": 546,
   "metadata": {},
   "outputs": [
    {
     "data": {
      "text/plain": [
       "'200'"
      ]
     },
     "execution_count": 546,
     "metadata": {},
     "output_type": "execute_result"
    }
   ],
   "source": [
    "m.group(\"status\")"
   ]
  },
  {
   "cell_type": "code",
   "execution_count": 547,
   "metadata": {},
   "outputs": [
    {
     "data": {
      "text/plain": [
       "'34855'"
      ]
     },
     "execution_count": 547,
     "metadata": {},
     "output_type": "execute_result"
    }
   ],
   "source": [
    "m.group(\"size\")"
   ]
  },
  {
   "cell_type": "code",
   "execution_count": 548,
   "metadata": {},
   "outputs": [
    {
     "data": {
      "text/plain": [
       "'\"https://www2.kek.jp/engineer/oho/giken/pr\\nocedng/html/kwall.htm\"'"
      ]
     },
     "execution_count": 548,
     "metadata": {},
     "output_type": "execute_result"
    }
   ],
   "source": [
    "m.group(\"referer\")"
   ]
  },
  {
   "cell_type": "code",
   "execution_count": 549,
   "metadata": {},
   "outputs": [
    {
     "data": {
      "text/plain": [
       "'\"Mozilla/5.0 (Linux; Android 7.0;) AppleWebKit/537.36 (KHTML, like Gecko) Mobile Safari/537.36 (compatible; PetalBot;+https://webmaster.pe\\ntalsearch.com/site/petalbot)\"'"
      ]
     },
     "execution_count": 549,
     "metadata": {},
     "output_type": "execute_result"
    }
   ],
   "source": [
    "m.group(\"ua\")"
   ]
  },
  {
   "cell_type": "code",
   "execution_count": null,
   "metadata": {},
   "outputs": [],
   "source": []
  }
 ],
 "metadata": {
  "kernelspec": {
   "display_name": "Python 3.10.8 ('.venv': poetry)",
   "language": "python",
   "name": "python3"
  },
  "language_info": {
   "codemirror_mode": {
    "name": "ipython",
    "version": 3
   },
   "file_extension": ".py",
   "mimetype": "text/x-python",
   "name": "python",
   "nbconvert_exporter": "python",
   "pygments_lexer": "ipython3",
   "version": "3.10.8"
  },
  "orig_nbformat": 4,
  "vscode": {
   "interpreter": {
    "hash": "360e5ca6cf1c60703a2fbe4bde1ece66bdad26ce40d180d277bb3a5f90d9bfe9"
   }
  }
 },
 "nbformat": 4,
 "nbformat_minor": 2
}

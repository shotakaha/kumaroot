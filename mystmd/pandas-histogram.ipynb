{
 "cells": [
  {
   "cell_type": "markdown",
   "metadata": {},
   "source": [
    "---\n",
    "title: ヒストグラムしたい（pd.DataFrame.plot）\n",
    "subject: pandasの使い方\n",
    "keywords: [python, pandas]\n",
    "authors:\n",
    "  - Shota Takahashi\n",
    "exports:\n",
    "  - format: pdf  \n",
    "---"
   ]
  },
  {
   "cell_type": "code",
   "execution_count": null,
   "metadata": {},
   "outputs": [],
   "source": [
    "import random\n",
    "import numpy as np\n",
    "import pandas as pd\n",
    "import matplotlib.pyplot as plt\n",
    "import japanize_matplotlib\n",
    "\n",
    "print(f\"NumPy: {np.__version__}\")\n",
    "print(f\"Pandas: {pd.__version__}\")"
   ]
  },
  {
   "cell_type": "markdown",
   "metadata": {},
   "source": [
    "# 年齢の度数分布表を\n",
    "\n",
    "18 - 60歳の100人を対象に実施したアンケートの、年齢分布を作成したいと思います。\n",
    "まず、``random.randint``を使って、アンケート結果をエミュレートします。"
   ]
  },
  {
   "cell_type": "code",
   "execution_count": null,
   "metadata": {},
   "outputs": [],
   "source": [
    "ages = [random.randint(18, 60) for i in range(100)]\n",
    "data = pd.DataFrame({\"age\": ages})\n",
    "data"
   ]
  },
  {
   "cell_type": "markdown",
   "metadata": {},
   "source": [
    "``pandas.DataFrame.hist``もしくは``pandas.DataFrame.plot.hist``でヒストグラムを作成します。\n",
    "階級（ビン）のサイズは、``bins``オプションで変更できます。"
   ]
  },
  {
   "cell_type": "code",
   "execution_count": null,
   "metadata": {},
   "outputs": [],
   "source": [
    "bins = range(0, 100, 5)\n",
    "data.plot.hist(\n",
    "    bins=bins,\n",
    "    title=\"アンケート回答者の年齢分布\",\n",
    "    xlabel=\"年代\",\n",
    "    ylabel=\"回答数\",\n",
    "    legend=None,\n",
    ")"
   ]
  },
  {
   "cell_type": "markdown",
   "metadata": {},
   "source": [
    "それぞれの階級の度数を確認したい場合は、``pandas.cut``と``pandas.value_counts``を組み合わせて使います。"
   ]
  },
  {
   "cell_type": "code",
   "execution_count": null,
   "metadata": {},
   "outputs": [],
   "source": [
    "bins = range(0, 100, 10)\n",
    "# listを渡すと、Categorical型で返ってくる\n",
    "# c = pd.cut(ages, bins=bins)\n",
    "\n",
    "# pd.Seriesを渡すと、pd.Seriesで返ってくる\n",
    "# c = pd.cut(data[\"age\"], bins=bins)\n",
    "c = (\n",
    "    data[\"age\"]\n",
    "    .value_counts(bins=bins)\n",
    "    .reset_index()\n",
    "    .rename(columns={\"index\": \"rank\", \"count\": \"freq\"})\n",
    ")\n",
    "c"
   ]
  },
  {
   "cell_type": "code",
   "execution_count": null,
   "metadata": {},
   "outputs": [],
   "source": [
    "np.histogram(data[\"age\"])"
   ]
  },
  {
   "cell_type": "code",
   "execution_count": null,
   "metadata": {},
   "outputs": [],
   "source": []
  }
 ],
 "metadata": {
  "kernelspec": {
   "display_name": ".venv",
   "language": "python",
   "name": "python3"
  },
  "language_info": {
   "codemirror_mode": {
    "name": "ipython",
    "version": 3
   },
   "file_extension": ".py",
   "mimetype": "text/x-python",
   "name": "python",
   "nbconvert_exporter": "python",
   "pygments_lexer": "ipython3",
   "version": "3.11.9"
  }
 },
 "nbformat": 4,
 "nbformat_minor": 2
}

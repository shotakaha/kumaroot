{
 "cells": [
  {
   "cell_type": "code",
   "execution_count": 11,
   "metadata": {},
   "outputs": [],
   "source": [
    "import requests\n",
    "from bs4 import BeautifulSoup"
   ]
  },
  {
   "cell_type": "code",
   "execution_count": 12,
   "metadata": {},
   "outputs": [],
   "source": [
    "url = \"https://kumaroot.readthedocs.io/ja/latest/\"\n",
    "html = requests.get(url)\n",
    "soup = BeautifulSoup(html.content)"
   ]
  },
  {
   "cell_type": "code",
   "execution_count": 14,
   "metadata": {},
   "outputs": [
    {
     "data": {
      "text/plain": [
       "<head>\n",
       "<meta charset=\"utf-8\"/><meta content=\"Docutils 0.17.1: http://docutils.sourceforge.net/\" name=\"generator\"/>\n",
       "<meta content=\"width=device-width, initial-scale=1.0\" name=\"viewport\"/>\n",
       "<title>KumaROOT — KumaROOT 1.4.0 ドキュメント</title>\n",
       "<link href=\"_static/pygments.css\" rel=\"stylesheet\" type=\"text/css\"/>\n",
       "<link href=\"_static/css/theme.css\" rel=\"stylesheet\" type=\"text/css\"/>\n",
       "<link href=\"https://kumaroot.readthedocs.io/ja/latest/index.html\" rel=\"canonical\"/>\n",
       "<!--[if lt IE 9]>\n",
       "    <script src=\"_static/js/html5shiv.min.js\"></script>\n",
       "  <![endif]-->\n",
       "<script data-url_root=\"./\" id=\"documentation_options\" src=\"_static/documentation_options.js\"></script>\n",
       "<script src=\"_static/jquery.js\"></script>\n",
       "<script src=\"_static/underscore.js\"></script>\n",
       "<script src=\"_static/_sphinx_javascript_frameworks_compat.js\"></script>\n",
       "<script src=\"_static/doctools.js\"></script>\n",
       "<script src=\"_static/translations.js\"></script>\n",
       "<script async=\"async\" src=\"/_/static/javascript/readthedocs-doc-embed.js\"></script>\n",
       "<script src=\"_static/js/theme.js\"></script>\n",
       "<link href=\"genindex.html\" rel=\"index\" title=\"索引\"/>\n",
       "<link href=\"search.html\" rel=\"search\" title=\"検索\"/>\n",
       "<link href=\"preface.html\" rel=\"next\" title=\"はじめに\"/>\n",
       "<!-- RTD Extra Head -->\n",
       "<link href=\"/_/static/css/readthedocs-doc-embed.css\" rel=\"stylesheet\" type=\"text/css\"/>\n",
       "<script id=\"READTHEDOCS_DATA\" type=\"application/json\">{\"ad_free\": false, \"api_host\": \"https://readthedocs.org\", \"build_date\": \"2022-09-26T14:31:49Z\", \"builder\": \"sphinx\", \"canonical_url\": null, \"commit\": \"100b9c6b\", \"docroot\": \"/docs/source/\", \"features\": {\"docsearch_disabled\": false}, \"global_analytics_code\": \"UA-17997319-1\", \"language\": \"ja\", \"page\": \"index\", \"programming_language\": \"\", \"project\": \"kumaroot\", \"proxied_api_host\": \"/_\", \"source_suffix\": \".md\", \"subprojects\": {}, \"theme\": \"sphinx_rtd_theme\", \"user_analytics_code\": \"G-F2T33GE7N3\", \"version\": \"latest\"}</script>\n",
       "<!--\n",
       "Using this variable directly instead of using `JSON.parse` is deprecated.\n",
       "The READTHEDOCS_DATA global variable will be removed in the future.\n",
       "-->\n",
       "<script type=\"text/javascript\">\n",
       "READTHEDOCS_DATA = JSON.parse(document.getElementById('READTHEDOCS_DATA').innerHTML);\n",
       "</script>\n",
       "<script async=\"async\" src=\"/_/static/javascript/readthedocs-analytics.js\" type=\"text/javascript\"></script>\n",
       "<!-- end RTD <extrahead> -->\n",
       "</head>"
      ]
     },
     "execution_count": 14,
     "metadata": {},
     "output_type": "execute_result"
    }
   ],
   "source": [
    "soup.head"
   ]
  },
  {
   "cell_type": "code",
   "execution_count": 7,
   "metadata": {},
   "outputs": [],
   "source": []
  },
  {
   "cell_type": "code",
   "execution_count": null,
   "metadata": {},
   "outputs": [],
   "source": []
  }
 ],
 "metadata": {
  "kernelspec": {
   "display_name": "Python 3.10.6 ('.venv': poetry)",
   "language": "python",
   "name": "python3"
  },
  "language_info": {
   "codemirror_mode": {
    "name": "ipython",
    "version": 3
   },
   "file_extension": ".py",
   "mimetype": "text/x-python",
   "name": "python",
   "nbconvert_exporter": "python",
   "pygments_lexer": "ipython3",
   "version": "3.10.6"
  },
  "orig_nbformat": 4,
  "vscode": {
   "interpreter": {
    "hash": "360e5ca6cf1c60703a2fbe4bde1ece66bdad26ce40d180d277bb3a5f90d9bfe9"
   }
  }
 },
 "nbformat": 4,
 "nbformat_minor": 2
}

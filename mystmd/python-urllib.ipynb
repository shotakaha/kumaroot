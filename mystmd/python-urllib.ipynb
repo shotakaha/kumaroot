{
 "cells": [
  {
   "cell_type": "markdown",
   "metadata": {},
   "source": [
    "# URL操作したい\n",
    "\n",
    "\n",
    "- `URL`の構成要素\n",
    "  - `scheme://netloc/path;parameters?query#fragment`\n"
   ]
  },
  {
   "cell_type": "code",
   "execution_count": 25,
   "metadata": {},
   "outputs": [],
   "source": [
    "TEST_URL = (\n",
    "    \"https://example.com/path1/path2/path3.html?key1=value1&key2=value2#fragment1\"\n",
    ")\n"
   ]
  },
  {
   "cell_type": "markdown",
   "metadata": {},
   "source": [
    "# urlparse\n",
    "\n",
    "- `urllib.parse.urlparse`を使って、URLをパースする\n",
    "- `urlparse` -> `ParseResult` = named tuple-likeオブジェクト\n",
    "- URLにアクセスせずにURLを分解できる"
   ]
  },
  {
   "cell_type": "code",
   "execution_count": 26,
   "metadata": {},
   "outputs": [],
   "source": [
    "from urllib.parse import urlparse\n"
   ]
  },
  {
   "cell_type": "code",
   "execution_count": 37,
   "metadata": {},
   "outputs": [
    {
     "name": "stdout",
     "output_type": "stream",
     "text": [
      "p=ParseResult(scheme='https', netloc='example.com', path='/path1/path2/path3.html', params='', query='key1=value1&key2=value2', fragment='fragment1')\n",
      "p.scheme='https'\n",
      "p.netloc='example.com'\n",
      "p.path='/path1/path2/path3.html'\n",
      "p.params=''\n",
      "p.query='key1=value1&key2=value2'\n",
      "p.fragment='fragment1'\n"
     ]
    }
   ],
   "source": [
    "p = urlparse(url=TEST_URL)\n",
    "print(f\"{p=}\")\n",
    "print(f\"{p.scheme=}\")\n",
    "print(f\"{p.netloc=}\")\n",
    "print(f\"{p.path=}\")\n",
    "print(f\"{p.params=}\")\n",
    "print(f\"{p.query=}\")\n",
    "print(f\"{p.fragment=}\")\n"
   ]
  },
  {
   "cell_type": "markdown",
   "metadata": {},
   "source": [
    "`allow_fragments=False`にすると、フラグメントはクエリに含まれる"
   ]
  },
  {
   "cell_type": "code",
   "execution_count": 34,
   "metadata": {},
   "outputs": [
    {
     "name": "stdout",
     "output_type": "stream",
     "text": [
      "p.query='key1=value1&key2=value2#fragment1'\n",
      "p.fragment=''\n"
     ]
    }
   ],
   "source": [
    "p = urlparse(url=TEST_URL, allow_fragments=False)\n",
    "# print(f\"{p=}\")\n",
    "print(f\"{p.query=}\")\n",
    "print(f\"{p.fragment=}\")\n"
   ]
  },
  {
   "cell_type": "markdown",
   "metadata": {},
   "source": [
    "# urlsplit\n",
    "\n",
    "- `urlsplit`でURLを分割できる\n",
    "- `urlsplit` -> `SplitResult`オブジェクト"
   ]
  },
  {
   "cell_type": "code",
   "execution_count": 35,
   "metadata": {},
   "outputs": [
    {
     "name": "stdout",
     "output_type": "stream",
     "text": [
      "s=SplitResult(scheme='https', netloc='example.com', path='/path1/path2/path3.html', query='key1=value1&key2=value2', fragment='fragment1')\n",
      "s.scheme='https'\n",
      "s.netloc='example.com'\n",
      "s.path='/path1/path2/path3.html'\n",
      "s.query='key1=value1&key2=value2'\n",
      "s.fragment='fragment1'\n"
     ]
    }
   ],
   "source": [
    "from urllib.parse import urlsplit\n",
    "\n",
    "s = urlsplit(url=TEST_URL)\n",
    "print(f\"{s=}\")\n",
    "print(f\"{s.scheme=}\")\n",
    "print(f\"{s.netloc=}\")\n",
    "print(f\"{s.path=}\")\n",
    "print(f\"{s.query=}\")\n",
    "print(f\"{s.fragment=}\")\n"
   ]
  },
  {
   "cell_type": "markdown",
   "metadata": {},
   "source": [
    "# urldefrag\n",
    "\n",
    "- `urldefrag`でフラグメントを抽出できる\n",
    "- `urldefrag` -> `DefragResult`オブジェクト"
   ]
  },
  {
   "cell_type": "code",
   "execution_count": 41,
   "metadata": {},
   "outputs": [
    {
     "name": "stdout",
     "output_type": "stream",
     "text": [
      "d=DefragResult(url='https://example.com/path1/path2/path3.html?key1=value1&key2=value2', fragment='fragment1')\n"
     ]
    }
   ],
   "source": [
    "from urllib.parse import urldefrag\n",
    "\n",
    "d = urldefrag(url=TEST_URL)\n",
    "print(f\"{d=}\")\n"
   ]
  },
  {
   "cell_type": "markdown",
   "metadata": {},
   "source": [
    "# parse_qs\n",
    "\n",
    "- `parse_qs`でクエリを辞書型に変換できる\n",
    "- `parse_qsl`でクエリをリスト型に変換できる"
   ]
  },
  {
   "cell_type": "code",
   "execution_count": 42,
   "metadata": {},
   "outputs": [],
   "source": [
    "from urllib.parse import parse_qs, parse_qsl\n",
    "\n",
    "p = urlparse(url=TEST_URL)\n",
    "s = urlsplit(url=TEST_URL)\n"
   ]
  },
  {
   "cell_type": "code",
   "execution_count": 43,
   "metadata": {},
   "outputs": [
    {
     "data": {
      "text/plain": [
       "{'key1': ['value1'], 'key2': ['value2']}"
      ]
     },
     "execution_count": 43,
     "metadata": {},
     "output_type": "execute_result"
    }
   ],
   "source": [
    "parse_qs(p.query)\n"
   ]
  },
  {
   "cell_type": "code",
   "execution_count": 48,
   "metadata": {},
   "outputs": [
    {
     "data": {
      "text/plain": [
       "{'key1': ['value1'], 'key2': ['value2']}"
      ]
     },
     "execution_count": 48,
     "metadata": {},
     "output_type": "execute_result"
    }
   ],
   "source": [
    "parse_qs(s.query)\n"
   ]
  },
  {
   "cell_type": "code",
   "execution_count": 45,
   "metadata": {},
   "outputs": [
    {
     "data": {
      "text/plain": [
       "[('key1', 'value1'), ('key2', 'value2')]"
      ]
     },
     "execution_count": 45,
     "metadata": {},
     "output_type": "execute_result"
    }
   ],
   "source": [
    "parse_qsl(p.query)\n"
   ]
  },
  {
   "cell_type": "code",
   "execution_count": 54,
   "metadata": {},
   "outputs": [
    {
     "data": {
      "text/plain": [
       "'https://httpbin.org/get?key1=value1&key2=value2'"
      ]
     },
     "execution_count": 54,
     "metadata": {},
     "output_type": "execute_result"
    }
   ],
   "source": [
    "import requests\n",
    "\n",
    "response = requests.get(url=\"https://httpbin.org/get\", params=parse_qs(s.query))\n",
    "response.url\n"
   ]
  },
  {
   "cell_type": "code",
   "execution_count": 55,
   "metadata": {},
   "outputs": [
    {
     "data": {
      "text/plain": [
       "'https://httpbin.org/get?key1=value1&key2=value2'"
      ]
     },
     "execution_count": 55,
     "metadata": {},
     "output_type": "execute_result"
    }
   ],
   "source": [
    "response = requests.get(url=\"https://httpbin.org/get\", params=parse_qsl(s.query))\n",
    "response.url\n"
   ]
  }
 ],
 "metadata": {
  "kernelspec": {
   "display_name": ".venv",
   "language": "python",
   "name": "python3"
  },
  "language_info": {
   "codemirror_mode": {
    "name": "ipython",
    "version": 3
   },
   "file_extension": ".py",
   "mimetype": "text/x-python",
   "name": "python",
   "nbconvert_exporter": "python",
   "pygments_lexer": "ipython3",
   "version": "3.11.10"
  }
 },
 "nbformat": 4,
 "nbformat_minor": 2
}

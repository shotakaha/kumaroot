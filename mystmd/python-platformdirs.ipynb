{
 "cells": [
  {
   "cell_type": "markdown",
   "metadata": {},
   "source": [
    "# 定番ディレクトリしたい（platformdirs）\n",
    "\n",
    "- https://platformdirs.readthedocs.io/en/latest/\n",
    "- https://pypi.org/project/platformdirs/\n",
    "- https://github.com/platformdirs/platformdirs"
   ]
  },
  {
   "cell_type": "code",
   "execution_count": 1,
   "metadata": {},
   "outputs": [],
   "source": [
    "import platformdirs"
   ]
  },
  {
   "cell_type": "code",
   "execution_count": 6,
   "metadata": {},
   "outputs": [],
   "source": [
    "appauthor = \"アプリの作者\"\n",
    "appname = \"アプリ名\"\n",
    "version = \"バージョン番号\""
   ]
  },
  {
   "cell_type": "markdown",
   "metadata": {},
   "source": [
    "文字列を返す``user_xxx_dir``と\n",
    "Pathオブジェクトを返す``user_xxx_path``がある"
   ]
  },
  {
   "cell_type": "markdown",
   "metadata": {},
   "source": [
    "## ユーザーデータ\n",
    "\n",
    "```python\n",
    "user_data_dir(\n",
    "    appname: str,\n",
    "    appauthor: str,\n",
    "    version: str,\n",
    "    roaming: bool,\n",
    "    ensure_exists: bool,\n",
    ")\n",
    "```"
   ]
  },
  {
   "cell_type": "code",
   "execution_count": 12,
   "metadata": {},
   "outputs": [
    {
     "data": {
      "text/plain": [
       "'/Users/shotakaha/Library/Application Support'"
      ]
     },
     "execution_count": 12,
     "metadata": {},
     "output_type": "execute_result"
    }
   ],
   "source": [
    "# 引数なし\n",
    "\n",
    "platformdirs.user_data_dir()"
   ]
  },
  {
   "cell_type": "code",
   "execution_count": 19,
   "metadata": {},
   "outputs": [
    {
     "data": {
      "text/plain": [
       "'/Users/shotakaha/Library/Application Support/アプリ名'"
      ]
     },
     "execution_count": 19,
     "metadata": {},
     "output_type": "execute_result"
    }
   ],
   "source": [
    "# アプリ名を指定\n",
    "platformdirs.user_data_dir(appname=\"アプリ名\")"
   ]
  },
  {
   "cell_type": "code",
   "execution_count": 20,
   "metadata": {},
   "outputs": [
    {
     "data": {
      "text/plain": [
       "'/Users/shotakaha/Library/Application Support/アプリ名/メジャー番号.マイナー番号'"
      ]
     },
     "execution_count": 20,
     "metadata": {},
     "output_type": "execute_result"
    }
   ],
   "source": [
    "# アプリ名、バージョンを指定\n",
    "platformdirs.user_data_dir(appname=\"アプリ名\", version=\"メジャー番号.マイナー番号\")"
   ]
  },
  {
   "cell_type": "code",
   "execution_count": null,
   "metadata": {},
   "outputs": [],
   "source": []
  }
 ],
 "metadata": {
  "kernelspec": {
   "display_name": ".venv",
   "language": "python",
   "name": "python3"
  },
  "language_info": {
   "codemirror_mode": {
    "name": "ipython",
    "version": 3
   },
   "file_extension": ".py",
   "mimetype": "text/x-python",
   "name": "python",
   "nbconvert_exporter": "python",
   "pygments_lexer": "ipython3",
   "version": "3.12.3"
  }
 },
 "nbformat": 4,
 "nbformat_minor": 2
}

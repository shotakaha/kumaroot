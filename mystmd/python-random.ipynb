{
 "cells": [
  {
   "cell_type": "markdown",
   "metadata": {},
   "source": [
    "---\n",
    "title: 擬似乱数したい（random / secrets）\n",
    "---"
   ]
  },
  {
   "cell_type": "code",
   "execution_count": 5,
   "metadata": {},
   "outputs": [
    {
     "name": "stdout",
     "output_type": "stream",
     "text": [
      "NumPy: 1.26.4\n",
      "SciPy: 1.13.0\n"
     ]
    }
   ],
   "source": [
    "import random\n",
    "import secrets\n",
    "import numpy as np\n",
    "import scipy as sp\n",
    "\n",
    "print(f\"NumPy: {np.__version__}\")\n",
    "print(f\"SciPy: {sp.__version__}\")\n"
   ]
  },
  {
   "cell_type": "markdown",
   "metadata": {},
   "source": [
    "# 乱数シードしたい"
   ]
  },
  {
   "cell_type": "code",
   "execution_count": 6,
   "metadata": {},
   "outputs": [
    {
     "data": {
      "text/plain": [
       "0.10846537689444802"
      ]
     },
     "execution_count": 6,
     "metadata": {},
     "output_type": "execute_result"
    }
   ],
   "source": [
    "random.seed(511)\n",
    "random.random()\n"
   ]
  },
  {
   "cell_type": "code",
   "execution_count": 7,
   "metadata": {},
   "outputs": [
    {
     "data": {
      "text/plain": [
       "array([0.44780529, 0.27322929, 0.89200497, 0.57964083, 0.56720332])"
      ]
     },
     "execution_count": 7,
     "metadata": {},
     "output_type": "execute_result"
    }
   ],
   "source": [
    "rng = np.random.default_rng(511)\n",
    "rng.random()\n",
    "rng.random(5)  # size=5\n"
   ]
  },
  {
   "cell_type": "markdown",
   "metadata": {},
   "source": [
    "# 一様分布したい\n",
    "\n",
    "0.0以上1.0未満の範囲の浮動小数点で一様分布する乱数を生成します。"
   ]
  },
  {
   "cell_type": "code",
   "execution_count": 8,
   "metadata": {},
   "outputs": [
    {
     "data": {
      "text/plain": [
       "0.12185450750738691"
      ]
     },
     "execution_count": 8,
     "metadata": {},
     "output_type": "execute_result"
    }
   ],
   "source": [
    "import random\n",
    "\n",
    "random.random()\n"
   ]
  },
  {
   "cell_type": "code",
   "execution_count": 9,
   "metadata": {},
   "outputs": [
    {
     "data": {
      "text/plain": [
       "0.21212721281068314"
      ]
     },
     "execution_count": 9,
     "metadata": {},
     "output_type": "execute_result"
    }
   ],
   "source": [
    "import numpy as np\n",
    "\n",
    "rng = np.random.default_rng()\n",
    "rng.random()\n"
   ]
  },
  {
   "cell_type": "markdown",
   "metadata": {},
   "source": [
    "# 任意の範囲で一様分布したい\n",
    "\n",
    "`a`以上`b`以下の範囲の浮動小数点で一様分布する乱数を生成します。"
   ]
  },
  {
   "cell_type": "code",
   "execution_count": 10,
   "metadata": {},
   "outputs": [
    {
     "data": {
      "text/plain": [
       "1.9740872527136646"
      ]
     },
     "execution_count": 10,
     "metadata": {},
     "output_type": "execute_result"
    }
   ],
   "source": [
    "import random\n",
    "\n",
    "random.uniform(1, 5)\n"
   ]
  },
  {
   "cell_type": "code",
   "execution_count": 11,
   "metadata": {},
   "outputs": [
    {
     "data": {
      "text/plain": [
       "array([2.69334023, 4.4506153 , 2.44960379, 4.66126974, 1.13220268])"
      ]
     },
     "execution_count": 11,
     "metadata": {},
     "output_type": "execute_result"
    }
   ],
   "source": [
    "import numpy as np\n",
    "\n",
    "rng = np.random.default_rng()\n",
    "rng.uniform(1, 5)\n",
    "rng.uniform(1, 5, 5)\n"
   ]
  },
  {
   "cell_type": "markdown",
   "metadata": {},
   "source": [
    "# 整数したい\n",
    "\n",
    "`a`以上`b`以下の範囲の整数で一様分布する乱数を生成します。"
   ]
  },
  {
   "cell_type": "code",
   "execution_count": 12,
   "metadata": {},
   "outputs": [
    {
     "data": {
      "text/plain": [
       "96"
      ]
     },
     "execution_count": 12,
     "metadata": {},
     "output_type": "execute_result"
    }
   ],
   "source": [
    "import random\n",
    "\n",
    "random.randint(1, 100)\n"
   ]
  },
  {
   "cell_type": "code",
   "execution_count": 13,
   "metadata": {},
   "outputs": [
    {
     "data": {
      "text/plain": [
       "array([75, 73, 13, 62, 15])"
      ]
     },
     "execution_count": 13,
     "metadata": {},
     "output_type": "execute_result"
    }
   ],
   "source": [
    "import numpy as np\n",
    "\n",
    "rng = np.random.default_rng()\n",
    "rng.integers(1, 100)\n",
    "rng.integers(1, 100, 5)\n"
   ]
  },
  {
   "cell_type": "markdown",
   "metadata": {},
   "source": [
    "# ガウス分布したい"
   ]
  },
  {
   "cell_type": "code",
   "execution_count": 14,
   "metadata": {},
   "outputs": [
    {
     "data": {
      "text/plain": [
       "-0.5156002094342018"
      ]
     },
     "execution_count": 14,
     "metadata": {},
     "output_type": "execute_result"
    }
   ],
   "source": [
    "import random\n",
    "\n",
    "random.gauss()  # mu=0.0, sigma=1.0\n",
    "# random.gauss(100, 10)\n"
   ]
  },
  {
   "cell_type": "code",
   "execution_count": 15,
   "metadata": {},
   "outputs": [
    {
     "data": {
      "text/plain": [
       "array([103.77988756, 102.93813184,  98.15772342,  88.29599935,\n",
       "       111.97577115])"
      ]
     },
     "execution_count": 15,
     "metadata": {},
     "output_type": "execute_result"
    }
   ],
   "source": [
    "import numpy as np\n",
    "\n",
    "rng = np.random.default_rng()\n",
    "rng.normal()\n",
    "rng.normal(100, 10)\n",
    "rng.normal(100, 10, 5)\n"
   ]
  },
  {
   "cell_type": "markdown",
   "metadata": {},
   "source": [
    "# リストしたい"
   ]
  },
  {
   "cell_type": "code",
   "execution_count": 16,
   "metadata": {},
   "outputs": [
    {
     "data": {
      "text/plain": [
       "'さん'"
      ]
     },
     "execution_count": 16,
     "metadata": {},
     "output_type": "execute_result"
    }
   ],
   "source": [
    "import random\n",
    "\n",
    "seq = [\"いち\", \"に\", \"さん\"]\n",
    "random.choice(seq)\n"
   ]
  },
  {
   "cell_type": "code",
   "execution_count": 17,
   "metadata": {},
   "outputs": [
    {
     "data": {
      "text/plain": [
       "array(['に', 'に', 'に', 'いち', 'に'], dtype='<U2')"
      ]
     },
     "execution_count": 17,
     "metadata": {},
     "output_type": "execute_result"
    }
   ],
   "source": [
    "import numpy as np\n",
    "\n",
    "seq = [\"いち\", \"に\", \"さん\"]\n",
    "rng = np.random.default_rng()\n",
    "rng.choice(seq)\n",
    "rng.choice(seq, 5)  # size=5\n"
   ]
  },
  {
   "cell_type": "code",
   "execution_count": 18,
   "metadata": {},
   "outputs": [
    {
     "name": "stdout",
     "output_type": "stream",
     "text": [
      "greengill\n"
     ]
    }
   ],
   "source": [
    "from pathlib import Path\n",
    "\n",
    "p = Path(\"/usr/share/dict/words\")\n",
    "with p.open() as f:\n",
    "    words = [word.strip() for word in f]\n",
    "    s = secrets.choice(words)\n",
    "    print(s)\n"
   ]
  },
  {
   "cell_type": "markdown",
   "metadata": {},
   "source": [
    "# 乱数トークンしたい\n",
    "\n",
    "推測しにくいトークンを生成"
   ]
  },
  {
   "cell_type": "code",
   "execution_count": 40,
   "metadata": {},
   "outputs": [
    {
     "name": "stdout",
     "output_type": "stream",
     "text": [
      "b'4o\\x0f\\x9f\\xa5\\xc29\\xe0DDV\\xff\\x98JXf\\xf2m4\\xbc\\xdd=\\x95q\\x0cw\\x05>;[D\\xe9'\n",
      "b'\\xce\\x1d\\xdb\\x1dc\\xfa/\\x8d\\xc4\\x0c\\xe0\\xc43\\xd5\\x04\\x9d\\x0c\\x1e\\xd60\\xd6|\\x91~\\x05\\xbf\\x9fl:8\\x7f\\xd2'\n",
      "b\"\\x95\\xf1'\\x87Y\\x86\\xb2\\x8d\\x042\"\n",
      "b'}$\\x00\\xc2\\xdf=\\xf4.\\xe7r\\xa5Y{\\xd8q\\x13s\\x88)\\x00'\n",
      "b'\\xde\\xcd\\x81\\x8e\\xc7\\xe4\\n\\x86\\x80\\x9f\\xbe\\xb9T\\x85b#\\xd9\\xecl\\x05\\x90\\xc0\\x9d\\xdb\\xd30\\x0fk\\x94\\x11'\n",
      "b'\\xeb\\x15\\xca\\xf5t\\x90~$\\xdb\\x9b\\x11\\x17Z\\x1c\\x80\\x15W{\\xf2\\x19RD\\x1c{\\xe6\\xef\\x92{\\x0f\\xe0/\\x03\\xa2\\xda\\xf9\\xae\\xafU-\\xfa'\n"
     ]
    }
   ],
   "source": [
    "print(secrets.token_bytes())\n",
    "print(secrets.token_bytes(32))\n",
    "print(secrets.token_bytes(10))\n",
    "print(secrets.token_bytes(20))\n",
    "print(secrets.token_bytes(30))\n",
    "print(secrets.token_bytes(40))\n"
   ]
  },
  {
   "cell_type": "code",
   "execution_count": 35,
   "metadata": {},
   "outputs": [
    {
     "name": "stdout",
     "output_type": "stream",
     "text": [
      "d753aa7ddbf56847657da3aee33bfa3733620c382bf0807cd4431b1067be0105\n",
      "a72ef5cc78afb5b9a60cbee614757e006073f58264070fda4ed3987e0b940ebc\n",
      "217d81267345100cf8a5\n",
      "926615d49dd301ce6b5830f2ea194f315fc1d106\n",
      "79eca52947981d258b1ad3f9b8cc5e1a4603b143d68f8c930653199cfc83\n",
      "03246f550f218dffdbe57b3558e4b31592a60c88c527171a2d022007e5e7afba984bfdf858fac78b\n"
     ]
    }
   ],
   "source": [
    "# 16進数\n",
    "print(secrets.token_hex())\n",
    "print(secrets.token_hex(32))\n",
    "print(secrets.token_hex(10))\n",
    "print(secrets.token_hex(20))\n",
    "print(secrets.token_hex(30))\n",
    "print(secrets.token_hex(40))\n"
   ]
  },
  {
   "cell_type": "code",
   "execution_count": 39,
   "metadata": {},
   "outputs": [
    {
     "name": "stdout",
     "output_type": "stream",
     "text": [
      "ooPocl6DqzzTBzPEL50vwflAoRyvsibG9GgXCue2lVg\n",
      "RsoDm_yo-BXv7IzGV9ZxBqG6tiXE-7_WZFkGXXv1oi0\n",
      "xhM3pM08wpm9qg\n",
      "45LnZ0BRkkBLbgbPZOJUh5NqpJs\n",
      "70b7zPgL3SKSEKvNgEwY_MVU1n6RzP5huRTlqL_g\n",
      "yAELnIYJecr18hqEK-uBzRI_CM9wimrtfPRGfqGb3sP6YX7qhrlDKQ\n"
     ]
    }
   ],
   "source": [
    "print(secrets.token_urlsafe())\n",
    "print(secrets.token_urlsafe(32))\n",
    "print(secrets.token_urlsafe(10))\n",
    "print(secrets.token_urlsafe(20))\n",
    "print(secrets.token_urlsafe(30))\n",
    "print(secrets.token_urlsafe(40))\n"
   ]
  },
  {
   "cell_type": "code",
   "execution_count": null,
   "metadata": {},
   "outputs": [],
   "source": []
  }
 ],
 "metadata": {
  "kernelspec": {
   "display_name": ".venv",
   "language": "python",
   "name": "python3"
  },
  "language_info": {
   "codemirror_mode": {
    "name": "ipython",
    "version": 3
   },
   "file_extension": ".py",
   "mimetype": "text/x-python",
   "name": "python",
   "nbconvert_exporter": "python",
   "pygments_lexer": "ipython3",
   "version": "3.11.8"
  }
 },
 "nbformat": 4,
 "nbformat_minor": 2
}

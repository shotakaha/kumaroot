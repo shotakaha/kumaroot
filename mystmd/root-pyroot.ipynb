{
 "cells": [
  {
   "cell_type": "code",
   "execution_count": 1,
   "metadata": {},
   "outputs": [
    {
     "data": {
      "text/plain": [
       "'6.32.02'"
      ]
     },
     "execution_count": 1,
     "metadata": {},
     "output_type": "execute_result"
    }
   ],
   "source": [
    "import ROOT\n",
    "ROOT.__version__\n"
   ]
  },
  {
   "cell_type": "code",
   "execution_count": 2,
   "metadata": {},
   "outputs": [],
   "source": [
    "from ROOT import TCanvas, TPad, gBenchmark, TFormula, TF1, TPaveLabel, TH1F, TFile\n"
   ]
  },
  {
   "cell_type": "code",
   "execution_count": 3,
   "metadata": {},
   "outputs": [],
   "source": [
    "# TCanvas(\"name\", \"title\", wwidth, wheight)\n",
    "# TCanvas(\"name\", \"title\", wtopx, wtopy, wwidth, wheight)\n",
    "c1 = TCanvas(\"c1\", \"The FillRandom example\", 500, 500)\n"
   ]
  },
  {
   "cell_type": "code",
   "execution_count": 4,
   "metadata": {},
   "outputs": [],
   "source": [
    "# TPad(\"name\", \"title\", xlow, ylow, xup, yup, color, bordersize, bordermode)\n",
    "pad1 = TPad(\"pad1\", \"The pad with the function\", 0.05, 0.50, 0.95, 0.95)\n",
    "pad2 = TPad(\"pad2\", \"The pad with the histogram\", 0.05, 0.05, 0.95, 0.45)\n"
   ]
  },
  {
   "cell_type": "code",
   "execution_count": 5,
   "metadata": {},
   "outputs": [],
   "source": [
    "pad1.Draw()\n",
    "pad2.Draw()\n"
   ]
  },
  {
   "cell_type": "code",
   "execution_count": 6,
   "metadata": {},
   "outputs": [
    {
     "data": {
      "text/plain": [
       "<cppyy.gbl.TPad object at 0x179d196a0>"
      ]
     },
     "execution_count": 6,
     "metadata": {},
     "output_type": "execute_result"
    }
   ],
   "source": [
    "pad1.cd()\n"
   ]
  },
  {
   "cell_type": "code",
   "execution_count": 7,
   "metadata": {},
   "outputs": [],
   "source": [
    "gBenchmark.Start(\"fillrandom\")\n"
   ]
  },
  {
   "cell_type": "code",
   "execution_count": 8,
   "metadata": {},
   "outputs": [],
   "source": [
    "# TFormula(\"name\", \"formula\")\n",
    "formula1 = TFormula(\"formula1\", \"abs(sin(x)/x)\")\n"
   ]
  },
  {
   "cell_type": "code",
   "execution_count": 9,
   "metadata": {},
   "outputs": [],
   "source": [
    "# TF1(\"name\", \"formula\", xmin, xmax)\n",
    "sqroot = TF1(\"sqroot\", \"x * gaus(0) + [3] * formula1\", 0, 10)\n",
    "sqroot.SetParameters(10, 4, 1, 20)\n",
    "sqroot.SetLineColor(4)\n",
    "sqroot.SetLineWidth(6)\n",
    "\n"
   ]
  },
  {
   "cell_type": "code",
   "execution_count": null,
   "metadata": {},
   "outputs": [],
   "source": []
  },
  {
   "cell_type": "code",
   "execution_count": 10,
   "metadata": {},
   "outputs": [],
   "source": [
    "pad1.SetGridx()\n",
    "pad1.SetGridy()\n",
    "pad1.GetFrame().SetBorderMode(-1)\n",
    "pad1.GetFrame().SetBorderSize(5)\n"
   ]
  },
  {
   "cell_type": "code",
   "execution_count": 11,
   "metadata": {},
   "outputs": [
    {
     "data": {
      "image/png": "[encoded data removed]",
      "text/plain": [
       "<IPython.core.display.Image object>"
      ]
     },
     "metadata": {},
     "output_type": "display_data"
    }
   ],
   "source": [
    "sqroot.Draw()\n",
    "lfunction = TPaveLabel(5, 39, 9.8, 46, \"The sqroot function\")\n",
    "lfunction.Draw()\n",
    "c1.Update()\n"
   ]
  },
  {
   "cell_type": "code",
   "execution_count": 12,
   "metadata": {},
   "outputs": [],
   "source": [
    "c1.Update()\n"
   ]
  },
  {
   "cell_type": "code",
   "execution_count": 13,
   "metadata": {},
   "outputs": [],
   "source": [
    "pad2.cd()\n",
    "pad2.GetFrame().SetBorderMode(-1)\n",
    "pad2.GetFrame().SetBorderSize(5)\n"
   ]
  },
  {
   "cell_type": "code",
   "execution_count": 14,
   "metadata": {},
   "outputs": [],
   "source": [
    "# TH1F(\"name\", \"title\", nbinsx, xlow, xup)\n",
    "# TH1F(\"name\", \"title\", nbinsx, xbins)\n",
    "h1f = TH1F(\"h1f\", \"Test Random Numbers\", 200, 0, 10)\n",
    "h1f.SetFillColor(45)\n",
    "h1f.FillRandom(\"sqroot\", 10000)\n",
    "h1f.Draw()\n",
    "c1.Update()\n"
   ]
  },
  {
   "cell_type": "code",
   "execution_count": 15,
   "metadata": {},
   "outputs": [
    {
     "name": "stdout",
     "output_type": "stream",
     "text": [
      "fillrandom: Real Time =   1.16 seconds Cpu Time =   0.32 seconds\n"
     ]
    }
   ],
   "source": [
    "# TFile(\"filename\", \"mode\")\n",
    "f = TFile(\"fillrandom-py.root\", \"RECREATE\")\n",
    "formula1.Write()\n",
    "sqroot.Write()\n",
    "h1f.Write()\n",
    "gBenchmark.Show(\"fillrandom\")\n"
   ]
  },
  {
   "cell_type": "code",
   "execution_count": 17,
   "metadata": {},
   "outputs": [
    {
     "data": {
      "image/png": "[encoded data removed]",
      "text/plain": [
       "<IPython.core.display.Image object>"
      ]
     },
     "metadata": {},
     "output_type": "display_data"
    }
   ],
   "source": [
    "from ROOT import gROOT\n",
    "gROOT.GetListOfCanvases().Draw()\n"
   ]
  },
  {
   "cell_type": "code",
   "execution_count": 18,
   "metadata": {},
   "outputs": [],
   "source": [
    "from ROOT import gStyle\n"
   ]
  },
  {
   "cell_type": "code",
   "execution_count": 32,
   "metadata": {},
   "outputs": [],
   "source": [
    "gStyle.SetHistLineStyle(0)\n",
    "gStyle.SetHistLineColor(2)\n",
    "gStyle.SetHistFillColor(2)\n"
   ]
  },
  {
   "cell_type": "code",
   "execution_count": 33,
   "metadata": {},
   "outputs": [],
   "source": [
    "h1f.Draw()\n",
    "c1.Update()\n",
    "c1.Draw()\n"
   ]
  },
  {
   "cell_type": "code",
   "execution_count": 34,
   "metadata": {},
   "outputs": [
    {
     "data": {
      "image/png": "[encoded data removed]",
      "text/plain": [
       "<IPython.core.display.Image object>"
      ]
     },
     "metadata": {},
     "output_type": "display_data"
    }
   ],
   "source": [
    "c1.Draw()\n"
   ]
  },
  {
   "cell_type": "code",
   "execution_count": null,
   "metadata": {},
   "outputs": [],
   "source": []
  }
 ],
 "metadata": {
  "kernelspec": {
   "display_name": ".venv",
   "language": "python",
   "name": "python3"
  },
  "language_info": {
   "codemirror_mode": {
    "name": "ipython",
    "version": 3
   },
   "file_extension": ".py",
   "mimetype": "text/x-python",
   "name": "python",
   "nbconvert_exporter": "python",
   "pygments_lexer": "ipython3",
   "version": "3.11.9"
  }
 },
 "nbformat": 4,
 "nbformat_minor": 2
}

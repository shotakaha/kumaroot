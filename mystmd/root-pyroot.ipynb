{
 "cells": [
  {
   "cell_type": "markdown",
   "metadata": {},
   "source": [
    "# ROOTの環境変数を確認する\n",
    "\n",
    "- PyROOTを使う場合、ROOTの環境変数を適切に設定する必要がある\n",
    "- ``/opt/homebrew/bin/thisroot.fish``を読み込むと、以下の環境変数が追加される\n",
    "- （たぶん）``PYTHONPATH``が適切に設定されている必要がある\n",
    "  - ``ROOTSYS``が``/opt/homebrew``になっているけど、``root-config --prefix``であるべきだと思う\n",
    "  - それに伴って、``JUPYTER_PATH``なども変更されるはず"
   ]
  },
  {
   "cell_type": "code",
   "execution_count": 4,
   "metadata": {},
   "outputs": [
    {
     "name": "stdout",
     "output_type": "stream",
     "text": [
      "ROOTSYS: /opt/homebrew\n",
      "LD_LIBRARY_PATH: /opt/homebrew/Cellar/root/6.32.02_1/lib/root\n",
      "DYLD_LIBRARY_PATH: None\n",
      "PYTHONPATH: /opt/homebrew/Cellar/root/6.32.02_1/lib/root\n",
      "CMAKE_PREFIX_PATH: /opt/homebrew\n",
      "JUPYTER_PATH: /opt/homebrew/etc/notebook\n",
      "JUPYTER_CONFIG_DIR: /opt/homebrew/etc/notebook\n"
     ]
    }
   ],
   "source": [
    "import os\n",
    "\n",
    "env_names = [\n",
    "    \"ROOTSYS\",\n",
    "    \"LD_LIBRARY_PATH\",\n",
    "    \"DYLD_LIBRARY_PATH\",\n",
    "    \"PYTHONPATH\",\n",
    "    #\"MANPATH\",\n",
    "    \"CMAKE_PREFIX_PATH\",\n",
    "    \"JUPYTER_PATH\",\n",
    "    \"JUPYTER_CONFIG_DIR\"]\n",
    "\n",
    "for name in env_names:\n",
    "    k = name\n",
    "    v = os.environ.get(name)\n",
    "    print(f\"{k}: {v}\")\n"
   ]
  },
  {
   "cell_type": "code",
   "execution_count": 5,
   "metadata": {},
   "outputs": [
    {
     "data": {
      "text/plain": [
       "'6.32.02'"
      ]
     },
     "execution_count": 5,
     "metadata": {},
     "output_type": "execute_result"
    }
   ],
   "source": [
    "import ROOT\n",
    "ROOT.__version__\n"
   ]
  },
  {
   "cell_type": "code",
   "execution_count": 2,
   "metadata": {},
   "outputs": [
    {
     "data": {
      "text/plain": [
       "'/opt/homebrew/Cellar/root/6.32.02_1/lib/root/ROOT/__init__.py'"
      ]
     },
     "execution_count": 2,
     "metadata": {},
     "output_type": "execute_result"
    }
   ],
   "source": [
    "ROOT.__file__\n"
   ]
  },
  {
   "cell_type": "code",
   "execution_count": null,
   "metadata": {},
   "outputs": [],
   "source": [
    "from ROOT import TCanvas, TPad, gBenchmark, TFormula, TF1, TPaveLabel, TH1F, TFile\n"
   ]
  },
  {
   "cell_type": "code",
   "execution_count": null,
   "metadata": {},
   "outputs": [],
   "source": [
    "# TCanvas(\"name\", \"title\", wwidth, wheight)\n",
    "# TCanvas(\"name\", \"title\", wtopx, wtopy, wwidth, wheight)\n",
    "c1 = TCanvas(\"c1\", \"The FillRandom example\", 500, 500)\n"
   ]
  },
  {
   "cell_type": "code",
   "execution_count": null,
   "metadata": {},
   "outputs": [],
   "source": [
    "# TPad(\"name\", \"title\", xlow, ylow, xup, yup, color, bordersize, bordermode)\n",
    "pad1 = TPad(\"pad1\", \"The pad with the function\", 0.05, 0.50, 0.95, 0.95)\n",
    "pad2 = TPad(\"pad2\", \"The pad with the histogram\", 0.05, 0.05, 0.95, 0.45)\n"
   ]
  },
  {
   "cell_type": "code",
   "execution_count": null,
   "metadata": {},
   "outputs": [],
   "source": [
    "pad1.Draw()\n",
    "pad2.Draw()\n"
   ]
  },
  {
   "cell_type": "code",
   "execution_count": null,
   "metadata": {},
   "outputs": [],
   "source": [
    "pad1.cd()\n"
   ]
  },
  {
   "cell_type": "code",
   "execution_count": null,
   "metadata": {},
   "outputs": [],
   "source": [
    "gBenchmark.Start(\"fillrandom\")\n"
   ]
  },
  {
   "cell_type": "code",
   "execution_count": null,
   "metadata": {},
   "outputs": [],
   "source": [
    "# TFormula(\"name\", \"formula\")\n",
    "formula1 = TFormula(\"formula1\", \"abs(sin(x)/x)\")\n"
   ]
  },
  {
   "cell_type": "code",
   "execution_count": null,
   "metadata": {},
   "outputs": [],
   "source": [
    "# TF1(\"name\", \"formula\", xmin, xmax)\n",
    "sqroot = TF1(\"sqroot\", \"x * gaus(0) + [3] * formula1\", 0, 10)\n",
    "sqroot.SetParameters(10, 4, 1, 20)\n",
    "sqroot.SetLineColor(4)\n",
    "sqroot.SetLineWidth(6)\n",
    "\n"
   ]
  },
  {
   "cell_type": "code",
   "execution_count": null,
   "metadata": {},
   "outputs": [],
   "source": []
  },
  {
   "cell_type": "code",
   "execution_count": null,
   "metadata": {},
   "outputs": [],
   "source": [
    "pad1.SetGridx()\n",
    "pad1.SetGridy()\n",
    "pad1.GetFrame().SetBorderMode(-1)\n",
    "pad1.GetFrame().SetBorderSize(5)\n"
   ]
  },
  {
   "cell_type": "code",
   "execution_count": null,
   "metadata": {},
   "outputs": [],
   "source": [
    "sqroot.Draw()\n",
    "lfunction = TPaveLabel(5, 39, 9.8, 46, \"The sqroot function\")\n",
    "lfunction.Draw()\n",
    "c1.Update()\n"
   ]
  },
  {
   "cell_type": "code",
   "execution_count": null,
   "metadata": {},
   "outputs": [],
   "source": [
    "c1.Update()\n"
   ]
  },
  {
   "cell_type": "code",
   "execution_count": null,
   "metadata": {},
   "outputs": [],
   "source": [
    "pad2.cd()\n",
    "pad2.GetFrame().SetBorderMode(-1)\n",
    "pad2.GetFrame().SetBorderSize(5)\n"
   ]
  },
  {
   "cell_type": "code",
   "execution_count": null,
   "metadata": {},
   "outputs": [],
   "source": [
    "# TH1F(\"name\", \"title\", nbinsx, xlow, xup)\n",
    "# TH1F(\"name\", \"title\", nbinsx, xbins)\n",
    "h1f = TH1F(\"h1f\", \"Test Random Numbers\", 200, 0, 10)\n",
    "h1f.SetFillColor(45)\n",
    "h1f.FillRandom(\"sqroot\", 10000)\n",
    "h1f.Draw()\n",
    "c1.Update()\n"
   ]
  },
  {
   "cell_type": "code",
   "execution_count": null,
   "metadata": {},
   "outputs": [],
   "source": [
    "# TFile(\"filename\", \"mode\")\n",
    "f = TFile(\"fillrandom-py.root\", \"RECREATE\")\n",
    "formula1.Write()\n",
    "sqroot.Write()\n",
    "h1f.Write()\n",
    "gBenchmark.Show(\"fillrandom\")\n"
   ]
  },
  {
   "cell_type": "code",
   "execution_count": null,
   "metadata": {},
   "outputs": [],
   "source": [
    "from ROOT import gROOT\n",
    "gROOT.GetListOfCanvases().Draw()\n"
   ]
  },
  {
   "cell_type": "code",
   "execution_count": null,
   "metadata": {},
   "outputs": [],
   "source": [
    "from ROOT import gStyle\n"
   ]
  },
  {
   "cell_type": "code",
   "execution_count": null,
   "metadata": {},
   "outputs": [],
   "source": [
    "gStyle.SetPadGridX\n",
    "\n"
   ]
  },
  {
   "cell_type": "code",
   "execution_count": null,
   "metadata": {},
   "outputs": [],
   "source": [
    "h1f.Draw()\n",
    "c1.Update()\n",
    "c1.Draw()\n"
   ]
  },
  {
   "cell_type": "code",
   "execution_count": null,
   "metadata": {},
   "outputs": [],
   "source": [
    "c1.Draw()\n"
   ]
  },
  {
   "cell_type": "code",
   "execution_count": null,
   "metadata": {},
   "outputs": [],
   "source": []
  }
 ],
 "metadata": {
  "kernelspec": {
   "display_name": ".venv",
   "language": "python",
   "name": "python3"
  },
  "language_info": {
   "codemirror_mode": {
    "name": "ipython",
    "version": 3
   },
   "file_extension": ".py",
   "mimetype": "text/x-python",
   "name": "python",
   "nbconvert_exporter": "python",
   "pygments_lexer": "ipython3",
   "version": "3.11.9"
  }
 },
 "nbformat": 4,
 "nbformat_minor": 2
}

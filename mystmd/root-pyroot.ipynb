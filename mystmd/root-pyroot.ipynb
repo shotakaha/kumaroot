{
 "cells": [
  {
   "cell_type": "markdown",
   "metadata": {},
   "source": [
    "# ROOTしたい（PyROOT）\n",
    "\n",
    "## ROOT関係の環境変数を確認する\n",
    "\n",
    "- PyROOTを使う場合、ROOTの環境変数を適切に設定する必要がある\n",
    "  - とくに``PYTHONPATH``の設定が重要\n",
    "- ROOT付属の設定スクリプトが用意されている\n",
    "  - Fishシェルの場合、ROOT付属の``bin/thisroot.fish``を読み込む\n",
    "- ``thisroot.fish``は2箇所にある\n",
    "  - ``$(root-config --prefix)/bin/thisroot.fish``（本体）\n",
    "  - ``/opt/homebrew/bin/thisroot.fish``（エイリアス）\n",
    "- 必ず本体を読み込む\n",
    "  - エイリアスを実行すると``ROOTSYS``が``/opt/homebrew``になって、うまくいかない"
   ]
  },
  {
   "cell_type": "markdown",
   "metadata": {},
   "source": [
    "## 環境変数の設定\n",
    "\n",
    "- 次のセルを実行し、この環境でROOTを設定する"
   ]
  },
  {
   "cell_type": "code",
   "execution_count": null,
   "metadata": {},
   "outputs": [],
   "source": [
    "!. $(root-config --prefix)/bin/thisroot.fish"
   ]
  },
  {
   "cell_type": "markdown",
   "metadata": {},
   "source": [
    "## 環境変数の確認\n",
    "\n",
    "- 必要な環境変数が設定されていることを確認する\n",
    "- 上記のコマンドが実行されていない場合は、すべて`None`になる"
   ]
  },
  {
   "cell_type": "code",
   "execution_count": null,
   "metadata": {},
   "outputs": [],
   "source": [
    "import os\n",
    "\n",
    "env_names = [\n",
    "    \"ROOTSYS\",\n",
    "    \"LD_LIBRARY_PATH\",\n",
    "    \"DYLD_LIBRARY_PATH\",\n",
    "    \"PYTHONPATH\",\n",
    "    # \"MANPATH\",\n",
    "    \"CMAKE_PREFIX_PATH\",\n",
    "    \"JUPYTER_PATH\",\n",
    "    \"JUPYTER_CONFIG_DIR\",\n",
    "]\n",
    "\n",
    "for name in env_names:\n",
    "    k = name\n",
    "    v = os.environ.get(name)\n",
    "    print(f\"{k}: {v}\")"
   ]
  },
  {
   "cell_type": "markdown",
   "metadata": {},
   "source": [
    "## PyROOTの動作確認\n",
    "\n",
    "- ``import ROOT``でPyROOTをインポートする\n",
    "- ``ROOT.__version__``でバージョンを確認する\n",
    "- ``ROOT.__file__``で実体があるパスを確認する"
   ]
  },
  {
   "cell_type": "code",
   "execution_count": null,
   "metadata": {},
   "outputs": [],
   "source": [
    "import ROOT\n",
    "\n",
    "ROOT.__version__"
   ]
  },
  {
   "cell_type": "code",
   "execution_count": null,
   "metadata": {},
   "outputs": [],
   "source": [
    "ROOT.__file__"
   ]
  },
  {
   "cell_type": "markdown",
   "metadata": {},
   "source": [
    "CERNがウェブで公開しているチュートリアルに沿って確認する"
   ]
  },
  {
   "cell_type": "code",
   "execution_count": null,
   "metadata": {},
   "outputs": [],
   "source": [
    "from ROOT import TCanvas, TPad, gBenchmark, TFormula, TF1, TPaveLabel, TH1F, TFile"
   ]
  },
  {
   "cell_type": "code",
   "execution_count": null,
   "metadata": {},
   "outputs": [],
   "source": [
    "# TCanvas(\"name\", \"title\", wwidth, wheight)\n",
    "# TCanvas(\"name\", \"title\", wtopx, wtopy, wwidth, wheight)\n",
    "c1 = TCanvas(\"c1\", \"The FillRandom example\", 500, 500)"
   ]
  },
  {
   "cell_type": "code",
   "execution_count": null,
   "metadata": {},
   "outputs": [],
   "source": [
    "# TPad(\"name\", \"title\", xlow, ylow, xup, yup, color, bordersize, bordermode)\n",
    "pad1 = TPad(\"pad1\", \"The pad with the function\", 0.05, 0.50, 0.95, 0.95)\n",
    "pad2 = TPad(\"pad2\", \"The pad with the histogram\", 0.05, 0.05, 0.95, 0.45)"
   ]
  },
  {
   "cell_type": "code",
   "execution_count": null,
   "metadata": {},
   "outputs": [],
   "source": [
    "pad1.Draw()\n",
    "pad2.Draw()"
   ]
  },
  {
   "cell_type": "code",
   "execution_count": null,
   "metadata": {},
   "outputs": [],
   "source": [
    "pad1.cd()"
   ]
  },
  {
   "cell_type": "code",
   "execution_count": null,
   "metadata": {},
   "outputs": [],
   "source": [
    "gBenchmark.Start(\"fillrandom\")"
   ]
  },
  {
   "cell_type": "code",
   "execution_count": null,
   "metadata": {},
   "outputs": [],
   "source": [
    "# TFormula(\"name\", \"formula\")\n",
    "formula1 = TFormula(\"formula1\", \"abs(sin(x)/x)\")"
   ]
  },
  {
   "cell_type": "code",
   "execution_count": null,
   "metadata": {},
   "outputs": [],
   "source": [
    "# TF1(\"name\", \"formula\", xmin, xmax)\n",
    "sqroot = TF1(\"sqroot\", \"x * gaus(0) + [3] * formula1\", 0, 10)\n",
    "sqroot.SetParameters(10, 4, 1, 20)\n",
    "sqroot.SetLineColor(4)\n",
    "sqroot.SetLineWidth(6)"
   ]
  },
  {
   "cell_type": "code",
   "execution_count": null,
   "metadata": {},
   "outputs": [],
   "source": []
  },
  {
   "cell_type": "code",
   "execution_count": null,
   "metadata": {},
   "outputs": [],
   "source": [
    "pad1.SetGridx()\n",
    "pad1.SetGridy()\n",
    "pad1.GetFrame().SetBorderMode(-1)\n",
    "pad1.GetFrame().SetBorderSize(5)"
   ]
  },
  {
   "cell_type": "code",
   "execution_count": null,
   "metadata": {},
   "outputs": [],
   "source": [
    "sqroot.Draw()\n",
    "lfunction = TPaveLabel(5, 39, 9.8, 46, \"The sqroot function\")\n",
    "lfunction.Draw()\n",
    "c1.Update()"
   ]
  },
  {
   "cell_type": "code",
   "execution_count": null,
   "metadata": {},
   "outputs": [],
   "source": [
    "c1.Update()"
   ]
  },
  {
   "cell_type": "code",
   "execution_count": null,
   "metadata": {},
   "outputs": [],
   "source": [
    "pad2.cd()\n",
    "pad2.GetFrame().SetBorderMode(-1)\n",
    "pad2.GetFrame().SetBorderSize(5)"
   ]
  },
  {
   "cell_type": "code",
   "execution_count": null,
   "metadata": {},
   "outputs": [],
   "source": [
    "# TH1F(\"name\", \"title\", nbinsx, xlow, xup)\n",
    "# TH1F(\"name\", \"title\", nbinsx, xbins)\n",
    "h1f = TH1F(\"h1f\", \"Test Random Numbers\", 200, 0, 10)\n",
    "h1f.SetFillColor(45)\n",
    "h1f.FillRandom(\"sqroot\", 10000)\n",
    "h1f.Draw()\n",
    "c1.Update()"
   ]
  },
  {
   "cell_type": "code",
   "execution_count": null,
   "metadata": {},
   "outputs": [],
   "source": [
    "# TFile(\"filename\", \"mode\")\n",
    "f = TFile(\"fillrandom-py.root\", \"RECREATE\")\n",
    "formula1.Write()\n",
    "sqroot.Write()\n",
    "h1f.Write()\n",
    "gBenchmark.Show(\"fillrandom\")"
   ]
  },
  {
   "cell_type": "code",
   "execution_count": null,
   "metadata": {},
   "outputs": [],
   "source": [
    "from ROOT import gROOT\n",
    "\n",
    "gROOT.GetListOfCanvases().Draw()"
   ]
  },
  {
   "cell_type": "code",
   "execution_count": null,
   "metadata": {},
   "outputs": [],
   "source": [
    "from ROOT import gStyle"
   ]
  },
  {
   "cell_type": "code",
   "execution_count": null,
   "metadata": {},
   "outputs": [],
   "source": [
    "gStyle.SetPadGridX"
   ]
  },
  {
   "cell_type": "code",
   "execution_count": null,
   "metadata": {},
   "outputs": [],
   "source": [
    "h1f.Draw()\n",
    "c1.Update()\n",
    "c1.Draw()"
   ]
  },
  {
   "cell_type": "code",
   "execution_count": null,
   "metadata": {},
   "outputs": [],
   "source": [
    "c1.Draw()"
   ]
  },
  {
   "cell_type": "code",
   "execution_count": null,
   "metadata": {},
   "outputs": [],
   "source": []
  }
 ],
 "metadata": {
  "kernelspec": {
   "display_name": ".venv",
   "language": "python",
   "name": "python3"
  },
  "language_info": {
   "codemirror_mode": {
    "name": "ipython",
    "version": 3
   },
   "file_extension": ".py",
   "mimetype": "text/x-python",
   "name": "python",
   "nbconvert_exporter": "python",
   "pygments_lexer": "ipython3",
   "version": "3.11.9"
  }
 },
 "nbformat": 4,
 "nbformat_minor": 2
}

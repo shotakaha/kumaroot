{
 "cells": [
  {
   "cell_type": "markdown",
   "metadata": {},
   "source": [
    "# GitLab APIの確認"
   ]
  },
  {
   "cell_type": "code",
   "execution_count": 19,
   "metadata": {},
   "outputs": [],
   "source": [
    "import os\n",
    "import requests\n",
    "import time\n",
    "\n",
    "# api 権限が必要\n",
    "TOKEN = os.environ[\"GITLAB_TOKEN\"]\n"
   ]
  },
  {
   "cell_type": "markdown",
   "metadata": {},
   "source": [
    "テスト用のリポジトリを作成した\n",
    "\n",
    "- https://gitlab.com/jacst/api-test"
   ]
  },
  {
   "cell_type": "code",
   "execution_count": 12,
   "metadata": {},
   "outputs": [],
   "source": [
    "PROJECT_ID = \"62069387\"\n",
    "ENDPOINT = \"https://gitlab.com/api/v4\"\n"
   ]
  },
  {
   "cell_type": "markdown",
   "metadata": {},
   "source": [
    "プロジェクト情報を取得\n",
    "\n",
    "- `GET`\n",
    "- `https://gitlab.com/api/v4/projects/{プロジェクトID}`"
   ]
  },
  {
   "cell_type": "code",
   "execution_count": 13,
   "metadata": {},
   "outputs": [
    {
     "data": {
      "text/plain": [
       "'https://gitlab.com/api/v4projects/62069387/'"
      ]
     },
     "execution_count": 13,
     "metadata": {},
     "output_type": "execute_result"
    }
   ],
   "source": [
    "url = f\"{ENDPOINT}projects/{PROJECT_ID}/\"\n",
    "url\n"
   ]
  },
  {
   "cell_type": "markdown",
   "metadata": {},
   "source": [
    "ブランチを確認する"
   ]
  },
  {
   "cell_type": "code",
   "execution_count": 22,
   "metadata": {},
   "outputs": [],
   "source": [
    "def check_branch_name(\n",
    "    project_id: str,\n",
    "    branch_name: str,\n",
    "    private_token: str,\n",
    "):\n",
    "    print(\"check_branch_name\")\n",
    "    url = f\"{ENDPOINT}/projects/{project_id}/repository/branches/{branch_name}\"\n",
    "    headers = {\n",
    "        \"PRIVATE-TOKEN\": private_token,\n",
    "    }\n",
    "    try:\n",
    "        response = requests.get(url, headers=headers, timeout=20)\n",
    "        response.raise_for_status()\n",
    "        return response.ok\n",
    "    except Exception as e:\n",
    "        print(e)\n",
    "        return False\n"
   ]
  },
  {
   "cell_type": "code",
   "execution_count": 23,
   "metadata": {},
   "outputs": [
    {
     "name": "stdout",
     "output_type": "stream",
     "text": [
      "check_branch_name\n"
     ]
    },
    {
     "data": {
      "text/plain": [
       "True"
      ]
     },
     "execution_count": 23,
     "metadata": {},
     "output_type": "execute_result"
    }
   ],
   "source": [
    "check_branch_name(project_id=PROJECT_ID, branch_name=\"main\", private_token=TOKEN)\n"
   ]
  },
  {
   "cell_type": "markdown",
   "metadata": {},
   "source": [
    "ブランチを作成する\n",
    "\n",
    "- `POST`\n",
    "- `https://gitlab/api/v4/projects/{PROJECT_ID}/repository/branches`"
   ]
  },
  {
   "cell_type": "code",
   "execution_count": 24,
   "metadata": {},
   "outputs": [],
   "source": [
    "def create_new_branch(\n",
    "    project_id: str,\n",
    "    new_branch: str,\n",
    "    base_branch: str,\n",
    "    private_token: str,\n",
    "):\n",
    "    print(\"create_new_branch\")\n",
    "    url = f\"{ENDPOINT}/projects/{project_id}/repository/branches\"\n",
    "\n",
    "    data = {\n",
    "        \"branch\": new_branch,\n",
    "        \"ref\": base_branch,\n",
    "    }\n",
    "\n",
    "    headers = {\n",
    "        \"PRIVATE-TOKEN\": private_token,\n",
    "    }\n",
    "\n",
    "    try:\n",
    "        response = requests.post(url, headers=headers, data=data, timeout=10)\n",
    "        response.raise_for_status()\n",
    "        return response.ok\n",
    "    except Exception as e:\n",
    "        print(e)\n",
    "        return\n"
   ]
  },
  {
   "cell_type": "code",
   "execution_count": 28,
   "metadata": {},
   "outputs": [
    {
     "name": "stdout",
     "output_type": "stream",
     "text": [
      "check_branch_name\n",
      "Branch already exists: test_branch5\n"
     ]
    }
   ],
   "source": [
    "branch_name = \"test_branch5\"\n",
    "if not check_branch_name(\n",
    "    project_id=PROJECT_ID, branch_name=branch_name, private_token=TOKEN\n",
    "):\n",
    "    time.sleep(1)\n",
    "    create_new_branch(\n",
    "        project_id=PROJECT_ID,\n",
    "        new_branch=branch_name,\n",
    "        base_branch=\"main\",\n",
    "        private_token=TOKEN,\n",
    "    )\n",
    "else:\n",
    "    print(f\"Branch already exists: {branch_name}\")\n"
   ]
  },
  {
   "cell_type": "markdown",
   "metadata": {},
   "source": [
    "作成したブランチにコミットする"
   ]
  },
  {
   "cell_type": "code",
   "execution_count": 33,
   "metadata": {},
   "outputs": [],
   "source": [
    "def create_commit(\n",
    "    project_id: str,\n",
    "    branch_name: str,\n",
    "    commit_message: str,\n",
    "    actions: str,\n",
    "    private_token: str,\n",
    "):\n",
    "    print(\"create_commit\")\n",
    "\n",
    "    url = f\"{ENDPOINT}/projects/{project_id}/repository/commits\"\n",
    "\n",
    "    data = {\"branch\": branch_name, \"commit_message\": commit_message, \"actions\": actions}\n",
    "\n",
    "    headers = {\n",
    "        \"PRIVATE-TOKEN\": private_token,\n",
    "    }\n",
    "\n",
    "    try:\n",
    "        response = requests.post(url, headers=headers, json=data, timeout=20)\n",
    "        response.raise_for_status()\n",
    "        return response\n",
    "    except Exception as e:\n",
    "        print(e)\n",
    "        return\n"
   ]
  },
  {
   "cell_type": "code",
   "execution_count": 34,
   "metadata": {},
   "outputs": [
    {
     "name": "stdout",
     "output_type": "stream",
     "text": [
      "create_commit\n",
      "400 Client Error: Bad Request for url: https://gitlab.com/api/v4/projects/62069387/repository/commits\n"
     ]
    }
   ],
   "source": [
    "branch_name = \"test_branch2\"\n",
    "actions = {\n",
    "    \"action\": \"create\",\n",
    "    \"file_path\": \"test_file.md\",\n",
    "    \"content\": \"GitLab APIで作成したファイル\",\n",
    "}\n",
    "create_commit(\n",
    "    project_id=PROJECT_ID,\n",
    "    branch_name=branch_name,\n",
    "    commit_message=\"test commit\",\n",
    "    actions=actions,\n",
    "    private_token=TOKEN,\n",
    ")\n"
   ]
  }
 ],
 "metadata": {
  "kernelspec": {
   "display_name": ".venv",
   "language": "python",
   "name": "python3"
  },
  "language_info": {
   "codemirror_mode": {
    "name": "ipython",
    "version": 3
   },
   "file_extension": ".py",
   "mimetype": "text/x-python",
   "name": "python",
   "nbconvert_exporter": "python",
   "pygments_lexer": "ipython3",
   "version": "3.11.10"
  }
 },
 "nbformat": 4,
 "nbformat_minor": 2
}

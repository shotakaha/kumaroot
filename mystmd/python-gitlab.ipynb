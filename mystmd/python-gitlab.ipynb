{
 "cells": [
  {
   "cell_type": "markdown",
   "metadata": {},
   "source": [
    "# GitLab APIの確認"
   ]
  },
  {
   "cell_type": "code",
   "execution_count": 3,
   "metadata": {},
   "outputs": [],
   "source": [
    "import os\n",
    "import requests\n",
    "import time\n",
    "\n"
   ]
  },
  {
   "cell_type": "markdown",
   "metadata": {},
   "source": [
    "テスト用のリポジトリを作成した\n",
    "\n",
    "- https://gitlab.com/jacst/api-test"
   ]
  },
  {
   "cell_type": "code",
   "execution_count": 4,
   "metadata": {},
   "outputs": [],
   "source": [
    "PROJECT_ID = \"62069387\"\n",
    "ENDPOINT = \"https://gitlab.com/api/v4\"\n",
    "TOKEN = os.environ[\"GITLAB_TOKEN\"]\n",
    "# scope: api\n",
    "# expires: 2024-10-27\n"
   ]
  },
  {
   "cell_type": "markdown",
   "metadata": {},
   "source": [
    "プロジェクト情報を取得\n",
    "\n",
    "- `GET`\n",
    "- `https://gitlab.com/api/v4/projects/{プロジェクトID}`"
   ]
  },
  {
   "cell_type": "code",
   "execution_count": 5,
   "metadata": {},
   "outputs": [
    {
     "data": {
      "text/plain": [
       "'https://gitlab.com/api/v4projects/62069387/'"
      ]
     },
     "execution_count": 5,
     "metadata": {},
     "output_type": "execute_result"
    }
   ],
   "source": [
    "url = f\"{ENDPOINT}projects/{PROJECT_ID}/\"\n",
    "url\n"
   ]
  },
  {
   "cell_type": "markdown",
   "metadata": {},
   "source": [
    "# ブランチAPI\n",
    "\n",
    "https://gitlab-docs.creationline.com/ee/api/branches.html"
   ]
  },
  {
   "cell_type": "markdown",
   "metadata": {},
   "source": [
    "## ブランチを確認する\n",
    "\n",
    "エンドポイント\n",
    "\n",
    "```\n",
    "GET /projects/:id/repository/branches/:branch\n",
    "```\n",
    "\n",
    "リクエストの例\n",
    "\n",
    "```console\n",
    "$ curl\n",
    "--header \"PRIVATE-TOKEN: <your_access_token>\"\n",
    "\"https://gitlab.com/api/v4/projects/:id/repository/branches/:branch\"\n",
    "```\n",
    "\n",
    "引数\n",
    "\n",
    "- `:id` = `project_id`\n",
    "- `:branch` = `branch_name`\n",
    "\n",
    "レスポンス\n",
    "\n",
    "ステータスコードを確認\n",
    "\n",
    "- ブランチがある: 200\n",
    "- ブランチがない: 404 `{'message': '404 Branch Not Found'}`"
   ]
  },
  {
   "cell_type": "code",
   "execution_count": 48,
   "metadata": {},
   "outputs": [
    {
     "name": "stdout",
     "output_type": "stream",
     "text": [
      "404 Client Error: Not Found for url: https://gitlab.com/api/v4/projects/62069387/repository/branches/test_brach\n",
      "False\n",
      "404\n"
     ]
    },
    {
     "data": {
      "text/plain": [
       "{'message': '404 Branch Not Found'}"
      ]
     },
     "execution_count": 48,
     "metadata": {},
     "output_type": "execute_result"
    }
   ],
   "source": [
    "# 必要な引数\n",
    "project_id = PROJECT_ID\n",
    "branch_name = \"main\"\n",
    "branch_name = \"test_branch\"\n",
    "\n",
    "# エンドポイント\n",
    "url = f\"{ENDPOINT}/projects/{project_id}/repository/branches/{branch_name}\"\n",
    "\n",
    "# ヘッダー\n",
    "headers = {\n",
    "    \"PRIVATE-TOKEN\": TOKEN,\n",
    "}\n",
    "\n",
    "try:\n",
    "    response = requests.get(url, headers=headers, timeout=20)\n",
    "    response.raise_for_status()\n",
    "except Exception as e:\n",
    "    print(e)\n",
    "\n",
    "print(response.ok)\n",
    "print(response.status_code)\n",
    "response.json()\n"
   ]
  },
  {
   "cell_type": "markdown",
   "metadata": {},
   "source": [
    "## ブランチを作成する\n",
    "\n",
    "エンドポイント\n",
    "\n",
    "```\n",
    "POST /projects/:id/repository/branches\n",
    "```\n",
    "\n",
    "リクエストの例\n",
    "\n",
    "```console\n",
    "$ curl\n",
    "--request POST\n",
    "--header \"PRIVATE-TOKEN: <your_access_token>\"\n",
    "\"https://gitlab.com/api/v4/projects/:id/repository/branches?branch=newbranch&ref=main\"\n",
    "```\n",
    "\n",
    "引数\n",
    "\n",
    "- `:id` = `project_id`\n",
    "- `:branch` = `new_branch`\n",
    "- `:ref` = `base_branch`\n",
    "\n",
    "レスポンス\n",
    "\n",
    "- 成功: 201\n",
    "- 失敗: 400 `{'message': 'Branch already exists'}`\n"
   ]
  },
  {
   "cell_type": "code",
   "execution_count": 49,
   "metadata": {},
   "outputs": [
    {
     "name": "stdout",
     "output_type": "stream",
     "text": [
      "True\n",
      "201\n"
     ]
    },
    {
     "data": {
      "text/plain": [
       "{'name': 'test_branch8',\n",
       " 'commit': {'id': '18b084348f75e0dfb3f6483d838ab4e59e04fba0',\n",
       "  'short_id': '18b08434',\n",
       "  'created_at': '2024-09-27T12:50:54.000+00:00',\n",
       "  'parent_ids': [],\n",
       "  'title': 'Initial commit',\n",
       "  'message': 'Initial commit',\n",
       "  'author_name': 'Shota Takahashi',\n",
       "  'author_email': 'qumanote@duck.com',\n",
       "  'authored_date': '2024-09-27T12:50:54.000+00:00',\n",
       "  'committer_name': 'Shota Takahashi',\n",
       "  'committer_email': 'qumanote@duck.com',\n",
       "  'committed_date': '2024-09-27T12:50:54.000+00:00',\n",
       "  'trailers': {},\n",
       "  'extended_trailers': {},\n",
       "  'web_url': 'https://gitlab.com/jacst/api-test/-/commit/18b084348f75e0dfb3f6483d838ab4e59e04fba0'},\n",
       " 'merged': False,\n",
       " 'protected': False,\n",
       " 'developers_can_push': False,\n",
       " 'developers_can_merge': False,\n",
       " 'can_push': True,\n",
       " 'default': False,\n",
       " 'web_url': 'https://gitlab.com/jacst/api-test/-/tree/test_branch8'}"
      ]
     },
     "execution_count": 49,
     "metadata": {},
     "output_type": "execute_result"
    }
   ],
   "source": [
    "# 必要な引数\n",
    "project_id = PROJECT_ID\n",
    "new_branch = \"test_branch8\"\n",
    "base_branch = \"main\"\n",
    "\n",
    "# エンドポイント\n",
    "url = f\"{ENDPOINT}/projects/{project_id}/repository/branches\"\n",
    "\n",
    "# ヘッダー\n",
    "headers = {\n",
    "    \"PRIVATE-TOKEN\": TOKEN,\n",
    "}\n",
    "\n",
    "# クエリ\n",
    "data = {\n",
    "    \"branch\": new_branch,\n",
    "    \"ref\": base_branch,\n",
    "}\n",
    "\n",
    "try:\n",
    "    response = requests.post(url, headers=headers, data=data, timeout=10)\n",
    "    response.raise_for_status()\n",
    "except Exception as e:\n",
    "    print(e)\n",
    "\n",
    "print(response.ok)\n",
    "print(response.status_code)\n",
    "response.json()\n"
   ]
  },
  {
   "cell_type": "markdown",
   "metadata": {},
   "source": [
    "## ブランチを削除する\n",
    "\n",
    "エンドポイント\n",
    "\n",
    "```\n",
    "DELETE /projects/:id/repository/branches/:branch\n",
    "```\n",
    "\n",
    "リクエストの例\n",
    "\n",
    "```console\n",
    "$ curl\n",
    "--request DELETE\n",
    "--header \"PRIVATE-TOKEN: <your_access_token>\"\n",
    "\"https://gitlab.example.com/api/v4/projects/:id/repository/branches/:branch\"\n",
    "```\n",
    "\n",
    "引数\n",
    "\n",
    "- `:id` = `project_id`\n",
    "- `:branch` = `branch_name`\n",
    "\n",
    "レスポンス\n",
    "\n",
    "- 削除した: 204\n",
    "- 失敗した: 404 `{'message': '404 Branch Not Found'}`\n"
   ]
  },
  {
   "cell_type": "code",
   "execution_count": 59,
   "metadata": {},
   "outputs": [
    {
     "name": "stdout",
     "output_type": "stream",
     "text": [
      "True\n",
      "204\n"
     ]
    },
    {
     "data": {
      "text/plain": [
       "''"
      ]
     },
     "execution_count": 59,
     "metadata": {},
     "output_type": "execute_result"
    }
   ],
   "source": [
    "project_id = PROJECT_ID\n",
    "branch_name = \"test_branch5\"\n",
    "\n",
    "# エンドポイント\n",
    "url = f\"{ENDPOINT}/projects/{project_id}/repository/branches/{branch_name}\"\n",
    "\n",
    "# ヘッダー\n",
    "headers = {\n",
    "    \"PRIVATE-TOKEN\": TOKEN,\n",
    "}\n",
    "\n",
    "# レスポンス\n",
    "response = requests.delete(url, headers=headers)\n",
    "response.raise_for_status\n",
    "\n",
    "print(response.ok)\n",
    "print(response.status_code)\n",
    "response.text\n"
   ]
  },
  {
   "cell_type": "markdown",
   "metadata": {},
   "source": [
    "# コミットAPI\n",
    "\n",
    "https://gitlab-docs.creationline.com/ee/api/commits.html"
   ]
  },
  {
   "cell_type": "markdown",
   "metadata": {},
   "source": [
    "## コミットを確認する\n",
    "\n",
    "エンドポイント\n",
    "\n",
    "```\n",
    "GET /projects/:id/repository/commits\n",
    "```\n",
    "\n",
    "リクエストの例\n",
    "\n",
    "```console\n",
    "$ curl\n",
    "--header \"PRIVATE-TOKEN: <your_access_token>\"\n",
    "\"https://gitlab.com/api/v4/projects/:id/repository/commits\"\n",
    "```\n",
    "\n",
    "引数\n",
    "\n",
    "- `:id` = `project_id`\n",
    "- `ref_name` = ブランチ名、タグ名、リビジョンの範囲\n",
    "- `since` = \n",
    "- `until` = \n",
    "- `path` = ファイルパス\n",
    "- `author` = コミット作成者\n"
   ]
  },
  {
   "cell_type": "code",
   "execution_count": 73,
   "metadata": {},
   "outputs": [
    {
     "name": "stdout",
     "output_type": "stream",
     "text": [
      "https://gitlab.com/api/v4/projects/62069387/repository/commits\n",
      "True\n",
      "200\n"
     ]
    },
    {
     "data": {
      "text/plain": [
       "'[]'"
      ]
     },
     "execution_count": 73,
     "metadata": {},
     "output_type": "execute_result"
    }
   ],
   "source": [
    "# 引数\n",
    "project_id = PROJECT_ID\n",
    "\n",
    "# エンドポイント\n",
    "url = f\"{ENDPOINT}/projects/{project_id}/repository/commits\"\n",
    "\n",
    "# ヘッダー\n",
    "headers = {\n",
    "    \"PRIVATE-TOKEN\": TOKEN,\n",
    "}\n",
    "\n",
    "# クエリ\n",
    "data = {\"since\": \"2024-09-28\"}\n",
    "\n",
    "response = requests.get(url, headers=headers, data=data, timeout=10)\n",
    "response.raise_for_status()\n",
    "\n",
    "print(response.url)\n",
    "print(response.ok)\n",
    "print(response.status_code)\n",
    "response.text\n"
   ]
  },
  {
   "cell_type": "markdown",
   "metadata": {},
   "source": [
    "## コミットを作成する\n",
    "\n",
    "エンドポイント\n",
    "\n",
    "```\n",
    "POST /projects/:id/repository/commits\n",
    "```\n",
    "\n",
    "リクエストの例\n",
    "\n",
    "```console\n",
    "$ curl\n",
    "--request POST\n",
    "--header \"PRIVATE-TOKEN: <your_access_token>\"\n",
    "--header \"Content-Type: application/json\"\n",
    "--data \"$PAYLOAD\"\n",
    "\"https://gitlab.example.com/api/v4/projects/1/repository/commits\"\n",
    "```     \n",
    "\n",
    "レスポンス\n",
    "\n",
    "- 成功 201\n",
    "- 失敗 400\n",
    "  - ペイロードが間違っている場合\n",
    "    - `'{\"error\":\"actions is invalid\"}'`\n",
    "  - 既存のファイルに対して`action: create`した場合\n",
    "    - `'{\"message\":\"A file with this name already exists\"}'`\n",
    "  - 存在しないファイルに対して`action: update`した場合\n",
    "    - `'{\"message\":\"A file with this name doesn\\'t exist\"}'`\n",
    "  \n",
    "メモ\n",
    "\n",
    "- `file_path`に作成／更新するファイルパスを指定する\n",
    "  - 拡張子も指定する\n",
    "  - 深い階層のパスを指定しても、作成してくれる"
   ]
  },
  {
   "cell_type": "markdown",
   "metadata": {},
   "source": [
    "### コミットでできること\n",
    "\n",
    "- `id`: プロジェクトID\n",
    "- `branch`: コミットするブランチ名（既存のブランチが対象）\n",
    "- `commit_message`: コミットメッセージ\n",
    "- `start_branch`: 新しいブランチにコミットする場合\n",
    "- `author_email`: コミット作成者のメールアドレス\n",
    "- `author_name`: コミット作成者の名前\n",
    "- `stats`: `true`。コミットの統計情報"
   ]
  },
  {
   "cell_type": "markdown",
   "metadata": {},
   "source": [
    "### アクションでできること\n",
    "\n",
    "- `action`:\n",
    "  - `create` : ファイルを作成（必須: `file_path` / `content`）\n",
    "  - `update` : ファイルを更新（必須: `file_path` / `content`）\n",
    "  - `move` : ファイルを移動（必須: `file_path` / `previous_path`）\n",
    "  - `delete` : ファイルを削除\n",
    "  - `chmod` : 権限を変更\n",
    "- `file_path`: 対象ファイルのパス\n",
    "- `previous_path`: 移動する前のファイルのパス。`move`で考慮。\n",
    "- `content`: ファイルの内容\n",
    "- `encoding`: `content`のエンコーディング（`text` or `base64`）\n",
    "- `last_commit_id`: 最後コミットID。`update` / `move` / `delete` で考慮\n",
    "- `execute_filemode`: `true` or `false`。`chmode`で考慮"
   ]
  },
  {
   "cell_type": "code",
   "execution_count": 92,
   "metadata": {},
   "outputs": [
    {
     "name": "stdout",
     "output_type": "stream",
     "text": [
      "True\n",
      "201\n"
     ]
    },
    {
     "data": {
      "text/plain": [
       "{'id': '9343ee0c3ec0ff1d65d29455b7cbdc621e913eb5',\n",
       " 'short_id': '9343ee0c',\n",
       " 'created_at': '2024-09-28T04:40:48.000+00:00',\n",
       " 'parent_ids': ['7476d19dfa6f1b63b6615621b656922f771084bc'],\n",
       " 'title': 'commit to test_branch',\n",
       " 'message': 'commit to test_branch',\n",
       " 'author_name': 'Shota Takahashi',\n",
       " 'author_email': 'qumanote@duck.com',\n",
       " 'authored_date': '2024-09-28T04:40:48.000+00:00',\n",
       " 'committer_name': 'Shota Takahashi',\n",
       " 'committer_email': 'qumanote@duck.com',\n",
       " 'committed_date': '2024-09-28T04:40:48.000+00:00',\n",
       " 'trailers': {},\n",
       " 'extended_trailers': {},\n",
       " 'web_url': 'https://gitlab.com/jacst/api-test/-/commit/9343ee0c3ec0ff1d65d29455b7cbdc621e913eb5',\n",
       " 'stats': {'additions': 1, 'deletions': 0, 'total': 1},\n",
       " 'status': None,\n",
       " 'project_id': 62069387,\n",
       " 'last_pipeline': None}"
      ]
     },
     "execution_count": 92,
     "metadata": {},
     "output_type": "execute_result"
    }
   ],
   "source": [
    "# 引数\n",
    "project_id = PROJECT_ID\n",
    "branch_name = \"test_branch\"\n",
    "\n",
    "# エンドポイント\n",
    "url = f\"{ENDPOINT}/projects/{project_id}/repository/commits\"\n",
    "\n",
    "# ヘッダー\n",
    "header = {\n",
    "    \"PRIVATE-TOKEN\": TOKEN,\n",
    "    \"Content-Type\": \"application/json\",\n",
    "}\n",
    "\n",
    "# コミットする内容\n",
    "actions = [\n",
    "    {\n",
    "        \"action\": \"create\",\n",
    "        \"file_path\": \"test_branch.md\",\n",
    "        \"content\": \"subdirectory content\",\n",
    "        \"author_name\": \"gitlab-api\",\n",
    "    }\n",
    "]\n",
    "\n",
    "# 一度のコミットに、複数の変更を含めることができる\n",
    "payload = {\n",
    "    \"branch\": branch_name,\n",
    "    \"commit_message\": \"commit to test_branch\",\n",
    "    \"actions\": actions,\n",
    "}\n",
    "\n",
    "response = requests.post(url, headers=header, json=payload)\n",
    "response.raise_for_status()\n",
    "\n",
    "print(response.ok)\n",
    "print(response.status_code)\n",
    "response.json()\n"
   ]
  },
  {
   "cell_type": "markdown",
   "metadata": {},
   "source": []
  },
  {
   "cell_type": "code",
   "execution_count": 87,
   "metadata": {},
   "outputs": [
    {
     "data": {
      "text/plain": [
       "'{\"id\":\"c3bcb6814e39275ace39f5890bbc6cd7168ab021\",\"short_id\":\"c3bcb681\",\"created_at\":\"2024-09-28T04:22:21.000+00:00\",\"parent_ids\":[\"bec3f44d123cb919da4b95638a220f9e7ee71c6e\"],\"title\":\"some commit message\",\"message\":\"some commit message\",\"author_name\":\"Shota Takahashi\",\"author_email\":\"qumanote@duck.com\",\"authored_date\":\"2024-09-28T04:22:21.000+00:00\",\"committer_name\":\"Shota Takahashi\",\"committer_email\":\"qumanote@duck.com\",\"committed_date\":\"2024-09-28T04:22:21.000+00:00\",\"trailers\":{},\"extended_trailers\":{},\"web_url\":\"https://gitlab.com/jacst/api-test/-/commit/c3bcb6814e39275ace39f5890bbc6cd7168ab021\",\"stats\":{\"additions\":1,\"deletions\":0,\"total\":1},\"status\":null,\"project_id\":62069387,\"last_pipeline\":null}'"
      ]
     },
     "execution_count": 87,
     "metadata": {},
     "output_type": "execute_result"
    }
   ],
   "source": [
    "response.text\n"
   ]
  },
  {
   "cell_type": "code",
   "execution_count": 34,
   "metadata": {},
   "outputs": [
    {
     "name": "stdout",
     "output_type": "stream",
     "text": [
      "create_commit\n",
      "400 Client Error: Bad Request for url: https://gitlab.com/api/v4/projects/62069387/repository/commits\n"
     ]
    }
   ],
   "source": [
    "branch_name = \"test_branch2\"\n",
    "actions = {\n",
    "    \"action\": \"create\",\n",
    "    \"file_path\": \"test_file.md\",\n",
    "    \"content\": \"GitLab APIで作成したファイル\",\n",
    "}\n",
    "create_commit(\n",
    "    project_id=PROJECT_ID,\n",
    "    branch_name=branch_name,\n",
    "    commit_message=\"test commit\",\n",
    "    actions=actions,\n",
    "    private_token=TOKEN,\n",
    ")\n"
   ]
  }
 ],
 "metadata": {
  "kernelspec": {
   "display_name": ".venv",
   "language": "python",
   "name": "python3"
  },
  "language_info": {
   "codemirror_mode": {
    "name": "ipython",
    "version": 3
   },
   "file_extension": ".py",
   "mimetype": "text/x-python",
   "name": "python",
   "nbconvert_exporter": "python",
   "pygments_lexer": "ipython3",
   "version": "3.11.10"
  }
 },
 "nbformat": 4,
 "nbformat_minor": 2
}

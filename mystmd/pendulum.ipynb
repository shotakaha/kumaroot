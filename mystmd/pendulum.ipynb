{
 "cells": [
  {
   "cell_type": "markdown",
   "metadata": {},
   "source": [
    "---\n",
    "title: 日時モジュールの使い方\n",
    "subject: python\n",
    "keywords: [python, pendulum, time, datetime]\n",
    "authors: [Shota Takahashi]\n",
    "exports:\n",
    "  - format: pdf\n",
    "---"
   ]
  },
  {
   "cell_type": "markdown",
   "metadata": {},
   "source": [
    "+++ {\"part\": \"abstract\"}\n",
    "Python標準モジュールの``time``と``datetime``、\n",
    "そして外部モジュールの``pendulum``を使って、\n",
    "よくある日時の取り扱いを比べてみました。\n",
    "+++"
   ]
  },
  {
   "cell_type": "markdown",
   "metadata": {},
   "source": [
    "``time``と``datetime``は標準モジュールなので、そのまま読み込めます。\n",
    "``pendulum``は``pip``などを使ってあらかじめ追加しておきます。\n",
    "今回は最新版のv3系を使いました。"
   ]
  },
  {
   "cell_type": "code",
   "execution_count": 1,
   "metadata": {},
   "outputs": [
    {
     "data": {
      "text/plain": [
       "'3.0.0'"
      ]
     },
     "execution_count": 1,
     "metadata": {},
     "output_type": "execute_result"
    }
   ],
   "source": [
    "import time\n",
    "import datetime\n",
    "import pendulum\n",
    "pendulum.__version__"
   ]
  },
  {
   "cell_type": "markdown",
   "metadata": {},
   "source": [
    "# 現在時刻を取得したい\n",
    "\n",
    "スクリプトを実行した時刻など、現在時刻を取得したい場合はよくあります。\n",
    "\n",
    "1. ``datetime.datetime.now``\n",
    "2. ``pendulum.now``\n",
    "3. ``pendulum.from_timestamp``"
   ]
  },
  {
   "cell_type": "code",
   "execution_count": 2,
   "metadata": {},
   "outputs": [
    {
     "name": "stdout",
     "output_type": "stream",
     "text": [
      "2024-01-26 19:55:34.989851\n"
     ]
    },
    {
     "data": {
      "text/plain": [
       "datetime.datetime(2024, 1, 26, 19, 55, 34, 989851)"
      ]
     },
     "execution_count": 2,
     "metadata": {},
     "output_type": "execute_result"
    }
   ],
   "source": [
    "dt = datetime.datetime.now()\n",
    "print(dt)\n",
    "dt"
   ]
  },
  {
   "cell_type": "markdown",
   "metadata": {},
   "source": [
    "``datetime.datetime.now``の引数に``datetime.timezone``を指定すると、タイムゾーン情報を持たせることができます。"
   ]
  },
  {
   "cell_type": "code",
   "execution_count": 3,
   "metadata": {},
   "outputs": [
    {
     "name": "stdout",
     "output_type": "stream",
     "text": [
      "2024-01-26 19:55:34.993708+09:00\n"
     ]
    },
    {
     "data": {
      "text/plain": [
       "datetime.datetime(2024, 1, 26, 19, 55, 34, 993708, tzinfo=datetime.timezone(datetime.timedelta(seconds=32400)))"
      ]
     },
     "execution_count": 3,
     "metadata": {},
     "output_type": "execute_result"
    }
   ],
   "source": [
    "dt = datetime.datetime.now(datetime.timezone(datetime.timedelta(hours=9)))\n",
    "print(dt)\n",
    "dt"
   ]
  },
  {
   "cell_type": "markdown",
   "metadata": {},
   "source": [
    "``pendulum``はデフォルトでタイムゾーン情報を持った日時オブジェクトを作成します。"
   ]
  },
  {
   "cell_type": "code",
   "execution_count": 4,
   "metadata": {},
   "outputs": [
    {
     "name": "stdout",
     "output_type": "stream",
     "text": [
      "2024-01-26 19:55:34.997772+09:00\n"
     ]
    },
    {
     "data": {
      "text/plain": [
       "DateTime(2024, 1, 26, 19, 55, 34, 997772, tzinfo=Timezone('Asia/Tokyo'))"
      ]
     },
     "execution_count": 4,
     "metadata": {},
     "output_type": "execute_result"
    }
   ],
   "source": [
    "dt = pendulum.now()\n",
    "print(dt)\n",
    "dt"
   ]
  },
  {
   "cell_type": "markdown",
   "metadata": {},
   "source": [
    "``time.time()``で現在のUNIX時間を取得できます。\n",
    "``pendulum.from_timestamp``を使って``DateTime``オブジェクトに変換できます。"
   ]
  },
  {
   "cell_type": "code",
   "execution_count": 5,
   "metadata": {},
   "outputs": [
    {
     "data": {
      "text/plain": [
       "DateTime(2024, 1, 26, 10, 55, 35, 1553, tzinfo=Timezone('UTC'))"
      ]
     },
     "execution_count": 5,
     "metadata": {},
     "output_type": "execute_result"
    }
   ],
   "source": [
    "ut = time.time()\n",
    "pendulum.from_timestamp(ut)"
   ]
  },
  {
   "cell_type": "markdown",
   "metadata": {},
   "source": [
    "``datetime.datetime.now``で取得した日時オブジェクトは、``pendulum.instance()``で``DateTime``オブジェクトに変換できます。\n",
    "もとの日時オブジェクトがタイムゾーン情報を持たない場合は``UTC``に変換されます。\n",
    "タイムゾーン情報を持つ場合は、時間差情報が追加されます。"
   ]
  },
  {
   "cell_type": "code",
   "execution_count": 6,
   "metadata": {},
   "outputs": [
    {
     "data": {
      "text/plain": [
       "DateTime(2024, 1, 26, 19, 55, 35, 5225, tzinfo=FixedTimezone(32400, name=\"+09:00\"))"
      ]
     },
     "execution_count": 6,
     "metadata": {},
     "output_type": "execute_result"
    }
   ],
   "source": [
    "dt = datetime.datetime.now(datetime.timezone(datetime.timedelta(hours=9)))\n",
    "pendulum.instance(dt)"
   ]
  },
  {
   "cell_type": "markdown",
   "metadata": {},
   "source": [
    "# 任意の日付したい"
   ]
  },
  {
   "cell_type": "markdown",
   "metadata": {},
   "source": [
    "1. ``datetime.datetime``\n",
    "2. ``pendulum.datetime``\n",
    "3. ``pendulum.local``"
   ]
  },
  {
   "cell_type": "markdown",
   "metadata": {},
   "source": [
    "``(年, 月, 日, 時, 分, 秒, マイクロ秒)``のタプルを与えて、任意の日時オクジェクトを作成できます。\n",
    "``datetime``モジュールはタイムゾーン情報を持たないため、``tz-naive``なオブジェクトが作成されます。"
   ]
  },
  {
   "cell_type": "code",
   "execution_count": 7,
   "metadata": {},
   "outputs": [
    {
     "name": "stdout",
     "output_type": "stream",
     "text": [
      "2024-01-02 03:45:56\n"
     ]
    },
    {
     "data": {
      "text/plain": [
       "datetime.datetime(2024, 1, 2, 3, 45, 56)"
      ]
     },
     "execution_count": 7,
     "metadata": {},
     "output_type": "execute_result"
    }
   ],
   "source": [
    "dt = datetime.datetime(2024, 1, 2, 3, 45, 56)\n",
    "print(dt)\n",
    "dt"
   ]
  },
  {
   "cell_type": "markdown",
   "metadata": {},
   "source": [
    "同様のタプルを``pendulum.datetime``に与え、タイムゾーン情報を持った``tz-aware``なオブジェクトが作成できます。\n",
    "デフォルトでは``UTC``が設定されます。``tz=\"Asia/Tokyo``オプションを追加すると、日本時刻として作成できます。"
   ]
  },
  {
   "cell_type": "code",
   "execution_count": 8,
   "metadata": {},
   "outputs": [
    {
     "name": "stdout",
     "output_type": "stream",
     "text": [
      "2024-01-02 03:45:56+00:00\n"
     ]
    },
    {
     "data": {
      "text/plain": [
       "DateTime(2024, 1, 2, 3, 45, 56, tzinfo=Timezone('UTC'))"
      ]
     },
     "execution_count": 8,
     "metadata": {},
     "output_type": "execute_result"
    }
   ],
   "source": [
    "dt = pendulum.datetime(2024, 1, 2, 3, 45, 56)\n",
    "print(dt)\n",
    "dt"
   ]
  },
  {
   "cell_type": "markdown",
   "metadata": {},
   "source": [
    "``pendulum.local``を使うと、実行環境のタイムゾーンを持った日時オブジェクトが作成できます。\n",
    "これは``pendulum.datetime(tz=\"local\")``のエイリアスです。"
   ]
  },
  {
   "cell_type": "code",
   "execution_count": 9,
   "metadata": {},
   "outputs": [
    {
     "name": "stdout",
     "output_type": "stream",
     "text": [
      "2024-01-02 03:45:56+09:00\n"
     ]
    },
    {
     "data": {
      "text/plain": [
       "DateTime(2024, 1, 2, 3, 45, 56, tzinfo=Timezone('Asia/Tokyo'))"
      ]
     },
     "execution_count": 9,
     "metadata": {},
     "output_type": "execute_result"
    }
   ],
   "source": [
    "dt = pendulum.local(2024, 1, 2, 3, 45, 56)\n",
    "print(dt)\n",
    "dt"
   ]
  },
  {
   "cell_type": "markdown",
   "metadata": {},
   "source": [
    "# 日付を変換したい\n",
    "\n",
    "ある日時オブジェクトを、別の並びの文字列に変換したいことがあります。\n",
    "たとえばRSSフィードの日時は``曜日（短縮）, 日 月名（短縮） 年 時:分:秒 +Z``であったり、\n",
    "ISO8601形式の日時は``年-月-日T時:分:秒+Z``であったりします。\n",
    "\n",
    "``datetime``モジュールの場合、変換後の文字列は自分で指定する必要があります。\n",
    "``pendulum``パッケージの場合、よく使われる日時の文字列はプリセットされています。\n",
    "なるべくプリセットされたものを使うのがよいでしょう。"
   ]
  },
  {
   "cell_type": "code",
   "execution_count": 10,
   "metadata": {},
   "outputs": [
    {
     "data": {
      "text/plain": [
       "'Tue, 02 Jan 2024 03:45:56'"
      ]
     },
     "execution_count": 10,
     "metadata": {},
     "output_type": "execute_result"
    }
   ],
   "source": [
    "# RSS形式\n",
    "dt = datetime.datetime(2024, 1, 2, 3, 45, 56)\n",
    "dt.strftime(\"%a, %d %b %Y %H:%M:%S\")"
   ]
  },
  {
   "cell_type": "code",
   "execution_count": 11,
   "metadata": {},
   "outputs": [
    {
     "data": {
      "text/plain": [
       "'2024-01-02T03:45:56'"
      ]
     },
     "execution_count": 11,
     "metadata": {},
     "output_type": "execute_result"
    }
   ],
   "source": [
    "# ISO8601形式\n",
    "dt = datetime.datetime(2024, 1, 2, 3, 45, 56)\n",
    "dt.strftime(\"%Y-%m-%dT%H:%M:%S\")"
   ]
  },
  {
   "cell_type": "code",
   "execution_count": 12,
   "metadata": {},
   "outputs": [
    {
     "data": {
      "text/plain": [
       "'Tue, 02 Jan 2024 03:45:56 +0900'"
      ]
     },
     "execution_count": 12,
     "metadata": {},
     "output_type": "execute_result"
    }
   ],
   "source": [
    "# RSS形式\n",
    "dt = pendulum.local(2024, 1, 2, 3, 45, 56)\n",
    "dt.to_rss_string()"
   ]
  },
  {
   "cell_type": "code",
   "execution_count": 13,
   "metadata": {},
   "outputs": [
    {
     "data": {
      "text/plain": [
       "'2024-01-02T03:45:56+09:00'"
      ]
     },
     "execution_count": 13,
     "metadata": {},
     "output_type": "execute_result"
    }
   ],
   "source": [
    "# ISO8601形式\n",
    "dt = pendulum.local(2024, 1, 2, 3, 45, 56)\n",
    "dt.to_iso8601_string()"
   ]
  },
  {
   "cell_type": "code",
   "execution_count": 14,
   "metadata": {},
   "outputs": [
    {
     "data": {
      "text/plain": [
       "'2024-01-02T03:45:56+09:00'"
      ]
     },
     "execution_count": 14,
     "metadata": {},
     "output_type": "execute_result"
    }
   ],
   "source": [
    "# ISO8601形式\n",
    "dt = pendulum.local(2024, 1, 2, 3, 45, 56)\n",
    "dt.isoformat()"
   ]
  },
  {
   "cell_type": "markdown",
   "metadata": {},
   "source": [
    "# 日付を読み込みたい\n",
    "\n",
    "すでに保存されたデータから日付を読み込み日時オブジェクトに変換したい場合もよくあります。\n",
    "\n",
    "1. ``datetime.datetime.strptime``\n",
    "2. ``pendulum.from_format``\n",
    "3. ``pendulum.parse``"
   ]
  },
  {
   "cell_type": "code",
   "execution_count": 15,
   "metadata": {},
   "outputs": [],
   "source": [
    "timestamp = \"2024-01-02 03:45:56\"\n",
    "apache_time = \"01/Sep/2012:06:05:11 +0000\""
   ]
  },
  {
   "cell_type": "markdown",
   "metadata": {},
   "source": [
    "``datetime``モジュールでは、``datetime.datetime.strptime``を使っいます。"
   ]
  },
  {
   "cell_type": "code",
   "execution_count": 16,
   "metadata": {},
   "outputs": [
    {
     "data": {
      "text/plain": [
       "datetime.datetime(2024, 1, 2, 3, 45, 56)"
      ]
     },
     "execution_count": 16,
     "metadata": {},
     "output_type": "execute_result"
    }
   ],
   "source": [
    "datetime.datetime.strptime(timestamp, \"%Y-%m-%d %H:%M:%S\")"
   ]
  },
  {
   "cell_type": "code",
   "execution_count": 17,
   "metadata": {},
   "outputs": [
    {
     "data": {
      "text/plain": [
       "datetime.datetime(2012, 9, 1, 6, 5, 11)"
      ]
     },
     "execution_count": 17,
     "metadata": {},
     "output_type": "execute_result"
    }
   ],
   "source": [
    "datetime.datetime.strptime(apache_time, \"%d/%b/%Y:%H:%M:%S +0000\")"
   ]
  },
  {
   "cell_type": "markdown",
   "metadata": {},
   "source": [
    "``pendulum``パッケージでは``pendulum.from_format``を使います。\n",
    "日時の指定子が``datetime``モジュールと異なる点に注意してください。\n",
    "利用可能な日付トークンは https://pendulum.eustace.io/docs/#tokens で確認できます。"
   ]
  },
  {
   "cell_type": "code",
   "execution_count": 18,
   "metadata": {},
   "outputs": [
    {
     "data": {
      "text/plain": [
       "DateTime(2024, 1, 2, 3, 45, 56, tzinfo=Timezone('UTC'))"
      ]
     },
     "execution_count": 18,
     "metadata": {},
     "output_type": "execute_result"
    }
   ],
   "source": [
    "pendulum.from_format(timestamp, \"YYYY-MM-DD HH:mm:ss\")"
   ]
  },
  {
   "cell_type": "code",
   "execution_count": 19,
   "metadata": {},
   "outputs": [
    {
     "data": {
      "text/plain": [
       "DateTime(2012, 9, 1, 6, 5, 11, tzinfo=FixedTimezone(0, name=\"+00:00\"))"
      ]
     },
     "execution_count": 19,
     "metadata": {},
     "output_type": "execute_result"
    }
   ],
   "source": [
    "pendulum.from_format(apache_time, \"DD/MMM/YYYY:HH:mm:ss ZZ\")"
   ]
  },
  {
   "cell_type": "code",
   "execution_count": 20,
   "metadata": {},
   "outputs": [
    {
     "data": {
      "text/plain": [
       "DateTime(2024, 1, 2, 3, 45, 56, tzinfo=Timezone('Asia/Tokyo'))"
      ]
     },
     "execution_count": 20,
     "metadata": {},
     "output_type": "execute_result"
    }
   ],
   "source": [
    "pendulum.from_format(timestamp, \"YYYY-MM-DD HH:mm:ss\", tz=\"local\")"
   ]
  },
  {
   "cell_type": "code",
   "execution_count": 21,
   "metadata": {},
   "outputs": [
    {
     "data": {
      "text/plain": [
       "DateTime(2012, 9, 1, 6, 5, 11, tzinfo=FixedTimezone(0, name=\"+00:00\"))"
      ]
     },
     "execution_count": 21,
     "metadata": {},
     "output_type": "execute_result"
    }
   ],
   "source": [
    "pendulum.from_format(apache_time, \"DD/MMM/YYYY:HH:mm:ss ZZ\", tz=\"local\")"
   ]
  },
  {
   "cell_type": "markdown",
   "metadata": {},
   "source": [
    "``pendulum.parse``で一般的な日付フォーマットをパースできます。\n",
    "タイムゾーンが指定されていない場合は、``UTC``になります。"
   ]
  },
  {
   "cell_type": "code",
   "execution_count": 22,
   "metadata": {},
   "outputs": [
    {
     "data": {
      "text/plain": [
       "DateTime(2024, 1, 2, 3, 45, 56, tzinfo=Timezone('UTC'))"
      ]
     },
     "execution_count": 22,
     "metadata": {},
     "output_type": "execute_result"
    }
   ],
   "source": [
    "pendulum.parse(timestamp)"
   ]
  },
  {
   "cell_type": "code",
   "execution_count": 23,
   "metadata": {},
   "outputs": [
    {
     "data": {
      "text/plain": [
       "DateTime(2024, 1, 2, 3, 45, 56, tzinfo=Timezone('Asia/Tokyo'))"
      ]
     },
     "execution_count": 23,
     "metadata": {},
     "output_type": "execute_result"
    }
   ],
   "source": [
    "pendulum.parse(timestamp, tz=\"local\")"
   ]
  },
  {
   "cell_type": "code",
   "execution_count": null,
   "metadata": {},
   "outputs": [],
   "source": []
  }
 ],
 "metadata": {
  "kernelspec": {
   "display_name": "Python 3.10.8 ('.venv': poetry)",
   "language": "python",
   "name": "python3"
  },
  "language_info": {
   "codemirror_mode": {
    "name": "ipython",
    "version": 3
   },
   "file_extension": ".py",
   "mimetype": "text/x-python",
   "name": "python",
   "nbconvert_exporter": "python",
   "pygments_lexer": "ipython3",
   "version": "3.11.7"
  },
  "orig_nbformat": 4,
  "vscode": {
   "interpreter": {
    "hash": "360e5ca6cf1c60703a2fbe4bde1ece66bdad26ce40d180d277bb3a5f90d9bfe9"
   }
  }
 },
 "nbformat": 4,
 "nbformat_minor": 2
}

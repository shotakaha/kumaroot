{
 "cells": [
  {
   "cell_type": "markdown",
   "metadata": {},
   "source": [
    "---\n",
    "title: 日時モジュールの使い方\n",
    "subject: python\n",
    "keywords: [python, pendulum, time, datetime]\n",
    "authors: [Shota Takahashi]\n",
    "exports:\n",
    "  - format: pdf\n",
    "---"
   ]
  },
  {
   "cell_type": "markdown",
   "metadata": {},
   "source": [
    "+++ {\"part\": \"abstract\"}\n",
    "Python標準モジュールの``time``と``datetime``、\n",
    "そして外部モジュールの``pendulum``を使って、\n",
    "よくある日時の取り扱いを比べてみました。\n",
    "+++"
   ]
  },
  {
   "cell_type": "markdown",
   "metadata": {},
   "source": [
    "``time``と``datetime``は標準モジュールなので、そのまま読み込めます。\n",
    "``pendulum``は``pip``などを使ってあらかじめ追加しておきます。\n",
    "今回は最新版のv3系を使いました。"
   ]
  },
  {
   "cell_type": "code",
   "execution_count": 2,
   "metadata": {},
   "outputs": [
    {
     "data": {
      "text/plain": [
       "'3.0.0'"
      ]
     },
     "execution_count": 2,
     "metadata": {},
     "output_type": "execute_result"
    }
   ],
   "source": [
    "import time\n",
    "import datetime\n",
    "import pendulum\n",
    "pendulum.__version__"
   ]
  },
  {
   "cell_type": "markdown",
   "metadata": {},
   "source": [
    "# 現在時刻を取得したい\n",
    "\n",
    "スクリプトを実行した時刻など、現在時刻を取得したい場合はよくあります。\n",
    "\n",
    "1. ``datetime.datetime.now``\n",
    "2. ``pendulum.now``\n",
    "3. ``pendulum.from_timestamp``"
   ]
  },
  {
   "cell_type": "code",
   "execution_count": 29,
   "metadata": {},
   "outputs": [
    {
     "name": "stdout",
     "output_type": "stream",
     "text": [
      "2024-01-26 15:24:20.030585\n"
     ]
    },
    {
     "data": {
      "text/plain": [
       "datetime.datetime(2024, 1, 26, 15, 24, 20, 30585)"
      ]
     },
     "execution_count": 29,
     "metadata": {},
     "output_type": "execute_result"
    }
   ],
   "source": [
    "dt = datetime.datetime.now()\n",
    "print(dt)\n",
    "dt"
   ]
  },
  {
   "cell_type": "markdown",
   "metadata": {},
   "source": [
    "``datetime.datetime.now``の引数に``datetime.timezone``を指定すると、タイムゾーン情報を持たせることができます。"
   ]
  },
  {
   "cell_type": "code",
   "execution_count": 30,
   "metadata": {},
   "outputs": [
    {
     "name": "stdout",
     "output_type": "stream",
     "text": [
      "2024-01-26 15:24:28.871029+09:00\n"
     ]
    },
    {
     "data": {
      "text/plain": [
       "datetime.datetime(2024, 1, 26, 15, 24, 28, 871029, tzinfo=datetime.timezone(datetime.timedelta(seconds=32400)))"
      ]
     },
     "execution_count": 30,
     "metadata": {},
     "output_type": "execute_result"
    }
   ],
   "source": [
    "dt = datetime.datetime.now(datetime.timezone(datetime.timedelta(hours=9)))\n",
    "print(dt)\n",
    "dt"
   ]
  },
  {
   "cell_type": "markdown",
   "metadata": {},
   "source": [
    "``pendulum``はデフォルトでタイムゾーン情報を持った日時オブジェクトを作成します。"
   ]
  },
  {
   "cell_type": "code",
   "execution_count": 31,
   "metadata": {},
   "outputs": [
    {
     "name": "stdout",
     "output_type": "stream",
     "text": [
      "2024-01-26 15:24:41.967710+09:00\n"
     ]
    },
    {
     "data": {
      "text/plain": [
       "DateTime(2024, 1, 26, 15, 24, 41, 967710, tzinfo=Timezone('Asia/Tokyo'))"
      ]
     },
     "execution_count": 31,
     "metadata": {},
     "output_type": "execute_result"
    }
   ],
   "source": [
    "dt = pendulum.now()\n",
    "print(dt)\n",
    "dt"
   ]
  },
  {
   "cell_type": "markdown",
   "metadata": {},
   "source": [
    "``time.time()``で現在のUNIX時間を取得できます。\n",
    "``pendulum.from_timestamp``を使って``DateTime``オブジェクトに変換できます。"
   ]
  },
  {
   "cell_type": "code",
   "execution_count": 7,
   "metadata": {},
   "outputs": [
    {
     "data": {
      "text/plain": [
       "DateTime(2024, 1, 26, 6, 1, 39, 554112, tzinfo=Timezone('UTC'))"
      ]
     },
     "execution_count": 7,
     "metadata": {},
     "output_type": "execute_result"
    }
   ],
   "source": [
    "ut = time.time()\n",
    "pendulum.from_timestamp(ut)"
   ]
  },
  {
   "cell_type": "markdown",
   "metadata": {},
   "source": [
    "``datetime.datetime.now``で取得した日時オブジェクトは、``pendulum.instance()``で``DateTime``オブジェクトに変換できます。\n",
    "もとの日時オブジェクトがタイムゾーン情報を持たない場合は``UTC``に変換されます。\n",
    "タイムゾーン情報を持つ場合は、時間差情報が追加されます。"
   ]
  },
  {
   "cell_type": "code",
   "execution_count": 33,
   "metadata": {},
   "outputs": [
    {
     "data": {
      "text/plain": [
       "DateTime(2024, 1, 26, 15, 27, 42, 885222, tzinfo=FixedTimezone(32400, name=\"+09:00\"))"
      ]
     },
     "execution_count": 33,
     "metadata": {},
     "output_type": "execute_result"
    }
   ],
   "source": [
    "dt = datetime.datetime.now(datetime.timezone(datetime.timedelta(hours=9)))\n",
    "pendulum.instance(dt)"
   ]
  },
  {
   "cell_type": "markdown",
   "metadata": {},
   "source": [
    "# 任意の日付したい"
   ]
  },
  {
   "cell_type": "markdown",
   "metadata": {},
   "source": [
    "1. ``datetime.datetime``\n",
    "2. ``pendulum.datetime``\n",
    "3. ``pendulum.local``"
   ]
  },
  {
   "cell_type": "markdown",
   "metadata": {},
   "source": [
    "``年, 月, 日, 時, 分, 秒``のタプルを与えて、任意の日時オクジェクトを作成できます。\n",
    "``datetime``モジュールはタイムゾーン情報を持たないため、``tz-naive``なオブジェクトが作成されます。"
   ]
  },
  {
   "cell_type": "code",
   "execution_count": 34,
   "metadata": {},
   "outputs": [
    {
     "name": "stdout",
     "output_type": "stream",
     "text": [
      "2024-01-02 03:45:56\n"
     ]
    },
    {
     "data": {
      "text/plain": [
       "datetime.datetime(2024, 1, 2, 3, 45, 56)"
      ]
     },
     "execution_count": 34,
     "metadata": {},
     "output_type": "execute_result"
    }
   ],
   "source": [
    "dt = datetime.datetime(2024, 1, 2, 3, 45, 56)\n",
    "print(dt)\n",
    "dt"
   ]
  },
  {
   "cell_type": "markdown",
   "metadata": {},
   "source": [
    "同様のタプルを``pendulum.datetime``に与え、タイムゾーン情報を持った``tz-aware``なオブジェクトが作成できます。\n",
    "デフォルトでは``UTC``が設定されます。``tz=\"Asia/Tokyo``オプションを追加すると、日本時刻として作成できます。"
   ]
  },
  {
   "cell_type": "code",
   "execution_count": 35,
   "metadata": {},
   "outputs": [
    {
     "name": "stdout",
     "output_type": "stream",
     "text": [
      "2024-01-02 03:45:56+00:00\n"
     ]
    },
    {
     "data": {
      "text/plain": [
       "DateTime(2024, 1, 2, 3, 45, 56, tzinfo=Timezone('UTC'))"
      ]
     },
     "execution_count": 35,
     "metadata": {},
     "output_type": "execute_result"
    }
   ],
   "source": [
    "dt = pendulum.datetime(2024, 1, 2, 3, 45, 56)\n",
    "print(dt)\n",
    "dt"
   ]
  },
  {
   "cell_type": "markdown",
   "metadata": {},
   "source": [
    "``pendulum.local``を使うと、実行環境のタイムゾーンを持った日時オブジェクトが作成できます。"
   ]
  },
  {
   "cell_type": "code",
   "execution_count": 36,
   "metadata": {},
   "outputs": [
    {
     "name": "stdout",
     "output_type": "stream",
     "text": [
      "2024-01-02 03:45:56+09:00\n"
     ]
    },
    {
     "data": {
      "text/plain": [
       "DateTime(2024, 1, 2, 3, 45, 56, tzinfo=Timezone('Asia/Tokyo'))"
      ]
     },
     "execution_count": 36,
     "metadata": {},
     "output_type": "execute_result"
    }
   ],
   "source": [
    "dt = pendulum.local(2024, 1, 2, 3, 45, 56)\n",
    "print(dt)\n",
    "dt"
   ]
  },
  {
   "cell_type": "markdown",
   "metadata": {},
   "source": [
    "# 日付を変換したい\n",
    "\n",
    "ある日時オブジェクトを、別の並びの文字列に変換したいことがあります。\n",
    "たとえばRSSフィードの日時は``曜日, 日, 月, 年 時:分:秒 +Z``であったり、\n",
    "ISO8601形式の日時は``年-月-日T時:分:秒+Z``であったりします。\n",
    "\n",
    "``datetime``モジュールの場合、変換後の文字列は自分で指定する必要があります。\n",
    "``pendulum``パッケージの場合、よく使われる日時の文字列はプリセットされています。\n",
    "なるべくプリセットされたものを使うのがよいでしょう。"
   ]
  },
  {
   "cell_type": "code",
   "execution_count": 39,
   "metadata": {},
   "outputs": [
    {
     "data": {
      "text/plain": [
       "'Tue, 02 Jan 2024 03:45:56 +0900'"
      ]
     },
     "execution_count": 39,
     "metadata": {},
     "output_type": "execute_result"
    }
   ],
   "source": [
    "dt = pendulum.local(2024, 1, 2, 3, 45, 56)\n",
    "dt.to_rss_string()"
   ]
  },
  {
   "cell_type": "code",
   "execution_count": 40,
   "metadata": {},
   "outputs": [
    {
     "data": {
      "text/plain": [
       "'2024-01-02T03:45:56+09:00'"
      ]
     },
     "execution_count": 40,
     "metadata": {},
     "output_type": "execute_result"
    }
   ],
   "source": [
    "dt = pendulum.local(2024, 1, 2, 3, 45, 56)\n",
    "dt.to_iso8601_string()"
   ]
  },
  {
   "cell_type": "markdown",
   "metadata": {},
   "source": [
    "# 日付を読み取りたい"
   ]
  },
  {
   "cell_type": "markdown",
   "metadata": {},
   "source": [
    "``pendulum.parse``で一般的な日付フォーマットをパースできます。\n",
    "タイムゾーンが指定されていない場合は、``UTC``になります。"
   ]
  },
  {
   "cell_type": "code",
   "execution_count": 10,
   "metadata": {},
   "outputs": [
    {
     "data": {
      "text/plain": [
       "DateTime(2022, 9, 26, 17, 0, 0, tzinfo=Timezone('UTC'))"
      ]
     },
     "execution_count": 10,
     "metadata": {},
     "output_type": "execute_result"
    }
   ],
   "source": [
    "pendulum.parse(\"2022-09-26T17:00:00\")"
   ]
  },
  {
   "cell_type": "markdown",
   "metadata": {},
   "source": [
    "``tz``オプションを使って、タイムゾーンを明示してパースできます。"
   ]
  },
  {
   "cell_type": "code",
   "execution_count": 7,
   "metadata": {},
   "outputs": [
    {
     "data": {
      "text/plain": [
       "DateTime(2022, 9, 26, 17, 0, 0, tzinfo=Timezone('Asia/Tokyo'))"
      ]
     },
     "execution_count": 7,
     "metadata": {},
     "output_type": "execute_result"
    }
   ],
   "source": [
    "pendulum.parse(\"2022-09-26T17:00:00\", tz=\"Asia/Tokyo\")"
   ]
  },
  {
   "cell_type": "markdown",
   "metadata": {},
   "source": [
    "# 独自形式の日付を読み取りたい\n",
    "\n",
    "``pendulum.from_format``で独自形式の日付をパースできます。\n",
    "利用可能な日付トークンは https://pendulum.eustace.io/docs/#tokens を参照してください。"
   ]
  },
  {
   "cell_type": "code",
   "execution_count": 26,
   "metadata": {},
   "outputs": [
    {
     "data": {
      "text/plain": [
       "DateTime(2012, 9, 1, 6, 5, 11, tzinfo=Timezone('+00:00'))"
      ]
     },
     "execution_count": 26,
     "metadata": {},
     "output_type": "execute_result"
    }
   ],
   "source": [
    "pendulum.from_format(\"01/Sep/2012:06:05:11 +0000\", \"DD/MMM/YYYY:HH:mm:ss ZZ\")"
   ]
  },
  {
   "cell_type": "code",
   "execution_count": 21,
   "metadata": {},
   "outputs": [
    {
     "data": {
      "text/plain": [
       "DateTime(2022, 9, 26, 6, 5, 11, tzinfo=Timezone('+09:00'))"
      ]
     },
     "execution_count": 21,
     "metadata": {},
     "output_type": "execute_result"
    }
   ],
   "source": [
    "pendulum.from_format(\"26/Sep/2022:06:05:11 +0900\", \"DD/MMM/YYYY:HH:mm:ss ZZ\")"
   ]
  },
  {
   "cell_type": "markdown",
   "metadata": {},
   "source": [
    "# ISO8601形式に変換する"
   ]
  },
  {
   "cell_type": "markdown",
   "metadata": {},
   "source": [
    "``isoformat``を使うと、ISO8601形式（``YYYY-mm-ddT%HH:MM:SS+Z``）に簡単に変換できます。\n",
    "また、さまざまな表示形式に出力できます。"
   ]
  },
  {
   "cell_type": "code",
   "execution_count": 22,
   "metadata": {},
   "outputs": [
    {
     "data": {
      "text/plain": [
       "'2022-09-26T17:00:00+00:00'"
      ]
     },
     "execution_count": 22,
     "metadata": {},
     "output_type": "execute_result"
    }
   ],
   "source": [
    "dt = pendulum.parse(\"2022-09-26T17:00:00\")\n",
    "dt.isoformat()"
   ]
  },
  {
   "cell_type": "code",
   "execution_count": 23,
   "metadata": {},
   "outputs": [
    {
     "data": {
      "text/plain": [
       "'2022-09-26T06:05:11+09:00'"
      ]
     },
     "execution_count": 23,
     "metadata": {},
     "output_type": "execute_result"
    }
   ],
   "source": [
    "dt = pendulum.from_format(\"26/Sep/2022:06:05:11 +0900\", \"DD/MMM/YYYY:HH:mm:ss ZZ\")\n",
    "dt.to_iso8601_string()"
   ]
  },
  {
   "cell_type": "code",
   "execution_count": null,
   "metadata": {},
   "outputs": [],
   "source": []
  }
 ],
 "metadata": {
  "kernelspec": {
   "display_name": "Python 3.10.8 ('.venv': poetry)",
   "language": "python",
   "name": "python3"
  },
  "language_info": {
   "codemirror_mode": {
    "name": "ipython",
    "version": 3
   },
   "file_extension": ".py",
   "mimetype": "text/x-python",
   "name": "python",
   "nbconvert_exporter": "python",
   "pygments_lexer": "ipython3",
   "version": "3.11.7"
  },
  "orig_nbformat": 4,
  "vscode": {
   "interpreter": {
    "hash": "360e5ca6cf1c60703a2fbe4bde1ece66bdad26ce40d180d277bb3a5f90d9bfe9"
   }
  }
 },
 "nbformat": 4,
 "nbformat_minor": 2
}

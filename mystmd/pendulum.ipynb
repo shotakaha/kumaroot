{
 "cells": [
  {
   "cell_type": "markdown",
   "metadata": {},
   "source": [
    "---\n",
    "title: Pendulumの使い方\n",
    "subject: python\n",
    "keywords: [python, pendulum]\n",
    "authors: [Shota Takahashi]\n",
    "exports:\n",
    "  - format: pdf\n",
    "---"
   ]
  },
  {
   "cell_type": "code",
   "execution_count": 6,
   "metadata": {},
   "outputs": [
    {
     "data": {
      "text/plain": [
       "'3.0.0'"
      ]
     },
     "execution_count": 6,
     "metadata": {},
     "output_type": "execute_result"
    }
   ],
   "source": [
    "import pendulum\n",
    "pendulum.__version__"
   ]
  },
  {
   "cell_type": "markdown",
   "metadata": {},
   "source": [
    "# 現在時刻を取得したい"
   ]
  },
  {
   "cell_type": "markdown",
   "metadata": {},
   "source": [
    "``pendulum.now()``で、タイムゾーン付きの現在時刻が取得できます。"
   ]
  },
  {
   "cell_type": "code",
   "execution_count": 8,
   "metadata": {},
   "outputs": [
    {
     "data": {
      "text/plain": [
       "DateTime(2024, 1, 3, 15, 32, 54, 613339, tzinfo=Timezone('Asia/Tokyo'))"
      ]
     },
     "execution_count": 8,
     "metadata": {},
     "output_type": "execute_result"
    }
   ],
   "source": [
    "pendulum.now()"
   ]
  },
  {
   "cell_type": "markdown",
   "metadata": {},
   "source": [
    "# 日付を読み取りたい"
   ]
  },
  {
   "cell_type": "markdown",
   "metadata": {},
   "source": [
    "``pendulum.parse``で一般的な日付フォーマットをパースできます。\n",
    "タイムゾーンが指定されていない場合は、``UTC``になります。"
   ]
  },
  {
   "cell_type": "code",
   "execution_count": 10,
   "metadata": {},
   "outputs": [
    {
     "data": {
      "text/plain": [
       "DateTime(2022, 9, 26, 17, 0, 0, tzinfo=Timezone('UTC'))"
      ]
     },
     "execution_count": 10,
     "metadata": {},
     "output_type": "execute_result"
    }
   ],
   "source": [
    "pendulum.parse(\"2022-09-26T17:00:00\")"
   ]
  },
  {
   "cell_type": "markdown",
   "metadata": {},
   "source": [
    "``tz``オプションを使って、タイムゾーンを明示してパースできます。"
   ]
  },
  {
   "cell_type": "code",
   "execution_count": 7,
   "metadata": {},
   "outputs": [
    {
     "data": {
      "text/plain": [
       "DateTime(2022, 9, 26, 17, 0, 0, tzinfo=Timezone('Asia/Tokyo'))"
      ]
     },
     "execution_count": 7,
     "metadata": {},
     "output_type": "execute_result"
    }
   ],
   "source": [
    "pendulum.parse(\"2022-09-26T17:00:00\", tz=\"Asia/Tokyo\")"
   ]
  },
  {
   "cell_type": "markdown",
   "metadata": {},
   "source": [
    "# 独自形式の日付を読み取りたい\n",
    "\n",
    "``pendulum.from_format``で独自形式の日付をパースできます。\n",
    "利用可能な日付トークンは https://pendulum.eustace.io/docs/#tokens を参照してください。"
   ]
  },
  {
   "cell_type": "code",
   "execution_count": 26,
   "metadata": {},
   "outputs": [
    {
     "data": {
      "text/plain": [
       "DateTime(2012, 9, 1, 6, 5, 11, tzinfo=Timezone('+00:00'))"
      ]
     },
     "execution_count": 26,
     "metadata": {},
     "output_type": "execute_result"
    }
   ],
   "source": [
    "pendulum.from_format(\"01/Sep/2012:06:05:11 +0000\", \"DD/MMM/YYYY:HH:mm:ss ZZ\")"
   ]
  },
  {
   "cell_type": "code",
   "execution_count": 21,
   "metadata": {},
   "outputs": [
    {
     "data": {
      "text/plain": [
       "DateTime(2022, 9, 26, 6, 5, 11, tzinfo=Timezone('+09:00'))"
      ]
     },
     "execution_count": 21,
     "metadata": {},
     "output_type": "execute_result"
    }
   ],
   "source": [
    "pendulum.from_format(\"26/Sep/2022:06:05:11 +0900\", \"DD/MMM/YYYY:HH:mm:ss ZZ\")"
   ]
  },
  {
   "cell_type": "markdown",
   "metadata": {},
   "source": [
    "# ISO8601形式に変換する"
   ]
  },
  {
   "cell_type": "markdown",
   "metadata": {},
   "source": [
    "``isoformat``を使うと、ISO8601形式（``YYYY-mm-ddT%HH:MM:SS+Z``）に簡単に変換できます。\n",
    "また、さまざまな表示形式に出力できます。"
   ]
  },
  {
   "cell_type": "code",
   "execution_count": 22,
   "metadata": {},
   "outputs": [
    {
     "data": {
      "text/plain": [
       "'2022-09-26T17:00:00+00:00'"
      ]
     },
     "execution_count": 22,
     "metadata": {},
     "output_type": "execute_result"
    }
   ],
   "source": [
    "dt = pendulum.parse(\"2022-09-26T17:00:00\")\n",
    "dt.isoformat()"
   ]
  },
  {
   "cell_type": "code",
   "execution_count": 23,
   "metadata": {},
   "outputs": [
    {
     "data": {
      "text/plain": [
       "'2022-09-26T06:05:11+09:00'"
      ]
     },
     "execution_count": 23,
     "metadata": {},
     "output_type": "execute_result"
    }
   ],
   "source": [
    "dt = pendulum.from_format(\"26/Sep/2022:06:05:11 +0900\", \"DD/MMM/YYYY:HH:mm:ss ZZ\")\n",
    "dt.to_iso8601_string()"
   ]
  },
  {
   "cell_type": "code",
   "execution_count": null,
   "metadata": {},
   "outputs": [],
   "source": []
  }
 ],
 "metadata": {
  "kernelspec": {
   "display_name": "Python 3.10.8 ('.venv': poetry)",
   "language": "python",
   "name": "python3"
  },
  "language_info": {
   "codemirror_mode": {
    "name": "ipython",
    "version": 3
   },
   "file_extension": ".py",
   "mimetype": "text/x-python",
   "name": "python",
   "nbconvert_exporter": "python",
   "pygments_lexer": "ipython3",
   "version": "3.12.1"
  },
  "orig_nbformat": 4,
  "vscode": {
   "interpreter": {
    "hash": "360e5ca6cf1c60703a2fbe4bde1ece66bdad26ce40d180d277bb3a5f90d9bfe9"
   }
  }
 },
 "nbformat": 4,
 "nbformat_minor": 2
}

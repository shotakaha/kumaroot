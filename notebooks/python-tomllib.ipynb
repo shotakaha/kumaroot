{
 "cells": [
  {
   "cell_type": "markdown",
   "metadata": {},
   "source": [
    "# TOMLしたい（`tomllib`）\n",
    "\n",
    "- `tomllib`はPython3.11で追加されたTOMLパーサー\n",
    "- https://docs.python.org/3/library/tomllib.html\n",
    "- https://toml.io/en/"
   ]
  },
  {
   "cell_type": "code",
   "execution_count": null,
   "metadata": {},
   "outputs": [],
   "source": [
    "import tomllib"
   ]
  },
  {
   "cell_type": "code",
   "execution_count": null,
   "metadata": {},
   "outputs": [],
   "source": [
    "s = \"\"\"\n",
    "integer = 1\n",
    "string = \"two\"\n",
    "number = 3.0\n",
    "\"\"\"\n",
    "\n",
    "tomllib.loads(s)"
   ]
  },
  {
   "cell_type": "markdown",
   "metadata": {},
   "source": [
    "リスト"
   ]
  },
  {
   "cell_type": "code",
   "execution_count": null,
   "metadata": {},
   "outputs": [],
   "source": [
    "s = \"\"\"\n",
    "integers = [1, 2, 3]\n",
    "colors = [ \"red\", \"yellow\", \"green\" ]\n",
    "nested_arrays_of_ints = [ [ 1, 2 ], [3, 4, 5] ]\n",
    "nested_mixed_array = [ [ 1, 2 ], [\"a\", \"b\", \"c\"] ]\n",
    "string_array = [ \"all\", 'strings', '''are the same''', '''type''' ]\n",
    "numbers = [ 0.1, 0.2, 0.5, 1, 2, 5 ]\n",
    "\"\"\"\n",
    "\n",
    "tomllib.loads(s)"
   ]
  },
  {
   "cell_type": "markdown",
   "metadata": {},
   "source": [
    "テーブル"
   ]
  },
  {
   "cell_type": "code",
   "execution_count": null,
   "metadata": {},
   "outputs": [],
   "source": [
    "s = \"\"\"\n",
    "# Top-level table begins.\n",
    "name = \"Fido\"\n",
    "breed = \"pug\"\n",
    "\n",
    "# Top-level table ends.\n",
    "[owner]\n",
    "name = \"Regina Dogman\"\n",
    "member_since = 1999-08-04\n",
    "\n",
    "[table-1]\n",
    "key1 = \"some string\"\n",
    "key2 = 123\n",
    "\n",
    "[table-2]\n",
    "key1 = \"another string\"\n",
    "key2 = 456\n",
    "\"\"\"\n",
    "\n",
    "tomllib.loads(s)"
   ]
  },
  {
   "cell_type": "markdown",
   "metadata": {},
   "source": [
    "インライン・テーブル\n",
    "\n",
    "- テーブルとインライン・テーブルは互換性がある\n",
    "- どちらで書いてもよい"
   ]
  },
  {
   "cell_type": "code",
   "execution_count": null,
   "metadata": {},
   "outputs": [],
   "source": [
    "s = \"\"\"\n",
    "# インライン・テーブル\n",
    "name = { first = \"Tom\", last = \"Preston-Werner\" }\n",
    "point = { x = 1, y = 2 }\n",
    "\n",
    "# テーブル\n",
    "[animal]\n",
    "type.name = \"pug\" \n",
    "\"\"\"\n",
    "\n",
    "tomllib.loads(s)"
   ]
  },
  {
   "cell_type": "markdown",
   "metadata": {},
   "source": [
    "テーブルの中の配列\n",
    "\n",
    "```python\n",
    "{\"key\": [\n",
    "    {\"k1\": \"v1\"},\n",
    "    {\"k2\": \"v2\"}\n",
    "    ]\n",
    "}\n",
    "```"
   ]
  },
  {
   "cell_type": "code",
   "execution_count": null,
   "metadata": {},
   "outputs": [],
   "source": [
    "s = \"\"\"\n",
    "[[products]]\n",
    "name = \"Hammer\"\n",
    "sku = 738594937\n",
    "\n",
    "[[products]]  # empty table within the array\n",
    "\n",
    "[[products]]\n",
    "name = \"Nail\"\n",
    "sku = 284758393\n",
    "\n",
    "color = \"gray\"\n",
    "\"\"\"\n",
    "\n",
    "tomllib.loads(s)"
   ]
  }
 ],
 "metadata": {
  "kernelspec": {
   "display_name": ".venv",
   "language": "python",
   "name": "python3"
  },
  "language_info": {
   "codemirror_mode": {
    "name": "ipython",
    "version": 3
   },
   "file_extension": ".py",
   "mimetype": "text/x-python",
   "name": "python",
   "nbconvert_exporter": "python",
   "pygments_lexer": "ipython3",
   "version": "3.11.10"
  }
 },
 "nbformat": 4,
 "nbformat_minor": 2
}

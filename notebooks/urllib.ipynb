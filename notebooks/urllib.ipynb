{
 "cells": [
  {
   "cell_type": "markdown",
   "metadata": {},
   "source": [
    "# URL操作したい\n",
    "\n",
    "- `URL`の構成要素\n",
    "  - `scheme://netloc/path;parameters?query#fragment`"
   ]
  },
  {
   "cell_type": "code",
   "execution_count": null,
   "metadata": {},
   "outputs": [],
   "source": [
    "TEST_URL = (\n",
    "    \"https://example.com/path1/path2/path3.html?key1=value1&key2=value2#fragment1\"\n",
    ")"
   ]
  },
  {
   "cell_type": "markdown",
   "metadata": {},
   "source": [
    "# urlparse\n",
    "\n",
    "- `urlparse`でURLをパースできる\n",
    "- `urlparse` -> `ParseResult`が返ってくる\n",
    "- `ParseResult`はnamed tupleみたいなオブジェクト\n",
    "- URLにアクセスせずにURLを操作できる"
   ]
  },
  {
   "cell_type": "code",
   "execution_count": null,
   "metadata": {},
   "outputs": [],
   "source": [
    "from urllib.parse import urlparse\n",
    "\n",
    "p = urlparse(url=TEST_URL)\n",
    "print(f\"{p=}\")\n",
    "print(f\"{p.scheme=}\")\n",
    "print(f\"{p.netloc=}\")\n",
    "print(f\"{p.path=}\")\n",
    "print(f\"{p.params=}\")\n",
    "print(f\"{p.query=}\")\n",
    "print(f\"{p.fragment=}\")"
   ]
  },
  {
   "cell_type": "markdown",
   "metadata": {},
   "source": [
    "`allow_fragments=False`にすると、フラグメントはクエリに含まれる"
   ]
  },
  {
   "cell_type": "code",
   "execution_count": null,
   "metadata": {},
   "outputs": [],
   "source": [
    "p = urlparse(url=TEST_URL, allow_fragments=False)\n",
    "# print(f\"{p=}\")\n",
    "print(f\"{p.query=}\")\n",
    "print(f\"{p.fragment=}\")"
   ]
  },
  {
   "cell_type": "markdown",
   "metadata": {},
   "source": [
    "# urlsplit\n",
    "\n",
    "- `urlsplit`でURLを分割できる\n",
    "- `urlsplit` -> `SplitResult`オブジェクト\n",
    "- `SplitResult`も named tuple みたいなオブジェクト"
   ]
  },
  {
   "cell_type": "code",
   "execution_count": null,
   "metadata": {},
   "outputs": [],
   "source": [
    "from urllib.parse import urlsplit\n",
    "\n",
    "s = urlsplit(url=TEST_URL)\n",
    "print(f\"{s=}\")\n",
    "print(f\"{s.scheme=}\")\n",
    "print(f\"{s.netloc=}\")\n",
    "print(f\"{s.path=}\")\n",
    "print(f\"{s.query=}\")\n",
    "print(f\"{s.fragment=}\")"
   ]
  },
  {
   "cell_type": "markdown",
   "metadata": {},
   "source": [
    "# urldefrag\n",
    "\n",
    "- `urldefrag`でフラグメントを抽出できる\n",
    "- `urldefrag` -> `DefragResult`オブジェクト\n",
    "- `DefragResult`もnamed tupleみたいなオブジェクト\n",
    "- フラグメントを抽出するだけなので、あまり使い所がわからない"
   ]
  },
  {
   "cell_type": "code",
   "execution_count": null,
   "metadata": {},
   "outputs": [],
   "source": [
    "from urllib.parse import urldefrag\n",
    "\n",
    "d = urldefrag(url=TEST_URL)\n",
    "print(f\"{d=}\")"
   ]
  },
  {
   "cell_type": "markdown",
   "metadata": {},
   "source": [
    "# parse_qs\n",
    "\n",
    "- `parse_qs`でクエリを辞書型に変換できる\n",
    "- `parse_qsl`でクエリをリスト型に変換できる"
   ]
  },
  {
   "cell_type": "code",
   "execution_count": null,
   "metadata": {},
   "outputs": [],
   "source": [
    "from urllib.parse import parse_qs, parse_qsl\n",
    "\n",
    "p = urlparse(url=TEST_URL)\n",
    "s = urlsplit(url=TEST_URL)"
   ]
  },
  {
   "cell_type": "code",
   "execution_count": null,
   "metadata": {},
   "outputs": [],
   "source": [
    "parse_qs(p.query)"
   ]
  },
  {
   "cell_type": "code",
   "execution_count": null,
   "metadata": {},
   "outputs": [],
   "source": [
    "parse_qs(s.query)"
   ]
  },
  {
   "cell_type": "code",
   "execution_count": null,
   "metadata": {},
   "outputs": [],
   "source": [
    "parse_qsl(p.query)"
   ]
  },
  {
   "cell_type": "markdown",
   "metadata": {},
   "source": [
    "# urlencode"
   ]
  },
  {
   "cell_type": "markdown",
   "metadata": {},
   "source": [
    "- `urlencode`で辞書型／リスト型のクエリを文字列に戻すことができる"
   ]
  },
  {
   "cell_type": "code",
   "execution_count": null,
   "metadata": {},
   "outputs": [],
   "source": [
    "from urllib.parse import urlencode\n",
    "\n",
    "q = {\"key1\": \"value1\", \"key2\": \"value2\", \"key3\": \"value3\"}\n",
    "\n",
    "urlencode(query=q)"
   ]
  },
  {
   "cell_type": "code",
   "execution_count": null,
   "metadata": {},
   "outputs": [],
   "source": [
    "from urllib.parse import urlencode\n",
    "\n",
    "q = [(\"key1\", \"value1\"), (\"key2\", \"value2\"), (\"key3\", \"value3\")]\n",
    "\n",
    "urlencode(query=q)"
   ]
  },
  {
   "cell_type": "markdown",
   "metadata": {},
   "source": [
    "`parse_qs` / `parse_qsl`したオブジェクトを復元できる"
   ]
  },
  {
   "cell_type": "code",
   "execution_count": null,
   "metadata": {},
   "outputs": [],
   "source": [
    "q = parse_qs(p.query)\n",
    "print(f\"{q=}\")\n",
    "urlencode(q, doseq=True)"
   ]
  },
  {
   "cell_type": "code",
   "execution_count": null,
   "metadata": {},
   "outputs": [],
   "source": [
    "q = parse_qsl(p.query)\n",
    "print(f\"{q=}\")\n",
    "urlencode(q, doseq=True)"
   ]
  },
  {
   "cell_type": "markdown",
   "metadata": {},
   "source": [
    "# Requestsを組み合わせる\n",
    "\n",
    "- `parse_qs` / `parse_qsl`で得られたオブジェクトは、`requests.get`の`params`オプションにそのまま渡すことができる"
   ]
  },
  {
   "cell_type": "code",
   "execution_count": null,
   "metadata": {},
   "outputs": [],
   "source": [
    "import requests\n",
    "\n",
    "response = requests.get(url=\"https://httpbin.org/get\", params=parse_qs(s.query))\n",
    "response.url"
   ]
  },
  {
   "cell_type": "code",
   "execution_count": null,
   "metadata": {},
   "outputs": [],
   "source": [
    "response = requests.get(url=\"https://httpbin.org/get\", params=parse_qsl(s.query))\n",
    "response.url"
   ]
  }
 ],
 "metadata": {
  "jupytext": {
   "formats": "notebooks//ipynb,mystmd//md:myst,scripts//py:light"
  },
  "kernelspec": {
   "display_name": ".venv",
   "language": "python",
   "name": "python3"
  },
  "language_info": {
   "codemirror_mode": {
    "name": "ipython",
    "version": 3
   },
   "file_extension": ".py",
   "mimetype": "text/x-python",
   "name": "python",
   "nbconvert_exporter": "python",
   "pygments_lexer": "ipython3",
   "version": "3.11.10"
  }
 },
 "nbformat": 4,
 "nbformat_minor": 2
}

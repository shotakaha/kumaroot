{
 "cells": [
  {
   "cell_type": "markdown",
   "id": "b10c68c0",
   "metadata": {},
   "source": [
    "# Sandbox of KumaROOT\n",
    "\n",
    "各種パッケージの使いかたを、Jupyter Notebooksを使って確認するスペースです。\n",
    "ファイル名は``パッケージ名.ipynb``として、基本的な使い方を確認しています。\n",
    "確認結果は``mystmd``を使ってノートブックをそのままHTMLに変換しています。"
   ]
  }
 ],
 "metadata": {
  "jupytext": {
   "cell_metadata_filter": "-all",
   "main_language": "python",
   "notebook_metadata_filter": "-all"
  }
 },
 "nbformat": 4,
 "nbformat_minor": 5
}

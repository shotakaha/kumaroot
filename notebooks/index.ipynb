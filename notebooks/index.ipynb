{
 "cells": [
  {
   "cell_type": "markdown",
   "id": "150ff4b1",
   "metadata": {},
   "source": []
  },
  {
   "cell_type": "markdown",
   "id": "0",
   "metadata": {},
   "source": [
    "+++\n",
    "\n",
    "# Sandbox of KumaROOT\n",
    "\n",
    "各種パッケージの使いかたを、Jupyter Notebooksを使って確認するスペースです。\n",
    "ファイル名は``パッケージ名.ipynb``として、基本的な使い方を確認しています。\n",
    "確認結果は``mystmd``を使ってノートブックをそのままHTMLに変換しています。"
   ]
  }
 ],
 "metadata": {
  "jupytext": {
   "cell_metadata_filter": "-all",
   "main_language": "python",
   "notebook_metadata_filter": "-all"
  }
 },
 "nbformat": 4,
 "nbformat_minor": 5
}

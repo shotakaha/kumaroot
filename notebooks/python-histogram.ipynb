{
 "cells": [
  {
   "cell_type": "markdown",
   "id": "29edaf78",
   "metadata": {},
   "source": [
    "Pythonには多数の可視化パッケージがあります。\n",
    "以下のパッケージを使って、ヒストグラム（度数分布）を作成する方法を比較します。\n",
    "\n",
    "# 比較するライブラリ\n",
    "\n",
    "- `matplotlib`\n",
    "- `seaborn`\n",
    "- `altair`\n",
    "- `plotly`\n",
    "- `hvplot`"
   ]
  },
  {
   "cell_type": "code",
   "execution_count": null,
   "id": "f9e4660d",
   "metadata": {},
   "outputs": [],
   "source": [
    "# 前提とするデータ\n",
    "import pandas as pd\n",
    "import numpy as np\n",
    "\n",
    "values = np.random.normal(loc=0, scale=1, size=1000)\n",
    "df = pd.DataFrame({\"value\": values})"
   ]
  },
  {
   "cell_type": "markdown",
   "id": "2854cbf5",
   "metadata": {},
   "source": [
    "# Matplotlib"
   ]
  },
  {
   "cell_type": "code",
   "execution_count": null,
   "id": "bad1b78d",
   "metadata": {},
   "outputs": [
    {
     "data": {
      "image/png": "[encoded data removed]",
      "text/plain": [
       "<Figure size 640x480 with 1 Axes>"
      ]
     },
     "metadata": {},
     "output_type": "display_data"
    }
   ],
   "source": [
    "import matplotlib.pyplot as plt\n",
    "\n",
    "plt.hist(df[\"value\"], bins=30, color=\"skyblue\", edgecolor=\"black\")\n",
    "plt.title(\"Histogram (Matplotlib)\")\n",
    "plt.xlabel(\"Value\")\n",
    "plt.ylabel(\"Frequency\")\n",
    "plt.grid(True)\n",
    "\n",
    "plt.savefig(\"python-histogram-matplotlib.png\", dpi=300, bbox_inches=\"tight\")\n",
    "\n",
    "# showする前にsavefigが必要\n",
    "plt.show()\n",
    "plt.close()"
   ]
  },
  {
   "cell_type": "markdown",
   "id": "90d65544",
   "metadata": {},
   "source": [
    "# Seaborn"
   ]
  },
  {
   "cell_type": "code",
   "execution_count": 14,
   "id": "d19be0c8",
   "metadata": {},
   "outputs": [],
   "source": [
    "# import seaborn as sns\n",
    "# import matplotlib.pyplot as plt\n"
   ]
  },
  {
   "cell_type": "markdown",
   "id": "1b25174a",
   "metadata": {},
   "source": [
    "# Altair\n",
    "\n",
    "`altair`は`Vega-Lite`をベースにした可視化パッケージです。\n",
    "宣言的に書くことができ可読性が高いです。\n",
    "ただし、コードが長くなってしまいます。\n",
    "また、5000行以上のデータは制限があります。"
   ]
  },
  {
   "cell_type": "code",
   "execution_count": null,
   "id": "7268607c",
   "metadata": {},
   "outputs": [
    {
     "data": {
      "text/html": [
       "\n",
       "<style>\n",
       "  #altair-viz-1cd7e7175d604915be07ea6d524b1856.vega-embed {\n",
       "    width: 100%;\n",
       "    display: flex;\n",
       "  }\n",
       "\n",
       "  #altair-viz-1cd7e7175d604915be07ea6d524b1856.vega-embed details,\n",
       "  #altair-viz-1cd7e7175d604915be07ea6d524b1856.vega-embed details summary {\n",
       "    position: relative;\n",
       "  }\n",
       "</style>\n",
       "<div id=\"altair-viz-1cd7e7175d604915be07ea6d524b1856\"></div>\n",
       "<script type=\"text/javascript\">\n",
       "  var VEGA_DEBUG = (typeof VEGA_DEBUG == \"undefined\") ? {} : VEGA_DEBUG;\n",
       "  (function(spec, embedOpt){\n",
       "    let outputDiv = document.currentScript.previousElementSibling;\n",
       "    if (outputDiv.id !== \"altair-viz-1cd7e7175d604915be07ea6d524b1856\") {\n",
       "      outputDiv = document.getElementById(\"altair-viz-1cd7e7175d604915be07ea6d524b1856\");\n",
       "    }\n",
       "\n",
       "    const paths = {\n",
       "      \"vega\": \"https://cdn.jsdelivr.net/npm/vega@5?noext\",\n",
       "      \"vega-lib\": \"https://cdn.jsdelivr.net/npm/vega-lib?noext\",\n",
       "      \"vega-lite\": \"https://cdn.jsdelivr.net/npm/vega-lite@5.20.1?noext\",\n",
       "      \"vega-embed\": \"https://cdn.jsdelivr.net/npm/vega-embed@6?noext\",\n",
       "    };\n",
       "\n",
       "    function maybeLoadScript(lib, version) {\n",
       "      var key = `${lib.replace(\"-\", \"\")}_version`;\n",
       "      return (VEGA_DEBUG[key] == version) ?\n",
       "        Promise.resolve(paths[lib]) :\n",
       "        new Promise(function(resolve, reject) {\n",
       "          var s = document.createElement('script');\n",
       "          document.getElementsByTagName(\"head\")[0].appendChild(s);\n",
       "          s.async = true;\n",
       "          s.onload = () => {\n",
       "            VEGA_DEBUG[key] = version;\n",
       "            return resolve(paths[lib]);\n",
       "          };\n",
       "          s.onerror = () => reject(`Error loading script: ${paths[lib]}`);\n",
       "          s.src = paths[lib];\n",
       "        });\n",
       "    }\n",
       "\n",
       "    function showError(err) {\n",
       "      outputDiv.innerHTML = `<div class=\"error\" style=\"color:red;\">${err}</div>`;\n",
       "      throw err;\n",
       "    }\n",
       "\n",
       "    function displayChart(vegaEmbed) {\n",
       "      vegaEmbed(outputDiv, spec, embedOpt)\n",
       "        .catch(err => showError(`Javascript Error: ${err.message}<br>This usually means there's a typo in your chart specification. See the javascript console for the full traceback.`));\n",
       "    }\n",
       "\n",
       "    if(typeof define === \"function\" && define.amd) {\n",
       "      requirejs.config({paths});\n",
       "      let deps = [\"vega-embed\"];\n",
       "      require(deps, displayChart, err => showError(`Error loading script: ${err.message}`));\n",
       "    } else {\n",
       "      maybeLoadScript(\"vega\", \"5\")\n",
       "        .then(() => maybeLoadScript(\"vega-lite\", \"5.20.1\"))\n",
       "        .then(() => maybeLoadScript(\"vega-embed\", \"6\"))\n",
       "        .catch(showError)\n",
       "        .then(() => displayChart(vegaEmbed));\n",
       "    }\n",
       "  })({\"config\": {\"view\": {\"continuousWidth\": 300, \"continuousHeight\": 300}}, \"data\": {\"name\": \"data-7a9b5ed33ba14628ea374e0a2f7782eb\"}, \"mark\": {\"type\": \"bar\"}, \"encoding\": {\"x\": {\"bin\": {\"maxbins\": 30}, \"field\": \"value\", \"type\": \"quantitative\"}, \"y\": {\"aggregate\": \"count\", \"type\": \"quantitative\"}}, \"title\": \"Histogram (Altair)\", \"$schema\": \"https://vega.github.io/schema/vega-lite/v5.20.1.json\", \"datasets\": {\"data-7a9b5ed33ba14628ea374e0a2f7782eb\": [{\"value\": -1.7256664437595859}, {\"value\": 0.21477580786119094}, {\"value\": -0.2618757902921609}, {\"value\": 0.38600717369613174}, {\"value\": -1.3135119134420714}, {\"value\": -0.487891907093115}, {\"value\": 0.16442389481614098}, {\"value\": 0.9517086338346132}, {\"value\": -0.10473178509199409}, {\"value\": -1.3352269466846103}, {\"value\": -0.6885511825602614}, {\"value\": -0.420633867550351}, {\"value\": 0.8447293078705337}, {\"value\": -0.9687497554303389}, {\"value\": 1.1092350744778179}, {\"value\": 1.0341567823522475}, {\"value\": -1.0992956187889076}, {\"value\": 0.9000330307940375}, {\"value\": 0.3371600002361563}, {\"value\": -1.1861660329733557}, {\"value\": 0.7981926955230934}, {\"value\": -0.5096899348597514}, {\"value\": 0.3216017167471969}, {\"value\": 0.1798268084910588}, {\"value\": 0.1326882655886089}, {\"value\": -1.1074846497503532}, {\"value\": 0.2856801969884962}, {\"value\": -0.5824607020864493}, {\"value\": 0.644419583129915}, {\"value\": 0.23068351084590366}, {\"value\": -1.2124380110919386}, {\"value\": -0.7542728118956012}, {\"value\": 0.45081815939020053}, {\"value\": 1.5477670760443687}, {\"value\": -0.35371107612333785}, {\"value\": 1.349802925190835}, {\"value\": -1.0664480769388556}, {\"value\": -0.2881680725321529}, {\"value\": 1.2681468945850836}, {\"value\": -0.24415101698422972}, {\"value\": 1.7103452086779838}, {\"value\": -1.1884025210543807}, {\"value\": -1.1726069692606782}, {\"value\": -0.24500971220419424}, {\"value\": 2.729381567030969}, {\"value\": 0.35882522121283517}, {\"value\": -1.4790799424396281}, {\"value\": 0.27714074235081076}, {\"value\": -1.7947456650670577}, {\"value\": -1.4624535338936313}, {\"value\": 1.7479547536238855}, {\"value\": -2.6653743375419996}, {\"value\": 0.48718359595367516}, {\"value\": -1.4738988141704963}, {\"value\": 0.20982238912040435}, {\"value\": -0.20221978089459744}, {\"value\": 0.7198024389146098}, {\"value\": 2.1054890770436647}, {\"value\": -1.2182691157073842}, {\"value\": 1.1809959531415297}, {\"value\": -1.511457671382658}, {\"value\": -0.3682016352782411}, {\"value\": 1.111644061251768}, {\"value\": 0.2679994856741033}, {\"value\": 0.3295910235182377}, {\"value\": -0.002956011037599402}, {\"value\": 1.109679140086178}, {\"value\": -0.1850602597634465}, {\"value\": -0.7729900960144168}, {\"value\": 1.4460388341786723}, {\"value\": 1.732470744270797}, {\"value\": -0.8100056629788149}, {\"value\": -0.0021361585966607356}, {\"value\": 0.8768139025427647}, {\"value\": -0.5088425749025716}, {\"value\": 0.1775460546404518}, {\"value\": 0.09780307459218489}, {\"value\": 1.3180020643095518}, {\"value\": 1.6274190561515436}, {\"value\": -1.8751319249584206}, {\"value\": -0.15407113457712673}, {\"value\": -0.307876478872568}, {\"value\": 0.27780602830545753}, {\"value\": 1.422318156288908}, {\"value\": -1.190100833609265}, {\"value\": 1.382280615868598}, {\"value\": 1.0082511556328853}, {\"value\": -1.0243638986025574}, {\"value\": -0.1559574244565715}, {\"value\": -0.6134563164481494}, {\"value\": -0.7189001350409542}, {\"value\": 1.9685446893334064}, {\"value\": -1.0191987586353541}, {\"value\": -0.4131468404383746}, {\"value\": 0.0007149890379075971}, {\"value\": 0.12143926504187635}, {\"value\": 0.8901401233724061}, {\"value\": 0.8234216356550909}, {\"value\": 0.13248003798561167}, {\"value\": -0.42918915807043423}, {\"value\": 1.6093970635484707}, {\"value\": -0.17483720706425157}, {\"value\": -1.076237988181782}, {\"value\": -0.48177820444637426}, {\"value\": 0.25198667747943254}, {\"value\": -1.5518565097526476}, {\"value\": -0.41099247347338924}, {\"value\": 0.5985858049511718}, {\"value\": -0.7224923428279882}, {\"value\": 1.2557313853624072}, {\"value\": 0.2349947025359673}, {\"value\": -0.8934846604011423}, {\"value\": -0.7002915961249085}, {\"value\": -0.6391321008079589}, {\"value\": 0.5885088162623188}, {\"value\": 0.9609355542572924}, {\"value\": 1.0777136080445853}, {\"value\": -0.5676977774346093}, {\"value\": 0.015012134066135814}, {\"value\": 0.8033520416661639}, {\"value\": 0.009552113249173053}, {\"value\": -0.7225672147402324}, {\"value\": 1.3672457704690968}, {\"value\": -1.3366099870130146}, {\"value\": -0.7865090998494245}, {\"value\": -1.947979549577345}, {\"value\": 0.9397934969434368}, {\"value\": 0.6979869497655979}, {\"value\": -1.2413756834597665}, {\"value\": -0.11514090140048974}, {\"value\": -0.7896580977452867}, {\"value\": -0.09159501936497501}, {\"value\": -0.3363162032924959}, {\"value\": 0.163012067146243}, {\"value\": -1.6336930499457596}, {\"value\": -0.8564615767826944}, {\"value\": -0.384449588493858}, {\"value\": 0.42860145808766964}, {\"value\": -0.40355357454039}, {\"value\": -0.4044811514624652}, {\"value\": 1.0299345755882177}, {\"value\": -0.19663367781439497}, {\"value\": 0.29874095694617137}, {\"value\": 0.8191318720084297}, {\"value\": 0.39096928797608227}, {\"value\": -1.4659606067620397}, {\"value\": -1.1839360709331312}, {\"value\": -0.5697192287176648}, {\"value\": -0.881032358756112}, {\"value\": 0.5786972482152173}, {\"value\": 0.07710920419216412}, {\"value\": -0.6346349582015881}, {\"value\": -1.6016664604112334}, {\"value\": 0.9353146339502021}, {\"value\": -0.8840040374182633}, {\"value\": 2.228399461197812}, {\"value\": -0.8466838849724045}, {\"value\": -2.473646084967099}, {\"value\": -1.490507921205101}, {\"value\": -2.030659491609441}, {\"value\": 0.9407551746196621}, {\"value\": -0.47135467787896435}, {\"value\": -0.6894122605616213}, {\"value\": -1.0539841478858663}, {\"value\": 1.07974169120374}, {\"value\": 0.5332205752477205}, {\"value\": 0.21503638860553315}, {\"value\": -1.5703107758697947}, {\"value\": 0.6350573240005272}, {\"value\": -0.7392033152619288}, {\"value\": 0.8462668373644533}, {\"value\": 0.9271404429796074}, {\"value\": -0.9061967494398152}, {\"value\": 2.1458947887312}, {\"value\": 0.3352296519905479}, {\"value\": 0.7163162460218984}, {\"value\": -0.021529673631374712}, {\"value\": -0.902810841155848}, {\"value\": 0.5350171276777478}, {\"value\": 0.5827673953746622}, {\"value\": -0.9428993846732245}, {\"value\": -0.29220304045957135}, {\"value\": -0.15151999567441182}, {\"value\": 1.056431663329181}, {\"value\": -1.1185451659244798}, {\"value\": -0.7051126183749631}, {\"value\": 0.24759981135641368}, {\"value\": -1.531027404494486}, {\"value\": -0.09293365650257883}, {\"value\": 0.015561124915701663}, {\"value\": -0.4118277987860018}, {\"value\": -1.0337053875348547}, {\"value\": 0.47931349312140387}, {\"value\": 0.526687542996781}, {\"value\": 0.8727740618234827}, {\"value\": 0.30310165253199756}, {\"value\": -1.4527378222617375}, {\"value\": -1.1240890687565566}, {\"value\": 1.0847151741291243}, {\"value\": -0.32251593807630735}, {\"value\": -0.144174686755117}, {\"value\": 0.538060128463965}, {\"value\": 0.8970320781131247}, {\"value\": -0.33574120164156884}, {\"value\": 1.2067268317613575}, {\"value\": 3.114584665815011}, {\"value\": 0.14685347941128093}, {\"value\": 0.7556686270661666}, {\"value\": 1.391564750967495}, {\"value\": -0.047449720995134094}, {\"value\": -0.22385055725905878}, {\"value\": -0.2499952276664183}, {\"value\": 0.008363387284643241}, {\"value\": -2.4992673098750293}, {\"value\": -0.11855235301119638}, {\"value\": 1.7475028151368852}, {\"value\": -0.5574661968234392}, {\"value\": 1.3985143283128474}, {\"value\": -0.14166981695072145}, {\"value\": -0.9007949552545617}, {\"value\": -1.071164975897105}, {\"value\": 0.7909257682186993}, {\"value\": -1.7066505123772888}, {\"value\": -1.3086935539960878}, {\"value\": 0.35538545200101584}, {\"value\": 0.3571590397457269}, {\"value\": -1.0180723002893934}, {\"value\": 1.408413407616383}, {\"value\": -1.4517215139609838}, {\"value\": -0.8575231557589085}, {\"value\": -1.7021932197790706}, {\"value\": -0.641048723412264}, {\"value\": -0.6486441072826404}, {\"value\": 0.9018402880337654}, {\"value\": 2.2410596793384387}, {\"value\": -0.9132812707318027}, {\"value\": -0.7737435657711618}, {\"value\": -0.1808614335058796}, {\"value\": -1.5870576681344273}, {\"value\": 0.48847957027289185}, {\"value\": -0.7136527979783468}, {\"value\": -0.9846568137764987}, {\"value\": 0.5013679718652608}, {\"value\": -1.8002090782304894}, {\"value\": -0.6212597402094979}, {\"value\": -0.6599509417093244}, {\"value\": -0.2892264563839716}, {\"value\": 2.0249998143550205}, {\"value\": 1.9000223733195278}, {\"value\": 1.3197501566206198}, {\"value\": -0.9676780425033404}, {\"value\": 0.6931512312215784}, {\"value\": 0.38080950187927726}, {\"value\": 0.8510417607243556}, {\"value\": -0.43745403996262466}, {\"value\": -1.1566173140992964}, {\"value\": -1.3399897267619647}, {\"value\": 1.0861296754031116}, {\"value\": 0.14171281994215612}, {\"value\": 1.3607815048462637}, {\"value\": 0.033738033896463175}, {\"value\": 0.19621220876366524}, {\"value\": 0.17980291466084666}, {\"value\": 0.1898381969503909}, {\"value\": 0.6436809356065746}, {\"value\": -1.1890797462033358}, {\"value\": 1.3533068453327317}, {\"value\": -0.951182753878511}, {\"value\": -2.882879237533296}, {\"value\": 0.10193295171458508}, {\"value\": 0.24078775142545722}, {\"value\": 1.3529010375978263}, {\"value\": -0.011782691055261816}, {\"value\": 1.3378737468404012}, {\"value\": 1.388605952218795}, {\"value\": 0.9001161578222797}, {\"value\": 0.2861239796466417}, {\"value\": 0.7651765529212075}, {\"value\": -0.07590115140162264}, {\"value\": 1.6433101189535357}, {\"value\": -1.101291471590557}, {\"value\": -0.18081147982663465}, {\"value\": 0.6707857899935377}, {\"value\": 0.297460554534407}, {\"value\": 0.8055454844356541}, {\"value\": -1.1820029785938277}, {\"value\": -0.5326952778077357}, {\"value\": -0.7055645834857885}, {\"value\": -0.7918554050483078}, {\"value\": 1.0614249655251629}, {\"value\": -0.8514603518408794}, {\"value\": -1.322400491518346}, {\"value\": -1.5468921407214717}, {\"value\": 1.5989685467464823}, {\"value\": 1.2742031740640434}, {\"value\": -1.1127387095079122}, {\"value\": 1.6346563746329383}, {\"value\": 0.4089508887105758}, {\"value\": 0.31907843860967416}, {\"value\": 0.023817962256116446}, {\"value\": 0.370385556109761}, {\"value\": 0.16633501832963454}, {\"value\": 1.306339315987738}, {\"value\": -1.5839646266008411}, {\"value\": -0.12925624546356984}, {\"value\": -0.4032093532783509}, {\"value\": 0.8008646208389998}, {\"value\": -1.0453820834588037}, {\"value\": 1.168007389972892}, {\"value\": 1.541344024454772}, {\"value\": -0.9503734916999484}, {\"value\": -0.04000867279007125}, {\"value\": 0.043987486906620035}, {\"value\": 0.08922456006456583}, {\"value\": -0.7054269685700743}, {\"value\": -1.193123113492903}, {\"value\": -1.1981124114485269}, {\"value\": -1.6199337551113424}, {\"value\": -0.5114787744751506}, {\"value\": -0.8784645529162172}, {\"value\": -0.714419222414726}, {\"value\": -0.6135121433424444}, {\"value\": 0.08539487378762632}, {\"value\": 0.44601172219322643}, {\"value\": 1.1468052147631373}, {\"value\": -0.29346759418073054}, {\"value\": 1.025751610618857}, {\"value\": 0.4134813905514542}, {\"value\": -1.483468256512045}, {\"value\": -0.24926533587364813}, {\"value\": -1.4352832384342398}, {\"value\": 1.1200521834321069}, {\"value\": 1.3592206540975642}, {\"value\": 0.07687264368861428}, {\"value\": 0.5112255935182053}, {\"value\": -2.3715234998043386}, {\"value\": -0.9548153465558903}, {\"value\": 0.2207756822685565}, {\"value\": 0.029214915982435388}, {\"value\": -0.9743797233807544}, {\"value\": 1.4856125398832147}, {\"value\": 1.0064614667934149}, {\"value\": -0.3231482906348405}, {\"value\": -0.8323685833632773}, {\"value\": -0.4933447078687169}, {\"value\": -0.8078369229364679}, {\"value\": -0.020733354320700337}, {\"value\": -0.7052552126258889}, {\"value\": -0.8334160048063753}, {\"value\": -0.8056532837908075}, {\"value\": 1.1989273773953193}, {\"value\": -0.06710902094973986}, {\"value\": -0.9996843955304738}, {\"value\": -0.07332085308019097}, {\"value\": -0.2152398553432723}, {\"value\": 0.2953850013269531}, {\"value\": -0.2312600279422502}, {\"value\": -0.27350424837816373}, {\"value\": -1.6536543066244047}, {\"value\": 0.5005417837616447}, {\"value\": 0.1888524207674595}, {\"value\": -1.0399288121035974}, {\"value\": -0.5861931954383044}, {\"value\": -1.092542634485297}, {\"value\": -1.000954824267544}, {\"value\": -1.0943809210347617}, {\"value\": -0.9835911822890792}, {\"value\": 1.3042887852723721}, {\"value\": 0.8672025146946108}, {\"value\": -0.6504171647988852}, {\"value\": -0.5696673961134154}, {\"value\": -0.5097976240977671}, {\"value\": -0.49673480444897}, {\"value\": 0.5049476314546979}, {\"value\": -0.3741107691622952}, {\"value\": 0.43941767099839896}, {\"value\": -1.342870631905214}, {\"value\": 0.13805008769411262}, {\"value\": 1.4499113926463332}, {\"value\": -1.0547745384524014}, {\"value\": -0.06611649117878719}, {\"value\": -1.2904042683237533}, {\"value\": -0.19870706626873064}, {\"value\": -2.252740143270524}, {\"value\": -1.3514610929688389}, {\"value\": -1.5918530304874459}, {\"value\": 1.5704747701799198}, {\"value\": 1.9579407684142742}, {\"value\": -0.3838424691544459}, {\"value\": 0.5867481294875266}, {\"value\": -0.0717793446643949}, {\"value\": 1.5589559150639931}, {\"value\": -0.6396691742949174}, {\"value\": -1.4531480259137168}, {\"value\": 1.3708189888277693}, {\"value\": -0.08028436651495585}, {\"value\": -0.3357102250080572}, {\"value\": -0.18855246039401993}, {\"value\": -0.255552599060147}, {\"value\": 0.6031326852798702}, {\"value\": 0.8222984775484126}, {\"value\": 2.4014587296141943}, {\"value\": 0.077008266365794}, {\"value\": -2.0101656532424297}, {\"value\": 1.2581958153797608}, {\"value\": 0.5225341361131273}, {\"value\": 1.6967191029838415}, {\"value\": 0.9993535437660459}, {\"value\": 0.47926744491422596}, {\"value\": 1.3712365674186302}, {\"value\": -1.2795917331800901}, {\"value\": 1.24506187200676}, {\"value\": 0.7275007602921835}, {\"value\": -0.6503087987107721}, {\"value\": 0.4864650271450487}, {\"value\": -0.42467565137371177}, {\"value\": -0.9090002323504516}, {\"value\": -0.7217183770511766}, {\"value\": 0.1939088042940006}, {\"value\": -1.0814645685683903}, {\"value\": 0.6866754494775176}, {\"value\": -0.8019354487677873}, {\"value\": -1.7202375333494189}, {\"value\": 2.1103827352369486}, {\"value\": -0.3967592960642973}, {\"value\": 1.5814720416137327}, {\"value\": 0.846480692262361}, {\"value\": -1.9873785034906164}, {\"value\": 0.9070543604013713}, {\"value\": -1.542471475523631}, {\"value\": -0.1433539890198398}, {\"value\": -0.37975768054788794}, {\"value\": 0.7467880515126495}, {\"value\": -0.0818050170690524}, {\"value\": -0.5397406984966513}, {\"value\": -1.1978334920983456}, {\"value\": 1.323188704384641}, {\"value\": -0.50743719100683}, {\"value\": 1.023896140038334}, {\"value\": -0.8021468307156505}, {\"value\": -0.034695088333176735}, {\"value\": 0.40374875940835236}, {\"value\": -1.2217807376369734}, {\"value\": -1.830542990754373}, {\"value\": -0.45944093221104837}, {\"value\": -0.9861902667706284}, {\"value\": -0.6853009735331788}, {\"value\": 0.5509124618578094}, {\"value\": 0.312179929759961}, {\"value\": -0.3865287340158021}, {\"value\": -1.6495550260351148}, {\"value\": 0.01774214612696751}, {\"value\": -0.7472712835017572}, {\"value\": -0.9156639301956173}, {\"value\": 0.0304384982431759}, {\"value\": -1.1800101479555578}, {\"value\": -0.149536886301572}, {\"value\": -0.25669526215141864}, {\"value\": 1.747961932121678}, {\"value\": -0.6386574137279789}, {\"value\": -0.6478096413691884}, {\"value\": 2.5206854324042394}, {\"value\": 2.6238012735792453}, {\"value\": 0.9104433129469188}, {\"value\": 0.7131181941225023}, {\"value\": -0.022168315473796527}, {\"value\": 0.43105708155258793}, {\"value\": -0.5661676837294949}, {\"value\": -0.7794170963081961}, {\"value\": -0.6280165095667037}, {\"value\": 1.2852627540261774}, {\"value\": 0.9127401229869804}, {\"value\": 0.21330726646293785}, {\"value\": 0.09755816599562454}, {\"value\": -0.7518785010501043}, {\"value\": 0.5525885647181915}, {\"value\": -2.4186253853669553}, {\"value\": -2.4353500128874277}, {\"value\": -1.4371524826149698}, {\"value\": -1.4668989933364234}, {\"value\": 0.5986580739029792}, {\"value\": 1.591447456048554}, {\"value\": -0.32394078896473155}, {\"value\": -0.939940555026236}, {\"value\": 1.582335620795107}, {\"value\": -0.7507223769100182}, {\"value\": -0.43032767500008806}, {\"value\": 1.0573488169241911}, {\"value\": -0.30930025714009834}, {\"value\": 1.270385176142043}, {\"value\": 1.0527873970933967}, {\"value\": 0.9693218403785108}, {\"value\": -1.3579589945341493}, {\"value\": 1.1984847770519873}, {\"value\": -0.5725910204356494}, {\"value\": 0.2525883347999485}, {\"value\": -1.1187279117866507}, {\"value\": 0.9279059345428816}, {\"value\": 1.5523910032588752}, {\"value\": -0.4558838493242358}, {\"value\": -0.037158799111050064}, {\"value\": 0.5707794598128197}, {\"value\": -0.31151863844182703}, {\"value\": 0.2790221449144343}, {\"value\": 0.8652815346856081}, {\"value\": 1.1289608872255184}, {\"value\": 0.7871298645905338}, {\"value\": -0.3332691063566077}, {\"value\": -0.4941286228338186}, {\"value\": 1.1831878522146402}, {\"value\": -1.3358844314300704}, {\"value\": 0.3396427708073544}, {\"value\": -0.36195911080363863}, {\"value\": 0.9311877343112319}, {\"value\": -0.677910926751037}, {\"value\": -0.5079526740088344}, {\"value\": 0.07604743153554859}, {\"value\": 0.26002138953491827}, {\"value\": 0.049409289930822796}, {\"value\": -0.6430573739215386}, {\"value\": 0.7142230178316388}, {\"value\": -0.7515830675380154}, {\"value\": 0.591142540221668}, {\"value\": -1.6606616512359418}, {\"value\": 0.9445601437543268}, {\"value\": -1.3499371618456826}, {\"value\": -0.13207949539193745}, {\"value\": 1.6065045173031067}, {\"value\": -0.17195571676799737}, {\"value\": 0.6086451288391749}, {\"value\": 0.7994226034334526}, {\"value\": 1.8150441451056274}, {\"value\": -0.42198197079220867}, {\"value\": 0.48212462398562433}, {\"value\": 1.6121958695884306}, {\"value\": -1.0160200381542923}, {\"value\": 0.8468257076645772}, {\"value\": -0.2035206765400796}, {\"value\": -0.3525705766737406}, {\"value\": 1.6154697054249487}, {\"value\": -0.6644360706799517}, {\"value\": 1.6637646641310924}, {\"value\": 0.37992252207928146}, {\"value\": -0.500621330561351}, {\"value\": -0.11637650686677263}, {\"value\": -0.6110692657448787}, {\"value\": 0.8806933732276345}, {\"value\": 0.1141949405832593}, {\"value\": -1.427013882362586}, {\"value\": 0.5553080844615297}, {\"value\": -1.0664844299031555}, {\"value\": 0.896366298605441}, {\"value\": 0.4399834804172132}, {\"value\": -0.15689062892671146}, {\"value\": 0.6110946147650187}, {\"value\": -0.3287801792081904}, {\"value\": 0.2576389262642121}, {\"value\": 1.0027454278752344}, {\"value\": -0.6532284539279802}, {\"value\": 1.3986997792558642}, {\"value\": -0.1461507484193934}, {\"value\": -0.719691581418241}, {\"value\": -0.06268314915031821}, {\"value\": 0.839880625903511}, {\"value\": 0.5739491150325183}, {\"value\": -0.5451052859400374}, {\"value\": 0.5996552497769407}, {\"value\": 0.6153228347577626}, {\"value\": -2.097630026620277}, {\"value\": 0.5134776895480417}, {\"value\": -0.6624992152392243}, {\"value\": -0.8234787119340813}, {\"value\": -0.11421917755306887}, {\"value\": -0.09511580712109817}, {\"value\": -0.3748781665713518}, {\"value\": 1.5719740093992622}, {\"value\": -0.2591560530328199}, {\"value\": -0.7790708060833638}, {\"value\": -1.6394039034604806}, {\"value\": 0.7807823516053723}, {\"value\": -0.08387328222855617}, {\"value\": 0.24671086503296208}, {\"value\": 1.2248255238814263}, {\"value\": 1.7363049334598621}, {\"value\": -0.3254873919887053}, {\"value\": -0.05542302327963874}, {\"value\": 1.0385596053983723}, {\"value\": 0.4351088244574723}, {\"value\": -0.6829501084700456}, {\"value\": -0.6377068868865278}, {\"value\": 0.718061042315433}, {\"value\": 1.502214911034901}, {\"value\": -0.30812420555758935}, {\"value\": 0.36070761569766735}, {\"value\": 1.636719311844703}, {\"value\": 0.5280086787817233}, {\"value\": -0.20579715768004747}, {\"value\": 0.024407458792825153}, {\"value\": -0.7866120458790807}, {\"value\": 2.4508194673173316}, {\"value\": -1.6204747816518608}, {\"value\": 0.6364022890238688}, {\"value\": -0.4505882312567671}, {\"value\": 0.045070748658254334}, {\"value\": 0.6809917943663228}, {\"value\": 0.6264468708914547}, {\"value\": 0.2659231901059147}, {\"value\": 0.14836074616990264}, {\"value\": -0.33557855907156176}, {\"value\": -0.21931824763358965}, {\"value\": -1.4450742761928153}, {\"value\": -0.8191422139395502}, {\"value\": 0.3012472780785795}, {\"value\": -1.2444335763136836}, {\"value\": -0.8223037746718196}, {\"value\": 1.1899636274463374}, {\"value\": -2.1503306444316506}, {\"value\": -0.18486795409922652}, {\"value\": -0.7273361660835445}, {\"value\": 0.8626070637988502}, {\"value\": 1.1268354953547848}, {\"value\": 1.8318694412397132}, {\"value\": -0.40058322906100874}, {\"value\": 0.1589734241530871}, {\"value\": -0.6701348319986258}, {\"value\": -0.5418209198187465}, {\"value\": -0.45764686784659353}, {\"value\": 0.30769665501436044}, {\"value\": 0.8694029172764918}, {\"value\": -1.8319594293188781}, {\"value\": 0.699735055903039}, {\"value\": -0.5745407037411403}, {\"value\": 0.038798157622969634}, {\"value\": 0.04055116040731789}, {\"value\": 0.5713483268304894}, {\"value\": -1.853510732920605}, {\"value\": -0.5597032719467832}, {\"value\": -0.6742926478353523}, {\"value\": 0.05982714526220554}, {\"value\": -1.2916310640954047}, {\"value\": 0.7308114475941371}, {\"value\": 0.05819894759333022}, {\"value\": -1.3432138042091453}, {\"value\": -1.8576802984795795}, {\"value\": 1.4122513419251843}, {\"value\": -0.14209152553990792}, {\"value\": 0.6799911379429198}, {\"value\": 1.0353526601939353}, {\"value\": 0.9564225461956574}, {\"value\": 1.2007811372828745}, {\"value\": 1.9128932149036826}, {\"value\": -0.09787240962858994}, {\"value\": -0.1477831833275584}, {\"value\": -1.386473035730103}, {\"value\": 0.9051700597853607}, {\"value\": 0.8905459616956497}, {\"value\": -1.0618128061480627}, {\"value\": -0.4044776095409159}, {\"value\": -2.800797528255248}, {\"value\": -1.1790352268475126}, {\"value\": 1.2910878001336255}, {\"value\": -1.7017971558993574}, {\"value\": 0.9407551257723682}, {\"value\": 0.6186691064357309}, {\"value\": 0.25673457523090104}, {\"value\": 0.14686670993387974}, {\"value\": 0.7291793710275388}, {\"value\": 2.96653734468339}, {\"value\": 0.724877960712407}, {\"value\": -0.26671703149389636}, {\"value\": -1.3082365998435497}, {\"value\": -0.712298241290858}, {\"value\": 0.1821410731610285}, {\"value\": 0.5776757842695412}, {\"value\": -0.3839763199002539}, {\"value\": 0.661038088980897}, {\"value\": 0.18109627118878505}, {\"value\": -1.583854534885827}, {\"value\": 0.43188049034083326}, {\"value\": 0.42548410751815047}, {\"value\": -0.19016886452279128}, {\"value\": 0.47023527444743163}, {\"value\": 0.24968500819548825}, {\"value\": 1.4935692496047335}, {\"value\": 0.772946781242741}, {\"value\": 1.5767607320499752}, {\"value\": 0.9734819750495545}, {\"value\": 0.09713774208183182}, {\"value\": -1.1553393335461377}, {\"value\": 0.5395032284970205}, {\"value\": -0.6898386368016952}, {\"value\": 1.1761678344383628}, {\"value\": -0.14590006487036103}, {\"value\": 0.49351950540656725}, {\"value\": -0.7965397606262345}, {\"value\": -0.09932988337278889}, {\"value\": 0.9591879641595588}, {\"value\": 0.2992253677006802}, {\"value\": -0.5564657848771126}, {\"value\": -0.8710473165275086}, {\"value\": -0.6297255915705339}, {\"value\": -0.8094423740455797}, {\"value\": -0.1333270622931979}, {\"value\": -0.45913100178450217}, {\"value\": 1.6236452516961724}, {\"value\": 0.21992540273664005}, {\"value\": 1.2200074168444652}, {\"value\": -0.691833032383868}, {\"value\": -0.5302777808993544}, {\"value\": 1.5265210956551132}, {\"value\": -0.2508142942604058}, {\"value\": 0.7301043541438155}, {\"value\": -0.7558278260807312}, {\"value\": 0.46424996200487173}, {\"value\": 0.07448772898974773}, {\"value\": -0.00662145280162766}, {\"value\": -0.9883999710442024}, {\"value\": 1.2939814567004695}, {\"value\": 0.6922724729491719}, {\"value\": 2.2441326491676636}, {\"value\": 0.8134783580534404}, {\"value\": 0.8698070119954106}, {\"value\": 1.5683311400991096}, {\"value\": 0.4765678255799371}, {\"value\": 1.083154269576056}, {\"value\": 1.687872868150082}, {\"value\": 1.3457291351793814}, {\"value\": 0.8513590025801465}, {\"value\": 0.27377376288324423}, {\"value\": 0.7448644370925956}, {\"value\": 1.3642048508164206}, {\"value\": 1.0762763064099576}, {\"value\": 0.18514205924709426}, {\"value\": 0.2070484760610814}, {\"value\": 0.7875960319746084}, {\"value\": -1.230690769240784}, {\"value\": 1.088360329703065}, {\"value\": -2.190666932942634}, {\"value\": -0.28416620653790503}, {\"value\": 0.5542699811617884}, {\"value\": 0.7929573988760148}, {\"value\": -1.7304397478118023}, {\"value\": 0.7439227094303804}, {\"value\": -0.8467486110326538}, {\"value\": -1.619034584977755}, {\"value\": -0.529012963293085}, {\"value\": -0.5560011161414549}, {\"value\": 0.5054836688599613}, {\"value\": -1.37857411991682}, {\"value\": -0.09345769075575813}, {\"value\": -0.7118488008491779}, {\"value\": -0.8744749573466106}, {\"value\": 0.5540517808750665}, {\"value\": -0.9639726626991995}, {\"value\": -1.120816274829544}, {\"value\": -1.0613065179915881}, {\"value\": -0.3358205711947923}, {\"value\": -0.019059768169346323}, {\"value\": -1.2628137414451162}, {\"value\": -0.4993748661847974}, {\"value\": -0.31057388458221485}, {\"value\": 0.15884477115974793}, {\"value\": 0.9160876642250005}, {\"value\": 1.2038495611170106}, {\"value\": -0.7165550060077859}, {\"value\": 0.4999474008851852}, {\"value\": -1.4840022565922681}, {\"value\": -0.9423126082125636}, {\"value\": 1.4730677233578686}, {\"value\": -1.8577083472958853}, {\"value\": 0.8950114409073603}, {\"value\": 0.3809006667917262}, {\"value\": 0.699146682631365}, {\"value\": -0.5806256027047851}, {\"value\": 0.5526950712635088}, {\"value\": 0.16994894023008117}, {\"value\": -0.44950117735349954}, {\"value\": 1.0838839239022495}, {\"value\": 1.4031114280465098}, {\"value\": -0.0963275140902159}, {\"value\": -0.8719283260656304}, {\"value\": 0.3326517777780788}, {\"value\": -0.43402315116819107}, {\"value\": 1.8677064544807847}, {\"value\": -0.5276833209259368}, {\"value\": -0.4907779561319234}, {\"value\": 0.33633007822962024}, {\"value\": -1.5075631814569168}, {\"value\": -0.11991653821475373}, {\"value\": 2.2773965174457813}, {\"value\": -1.1262122645636212}, {\"value\": -0.8121413904256631}, {\"value\": -1.0941669439806858}, {\"value\": 0.8108500616574349}, {\"value\": 0.5977228358417533}, {\"value\": 1.058689114020081}, {\"value\": 0.7164455749051039}, {\"value\": 0.21764154287580018}, {\"value\": -1.4903449341600077}, {\"value\": 0.44141018535310966}, {\"value\": -0.09961425146470017}, {\"value\": 0.818269686960628}, {\"value\": 1.2601912213714634}, {\"value\": -0.34591963857021707}, {\"value\": -0.05430375497559238}, {\"value\": -0.639834693470276}, {\"value\": -0.648503827921755}, {\"value\": 0.7993672833491372}, {\"value\": 1.4562759690075104}, {\"value\": -0.8568413947989199}, {\"value\": -0.7047529536549035}, {\"value\": -0.8227185669289148}, {\"value\": -0.9465231033166407}, {\"value\": -2.0401342849754}, {\"value\": 0.4194812793977369}, {\"value\": -0.13240195344456795}, {\"value\": 0.05233467677676171}, {\"value\": -0.17675876600532328}, {\"value\": -0.17838209672459474}, {\"value\": 1.5179236499521769}, {\"value\": -1.12455615988328}, {\"value\": 1.430960394127578}, {\"value\": 0.4219718156367944}, {\"value\": -0.6424944671139918}, {\"value\": -1.4747102769722578}, {\"value\": 0.8546813575161499}, {\"value\": -1.372382857589427}, {\"value\": -0.15826242290829265}, {\"value\": -0.04368381242096485}, {\"value\": -0.49536964507912834}, {\"value\": 1.3498711677281583}, {\"value\": 0.4787776541580945}, {\"value\": 0.38750081031504247}, {\"value\": 0.7490356973242256}, {\"value\": 0.6061588930543812}, {\"value\": 1.1325054949436693}, {\"value\": -0.3377726241881125}, {\"value\": -0.2541433731396021}, {\"value\": 0.7680483123237208}, {\"value\": -2.0686479991063633}, {\"value\": 0.10187136861389916}, {\"value\": 1.0302489603744953}, {\"value\": 0.6235371234146843}, {\"value\": 0.6810592099828683}, {\"value\": 0.3504576169207176}, {\"value\": 1.3497544277464777}, {\"value\": -0.5674234511951333}, {\"value\": 0.2899647386718144}, {\"value\": -0.5995680121003887}, {\"value\": 0.5138179890869307}, {\"value\": -0.31268996488301776}, {\"value\": 1.6358898795932373}, {\"value\": 1.7493042173003828}, {\"value\": 0.2614728574264876}, {\"value\": 0.09469821605885202}, {\"value\": -0.7325321038179985}, {\"value\": 0.17980037394297363}, {\"value\": 0.3428868712026566}, {\"value\": 1.277903493021351}, {\"value\": -1.001452556207837}, {\"value\": 0.9203233716959127}, {\"value\": 1.540859594558075}, {\"value\": 0.9359219925931532}, {\"value\": -1.8164681618779241}, {\"value\": -1.1614897259446573}, {\"value\": 0.03700267557400089}, {\"value\": 0.14438690855973946}, {\"value\": 0.11640639385480428}, {\"value\": 1.0948571926024038}, {\"value\": -0.23693014624294845}, {\"value\": -1.3880584275121448}, {\"value\": -0.6140151989206161}, {\"value\": 0.4809580185766862}, {\"value\": -0.5737918829631661}, {\"value\": 0.9653878352376835}, {\"value\": 0.8841310020128105}, {\"value\": -0.0005425473086655414}, {\"value\": -1.5836448914207328}, {\"value\": 0.340928967629427}, {\"value\": 0.8519537942210461}, {\"value\": -0.4088829879838026}, {\"value\": 1.2217264222413806}, {\"value\": -0.4303732578250484}, {\"value\": 1.3335810993306292}, {\"value\": 0.3824355065179076}, {\"value\": 0.6846539497480186}, {\"value\": 0.8818995042314423}, {\"value\": 2.082973081936812}, {\"value\": 1.014796338067105}, {\"value\": 0.6254763517052779}, {\"value\": -1.0768744741217027}, {\"value\": -0.5281515764058902}, {\"value\": 0.1889312165665202}, {\"value\": 0.07181774469364342}, {\"value\": 0.08903457460980298}, {\"value\": -0.7752371930707584}, {\"value\": 0.6952562925629239}, {\"value\": 0.3281682587415201}, {\"value\": -0.09027066607363282}, {\"value\": 1.0079497066194003}, {\"value\": -1.2311191772586374}, {\"value\": -1.07500827433859}, {\"value\": 0.14959088119463768}, {\"value\": 0.6880075518475947}, {\"value\": 1.023799240630558}, {\"value\": -1.8244618272670452}, {\"value\": 1.2389929840033564}, {\"value\": 1.239668835921044}, {\"value\": 0.3141389977274022}, {\"value\": -0.664687174039078}, {\"value\": -1.315422889686425}, {\"value\": -0.9032318104595227}, {\"value\": 1.5169506358673919}, {\"value\": 0.18124975275187608}, {\"value\": 0.2400341386485943}, {\"value\": -1.4780467396304906}, {\"value\": -0.9635698532423644}, {\"value\": -0.6547921244979426}, {\"value\": 1.8414259250498255}, {\"value\": 0.17937172097202728}, {\"value\": 2.757678362209022}, {\"value\": -0.11441311700319871}, {\"value\": 0.4766800060009404}, {\"value\": -0.5817897117660704}, {\"value\": 0.04416646202931816}, {\"value\": -1.5625587364661466}, {\"value\": -0.602236622925111}, {\"value\": -1.410995443897524}, {\"value\": 1.225078547766778}, {\"value\": 0.49317099974487527}, {\"value\": 0.38392078902522814}, {\"value\": -1.2996245684047083}, {\"value\": 0.1894410223937298}, {\"value\": 0.2368603525679379}, {\"value\": 1.566921349091916}, {\"value\": 0.12136745641754945}, {\"value\": 0.9847364448147118}, {\"value\": 0.9103877323325658}, {\"value\": 0.422087181044944}, {\"value\": 0.634482821665167}, {\"value\": 0.8557495714507739}, {\"value\": -2.022962670409765}, {\"value\": -1.3915045565830522}, {\"value\": 0.9797269594855393}, {\"value\": 0.6097496764193294}, {\"value\": -2.5691824288426726}, {\"value\": -0.9319340335951368}, {\"value\": 0.985282313986438}, {\"value\": -0.05748524840976354}, {\"value\": 1.506435554469063}, {\"value\": 0.38385561170315174}, {\"value\": 0.2834217264611257}, {\"value\": -1.060895984651084}, {\"value\": -0.6025566494550151}, {\"value\": 1.0050324448119594}, {\"value\": -0.4540056123666384}, {\"value\": -0.20707820236340882}, {\"value\": 0.7697771053894096}, {\"value\": -1.1566602730516333}, {\"value\": -0.7804895027889133}, {\"value\": -1.4154801638919055}, {\"value\": 1.182179360709428}, {\"value\": -0.31697761120545753}, {\"value\": 0.08475082835398205}, {\"value\": 0.4561055756627979}, {\"value\": 1.477093508315768}, {\"value\": -0.7584916693411664}, {\"value\": 0.7594585769734112}, {\"value\": 1.2130502864842863}, {\"value\": -0.6904022844623603}, {\"value\": 0.607998234502899}, {\"value\": 2.87133028989321}, {\"value\": -1.6652178835815838}, {\"value\": -0.6228439887749616}, {\"value\": 2.32378059043369}, {\"value\": -1.9541742896271876}, {\"value\": 0.9276990997948226}, {\"value\": -0.23741027329646344}, {\"value\": -0.1329491287812332}, {\"value\": -1.0305338512818554}, {\"value\": -0.09676251751830878}, {\"value\": 0.7701109505974538}, {\"value\": -1.1926185509736715}, {\"value\": 0.42097466764572333}, {\"value\": 1.5087839400069696}, {\"value\": 0.4843499330802603}, {\"value\": -1.9734258339522397}, {\"value\": -1.1310752455094095}, {\"value\": 0.25550808967759286}, {\"value\": -0.952912514848983}, {\"value\": -2.0342994229935134}, {\"value\": -0.6298609049552514}, {\"value\": -0.5117583106159386}, {\"value\": -2.135090167623921}, {\"value\": 0.725709196145968}, {\"value\": 1.2516257376202107}, {\"value\": -0.6225679254412857}, {\"value\": -0.6594768078918981}, {\"value\": 1.0433632416101875}, {\"value\": 0.5768475768883975}]}}, {\"mode\": \"vega-lite\"});\n",
       "</script>"
      ],
      "text/plain": [
       "alt.Chart(...)"
      ]
     },
     "metadata": {},
     "output_type": "display_data"
    }
   ],
   "source": [
    "import altair as alt\n",
    "\n",
    "chart = (\n",
    "    alt.Chart(df)\n",
    "    .mark_bar()\n",
    "    .encode(alt.X(\"value\", bin=alt.Bin(maxbins=30)), y=\"count()\")\n",
    "    .properties(title=\"Histogram (Altair)\")\n",
    ")\n",
    "chart.show()\n",
    "\n",
    "chart.save(\"python-histogram-altair.png\")\n",
    "# chart.save(\"python-histogram-altair.svg\")\n",
    "# chart.save(\"python-histogram-altair.html\")"
   ]
  },
  {
   "cell_type": "markdown",
   "id": "b0973d96",
   "metadata": {},
   "source": [
    "# Plotly\n",
    "\n",
    "`plotly`はインタラクティブ操作が可能なパッケージです。\n",
    "`plotly.express`というサブパッケージを使うのがお手軽です。\n",
    "カスタムしたい場合は`plotly.graph_object`を直接利用します。"
   ]
  },
  {
   "cell_type": "code",
   "execution_count": 26,
   "id": "f43e3e4c",
   "metadata": {},
   "outputs": [
    {
     "data": {
      "application/vnd.plotly.v1+json": {
       "config": {
        "plotlyServerURL": "https://plot.ly"
       },
       "data": [
        {
         "bingroup": "x",
         "hovertemplate": "value=%{x}<br>count=%{y}<extra></extra>",
         "legendgroup": "",
         "marker": {
          "color": "#636efa",
          "pattern": {
           "shape": ""
          }
         },
         "name": "",
         "nbinsx": 30,
         "orientation": "v",
         "showlegend": false,
         "type": "histogram",
         "x": {
          "bdata": "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",
          "dtype": "f8"
         },
         "xaxis": "x",
         "yaxis": "y"
        }
       ],
       "layout": {
        "barmode": "relative",
        "legend": {
         "tracegroupgap": 0
        },
        "template": {
         "data": {
          "bar": [
           {
            "error_x": {
             "color": "#2a3f5f"
            },
            "error_y": {
             "color": "#2a3f5f"
            },
            "marker": {
             "line": {
              "color": "#E5ECF6",
              "width": 0.5
             },
             "pattern": {
              "fillmode": "overlay",
              "size": 10,
              "solidity": 0.2
             }
            },
            "type": "bar"
           }
          ],
          "barpolar": [
           {
            "marker": {
             "line": {
              "color": "#E5ECF6",
              "width": 0.5
             },
             "pattern": {
              "fillmode": "overlay",
              "size": 10,
              "solidity": 0.2
             }
            },
            "type": "barpolar"
           }
          ],
          "carpet": [
           {
            "aaxis": {
             "endlinecolor": "#2a3f5f",
             "gridcolor": "white",
             "linecolor": "white",
             "minorgridcolor": "white",
             "startlinecolor": "#2a3f5f"
            },
            "baxis": {
             "endlinecolor": "#2a3f5f",
             "gridcolor": "white",
             "linecolor": "white",
             "minorgridcolor": "white",
             "startlinecolor": "#2a3f5f"
            },
            "type": "carpet"
           }
          ],
          "choropleth": [
           {
            "colorbar": {
             "outlinewidth": 0,
             "ticks": ""
            },
            "type": "choropleth"
           }
          ],
          "contour": [
           {
            "colorbar": {
             "outlinewidth": 0,
             "ticks": ""
            },
            "colorscale": [
             [
              0,
              "#0d0887"
             ],
             [
              0.1111111111111111,
              "#46039f"
             ],
             [
              0.2222222222222222,
              "#7201a8"
             ],
             [
              0.3333333333333333,
              "#9c179e"
             ],
             [
              0.4444444444444444,
              "#bd3786"
             ],
             [
              0.5555555555555556,
              "#d8576b"
             ],
             [
              0.6666666666666666,
              "#ed7953"
             ],
             [
              0.7777777777777778,
              "#fb9f3a"
             ],
             [
              0.8888888888888888,
              "#fdca26"
             ],
             [
              1,
              "#f0f921"
             ]
            ],
            "type": "contour"
           }
          ],
          "contourcarpet": [
           {
            "colorbar": {
             "outlinewidth": 0,
             "ticks": ""
            },
            "type": "contourcarpet"
           }
          ],
          "heatmap": [
           {
            "colorbar": {
             "outlinewidth": 0,
             "ticks": ""
            },
            "colorscale": [
             [
              0,
              "#0d0887"
             ],
             [
              0.1111111111111111,
              "#46039f"
             ],
             [
              0.2222222222222222,
              "#7201a8"
             ],
             [
              0.3333333333333333,
              "#9c179e"
             ],
             [
              0.4444444444444444,
              "#bd3786"
             ],
             [
              0.5555555555555556,
              "#d8576b"
             ],
             [
              0.6666666666666666,
              "#ed7953"
             ],
             [
              0.7777777777777778,
              "#fb9f3a"
             ],
             [
              0.8888888888888888,
              "#fdca26"
             ],
             [
              1,
              "#f0f921"
             ]
            ],
            "type": "heatmap"
           }
          ],
          "histogram": [
           {
            "marker": {
             "pattern": {
              "fillmode": "overlay",
              "size": 10,
              "solidity": 0.2
             }
            },
            "type": "histogram"
           }
          ],
          "histogram2d": [
           {
            "colorbar": {
             "outlinewidth": 0,
             "ticks": ""
            },
            "colorscale": [
             [
              0,
              "#0d0887"
             ],
             [
              0.1111111111111111,
              "#46039f"
             ],
             [
              0.2222222222222222,
              "#7201a8"
             ],
             [
              0.3333333333333333,
              "#9c179e"
             ],
             [
              0.4444444444444444,
              "#bd3786"
             ],
             [
              0.5555555555555556,
              "#d8576b"
             ],
             [
              0.6666666666666666,
              "#ed7953"
             ],
             [
              0.7777777777777778,
              "#fb9f3a"
             ],
             [
              0.8888888888888888,
              "#fdca26"
             ],
             [
              1,
              "#f0f921"
             ]
            ],
            "type": "histogram2d"
           }
          ],
          "histogram2dcontour": [
           {
            "colorbar": {
             "outlinewidth": 0,
             "ticks": ""
            },
            "colorscale": [
             [
              0,
              "#0d0887"
             ],
             [
              0.1111111111111111,
              "#46039f"
             ],
             [
              0.2222222222222222,
              "#7201a8"
             ],
             [
              0.3333333333333333,
              "#9c179e"
             ],
             [
              0.4444444444444444,
              "#bd3786"
             ],
             [
              0.5555555555555556,
              "#d8576b"
             ],
             [
              0.6666666666666666,
              "#ed7953"
             ],
             [
              0.7777777777777778,
              "#fb9f3a"
             ],
             [
              0.8888888888888888,
              "#fdca26"
             ],
             [
              1,
              "#f0f921"
             ]
            ],
            "type": "histogram2dcontour"
           }
          ],
          "mesh3d": [
           {
            "colorbar": {
             "outlinewidth": 0,
             "ticks": ""
            },
            "type": "mesh3d"
           }
          ],
          "parcoords": [
           {
            "line": {
             "colorbar": {
              "outlinewidth": 0,
              "ticks": ""
             }
            },
            "type": "parcoords"
           }
          ],
          "pie": [
           {
            "automargin": true,
            "type": "pie"
           }
          ],
          "scatter": [
           {
            "fillpattern": {
             "fillmode": "overlay",
             "size": 10,
             "solidity": 0.2
            },
            "type": "scatter"
           }
          ],
          "scatter3d": [
           {
            "line": {
             "colorbar": {
              "outlinewidth": 0,
              "ticks": ""
             }
            },
            "marker": {
             "colorbar": {
              "outlinewidth": 0,
              "ticks": ""
             }
            },
            "type": "scatter3d"
           }
          ],
          "scattercarpet": [
           {
            "marker": {
             "colorbar": {
              "outlinewidth": 0,
              "ticks": ""
             }
            },
            "type": "scattercarpet"
           }
          ],
          "scattergeo": [
           {
            "marker": {
             "colorbar": {
              "outlinewidth": 0,
              "ticks": ""
             }
            },
            "type": "scattergeo"
           }
          ],
          "scattergl": [
           {
            "marker": {
             "colorbar": {
              "outlinewidth": 0,
              "ticks": ""
             }
            },
            "type": "scattergl"
           }
          ],
          "scattermap": [
           {
            "marker": {
             "colorbar": {
              "outlinewidth": 0,
              "ticks": ""
             }
            },
            "type": "scattermap"
           }
          ],
          "scattermapbox": [
           {
            "marker": {
             "colorbar": {
              "outlinewidth": 0,
              "ticks": ""
             }
            },
            "type": "scattermapbox"
           }
          ],
          "scatterpolar": [
           {
            "marker": {
             "colorbar": {
              "outlinewidth": 0,
              "ticks": ""
             }
            },
            "type": "scatterpolar"
           }
          ],
          "scatterpolargl": [
           {
            "marker": {
             "colorbar": {
              "outlinewidth": 0,
              "ticks": ""
             }
            },
            "type": "scatterpolargl"
           }
          ],
          "scatterternary": [
           {
            "marker": {
             "colorbar": {
              "outlinewidth": 0,
              "ticks": ""
             }
            },
            "type": "scatterternary"
           }
          ],
          "surface": [
           {
            "colorbar": {
             "outlinewidth": 0,
             "ticks": ""
            },
            "colorscale": [
             [
              0,
              "#0d0887"
             ],
             [
              0.1111111111111111,
              "#46039f"
             ],
             [
              0.2222222222222222,
              "#7201a8"
             ],
             [
              0.3333333333333333,
              "#9c179e"
             ],
             [
              0.4444444444444444,
              "#bd3786"
             ],
             [
              0.5555555555555556,
              "#d8576b"
             ],
             [
              0.6666666666666666,
              "#ed7953"
             ],
             [
              0.7777777777777778,
              "#fb9f3a"
             ],
             [
              0.8888888888888888,
              "#fdca26"
             ],
             [
              1,
              "#f0f921"
             ]
            ],
            "type": "surface"
           }
          ],
          "table": [
           {
            "cells": {
             "fill": {
              "color": "#EBF0F8"
             },
             "line": {
              "color": "white"
             }
            },
            "header": {
             "fill": {
              "color": "#C8D4E3"
             },
             "line": {
              "color": "white"
             }
            },
            "type": "table"
           }
          ]
         },
         "layout": {
          "annotationdefaults": {
           "arrowcolor": "#2a3f5f",
           "arrowhead": 0,
           "arrowwidth": 1
          },
          "autotypenumbers": "strict",
          "coloraxis": {
           "colorbar": {
            "outlinewidth": 0,
            "ticks": ""
           }
          },
          "colorscale": {
           "diverging": [
            [
             0,
             "#8e0152"
            ],
            [
             0.1,
             "#c51b7d"
            ],
            [
             0.2,
             "#de77ae"
            ],
            [
             0.3,
             "#f1b6da"
            ],
            [
             0.4,
             "#fde0ef"
            ],
            [
             0.5,
             "#f7f7f7"
            ],
            [
             0.6,
             "#e6f5d0"
            ],
            [
             0.7,
             "#b8e186"
            ],
            [
             0.8,
             "#7fbc41"
            ],
            [
             0.9,
             "#4d9221"
            ],
            [
             1,
             "#276419"
            ]
           ],
           "sequential": [
            [
             0,
             "#0d0887"
            ],
            [
             0.1111111111111111,
             "#46039f"
            ],
            [
             0.2222222222222222,
             "#7201a8"
            ],
            [
             0.3333333333333333,
             "#9c179e"
            ],
            [
             0.4444444444444444,
             "#bd3786"
            ],
            [
             0.5555555555555556,
             "#d8576b"
            ],
            [
             0.6666666666666666,
             "#ed7953"
            ],
            [
             0.7777777777777778,
             "#fb9f3a"
            ],
            [
             0.8888888888888888,
             "#fdca26"
            ],
            [
             1,
             "#f0f921"
            ]
           ],
           "sequentialminus": [
            [
             0,
             "#0d0887"
            ],
            [
             0.1111111111111111,
             "#46039f"
            ],
            [
             0.2222222222222222,
             "#7201a8"
            ],
            [
             0.3333333333333333,
             "#9c179e"
            ],
            [
             0.4444444444444444,
             "#bd3786"
            ],
            [
             0.5555555555555556,
             "#d8576b"
            ],
            [
             0.6666666666666666,
             "#ed7953"
            ],
            [
             0.7777777777777778,
             "#fb9f3a"
            ],
            [
             0.8888888888888888,
             "#fdca26"
            ],
            [
             1,
             "#f0f921"
            ]
           ]
          },
          "colorway": [
           "#636efa",
           "#EF553B",
           "#00cc96",
           "#ab63fa",
           "#FFA15A",
           "#19d3f3",
           "#FF6692",
           "#B6E880",
           "#FF97FF",
           "#FECB52"
          ],
          "font": {
           "color": "#2a3f5f"
          },
          "geo": {
           "bgcolor": "white",
           "lakecolor": "white",
           "landcolor": "#E5ECF6",
           "showlakes": true,
           "showland": true,
           "subunitcolor": "white"
          },
          "hoverlabel": {
           "align": "left"
          },
          "hovermode": "closest",
          "mapbox": {
           "style": "light"
          },
          "paper_bgcolor": "white",
          "plot_bgcolor": "#E5ECF6",
          "polar": {
           "angularaxis": {
            "gridcolor": "white",
            "linecolor": "white",
            "ticks": ""
           },
           "bgcolor": "#E5ECF6",
           "radialaxis": {
            "gridcolor": "white",
            "linecolor": "white",
            "ticks": ""
           }
          },
          "scene": {
           "xaxis": {
            "backgroundcolor": "#E5ECF6",
            "gridcolor": "white",
            "gridwidth": 2,
            "linecolor": "white",
            "showbackground": true,
            "ticks": "",
            "zerolinecolor": "white"
           },
           "yaxis": {
            "backgroundcolor": "#E5ECF6",
            "gridcolor": "white",
            "gridwidth": 2,
            "linecolor": "white",
            "showbackground": true,
            "ticks": "",
            "zerolinecolor": "white"
           },
           "zaxis": {
            "backgroundcolor": "#E5ECF6",
            "gridcolor": "white",
            "gridwidth": 2,
            "linecolor": "white",
            "showbackground": true,
            "ticks": "",
            "zerolinecolor": "white"
           }
          },
          "shapedefaults": {
           "line": {
            "color": "#2a3f5f"
           }
          },
          "ternary": {
           "aaxis": {
            "gridcolor": "white",
            "linecolor": "white",
            "ticks": ""
           },
           "baxis": {
            "gridcolor": "white",
            "linecolor": "white",
            "ticks": ""
           },
           "bgcolor": "#E5ECF6",
           "caxis": {
            "gridcolor": "white",
            "linecolor": "white",
            "ticks": ""
           }
          },
          "title": {
           "x": 0.05
          },
          "xaxis": {
           "automargin": true,
           "gridcolor": "white",
           "linecolor": "white",
           "ticks": "",
           "title": {
            "standoff": 15
           },
           "zerolinecolor": "white",
           "zerolinewidth": 2
          },
          "yaxis": {
           "automargin": true,
           "gridcolor": "white",
           "linecolor": "white",
           "ticks": "",
           "title": {
            "standoff": 15
           },
           "zerolinecolor": "white",
           "zerolinewidth": 2
          }
         }
        },
        "title": {
         "text": "Histogram (Plotly)"
        },
        "xaxis": {
         "anchor": "y",
         "domain": [
          0,
          1
         ],
         "title": {
          "text": "value"
         }
        },
        "yaxis": {
         "anchor": "x",
         "domain": [
          0,
          1
         ],
         "title": {
          "text": "count"
         }
        }
       }
      }
     },
     "metadata": {},
     "output_type": "display_data"
    }
   ],
   "source": [
    "import plotly.express as px\n",
    "\n",
    "fig = px.histogram(df, x=\"value\", nbins=30, title=\"Histogram (Plotly)\")\n",
    "# fig.write_image(\"python-histogram-plotly.png\")\n",
    "fig.show()"
   ]
  },
  {
   "cell_type": "markdown",
   "id": "c60c9f23",
   "metadata": {},
   "source": [
    "# hvPlot\n",
    "\n",
    "`hvPlot`は「HoloViews」という可視化パッケージのエコシステム・プロジェクトの一部です。\n",
    "`df.plot()`と同じ感覚で利用できるのが特徴です。\n",
    "自動でインタラクティブ化され、`Streamlit`や`Panel`でダッシュボード化できます。\n",
    "また、コード量が最小です。"
   ]
  },
  {
   "cell_type": "code",
   "execution_count": null,
   "id": "7525a03e",
   "metadata": {},
   "outputs": [
    {
     "data": {
      "text/html": [
       "<script type=\"esms-options\">{\"shimMode\": true}</script><style>*[data-root-id],\n",
       "*[data-root-id] > * {\n",
       "  box-sizing: border-box;\n",
       "  font-family: var(--jp-ui-font-family);\n",
       "  font-size: var(--jp-ui-font-size1);\n",
       "  color: var(--vscode-editor-foreground, var(--jp-ui-font-color1));\n",
       "}\n",
       "\n",
       "/* Override VSCode background color */\n",
       ".cell-output-ipywidget-background:has(\n",
       "  > .cell-output-ipywidget-background > .lm-Widget > *[data-root-id]\n",
       "),\n",
       ".cell-output-ipywidget-background:has(> .lm-Widget > *[data-root-id]) {\n",
       "  background-color: transparent !important;\n",
       "}\n",
       "</style>"
      ]
     },
     "metadata": {},
     "output_type": "display_data"
    },
    {
     "data": {
      "application/javascript": "(function(root) {\n  function now() {\n    return new Date();\n  }\n\n  const force = true;\n  const py_version = '3.7.3'.replace('rc', '-rc.').replace('.dev', '-dev.');\n  const reloading = false;\n  const Bokeh = root.Bokeh;\n\n  // Set a timeout for this load but only if we are not already initializing\n  if (typeof (root._bokeh_timeout) === \"undefined\" || (force || !root._bokeh_is_initializing)) {\n    root._bokeh_timeout = Date.now() + 5000;\n    root._bokeh_failed_load = false;\n  }\n\n  function run_callbacks() {\n    try {\n      root._bokeh_onload_callbacks.forEach(function(callback) {\n        if (callback != null)\n          callback();\n      });\n    } finally {\n      delete root._bokeh_onload_callbacks;\n    }\n    console.debug(\"Bokeh: all callbacks have finished\");\n  }\n\n  function load_libs(css_urls, js_urls, js_modules, js_exports, callback) {\n    if (css_urls == null) css_urls = [];\n    if (js_urls == null) js_urls = [];\n    if (js_modules == null) js_modules = [];\n    if (js_exports == null) js_exports = {};\n\n    root._bokeh_onload_callbacks.push(callback);\n\n    if (root._bokeh_is_loading > 0) {\n      // Don't load bokeh if it is still initializing\n      console.debug(\"Bokeh: BokehJS is being loaded, scheduling callback at\", now());\n      return null;\n    } else if (js_urls.length === 0 && js_modules.length === 0 && Object.keys(js_exports).length === 0) {\n      // There is nothing to load\n      run_callbacks();\n      return null;\n    }\n\n    function on_load() {\n      root._bokeh_is_loading--;\n      if (root._bokeh_is_loading === 0) {\n        console.debug(\"Bokeh: all BokehJS libraries/stylesheets loaded\");\n        run_callbacks()\n      }\n    }\n    window._bokeh_on_load = on_load\n\n    function on_error(e) {\n      const src_el = e.srcElement\n      console.error(\"failed to load \" + (src_el.href || src_el.src));\n    }\n\n    const skip = [];\n    if (window.requirejs) {\n      window.requirejs.config({'packages': {}, 'paths': {}, 'shim': {}});\n      root._bokeh_is_loading = css_urls.length + 0;\n    } else {\n      root._bokeh_is_loading = css_urls.length + js_urls.length + js_modules.length + Object.keys(js_exports).length;\n    }\n\n    const existing_stylesheets = []\n    const links = document.getElementsByTagName('link')\n    for (let i = 0; i < links.length; i++) {\n      const link = links[i]\n      if (link.href != null) {\n        existing_stylesheets.push(link.href)\n      }\n    }\n    for (let i = 0; i < css_urls.length; i++) {\n      const url = css_urls[i];\n      const escaped = encodeURI(url)\n      if (existing_stylesheets.indexOf(escaped) !== -1) {\n        on_load()\n        continue;\n      }\n      const element = document.createElement(\"link\");\n      element.onload = on_load;\n      element.onerror = on_error;\n      element.rel = \"stylesheet\";\n      element.type = \"text/css\";\n      element.href = url;\n      console.debug(\"Bokeh: injecting link tag for BokehJS stylesheet: \", url);\n      document.body.appendChild(element);\n    }    var existing_scripts = []\n    const scripts = document.getElementsByTagName('script')\n    for (let i = 0; i < scripts.length; i++) {\n      var script = scripts[i]\n      if (script.src != null) {\n        existing_scripts.push(script.src)\n      }\n    }\n    for (let i = 0; i < js_urls.length; i++) {\n      const url = js_urls[i];\n      const escaped = encodeURI(url)\n      if (skip.indexOf(escaped) !== -1 || existing_scripts.indexOf(escaped) !== -1) {\n        if (!window.requirejs) {\n          on_load();\n        }\n        continue;\n      }\n      const element = document.createElement('script');\n      element.onload = on_load;\n      element.onerror = on_error;\n      element.async = false;\n      element.src = url;\n      console.debug(\"Bokeh: injecting script tag for BokehJS library: \", url);\n      document.head.appendChild(element);\n    }\n    for (let i = 0; i < js_modules.length; i++) {\n      const url = js_modules[i];\n      const escaped = encodeURI(url)\n      if (skip.indexOf(escaped) !== -1 || existing_scripts.indexOf(escaped) !== -1) {\n        if (!window.requirejs) {\n          on_load();\n        }\n        continue;\n      }\n      var element = document.createElement('script');\n      element.onload = on_load;\n      element.onerror = on_error;\n      element.async = false;\n      element.src = url;\n      element.type = \"module\";\n      console.debug(\"Bokeh: injecting script tag for BokehJS library: \", url);\n      document.head.appendChild(element);\n    }\n    for (const name in js_exports) {\n      const url = js_exports[name];\n      const escaped = encodeURI(url)\n      if (skip.indexOf(escaped) >= 0 || root[name] != null) {\n        if (!window.requirejs) {\n          on_load();\n        }\n        continue;\n      }\n      var element = document.createElement('script');\n      element.onerror = on_error;\n      element.async = false;\n      element.type = \"module\";\n      console.debug(\"Bokeh: injecting script tag for BokehJS library: \", url);\n      element.textContent = `\n      import ${name} from \"${url}\"\n      window.${name} = ${name}\n      window._bokeh_on_load()\n      `\n      document.head.appendChild(element);\n    }\n    if (!js_urls.length && !js_modules.length) {\n      on_load()\n    }\n  };\n\n  function inject_raw_css(css) {\n    const element = document.createElement(\"style\");\n    element.appendChild(document.createTextNode(css));\n    document.body.appendChild(element);\n  }\n\n  const js_urls = [\"https://cdn.holoviz.org/panel/1.7.5/dist/bundled/reactiveesm/es-module-shims@^1.10.0/dist/es-module-shims.min.js\", \"https://cdn.bokeh.org/bokeh/release/bokeh-3.7.3.min.js\", \"https://cdn.bokeh.org/bokeh/release/bokeh-gl-3.7.3.min.js\", \"https://cdn.bokeh.org/bokeh/release/bokeh-widgets-3.7.3.min.js\", \"https://cdn.bokeh.org/bokeh/release/bokeh-tables-3.7.3.min.js\", \"https://cdn.holoviz.org/panel/1.7.5/dist/panel.min.js\"];\n  const js_modules = [];\n  const js_exports = {};\n  const css_urls = [];\n  const inline_js = [    function(Bokeh) {\n      Bokeh.set_log_level(\"info\");\n    },\nfunction(Bokeh) {} // ensure no trailing comma for IE\n  ];\n\n  function run_inline_js() {\n    if ((root.Bokeh !== undefined) || (force === true)) {\n      for (let i = 0; i < inline_js.length; i++) {\n        try {\n          inline_js[i].call(root, root.Bokeh);\n        } catch(e) {\n          if (!reloading) {\n            throw e;\n          }\n        }\n      }\n      // Cache old bokeh versions\n      if (Bokeh != undefined && !reloading) {\n        var NewBokeh = root.Bokeh;\n        if (Bokeh.versions === undefined) {\n          Bokeh.versions = new Map();\n        }\n        if (NewBokeh.version !== Bokeh.version) {\n          Bokeh.versions.set(NewBokeh.version, NewBokeh)\n        }\n        root.Bokeh = Bokeh;\n      }\n    } else if (Date.now() < root._bokeh_timeout) {\n      setTimeout(run_inline_js, 100);\n    } else if (!root._bokeh_failed_load) {\n      console.log(\"Bokeh: BokehJS failed to load within specified timeout.\");\n      root._bokeh_failed_load = true;\n    }\n    root._bokeh_is_initializing = false\n  }\n\n  function load_or_wait() {\n    // Implement a backoff loop that tries to ensure we do not load multiple\n    // versions of Bokeh and its dependencies at the same time.\n    // In recent versions we use the root._bokeh_is_initializing flag\n    // to determine whether there is an ongoing attempt to initialize\n    // bokeh, however for backward compatibility we also try to ensure\n    // that we do not start loading a newer (Panel>=1.0 and Bokeh>3) version\n    // before older versions are fully initialized.\n    if (root._bokeh_is_initializing && Date.now() > root._bokeh_timeout) {\n      // If the timeout and bokeh was not successfully loaded we reset\n      // everything and try loading again\n      root._bokeh_timeout = Date.now() + 5000;\n      root._bokeh_is_initializing = false;\n      root._bokeh_onload_callbacks = undefined;\n      root._bokeh_is_loading = 0\n      console.log(\"Bokeh: BokehJS was loaded multiple times but one version failed to initialize.\");\n      load_or_wait();\n    } else if (root._bokeh_is_initializing || (typeof root._bokeh_is_initializing === \"undefined\" && root._bokeh_onload_callbacks !== undefined)) {\n      setTimeout(load_or_wait, 100);\n    } else {\n      root._bokeh_is_initializing = true\n      root._bokeh_onload_callbacks = []\n      const bokeh_loaded = root.Bokeh != null && (root.Bokeh.version === py_version || (root.Bokeh.versions !== undefined && root.Bokeh.versions.has(py_version)));\n      if (!reloading && !bokeh_loaded) {\n        if (root.Bokeh) {\n          root.Bokeh = undefined;\n        }\n        console.debug(\"Bokeh: BokehJS not loaded, scheduling load and callback at\", now());\n      }\n      load_libs(css_urls, js_urls, js_modules, js_exports, function() {\n        console.debug(\"Bokeh: BokehJS plotting callback run at\", now());\n        run_inline_js();\n      });\n    }\n  }\n  // Give older versions of the autoload script a head-start to ensure\n  // they initialize before we start loading newer version.\n  setTimeout(load_or_wait, 100)\n}(window));",
      "application/vnd.holoviews_load.v0+json": ""
     },
     "metadata": {},
     "output_type": "display_data"
    },
    {
     "data": {
      "application/javascript": "\nif ((window.PyViz === undefined) || (window.PyViz instanceof HTMLElement)) {\n  window.PyViz = {comms: {}, comm_status:{}, kernels:{}, receivers: {}, plot_index: []}\n}\n\n\n    function JupyterCommManager() {\n    }\n\n    JupyterCommManager.prototype.register_target = function(plot_id, comm_id, msg_handler) {\n      if (window.comm_manager || ((window.Jupyter !== undefined) && (Jupyter.notebook.kernel != null))) {\n        var comm_manager = window.comm_manager || Jupyter.notebook.kernel.comm_manager;\n        comm_manager.register_target(comm_id, function(comm) {\n          comm.on_msg(msg_handler);\n        });\n      } else if ((plot_id in window.PyViz.kernels) && (window.PyViz.kernels[plot_id])) {\n        window.PyViz.kernels[plot_id].registerCommTarget(comm_id, function(comm) {\n          comm.onMsg = msg_handler;\n        });\n      } else if (typeof google != 'undefined' && google.colab.kernel != null) {\n        google.colab.kernel.comms.registerTarget(comm_id, (comm) => {\n          var messages = comm.messages[Symbol.asyncIterator]();\n          function processIteratorResult(result) {\n            var message = result.value;\n            var content = {data: message.data, comm_id};\n            var buffers = []\n            for (var buffer of message.buffers || []) {\n              buffers.push(new DataView(buffer))\n            }\n            var metadata = message.metadata || {};\n            var msg = {content, buffers, metadata}\n            msg_handler(msg);\n            return messages.next().then(processIteratorResult);\n          }\n          return messages.next().then(processIteratorResult);\n        })\n      }\n    }\n\n    JupyterCommManager.prototype.get_client_comm = function(plot_id, comm_id, msg_handler) {\n      if (comm_id in window.PyViz.comms) {\n        return window.PyViz.comms[comm_id];\n      } else if (window.comm_manager || ((window.Jupyter !== undefined) && (Jupyter.notebook.kernel != null))) {\n        var comm_manager = window.comm_manager || Jupyter.notebook.kernel.comm_manager;\n        var comm = comm_manager.new_comm(comm_id, {}, {}, {}, comm_id);\n        if (msg_handler) {\n          comm.on_msg(msg_handler);\n        }\n      } else if ((plot_id in window.PyViz.kernels) && (window.PyViz.kernels[plot_id])) {\n        var comm = window.PyViz.kernels[plot_id].connectToComm(comm_id);\n        let retries = 0;\n        const open = () => {\n          if (comm.active) {\n            comm.open();\n          } else if (retries > 3) {\n            console.warn('Comm target never activated')\n          } else {\n            retries += 1\n            setTimeout(open, 500)\n          }\n        }\n        if (comm.active) {\n          comm.open();\n        } else {\n          setTimeout(open, 500)\n        }\n        if (msg_handler) {\n          comm.onMsg = msg_handler;\n        }\n      } else if (typeof google != 'undefined' && google.colab.kernel != null) {\n        var comm_promise = google.colab.kernel.comms.open(comm_id)\n        comm_promise.then((comm) => {\n          window.PyViz.comms[comm_id] = comm;\n          if (msg_handler) {\n            var messages = comm.messages[Symbol.asyncIterator]();\n            function processIteratorResult(result) {\n              var message = result.value;\n              var content = {data: message.data};\n              var metadata = message.metadata || {comm_id};\n              var msg = {content, metadata}\n              msg_handler(msg);\n              return messages.next().then(processIteratorResult);\n            }\n            return messages.next().then(processIteratorResult);\n          }\n        })\n        var sendClosure = (data, metadata, buffers, disposeOnDone) => {\n          return comm_promise.then((comm) => {\n            comm.send(data, metadata, buffers, disposeOnDone);\n          });\n        };\n        var comm = {\n          send: sendClosure\n        };\n      }\n      window.PyViz.comms[comm_id] = comm;\n      return comm;\n    }\n    window.PyViz.comm_manager = new JupyterCommManager();\n    \n\n\nvar JS_MIME_TYPE = 'application/javascript';\nvar HTML_MIME_TYPE = 'text/html';\nvar EXEC_MIME_TYPE = 'application/vnd.holoviews_exec.v0+json';\nvar CLASS_NAME = 'output';\n\n/**\n * Render data to the DOM node\n */\nfunction render(props, node) {\n  var div = document.createElement(\"div\");\n  var script = document.createElement(\"script\");\n  node.appendChild(div);\n  node.appendChild(script);\n}\n\n/**\n * Handle when a new output is added\n */\nfunction handle_add_output(event, handle) {\n  var output_area = handle.output_area;\n  var output = handle.output;\n  if ((output.data == undefined) || (!output.data.hasOwnProperty(EXEC_MIME_TYPE))) {\n    return\n  }\n  var id = output.metadata[EXEC_MIME_TYPE][\"id\"];\n  var toinsert = output_area.element.find(\".\" + CLASS_NAME.split(' ')[0]);\n  if (id !== undefined) {\n    var nchildren = toinsert.length;\n    var html_node = toinsert[nchildren-1].children[0];\n    html_node.innerHTML = output.data[HTML_MIME_TYPE];\n    var scripts = [];\n    var nodelist = html_node.querySelectorAll(\"script\");\n    for (var i in nodelist) {\n      if (nodelist.hasOwnProperty(i)) {\n        scripts.push(nodelist[i])\n      }\n    }\n\n    scripts.forEach( function (oldScript) {\n      var newScript = document.createElement(\"script\");\n      var attrs = [];\n      var nodemap = oldScript.attributes;\n      for (var j in nodemap) {\n        if (nodemap.hasOwnProperty(j)) {\n          attrs.push(nodemap[j])\n        }\n      }\n      attrs.forEach(function(attr) { newScript.setAttribute(attr.name, attr.value) });\n      newScript.appendChild(document.createTextNode(oldScript.innerHTML));\n      oldScript.parentNode.replaceChild(newScript, oldScript);\n    });\n    if (JS_MIME_TYPE in output.data) {\n      toinsert[nchildren-1].children[1].textContent = output.data[JS_MIME_TYPE];\n    }\n    output_area._hv_plot_id = id;\n    if ((window.Bokeh !== undefined) && (id in Bokeh.index)) {\n      window.PyViz.plot_index[id] = Bokeh.index[id];\n    } else {\n      window.PyViz.plot_index[id] = null;\n    }\n  } else if (output.metadata[EXEC_MIME_TYPE][\"server_id\"] !== undefined) {\n    var bk_div = document.createElement(\"div\");\n    bk_div.innerHTML = output.data[HTML_MIME_TYPE];\n    var script_attrs = bk_div.children[0].attributes;\n    for (var i = 0; i < script_attrs.length; i++) {\n      toinsert[toinsert.length - 1].childNodes[1].setAttribute(script_attrs[i].name, script_attrs[i].value);\n    }\n    // store reference to server id on output_area\n    output_area._bokeh_server_id = output.metadata[EXEC_MIME_TYPE][\"server_id\"];\n  }\n}\n\n/**\n * Handle when an output is cleared or removed\n */\nfunction handle_clear_output(event, handle) {\n  var id = handle.cell.output_area._hv_plot_id;\n  var server_id = handle.cell.output_area._bokeh_server_id;\n  if (((id === undefined) || !(id in PyViz.plot_index)) && (server_id !== undefined)) { return; }\n  var comm = window.PyViz.comm_manager.get_client_comm(\"hv-extension-comm\", \"hv-extension-comm\", function () {});\n  if (server_id !== null) {\n    comm.send({event_type: 'server_delete', 'id': server_id});\n    return;\n  } else if (comm !== null) {\n    comm.send({event_type: 'delete', 'id': id});\n  }\n  delete PyViz.plot_index[id];\n  if ((window.Bokeh !== undefined) & (id in window.Bokeh.index)) {\n    var doc = window.Bokeh.index[id].model.document\n    doc.clear();\n    const i = window.Bokeh.documents.indexOf(doc);\n    if (i > -1) {\n      window.Bokeh.documents.splice(i, 1);\n    }\n  }\n}\n\n/**\n * Handle kernel restart event\n */\nfunction handle_kernel_cleanup(event, handle) {\n  delete PyViz.comms[\"hv-extension-comm\"];\n  window.PyViz.plot_index = {}\n}\n\n/**\n * Handle update_display_data messages\n */\nfunction handle_update_output(event, handle) {\n  handle_clear_output(event, {cell: {output_area: handle.output_area}})\n  handle_add_output(event, handle)\n}\n\nfunction register_renderer(events, OutputArea) {\n  function append_mime(data, metadata, element) {\n    // create a DOM node to render to\n    var toinsert = this.create_output_subarea(\n    metadata,\n    CLASS_NAME,\n    EXEC_MIME_TYPE\n    );\n    this.keyboard_manager.register_events(toinsert);\n    // Render to node\n    var props = {data: data, metadata: metadata[EXEC_MIME_TYPE]};\n    render(props, toinsert[0]);\n    element.append(toinsert);\n    return toinsert\n  }\n\n  events.on('output_added.OutputArea', handle_add_output);\n  events.on('output_updated.OutputArea', handle_update_output);\n  events.on('clear_output.CodeCell', handle_clear_output);\n  events.on('delete.Cell', handle_clear_output);\n  events.on('kernel_ready.Kernel', handle_kernel_cleanup);\n\n  OutputArea.prototype.register_mime_type(EXEC_MIME_TYPE, append_mime, {\n    safe: true,\n    index: 0\n  });\n}\n\nif (window.Jupyter !== undefined) {\n  try {\n    var events = require('base/js/events');\n    var OutputArea = require('notebook/js/outputarea').OutputArea;\n    if (OutputArea.prototype.mime_types().indexOf(EXEC_MIME_TYPE) == -1) {\n      register_renderer(events, OutputArea);\n    }\n  } catch(err) {\n  }\n}\n",
      "application/vnd.holoviews_load.v0+json": ""
     },
     "metadata": {},
     "output_type": "display_data"
    },
    {
     "data": {
      "application/vnd.holoviews_exec.v0+json": "",
      "text/html": [
       "<div id='00b385cd-c18a-41a3-9958-f402376cc036'>\n",
       "  <div id=\"fa0f3863-8097-4f54-ac72-dc47d0fb0654\" data-root-id=\"00b385cd-c18a-41a3-9958-f402376cc036\" style=\"display: contents;\"></div>\n",
       "</div>\n",
       "<script type=\"application/javascript\">(function(root) {\n",
       "  var docs_json = {\"ddbb2757-badb-40c0-9065-2dc739b2ead0\":{\"version\":\"3.7.3\",\"title\":\"Bokeh Application\",\"roots\":[{\"type\":\"object\",\"name\":\"panel.models.browser.BrowserInfo\",\"id\":\"00b385cd-c18a-41a3-9958-f402376cc036\"},{\"type\":\"object\",\"name\":\"panel.models.comm_manager.CommManager\",\"id\":\"4c434445-a5ac-42ca-b990-6a6252202635\",\"attributes\":{\"plot_id\":\"00b385cd-c18a-41a3-9958-f402376cc036\",\"comm_id\":\"a6f7125517d940ed82ee9dfa3c6d9993\",\"client_comm_id\":\"5af331cb1da54b0090233be024f9281a\"}}],\"defs\":[{\"type\":\"model\",\"name\":\"ReactiveHTML1\"},{\"type\":\"model\",\"name\":\"FlexBox1\",\"properties\":[{\"name\":\"align_content\",\"kind\":\"Any\",\"default\":\"flex-start\"},{\"name\":\"align_items\",\"kind\":\"Any\",\"default\":\"flex-start\"},{\"name\":\"flex_direction\",\"kind\":\"Any\",\"default\":\"row\"},{\"name\":\"flex_wrap\",\"kind\":\"Any\",\"default\":\"wrap\"},{\"name\":\"gap\",\"kind\":\"Any\",\"default\":\"\"},{\"name\":\"justify_content\",\"kind\":\"Any\",\"default\":\"flex-start\"}]},{\"type\":\"model\",\"name\":\"FloatPanel1\",\"properties\":[{\"name\":\"config\",\"kind\":\"Any\",\"default\":{\"type\":\"map\"}},{\"name\":\"contained\",\"kind\":\"Any\",\"default\":true},{\"name\":\"position\",\"kind\":\"Any\",\"default\":\"right-top\"},{\"name\":\"offsetx\",\"kind\":\"Any\",\"default\":null},{\"name\":\"offsety\",\"kind\":\"Any\",\"default\":null},{\"name\":\"theme\",\"kind\":\"Any\",\"default\":\"primary\"},{\"name\":\"status\",\"kind\":\"Any\",\"default\":\"normalized\"}]},{\"type\":\"model\",\"name\":\"GridStack1\",\"properties\":[{\"name\":\"ncols\",\"kind\":\"Any\",\"default\":null},{\"name\":\"nrows\",\"kind\":\"Any\",\"default\":null},{\"name\":\"allow_resize\",\"kind\":\"Any\",\"default\":true},{\"name\":\"allow_drag\",\"kind\":\"Any\",\"default\":true},{\"name\":\"state\",\"kind\":\"Any\",\"default\":[]}]},{\"type\":\"model\",\"name\":\"drag1\",\"properties\":[{\"name\":\"slider_width\",\"kind\":\"Any\",\"default\":5},{\"name\":\"slider_color\",\"kind\":\"Any\",\"default\":\"black\"},{\"name\":\"value\",\"kind\":\"Any\",\"default\":50}]},{\"type\":\"model\",\"name\":\"click1\",\"properties\":[{\"name\":\"terminal_output\",\"kind\":\"Any\",\"default\":\"\"},{\"name\":\"debug_name\",\"kind\":\"Any\",\"default\":\"\"},{\"name\":\"clears\",\"kind\":\"Any\",\"default\":0}]},{\"type\":\"model\",\"name\":\"ReactiveESM1\",\"properties\":[{\"name\":\"esm_constants\",\"kind\":\"Any\",\"default\":{\"type\":\"map\"}}]},{\"type\":\"model\",\"name\":\"JSComponent1\",\"properties\":[{\"name\":\"esm_constants\",\"kind\":\"Any\",\"default\":{\"type\":\"map\"}}]},{\"type\":\"model\",\"name\":\"ReactComponent1\",\"properties\":[{\"name\":\"use_shadow_dom\",\"kind\":\"Any\",\"default\":true},{\"name\":\"esm_constants\",\"kind\":\"Any\",\"default\":{\"type\":\"map\"}}]},{\"type\":\"model\",\"name\":\"AnyWidgetComponent1\",\"properties\":[{\"name\":\"use_shadow_dom\",\"kind\":\"Any\",\"default\":true},{\"name\":\"esm_constants\",\"kind\":\"Any\",\"default\":{\"type\":\"map\"}}]},{\"type\":\"model\",\"name\":\"FastWrapper1\",\"properties\":[{\"name\":\"object\",\"kind\":\"Any\",\"default\":null},{\"name\":\"style\",\"kind\":\"Any\",\"default\":null}]},{\"type\":\"model\",\"name\":\"NotificationArea1\",\"properties\":[{\"name\":\"js_events\",\"kind\":\"Any\",\"default\":{\"type\":\"map\"}},{\"name\":\"max_notifications\",\"kind\":\"Any\",\"default\":5},{\"name\":\"notifications\",\"kind\":\"Any\",\"default\":[]},{\"name\":\"position\",\"kind\":\"Any\",\"default\":\"bottom-right\"},{\"name\":\"_clear\",\"kind\":\"Any\",\"default\":0},{\"name\":\"types\",\"kind\":\"Any\",\"default\":[{\"type\":\"map\",\"entries\":[[\"type\",\"warning\"],[\"background\",\"#ffc107\"],[\"icon\",{\"type\":\"map\",\"entries\":[[\"className\",\"fas fa-exclamation-triangle\"],[\"tagName\",\"i\"],[\"color\",\"white\"]]}]]},{\"type\":\"map\",\"entries\":[[\"type\",\"info\"],[\"background\",\"#007bff\"],[\"icon\",{\"type\":\"map\",\"entries\":[[\"className\",\"fas fa-info-circle\"],[\"tagName\",\"i\"],[\"color\",\"white\"]]}]]}]}]},{\"type\":\"model\",\"name\":\"Notification\",\"properties\":[{\"name\":\"background\",\"kind\":\"Any\",\"default\":null},{\"name\":\"duration\",\"kind\":\"Any\",\"default\":3000},{\"name\":\"icon\",\"kind\":\"Any\",\"default\":null},{\"name\":\"message\",\"kind\":\"Any\",\"default\":\"\"},{\"name\":\"notification_type\",\"kind\":\"Any\",\"default\":null},{\"name\":\"_rendered\",\"kind\":\"Any\",\"default\":false},{\"name\":\"_destroyed\",\"kind\":\"Any\",\"default\":false}]},{\"type\":\"model\",\"name\":\"TemplateActions1\",\"properties\":[{\"name\":\"open_modal\",\"kind\":\"Any\",\"default\":0},{\"name\":\"close_modal\",\"kind\":\"Any\",\"default\":0}]},{\"type\":\"model\",\"name\":\"BootstrapTemplateActions1\",\"properties\":[{\"name\":\"open_modal\",\"kind\":\"Any\",\"default\":0},{\"name\":\"close_modal\",\"kind\":\"Any\",\"default\":0}]},{\"type\":\"model\",\"name\":\"TemplateEditor1\",\"properties\":[{\"name\":\"layout\",\"kind\":\"Any\",\"default\":[]}]},{\"type\":\"model\",\"name\":\"MaterialTemplateActions1\",\"properties\":[{\"name\":\"open_modal\",\"kind\":\"Any\",\"default\":0},{\"name\":\"close_modal\",\"kind\":\"Any\",\"default\":0}]},{\"type\":\"model\",\"name\":\"request_value1\",\"properties\":[{\"name\":\"fill\",\"kind\":\"Any\",\"default\":\"none\"},{\"name\":\"_synced\",\"kind\":\"Any\",\"default\":null},{\"name\":\"_request_sync\",\"kind\":\"Any\",\"default\":0}]},{\"type\":\"model\",\"name\":\"holoviews.plotting.bokeh.raster.HoverModel\",\"properties\":[{\"name\":\"xy\",\"kind\":\"Any\",\"default\":null},{\"name\":\"data\",\"kind\":\"Any\",\"default\":null}]}]}};\n",
       "  var render_items = [{\"docid\":\"ddbb2757-badb-40c0-9065-2dc739b2ead0\",\"roots\":{\"00b385cd-c18a-41a3-9958-f402376cc036\":\"fa0f3863-8097-4f54-ac72-dc47d0fb0654\"},\"root_ids\":[\"00b385cd-c18a-41a3-9958-f402376cc036\"]}];\n",
       "  var docs = Object.values(docs_json)\n",
       "  if (!docs) {\n",
       "    return\n",
       "  }\n",
       "  const py_version = docs[0].version.replace('rc', '-rc.').replace('.dev', '-dev.')\n",
       "  async function embed_document(root) {\n",
       "    var Bokeh = get_bokeh(root)\n",
       "    await Bokeh.embed.embed_items_notebook(docs_json, render_items);\n",
       "    for (const render_item of render_items) {\n",
       "      for (const root_id of render_item.root_ids) {\n",
       "\tconst id_el = document.getElementById(root_id)\n",
       "\tif (id_el.children.length && id_el.children[0].hasAttribute('data-root-id')) {\n",
       "\t  const root_el = id_el.children[0]\n",
       "\t  root_el.id = root_el.id + '-rendered'\n",
       "\t  for (const child of root_el.children) {\n",
       "            // Ensure JupyterLab does not capture keyboard shortcuts\n",
       "            // see: https://jupyterlab.readthedocs.io/en/4.1.x/extension/notebook.html#keyboard-interaction-model\n",
       "\t    child.setAttribute('data-lm-suppress-shortcuts', 'true')\n",
       "\t  }\n",
       "\t}\n",
       "      }\n",
       "    }\n",
       "  }\n",
       "  function get_bokeh(root) {\n",
       "    if (root.Bokeh === undefined) {\n",
       "      return null\n",
       "    } else if (root.Bokeh.version !== py_version) {\n",
       "      if (root.Bokeh.versions === undefined || !root.Bokeh.versions.has(py_version)) {\n",
       "\treturn null\n",
       "      }\n",
       "      return root.Bokeh.versions.get(py_version);\n",
       "    } else if (root.Bokeh.version === py_version) {\n",
       "      return root.Bokeh\n",
       "    }\n",
       "    return null\n",
       "  }\n",
       "  function is_loaded(root) {\n",
       "    var Bokeh = get_bokeh(root)\n",
       "    return (Bokeh != null && Bokeh.Panel !== undefined)\n",
       "  }\n",
       "  if (is_loaded(root)) {\n",
       "    embed_document(root);\n",
       "  } else {\n",
       "    var attempts = 0;\n",
       "    var timer = setInterval(function(root) {\n",
       "      if (is_loaded(root)) {\n",
       "        clearInterval(timer);\n",
       "        embed_document(root);\n",
       "      } else if (document.readyState == \"complete\") {\n",
       "        attempts++;\n",
       "        if (attempts > 200) {\n",
       "          clearInterval(timer);\n",
       "\t  var Bokeh = get_bokeh(root)\n",
       "\t  if (Bokeh == null || Bokeh.Panel == null) {\n",
       "            console.warn(\"Panel: ERROR: Unable to run Panel code because Bokeh or Panel library is missing\");\n",
       "\t  } else {\n",
       "\t    console.warn(\"Panel: WARNING: Attempting to render but not all required libraries could be resolved.\")\n",
       "\t    embed_document(root)\n",
       "\t  }\n",
       "        }\n",
       "      }\n",
       "    }, 25, root)\n",
       "  }\n",
       "})(window);</script>"
      ]
     },
     "metadata": {
      "application/vnd.holoviews_exec.v0+json": {
       "id": "00b385cd-c18a-41a3-9958-f402376cc036"
      }
     },
     "output_type": "display_data"
    },
    {
     "data": {},
     "metadata": {},
     "output_type": "display_data"
    },
    {
     "data": {
      "application/vnd.holoviews_exec.v0+json": "",
      "text/html": [
       "<div id='7e2f57ea-cf48-4890-940f-5e40ce7fc1ec'>\n",
       "  <div id=\"dd570c96-78df-48ab-a5a0-94b70da99c30\" data-root-id=\"7e2f57ea-cf48-4890-940f-5e40ce7fc1ec\" style=\"display: contents;\"></div>\n",
       "</div>\n",
       "<script type=\"application/javascript\">(function(root) {\n",
       "  var docs_json = {\"bdf03fc4-beb2-4c88-8dad-f5cd386c2427\":{\"version\":\"3.7.3\",\"title\":\"Bokeh Application\",\"roots\":[{\"type\":\"object\",\"name\":\"Row\",\"id\":\"7e2f57ea-cf48-4890-940f-5e40ce7fc1ec\",\"attributes\":{\"name\":\"Row00285\",\"tags\":[\"embedded\"],\"stylesheets\":[\"\\n:host(.pn-loading):before, .pn-loading:before {\\n  background-color: #c3c3c3;\\n  mask-size: auto calc(min(50%, 400px));\\n  -webkit-mask-size: auto calc(min(50%, 400px));\\n}\",{\"type\":\"object\",\"name\":\"ImportedStyleSheet\",\"id\":\"706981a2-a6ee-4eb3-8f30-e701ac1b9055\",\"attributes\":{\"url\":\"https://cdn.holoviz.org/panel/1.7.5/dist/css/loading.css\"}},{\"type\":\"object\",\"name\":\"ImportedStyleSheet\",\"id\":\"df14ec7d-8974-4801-a4ec-a511d2871ceb\",\"attributes\":{\"url\":\"https://cdn.holoviz.org/panel/1.7.5/dist/css/listpanel.css\"}},{\"type\":\"object\",\"name\":\"ImportedStyleSheet\",\"id\":\"9a203fd3-6d14-435d-9a85-d79ad011dbd9\",\"attributes\":{\"url\":\"https://cdn.holoviz.org/panel/1.7.5/dist/bundled/theme/default.css\"}},{\"type\":\"object\",\"name\":\"ImportedStyleSheet\",\"id\":\"93462560-b508-4e1c-9aa0-c298b8871895\",\"attributes\":{\"url\":\"https://cdn.holoviz.org/panel/1.7.5/dist/bundled/theme/native.css\"}}],\"min_width\":700,\"margin\":0,\"sizing_mode\":\"stretch_width\",\"align\":\"start\",\"children\":[{\"type\":\"object\",\"name\":\"Spacer\",\"id\":\"7d10819c-c1f1-4558-bbc8-015a5edf4aae\",\"attributes\":{\"name\":\"HSpacer00289\",\"stylesheets\":[\"\\n:host(.pn-loading):before, .pn-loading:before {\\n  background-color: #c3c3c3;\\n  mask-size: auto calc(min(50%, 400px));\\n  -webkit-mask-size: auto calc(min(50%, 400px));\\n}\",{\"id\":\"706981a2-a6ee-4eb3-8f30-e701ac1b9055\"},{\"id\":\"9a203fd3-6d14-435d-9a85-d79ad011dbd9\"},{\"id\":\"93462560-b508-4e1c-9aa0-c298b8871895\"}],\"min_width\":0,\"margin\":0,\"sizing_mode\":\"stretch_width\",\"align\":\"start\"}},{\"type\":\"object\",\"name\":\"Figure\",\"id\":\"9a30fca7-cdc1-4877-bea9-b88c9a239b4e\",\"attributes\":{\"width\":700,\"height\":300,\"margin\":[5,10],\"sizing_mode\":\"fixed\",\"align\":\"start\",\"x_range\":{\"type\":\"object\",\"name\":\"Range1d\",\"id\":\"f2e9680c-dbd3-424e-9b39-34534e0411a0\",\"attributes\":{\"name\":\"value\",\"tags\":[[[\"value\",null]],[]],\"start\":-3.139913404819652,\"end\":3.371618833101367,\"reset_start\":-3.139913404819652,\"reset_end\":3.371618833101367}},\"y_range\":{\"type\":\"object\",\"name\":\"Range1d\",\"id\":\"fe1a904b-aab3-40dd-8054-4692e8fda3d3\",\"attributes\":{\"name\":\"value_count\",\"tags\":[[[\"Count\",null]],{\"type\":\"map\",\"entries\":[[\"invert_yaxis\",false],[\"autorange\",false]]}],\"end\":84.5,\"reset_start\":0.0,\"reset_end\":84.5}},\"x_scale\":{\"type\":\"object\",\"name\":\"LinearScale\",\"id\":\"549e28f9-4141-48ff-9d25-855e9ec52898\"},\"y_scale\":{\"type\":\"object\",\"name\":\"LinearScale\",\"id\":\"ceb4a7fe-a76d-4a83-bd51-66b665f1c314\"},\"title\":{\"type\":\"object\",\"name\":\"Title\",\"id\":\"0c6c4295-2353-4a49-87c7-da2f3264cc25\",\"attributes\":{\"text\":\"Histogram (hvPlot)\",\"text_color\":\"black\",\"text_font_size\":\"12pt\"}},\"renderers\":[{\"type\":\"object\",\"name\":\"GlyphRenderer\",\"id\":\"97e5af9b-ddf0-4a02-b099-1e3bd3d5f511\",\"attributes\":{\"data_source\":{\"type\":\"object\",\"name\":\"ColumnDataSource\",\"id\":\"602f5778-0599-4e71-8383-faf48a4cbee3\",\"attributes\":{\"selected\":{\"type\":\"object\",\"name\":\"Selection\",\"id\":\"31b3a464-666c-44c9-8434-46aa08d0262c\",\"attributes\":{\"indices\":[],\"line_indices\":[]}},\"selection_policy\":{\"type\":\"object\",\"name\":\"UnionRenderers\",\"id\":\"2673a848-bcda-421a-b937-64c064201fc2\"},\"data\":{\"type\":\"map\",\"entries\":[[\"top\",{\"type\":\"ndarray\",\"array\":{\"type\":\"bytes\",\"data\":\"AgAAAAMAAAAEAAAABQAAAAoAAAAQAAAAGgAAACcAAAAoAAAAMgAAAEMAAABNAAAAPwAAAEUAAABAAAAASwAAAEMAAAA7AAAARwAAADcAAAAlAAAAJQAAAB8AAAAMAAAABgAAAAUAAAADAAAAAgAAAAMAAAACAAAA\"},\"shape\":[30],\"dtype\":\"int32\",\"order\":\"little\"}],[\"left\",{\"type\":\"ndarray\",\"array\":{\"type\":\"bytes\",\"data\":\"8i5c/SIQB8BmfxC2tXYFwNrPxG5I3QPATiB5J9tDAsDCcC3gbaoAwGyCwzEBIv6/VSMsoybv+r89xJQUTLz3vyVl/YVxifS/DQZm95ZW8b/qTZ3ReEfsv7yPbrTD4eW/GKN/Lh343r+4JiL0sizSv2CpEucihbW/IEhjAoaovT9oTva6izXUP2Tlqfp6gOA/lKPYFzDm5j/EYQc15UvtP/oPGynN2PE/EG+yt6cL9T8ozklGgj74P0At4dRccfs/WIx4Yzek/j+49Qf5iOsAQESlU0D2hAJA0FSfh2MeBEBcBOvO0LcFQOizNhY+UQdA\"},\"shape\":[30],\"dtype\":\"float64\",\"order\":\"little\"}],[\"right\",{\"type\":\"ndarray\",\"array\":{\"type\":\"bytes\",\"data\":\"Zn8QtrV2BcDaz8RuSN0DwE4geSfbQwLAwnAt4G2qAMBsgsMxASL+v1UjLKMm7/q/PcSUFEy8978lZf2FcYn0vw0GZveWVvG/6k2d0XhH7L+8j260w+Hlvxijfy4d+N6/uCYi9LIs0r9gqRLnIoW1vyBIYwKGqL0/aE72uos11D9k5an6eoDgP5Sj2Bcw5uY/xGEHNeVL7T/6DxspzdjxPxBvsrenC/U/KM5JRoI++D9ALeHUXHH7P1iMeGM3pP4/uPUH+YjrAEBEpVNA9oQCQNBUn4djHgRAXATrztC3BUDoszYWPlEHQHRjgl2r6ghA\"},\"shape\":[30],\"dtype\":\"float64\",\"order\":\"little\"}],[\"value\",{\"type\":\"ndarray\",\"array\":{\"type\":\"bytes\",\"data\":\"LFe2WWxDBsCgp2oS/6kEwBT4HsuREAPAiEjTgyR3AcD4MQ95brv/v+DSd+qTiPy/yXPgW7lV+b+xFEnN3iL2v5m1sT4E8PK/Aq00YFN677/T7gVDnhTpv6Qw1yXpruK/6ORQEWiS2L8Q0eat+43Hv4A9oTbGRpA/cCCPO62fyz+YDCXYQJvaP3xEQYlVs+M/rAJwpgoZ6j9uYM/hXz/wP4W/ZnA6cvM/nB7+/hSl9j+0fZWN79f5P8zcLBzKCv0/8h1iVdIeAEB+za2cP7gBQAp9+eOsUQNAlixFKxrrBEAi3JByh4QGQK6L3Ln0HQhA\"},\"shape\":[30],\"dtype\":\"float64\",\"order\":\"little\"}],[\"value_count\",{\"type\":\"ndarray\",\"array\":{\"type\":\"bytes\",\"data\":\"AgAAAAMAAAAEAAAABQAAAAoAAAAQAAAAGgAAACcAAAAoAAAAMgAAAEMAAABNAAAAPwAAAEUAAABAAAAASwAAAEMAAAA7AAAARwAAADcAAAAlAAAAJQAAAB8AAAAMAAAABgAAAAUAAAADAAAAAgAAAAMAAAACAAAA\"},\"shape\":[30],\"dtype\":\"int32\",\"order\":\"little\"}]]}}},\"view\":{\"type\":\"object\",\"name\":\"CDSView\",\"id\":\"10a8846f-39f7-48c3-a57f-b9b0037cb587\",\"attributes\":{\"filter\":{\"type\":\"object\",\"name\":\"AllIndices\",\"id\":\"df34aa55-fbb7-4a44-9e34-bf2a9629b1ba\"}}},\"glyph\":{\"type\":\"object\",\"name\":\"Quad\",\"id\":\"a4000e6f-0949-48c7-b444-967397c23a6d\",\"attributes\":{\"tags\":[\"apply_ranges\"],\"left\":{\"type\":\"field\",\"field\":\"left\"},\"right\":{\"type\":\"field\",\"field\":\"right\"},\"bottom\":{\"type\":\"value\",\"value\":0},\"top\":{\"type\":\"field\",\"field\":\"top\"},\"fill_color\":{\"type\":\"value\",\"value\":\"#30a2da\"},\"hatch_color\":{\"type\":\"value\",\"value\":\"#30a2da\"}}},\"selection_glyph\":{\"type\":\"object\",\"name\":\"Quad\",\"id\":\"9e3477aa-4f2c-4975-a86a-7f43c42d1a3e\",\"attributes\":{\"tags\":[\"apply_ranges\"],\"left\":{\"type\":\"field\",\"field\":\"left\"},\"right\":{\"type\":\"field\",\"field\":\"right\"},\"bottom\":{\"type\":\"value\",\"value\":0},\"top\":{\"type\":\"field\",\"field\":\"top\"},\"line_color\":{\"type\":\"value\",\"value\":\"black\"},\"line_alpha\":{\"type\":\"value\",\"value\":1.0},\"line_width\":{\"type\":\"value\",\"value\":1},\"line_join\":{\"type\":\"value\",\"value\":\"bevel\"},\"line_cap\":{\"type\":\"value\",\"value\":\"butt\"},\"line_dash\":{\"type\":\"value\",\"value\":[]},\"line_dash_offset\":{\"type\":\"value\",\"value\":0},\"fill_color\":{\"type\":\"value\",\"value\":\"#30a2da\"},\"fill_alpha\":{\"type\":\"value\",\"value\":1.0},\"hatch_color\":{\"type\":\"value\",\"value\":\"#30a2da\"},\"hatch_alpha\":{\"type\":\"value\",\"value\":1.0},\"hatch_scale\":{\"type\":\"value\",\"value\":12.0},\"hatch_pattern\":{\"type\":\"value\",\"value\":null},\"hatch_weight\":{\"type\":\"value\",\"value\":1.0}}},\"nonselection_glyph\":{\"type\":\"object\",\"name\":\"Quad\",\"id\":\"05361b02-9844-43c1-813d-2e4338f729af\",\"attributes\":{\"tags\":[\"apply_ranges\"],\"left\":{\"type\":\"field\",\"field\":\"left\"},\"right\":{\"type\":\"field\",\"field\":\"right\"},\"bottom\":{\"type\":\"value\",\"value\":0},\"top\":{\"type\":\"field\",\"field\":\"top\"},\"line_alpha\":{\"type\":\"value\",\"value\":0.1},\"fill_color\":{\"type\":\"value\",\"value\":\"#30a2da\"},\"fill_alpha\":{\"type\":\"value\",\"value\":0.1},\"hatch_color\":{\"type\":\"value\",\"value\":\"#30a2da\"},\"hatch_alpha\":{\"type\":\"value\",\"value\":0.1}}},\"muted_glyph\":{\"type\":\"object\",\"name\":\"Quad\",\"id\":\"72f14fda-367a-433d-b15b-604d198a7861\",\"attributes\":{\"tags\":[\"apply_ranges\"],\"left\":{\"type\":\"field\",\"field\":\"left\"},\"right\":{\"type\":\"field\",\"field\":\"right\"},\"bottom\":{\"type\":\"value\",\"value\":0},\"top\":{\"type\":\"field\",\"field\":\"top\"},\"line_alpha\":{\"type\":\"value\",\"value\":0.2},\"fill_color\":{\"type\":\"value\",\"value\":\"#30a2da\"},\"fill_alpha\":{\"type\":\"value\",\"value\":0.2},\"hatch_color\":{\"type\":\"value\",\"value\":\"#30a2da\"},\"hatch_alpha\":{\"type\":\"value\",\"value\":0.2}}}}}],\"toolbar\":{\"type\":\"object\",\"name\":\"Toolbar\",\"id\":\"d69b5efd-a110-473d-bbf4-2394cd4a78ae\",\"attributes\":{\"tools\":[{\"type\":\"object\",\"name\":\"WheelZoomTool\",\"id\":\"39470ecb-6291-4eb7-9cef-3a13473efa35\",\"attributes\":{\"tags\":[\"hv_created\"],\"renderers\":\"auto\",\"zoom_together\":\"none\"}},{\"type\":\"object\",\"name\":\"HoverTool\",\"id\":\"70d2239d-4c1d-4b07-ac65-c8833d899c5b\",\"attributes\":{\"tags\":[\"hv_created\"],\"renderers\":[{\"id\":\"97e5af9b-ddf0-4a02-b099-1e3bd3d5f511\"}],\"tooltips\":[[\"value\",\"@{value}\"],[\"Count\",\"@{value_count}\"]]}},{\"type\":\"object\",\"name\":\"SaveTool\",\"id\":\"9726608a-6d72-438c-99f8-4b21e6e155be\"},{\"type\":\"object\",\"name\":\"PanTool\",\"id\":\"01b67d51-2e63-41b2-820b-cd72e1e17fdf\"},{\"type\":\"object\",\"name\":\"BoxZoomTool\",\"id\":\"11c204c5-ece4-4c9a-ba91-52c3d7b136a2\",\"attributes\":{\"dimensions\":\"both\",\"overlay\":{\"type\":\"object\",\"name\":\"BoxAnnotation\",\"id\":\"7a135341-3726-48f6-9075-eeb5bf549ea4\",\"attributes\":{\"syncable\":false,\"line_color\":\"black\",\"line_alpha\":1.0,\"line_width\":2,\"line_dash\":[4,4],\"fill_color\":\"lightgrey\",\"fill_alpha\":0.5,\"level\":\"overlay\",\"visible\":false,\"left\":{\"type\":\"number\",\"value\":\"nan\"},\"right\":{\"type\":\"number\",\"value\":\"nan\"},\"top\":{\"type\":\"number\",\"value\":\"nan\"},\"bottom\":{\"type\":\"number\",\"value\":\"nan\"},\"left_units\":\"canvas\",\"right_units\":\"canvas\",\"top_units\":\"canvas\",\"bottom_units\":\"canvas\",\"handles\":{\"type\":\"object\",\"name\":\"BoxInteractionHandles\",\"id\":\"e9844238-77a3-44a3-9a1a-4ef5d5b141fd\",\"attributes\":{\"all\":{\"type\":\"object\",\"name\":\"AreaVisuals\",\"id\":\"5a0d0b80-e3e2-44ca-b7cc-2928d63fc12f\",\"attributes\":{\"fill_color\":\"white\",\"hover_fill_color\":\"lightgray\"}}}}}}}},{\"type\":\"object\",\"name\":\"ResetTool\",\"id\":\"ce4c6019-db04-4b59-8c9d-d3f839b9d2be\"}],\"active_drag\":{\"id\":\"01b67d51-2e63-41b2-820b-cd72e1e17fdf\"},\"active_scroll\":{\"id\":\"39470ecb-6291-4eb7-9cef-3a13473efa35\"}}},\"left\":[{\"type\":\"object\",\"name\":\"LinearAxis\",\"id\":\"2bb91bc3-5cff-4fed-860e-60a148c1dd54\",\"attributes\":{\"ticker\":{\"type\":\"object\",\"name\":\"BasicTicker\",\"id\":\"3b1ddeed-69d4-42e7-b4aa-62ad51d0b099\",\"attributes\":{\"mantissas\":[1,2,5]}},\"formatter\":{\"type\":\"object\",\"name\":\"BasicTickFormatter\",\"id\":\"4cd9adde-1789-4924-81b7-caa7ea2b70e1\"},\"axis_label\":\"\",\"major_label_policy\":{\"type\":\"object\",\"name\":\"AllLabels\",\"id\":\"38a0a1e8-e3e0-4989-9f0b-7b899a63190a\"}}}],\"below\":[{\"type\":\"object\",\"name\":\"LinearAxis\",\"id\":\"40618ee7-af72-4335-83ff-bcfa11f4d870\",\"attributes\":{\"ticker\":{\"type\":\"object\",\"name\":\"BasicTicker\",\"id\":\"303320ea-0b5a-4897-8104-05ce77f50842\",\"attributes\":{\"mantissas\":[1,2,5]}},\"formatter\":{\"type\":\"object\",\"name\":\"BasicTickFormatter\",\"id\":\"175ad0d5-ac4a-4e59-ae65-a4bd0c79f8ac\"},\"axis_label\":\"value\",\"major_label_policy\":{\"type\":\"object\",\"name\":\"AllLabels\",\"id\":\"33bcc893-2c07-4647-96dd-f1ec5184896c\"}}}],\"center\":[{\"type\":\"object\",\"name\":\"Grid\",\"id\":\"b3d707b6-e3ce-457f-89b4-d1497ffc56ee\",\"attributes\":{\"axis\":{\"id\":\"40618ee7-af72-4335-83ff-bcfa11f4d870\"},\"grid_line_color\":null}},{\"type\":\"object\",\"name\":\"Grid\",\"id\":\"930bd903-0f3e-41b3-96ea-4413a1223694\",\"attributes\":{\"dimension\":1,\"axis\":{\"id\":\"2bb91bc3-5cff-4fed-860e-60a148c1dd54\"},\"grid_line_color\":null}}],\"min_border_top\":10,\"min_border_bottom\":10,\"min_border_left\":10,\"min_border_right\":10,\"output_backend\":\"webgl\"}},{\"type\":\"object\",\"name\":\"Spacer\",\"id\":\"a614bd29-1055-4fee-bba4-a1ff688c1333\",\"attributes\":{\"name\":\"HSpacer00290\",\"stylesheets\":[\"\\n:host(.pn-loading):before, .pn-loading:before {\\n  background-color: #c3c3c3;\\n  mask-size: auto calc(min(50%, 400px));\\n  -webkit-mask-size: auto calc(min(50%, 400px));\\n}\",{\"id\":\"706981a2-a6ee-4eb3-8f30-e701ac1b9055\"},{\"id\":\"9a203fd3-6d14-435d-9a85-d79ad011dbd9\"},{\"id\":\"93462560-b508-4e1c-9aa0-c298b8871895\"}],\"min_width\":0,\"margin\":0,\"sizing_mode\":\"stretch_width\",\"align\":\"start\"}}]}}],\"defs\":[{\"type\":\"model\",\"name\":\"ReactiveHTML1\"},{\"type\":\"model\",\"name\":\"FlexBox1\",\"properties\":[{\"name\":\"align_content\",\"kind\":\"Any\",\"default\":\"flex-start\"},{\"name\":\"align_items\",\"kind\":\"Any\",\"default\":\"flex-start\"},{\"name\":\"flex_direction\",\"kind\":\"Any\",\"default\":\"row\"},{\"name\":\"flex_wrap\",\"kind\":\"Any\",\"default\":\"wrap\"},{\"name\":\"gap\",\"kind\":\"Any\",\"default\":\"\"},{\"name\":\"justify_content\",\"kind\":\"Any\",\"default\":\"flex-start\"}]},{\"type\":\"model\",\"name\":\"FloatPanel1\",\"properties\":[{\"name\":\"config\",\"kind\":\"Any\",\"default\":{\"type\":\"map\"}},{\"name\":\"contained\",\"kind\":\"Any\",\"default\":true},{\"name\":\"position\",\"kind\":\"Any\",\"default\":\"right-top\"},{\"name\":\"offsetx\",\"kind\":\"Any\",\"default\":null},{\"name\":\"offsety\",\"kind\":\"Any\",\"default\":null},{\"name\":\"theme\",\"kind\":\"Any\",\"default\":\"primary\"},{\"name\":\"status\",\"kind\":\"Any\",\"default\":\"normalized\"}]},{\"type\":\"model\",\"name\":\"GridStack1\",\"properties\":[{\"name\":\"ncols\",\"kind\":\"Any\",\"default\":null},{\"name\":\"nrows\",\"kind\":\"Any\",\"default\":null},{\"name\":\"allow_resize\",\"kind\":\"Any\",\"default\":true},{\"name\":\"allow_drag\",\"kind\":\"Any\",\"default\":true},{\"name\":\"state\",\"kind\":\"Any\",\"default\":[]}]},{\"type\":\"model\",\"name\":\"drag1\",\"properties\":[{\"name\":\"slider_width\",\"kind\":\"Any\",\"default\":5},{\"name\":\"slider_color\",\"kind\":\"Any\",\"default\":\"black\"},{\"name\":\"value\",\"kind\":\"Any\",\"default\":50}]},{\"type\":\"model\",\"name\":\"click1\",\"properties\":[{\"name\":\"terminal_output\",\"kind\":\"Any\",\"default\":\"\"},{\"name\":\"debug_name\",\"kind\":\"Any\",\"default\":\"\"},{\"name\":\"clears\",\"kind\":\"Any\",\"default\":0}]},{\"type\":\"model\",\"name\":\"ReactiveESM1\",\"properties\":[{\"name\":\"esm_constants\",\"kind\":\"Any\",\"default\":{\"type\":\"map\"}}]},{\"type\":\"model\",\"name\":\"JSComponent1\",\"properties\":[{\"name\":\"esm_constants\",\"kind\":\"Any\",\"default\":{\"type\":\"map\"}}]},{\"type\":\"model\",\"name\":\"ReactComponent1\",\"properties\":[{\"name\":\"use_shadow_dom\",\"kind\":\"Any\",\"default\":true},{\"name\":\"esm_constants\",\"kind\":\"Any\",\"default\":{\"type\":\"map\"}}]},{\"type\":\"model\",\"name\":\"AnyWidgetComponent1\",\"properties\":[{\"name\":\"use_shadow_dom\",\"kind\":\"Any\",\"default\":true},{\"name\":\"esm_constants\",\"kind\":\"Any\",\"default\":{\"type\":\"map\"}}]},{\"type\":\"model\",\"name\":\"FastWrapper1\",\"properties\":[{\"name\":\"object\",\"kind\":\"Any\",\"default\":null},{\"name\":\"style\",\"kind\":\"Any\",\"default\":null}]},{\"type\":\"model\",\"name\":\"NotificationArea1\",\"properties\":[{\"name\":\"js_events\",\"kind\":\"Any\",\"default\":{\"type\":\"map\"}},{\"name\":\"max_notifications\",\"kind\":\"Any\",\"default\":5},{\"name\":\"notifications\",\"kind\":\"Any\",\"default\":[]},{\"name\":\"position\",\"kind\":\"Any\",\"default\":\"bottom-right\"},{\"name\":\"_clear\",\"kind\":\"Any\",\"default\":0},{\"name\":\"types\",\"kind\":\"Any\",\"default\":[{\"type\":\"map\",\"entries\":[[\"type\",\"warning\"],[\"background\",\"#ffc107\"],[\"icon\",{\"type\":\"map\",\"entries\":[[\"className\",\"fas fa-exclamation-triangle\"],[\"tagName\",\"i\"],[\"color\",\"white\"]]}]]},{\"type\":\"map\",\"entries\":[[\"type\",\"info\"],[\"background\",\"#007bff\"],[\"icon\",{\"type\":\"map\",\"entries\":[[\"className\",\"fas fa-info-circle\"],[\"tagName\",\"i\"],[\"color\",\"white\"]]}]]}]}]},{\"type\":\"model\",\"name\":\"Notification\",\"properties\":[{\"name\":\"background\",\"kind\":\"Any\",\"default\":null},{\"name\":\"duration\",\"kind\":\"Any\",\"default\":3000},{\"name\":\"icon\",\"kind\":\"Any\",\"default\":null},{\"name\":\"message\",\"kind\":\"Any\",\"default\":\"\"},{\"name\":\"notification_type\",\"kind\":\"Any\",\"default\":null},{\"name\":\"_rendered\",\"kind\":\"Any\",\"default\":false},{\"name\":\"_destroyed\",\"kind\":\"Any\",\"default\":false}]},{\"type\":\"model\",\"name\":\"TemplateActions1\",\"properties\":[{\"name\":\"open_modal\",\"kind\":\"Any\",\"default\":0},{\"name\":\"close_modal\",\"kind\":\"Any\",\"default\":0}]},{\"type\":\"model\",\"name\":\"BootstrapTemplateActions1\",\"properties\":[{\"name\":\"open_modal\",\"kind\":\"Any\",\"default\":0},{\"name\":\"close_modal\",\"kind\":\"Any\",\"default\":0}]},{\"type\":\"model\",\"name\":\"TemplateEditor1\",\"properties\":[{\"name\":\"layout\",\"kind\":\"Any\",\"default\":[]}]},{\"type\":\"model\",\"name\":\"MaterialTemplateActions1\",\"properties\":[{\"name\":\"open_modal\",\"kind\":\"Any\",\"default\":0},{\"name\":\"close_modal\",\"kind\":\"Any\",\"default\":0}]},{\"type\":\"model\",\"name\":\"request_value1\",\"properties\":[{\"name\":\"fill\",\"kind\":\"Any\",\"default\":\"none\"},{\"name\":\"_synced\",\"kind\":\"Any\",\"default\":null},{\"name\":\"_request_sync\",\"kind\":\"Any\",\"default\":0}]},{\"type\":\"model\",\"name\":\"holoviews.plotting.bokeh.raster.HoverModel\",\"properties\":[{\"name\":\"xy\",\"kind\":\"Any\",\"default\":null},{\"name\":\"data\",\"kind\":\"Any\",\"default\":null}]}]}};\n",
       "  var render_items = [{\"docid\":\"bdf03fc4-beb2-4c88-8dad-f5cd386c2427\",\"roots\":{\"7e2f57ea-cf48-4890-940f-5e40ce7fc1ec\":\"dd570c96-78df-48ab-a5a0-94b70da99c30\"},\"root_ids\":[\"7e2f57ea-cf48-4890-940f-5e40ce7fc1ec\"]}];\n",
       "  var docs = Object.values(docs_json)\n",
       "  if (!docs) {\n",
       "    return\n",
       "  }\n",
       "  const py_version = docs[0].version.replace('rc', '-rc.').replace('.dev', '-dev.')\n",
       "  async function embed_document(root) {\n",
       "    var Bokeh = get_bokeh(root)\n",
       "    await Bokeh.embed.embed_items_notebook(docs_json, render_items);\n",
       "    for (const render_item of render_items) {\n",
       "      for (const root_id of render_item.root_ids) {\n",
       "\tconst id_el = document.getElementById(root_id)\n",
       "\tif (id_el.children.length && id_el.children[0].hasAttribute('data-root-id')) {\n",
       "\t  const root_el = id_el.children[0]\n",
       "\t  root_el.id = root_el.id + '-rendered'\n",
       "\t  for (const child of root_el.children) {\n",
       "            // Ensure JupyterLab does not capture keyboard shortcuts\n",
       "            // see: https://jupyterlab.readthedocs.io/en/4.1.x/extension/notebook.html#keyboard-interaction-model\n",
       "\t    child.setAttribute('data-lm-suppress-shortcuts', 'true')\n",
       "\t  }\n",
       "\t}\n",
       "      }\n",
       "    }\n",
       "  }\n",
       "  function get_bokeh(root) {\n",
       "    if (root.Bokeh === undefined) {\n",
       "      return null\n",
       "    } else if (root.Bokeh.version !== py_version) {\n",
       "      if (root.Bokeh.versions === undefined || !root.Bokeh.versions.has(py_version)) {\n",
       "\treturn null\n",
       "      }\n",
       "      return root.Bokeh.versions.get(py_version);\n",
       "    } else if (root.Bokeh.version === py_version) {\n",
       "      return root.Bokeh\n",
       "    }\n",
       "    return null\n",
       "  }\n",
       "  function is_loaded(root) {\n",
       "    var Bokeh = get_bokeh(root)\n",
       "    return (Bokeh != null && Bokeh.Panel !== undefined)\n",
       "  }\n",
       "  if (is_loaded(root)) {\n",
       "    embed_document(root);\n",
       "  } else {\n",
       "    var attempts = 0;\n",
       "    var timer = setInterval(function(root) {\n",
       "      if (is_loaded(root)) {\n",
       "        clearInterval(timer);\n",
       "        embed_document(root);\n",
       "      } else if (document.readyState == \"complete\") {\n",
       "        attempts++;\n",
       "        if (attempts > 200) {\n",
       "          clearInterval(timer);\n",
       "\t  var Bokeh = get_bokeh(root)\n",
       "\t  if (Bokeh == null || Bokeh.Panel == null) {\n",
       "            console.warn(\"Panel: ERROR: Unable to run Panel code because Bokeh or Panel library is missing\");\n",
       "\t  } else {\n",
       "\t    console.warn(\"Panel: WARNING: Attempting to render but not all required libraries could be resolved.\")\n",
       "\t    embed_document(root)\n",
       "\t  }\n",
       "        }\n",
       "      }\n",
       "    }, 25, root)\n",
       "  }\n",
       "})(window);</script>"
      ],
      "text/plain": [
       ":Histogram   [value]   (Count)"
      ]
     },
     "execution_count": 18,
     "metadata": {
      "application/vnd.holoviews_exec.v0+json": {
       "id": "7e2f57ea-cf48-4890-940f-5e40ce7fc1ec"
      }
     },
     "output_type": "execute_result"
    }
   ],
   "source": [
    "import hvplot.pandas\n",
    "\n",
    "df.hvplot.hist(y=\"value\", bins=30, title=\"Histogram (hvPlot)\")"
   ]
  }
 ],
 "metadata": {
  "kernelspec": {
   "display_name": "kumaroot-py3.13",
   "language": "python",
   "name": "python3"
  },
  "language_info": {
   "codemirror_mode": {
    "name": "ipython",
    "version": 3
   },
   "file_extension": ".py",
   "mimetype": "text/x-python",
   "name": "python",
   "nbconvert_exporter": "python",
   "pygments_lexer": "ipython3",
   "version": "3.13.5"
  }
 },
 "nbformat": 4,
 "nbformat_minor": 5
}

{
 "cells": [
  {
   "cell_type": "markdown",
   "metadata": {},
   "source": [
    "---\n",
    "title: 位置情報したい（GeoPandas）\n",
    "---\n",
    "\n",
    "- [pandas.DataFrameからgeopandas.GeoDataFrameに変換する方法](https://geopandas.org/en/stable/gallery/create_geopandas_from_pandas.html)\n",
    "- ``pd.DataFrame``で位置情報を扱う場合、``geopandas.GeoDataFrame``に変換が必要です。\n",
    "- ``geopandas.GeoDataFrame``は``pd.DataFrame``のサブクラスです。\n",
    "- ``geopandas.points_from_xy(緯度のカラム名、経度のカラム名、高度のカラム名)``を使って、該当カラムを``POINT``オブジェクトに変換します。\n",
    "- ``POINT``オブジェクトに変換するときに、空間座標系を指定する必要があります。GPSの場合は``EPSG:4326``（地理座標系）にしておけばよいようです。"
   ]
  },
  {
   "cell_type": "code",
   "execution_count": null,
   "metadata": {},
   "outputs": [],
   "source": [
    "from pathlib import Path\n",
    "import pandas as pd\n",
    "import geopandas as gpd\n",
    "import geodatasets\n",
    "import hvplot.pandas\n",
    "\n",
    "print(f\"Pandas: {pd.__version__}\")\n",
    "print(f\"GeoPandas: {gpd.__version__}\")\n",
    "print(f\"GeoDataSets: {geodatasets.__version__}\")\n",
    "print(f\"HvPlot: {hvplot.__version__}\")"
   ]
  },
  {
   "cell_type": "markdown",
   "metadata": {},
   "source": [
    "GPSを記録したファイル名を指定します。"
   ]
  },
  {
   "cell_type": "code",
   "execution_count": null,
   "metadata": {},
   "outputs": [],
   "source": [
    "read_from = Path(\"./_static/phyphox/_GPS_2024-04-21_14-00-07/RawData.csv\")\n",
    "read_from.exists()"
   ]
  },
  {
   "cell_type": "markdown",
   "metadata": {},
   "source": [
    "CSVファイルを``pd.DataFrame``として読み込みます。"
   ]
  },
  {
   "cell_type": "code",
   "execution_count": null,
   "metadata": {},
   "outputs": [],
   "source": [
    "names = [\n",
    "    \"time\",\n",
    "    \"latitude\",  # 緯度\n",
    "    \"longitude\",  # 経度\n",
    "    \"altitude\",  # 高度\n",
    "    \"altitude_wgs84\",  # 高度（地理座標系）\n",
    "    \"speed\",\n",
    "    \"direction\",\n",
    "    \"distance\",\n",
    "    \"horizontal_accuracy\",\n",
    "    \"vertical_accuracy\",\n",
    "    \"satellites\",\n",
    "]\n",
    "\n",
    "data = pd.read_csv(read_from, names=names, skiprows=1)\n",
    "len(data)"
   ]
  },
  {
   "cell_type": "markdown",
   "metadata": {},
   "source": [
    "読み込んだデータフレームを確認します。\n",
    "緯度、経度、高度がただの数値として読み込まれていることが分かります。\n",
    "このままでも、位置座標としてプロットできます。"
   ]
  },
  {
   "cell_type": "code",
   "execution_count": null,
   "metadata": {},
   "outputs": [],
   "source": [
    "data.head()"
   ]
  },
  {
   "cell_type": "code",
   "execution_count": null,
   "metadata": {},
   "outputs": [],
   "source": [
    "data.hvplot.scatter(x=\"time\", y=\"latitude\")\n",
    "data.hvplot.scatter(x=\"time\", y=\"longitude\")\n",
    "data.hvplot.scatter(x=\"longitude\", y=\"latitude\")"
   ]
  },
  {
   "cell_type": "code",
   "execution_count": null,
   "metadata": {},
   "outputs": [],
   "source": [
    "data.hvplot.scatter(x=\"altitude\", y=\"altitude_wgs84\")"
   ]
  },
  {
   "cell_type": "markdown",
   "metadata": {},
   "source": [
    "経過時間と移動速度をプロットしてみました。\n",
    "速度が0になっている場所は、新幹線が停止した駅です。\n",
    "\n",
    "また、ぽつぽつと`370 km/h`に近いピークがありますが、トンネルなどでGPS情報を受信できない状態が続いたあとで、トンネルから抜けた後の地点です。"
   ]
  },
  {
   "cell_type": "code",
   "execution_count": null,
   "metadata": {},
   "outputs": [],
   "source": [
    "data[\"speed_kmh\"] = data[\"speed\"] * 3.6\n",
    "data.hvplot.scatter(x=\"time\", y=\"speed_kmh\", c=\"altitude\")"
   ]
  },
  {
   "cell_type": "code",
   "execution_count": null,
   "metadata": {},
   "outputs": [],
   "source": [
    "data.hvplot.scatter(\n",
    "    x=\"time\",\n",
    "    y=\"latitude\",\n",
    ")\n",
    "data.hvplot.errorbars(x=\"time\", y=\"latitude\", yerr1=\"horizontal_accuracy\")\n",
    "data.hvplot.errorbars(x=\"time\", y=\"altitude\", yerr1=\"vertical_accuracy\", c=\"speed_kmh\")"
   ]
  },
  {
   "cell_type": "markdown",
   "metadata": {},
   "source": [
    "# GeoDataFrameに変換する\n",
    "\n",
    "- `GeoDataFrame`には`shapely`オブジェクトが必要\n",
    "- `points_from_xy()`を使って経度／緯度のデータを`shapely.Point`オブジェクトのリストに変換する\n",
    "- 上で作成したデータを`geometry`に設定する\n",
    "\n",
    "---\n",
    "\n",
    "- [geopandas.points_from_xy](https://geopandas.org/en/stable/docs/reference/api/geopandas.points_from_xy.html)\n",
    "- [EPSG:4326](https://epsg.io/4326) : WGS84 / 地理座標系（緯度経度） / GPSで利用される座標系\n",
    "  - European Petroleum Survey Group（現在 International Association of Oil & Gas Producers)"
   ]
  },
  {
   "cell_type": "code",
   "execution_count": null,
   "metadata": {},
   "outputs": [],
   "source": [
    "gps = gpd.GeoDataFrame(\n",
    "    data,\n",
    "    geometry=gpd.points_from_xy(\n",
    "        data.longitude, data.latitude, data.altitude, crs=\"EPSG:4326\"\n",
    "    ),\n",
    "    crs=\"EPSG:4326\",\n",
    ")\n",
    "gps"
   ]
  },
  {
   "cell_type": "markdown",
   "metadata": {},
   "source": [
    "``geometry``というカラムが追加されています。"
   ]
  },
  {
   "cell_type": "code",
   "execution_count": null,
   "metadata": {},
   "outputs": [],
   "source": [
    "gps.plot()"
   ]
  },
  {
   "cell_type": "code",
   "execution_count": null,
   "metadata": {},
   "outputs": [],
   "source": [
    "data.plot.scatter(x=\"longitude\", y=\"latitude\", c=\"altitude\")"
   ]
  },
  {
   "cell_type": "code",
   "execution_count": null,
   "metadata": {},
   "outputs": [],
   "source": [
    "data.plot.scatter(x=\"longitude\", y=\"latitude\", c=\"time\")"
   ]
  },
  {
   "cell_type": "code",
   "execution_count": null,
   "metadata": {},
   "outputs": [],
   "source": [
    "# nybb = geodatasets.get_path(\"nybb\")\n",
    "cities = gpd.datasets.get_path(\"naturalearth_cities\")\n",
    "geo = gpd.read_file(cities)"
   ]
  },
  {
   "cell_type": "code",
   "execution_count": null,
   "metadata": {},
   "outputs": [],
   "source": [
    "q = \"name == 'Tokyo' or name == 'Kyoto'\"\n",
    "geo.query(q).plot()"
   ]
  },
  {
   "cell_type": "code",
   "execution_count": null,
   "metadata": {},
   "outputs": [],
   "source": [
    "geo.hvplot(tiles=\"EsriTerrain\")"
   ]
  },
  {
   "cell_type": "code",
   "execution_count": null,
   "metadata": {},
   "outputs": [],
   "source": [
    "import cartopy.crs as ccrs"
   ]
  },
  {
   "cell_type": "code",
   "execution_count": null,
   "metadata": {},
   "outputs": [],
   "source": [
    "geo.hvplot(\n",
    "    coastline=True,\n",
    "    projection=ccrs.Geostationary(central_longitude=-30),\n",
    "    global_extent=True,\n",
    ")"
   ]
  },
  {
   "cell_type": "code",
   "execution_count": null,
   "metadata": {},
   "outputs": [],
   "source": [
    "countries = gpd.read_file(gpd.datasets.get_path(\"naturalearth_lowres\"))\n",
    "countries"
   ]
  },
  {
   "cell_type": "code",
   "execution_count": null,
   "metadata": {},
   "outputs": [],
   "source": [
    "countries.value_counts(\"continent\")\n",
    "countries.value_counts(\"name\")\n",
    "\n",
    "q = \"name == 'Japan'\""
   ]
  },
  {
   "cell_type": "code",
   "execution_count": null,
   "metadata": {},
   "outputs": [],
   "source": [
    "import matplotlib.pyplot as plt\n",
    "\n",
    "fig, axs = plt.subplots()\n",
    "\n",
    "countries.query(q).plot(ax=axs)\n",
    "gps.plot.scatter(x=\"longitude\", y=\"latitude\", c=\"altitude_wgs84\", ax=axs)"
   ]
  },
  {
   "cell_type": "code",
   "execution_count": null,
   "metadata": {},
   "outputs": [],
   "source": []
  }
 ],
 "metadata": {
  "kernelspec": {
   "display_name": ".venv",
   "language": "python",
   "name": "python3"
  },
  "language_info": {
   "codemirror_mode": {
    "name": "ipython",
    "version": 3
   },
   "file_extension": ".py",
   "mimetype": "text/x-python",
   "name": "python",
   "nbconvert_exporter": "python",
   "pygments_lexer": "ipython3",
   "version": "3.12.3"
  }
 },
 "nbformat": 4,
 "nbformat_minor": 2
}

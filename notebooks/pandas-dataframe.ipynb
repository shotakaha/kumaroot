{
 "cells": [
  {
   "cell_type": "markdown",
   "metadata": {},
   "source": [
    "---\n",
    "title: データフレームしたい（pd.DataFrame）\n",
    "subject: pandasの使い方\n",
    "keywords: [python, pandas]\n",
    "authors:\n",
    "  - Shota Takahashi\n",
    "exports:\n",
    "  - format: pdf\n",
    "---"
   ]
  },
  {
   "cell_type": "code",
   "execution_count": null,
   "metadata": {},
   "outputs": [],
   "source": [
    "import random\n",
    "import numpy as np\n",
    "import pandas as pd\n",
    "import matplotlib.pyplot as plt\n",
    "\n",
    "# import hvplot.pandas\n",
    "\n",
    "print(f\"Pandas: {pd.__version__}\")\n",
    "# print(f\"HvPlot: {hvplot.__version__}\")"
   ]
  },
  {
   "cell_type": "markdown",
   "metadata": {},
   "source": [
    "# 乱数を使ったサンプルデータしたい\n",
    "\n",
    "- ``x``: ガウス分布\n",
    "- ``y``: `(4, 8)`の一様分布\n",
    "- ``z``: `(0, 10)`の整数の一様分布"
   ]
  },
  {
   "cell_type": "code",
   "execution_count": null,
   "metadata": {},
   "outputs": [],
   "source": [
    "rng = np.random.default_rng(511)  # シードを固定\n",
    "n = 1000\n",
    "\n",
    "x = rng.normal(size=n)\n",
    "y = rng.uniform(4, 8, size=n)\n",
    "z = rng.integers(0, 10, size=n)"
   ]
  },
  {
   "cell_type": "markdown",
   "metadata": {},
   "source": [
    "# 辞書型を変換したい\n",
    "\n",
    "```python\n",
    "samples = {\n",
    "    \"x\": [リスト],\n",
    "    \"y\": [リスト],\n",
    "    \"z\": [リスト],\n",
    "}\n",
    "```\n",
    "\n",
    "- リスト型の値をもつ辞書型オブジェクトは、そのまま``pd.DataFrame`` に食べさせることができます。"
   ]
  },
  {
   "cell_type": "code",
   "execution_count": null,
   "metadata": {},
   "outputs": [],
   "source": [
    "rng = np.random.default_rng()\n",
    "n = 1000\n",
    "\n",
    "samples = {\n",
    "    \"x\": rng.normal(size=n),\n",
    "    \"y\": rng.uniform(4, 8, size=n),\n",
    "    \"z\": rng.integers(0, 10, size=n),\n",
    "}\n",
    "\n",
    "data = pd.DataFrame(samples)\n",
    "data"
   ]
  },
  {
   "cell_type": "code",
   "execution_count": null,
   "metadata": {},
   "outputs": [],
   "source": [
    "fig, axs = plt.subplots(1, 2, figsize=(10, 5))\n",
    "canvas = axs.ravel()\n",
    "data.plot.scatter(\"x\", \"y\", ax=canvas[0])\n",
    "data.plot.scatter(\"z\", \"y\", ax=canvas[1])"
   ]
  },
  {
   "cell_type": "markdown",
   "metadata": {},
   "source": [
    "# 辞書型リストを変換したい\n",
    "\n",
    "```python\n",
    "samples = (\n",
    "    {\"x\": 値1, \"y\": 値1, \"z\": 値1},\n",
    "    {\"x\": 値2, \"y\": 値2, \"z\": 値2},\n",
    "    ...,\n",
    "    {\"x\": 値n, \"y\": 値n, \"z\": 値n},\n",
    ")\n",
    "```\n",
    "\n",
    "- 辞書型リスト（``list[dict[str, Any]]``）、辞書型タプル（``tuple[dict[str, Any]]``）をデータフレームに変換できます\n",
    "- 辞書のキーがカラム名になります"
   ]
  },
  {
   "cell_type": "code",
   "execution_count": null,
   "metadata": {},
   "outputs": [],
   "source": [
    "import random\n",
    "\n",
    "samples = (\n",
    "    {\"x\": random.gauss(), \"y\": random.uniform(4, 8), \"z\": random.randint(0, 10)}\n",
    "    for i in range(1000)\n",
    ")\n",
    "\n",
    "data = pd.DataFrame(samples)\n",
    "data"
   ]
  },
  {
   "cell_type": "markdown",
   "metadata": {},
   "source": [
    "# リスト型リストを変換したい\n",
    "\n",
    "```python\n",
    "samples = [\n",
    "    [リスト],    # x列\n",
    "    [リスト],    # y列\n",
    "    [リスト],    # z列\n",
    "]\n",
    "```\n",
    "\n",
    "- リスト型リスト（``list[list]``）、タプル型リスト（``list[tuple]``）、リスト型タプル（``tuple[list]``）、タプル型タプル（``tuple[tuple]``）をデータフレームに変換します\n",
    "- ``columns``オプションを使ってカラム名を変更できます"
   ]
  },
  {
   "cell_type": "code",
   "execution_count": null,
   "metadata": {},
   "outputs": [],
   "source": [
    "import random\n",
    "\n",
    "samples = [\n",
    "    (random.gauss(), random.uniform(4, 8), random.randint(0, 10)) for i in range(1000)\n",
    "]\n",
    "data = pd.DataFrame(samples, columns=[\"x\", \"y\", \"z\"])\n",
    "data"
   ]
  }
 ],
 "metadata": {
  "kernelspec": {
   "display_name": ".venv",
   "language": "python",
   "name": "python3"
  },
  "language_info": {
   "codemirror_mode": {
    "name": "ipython",
    "version": 3
   },
   "file_extension": ".py",
   "mimetype": "text/x-python",
   "name": "python",
   "nbconvert_exporter": "python",
   "pygments_lexer": "ipython3",
   "version": "3.11.8"
  }
 },
 "nbformat": 4,
 "nbformat_minor": 2
}

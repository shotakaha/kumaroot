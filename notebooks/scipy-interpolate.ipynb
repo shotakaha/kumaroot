{
 "cells": [
  {
   "cell_type": "markdown",
   "metadata": {},
   "source": [
    "# データを補間したい（``scipy.interpolate``）"
   ]
  },
  {
   "cell_type": "markdown",
   "metadata": {},
   "source": [
    "## リファレンス\n",
    "\n",
    "- [Interpolation](https://docs.scipy.org/doc/scipy/reference/interpolate.html)\n",
    "- [scipy.interpolate.interp1d](https://docs.scipy.org/doc/scipy/reference/generated/scipy.interpolate.interp1d.html)"
   ]
  },
  {
   "cell_type": "markdown",
   "metadata": {},
   "source": [
    "## 補間\n",
    "\n",
    "測定したデータ点を使って、欠損値を**補間**する手法"
   ]
  },
  {
   "cell_type": "markdown",
   "metadata": {},
   "source": [
    "## サンプルデータを作成"
   ]
  },
  {
   "cell_type": "code",
   "execution_count": null,
   "metadata": {},
   "outputs": [
    {
     "data": {},
     "metadata": {},
     "output_type": "display_data"
    },
    {
     "data": {
      "application/vnd.holoviews_exec.v0+json": "",
      "text/html": [
       "<div id='14454993-a38d-4bf7-82b7-6238fb6c81ba'>\n",
       "  <div id=\"b53d8b49-1a29-4575-ade8-11a56b69666d\" data-root-id=\"14454993-a38d-4bf7-82b7-6238fb6c81ba\" style=\"display: contents;\"></div>\n",
       "</div>\n",
       "<script type=\"application/javascript\">(function(root) {\n",
       "  var docs_json = {\"eb462f90-e73a-4fd6-91cc-e27bf55c53eb\":{\"version\":\"3.5.2\",\"title\":\"Bokeh Application\",\"roots\":[{\"type\":\"object\",\"name\":\"Row\",\"id\":\"14454993-a38d-4bf7-82b7-6238fb6c81ba\",\"attributes\":{\"name\":\"Row00580\",\"tags\":[\"embedded\"],\"stylesheets\":[\"\\n:host(.pn-loading):before, .pn-loading:before {\\n  background-color: #c3c3c3;\\n  mask-size: auto calc(min(50%, 400px));\\n  -webkit-mask-size: auto calc(min(50%, 400px));\\n}\",{\"type\":\"object\",\"name\":\"ImportedStyleSheet\",\"id\":\"83538e52-363d-4adb-81cc-2e578cd37dce\",\"attributes\":{\"url\":\"https://cdn.holoviz.org/panel/1.5.4/dist/css/loading.css\"}},{\"type\":\"object\",\"name\":\"ImportedStyleSheet\",\"id\":\"00fc31b4-a2db-4196-a452-936d5c76059e\",\"attributes\":{\"url\":\"https://cdn.holoviz.org/panel/1.5.4/dist/css/listpanel.css\"}},{\"type\":\"object\",\"name\":\"ImportedStyleSheet\",\"id\":\"85199a46-a393-43a1-a57a-04c1b01d5aba\",\"attributes\":{\"url\":\"https://cdn.holoviz.org/panel/1.5.4/dist/bundled/theme/default.css\"}},{\"type\":\"object\",\"name\":\"ImportedStyleSheet\",\"id\":\"cd734033-10c2-41c1-8ce8-ac77326bc6bd\",\"attributes\":{\"url\":\"https://cdn.holoviz.org/panel/1.5.4/dist/bundled/theme/native.css\"}}],\"min_width\":700,\"margin\":0,\"sizing_mode\":\"stretch_width\",\"align\":\"start\",\"children\":[{\"type\":\"object\",\"name\":\"Spacer\",\"id\":\"cfac4e7f-f8f7-49b6-926e-1cfc0f315e20\",\"attributes\":{\"name\":\"HSpacer00584\",\"stylesheets\":[\"\\n:host(.pn-loading):before, .pn-loading:before {\\n  background-color: #c3c3c3;\\n  mask-size: auto calc(min(50%, 400px));\\n  -webkit-mask-size: auto calc(min(50%, 400px));\\n}\",{\"id\":\"83538e52-363d-4adb-81cc-2e578cd37dce\"},{\"id\":\"85199a46-a393-43a1-a57a-04c1b01d5aba\"},{\"id\":\"cd734033-10c2-41c1-8ce8-ac77326bc6bd\"}],\"margin\":0,\"sizing_mode\":\"stretch_width\",\"align\":\"start\"}},{\"type\":\"object\",\"name\":\"Figure\",\"id\":\"7f2a5e90-aeab-4b71-a8cc-de65e7465bc4\",\"attributes\":{\"width\":700,\"height\":300,\"margin\":[5,10],\"sizing_mode\":\"fixed\",\"align\":\"start\",\"x_range\":{\"type\":\"object\",\"name\":\"Range1d\",\"id\":\"5717670e-183c-4f5d-8c67-45c269db6870\",\"attributes\":{\"name\":\"x\",\"tags\":[[[\"x\",null]],[]],\"start\":-0.26927937030769655,\"end\":6.552464677487283,\"reset_start\":-0.26927937030769655,\"reset_end\":6.552464677487283}},\"y_range\":{\"type\":\"object\",\"name\":\"Range1d\",\"id\":\"982ce670-20f2-4a7c-b8b7-f3875b1dcab1\",\"attributes\":{\"name\":\"y\",\"tags\":[[[\"y\",null]],{\"type\":\"map\",\"entries\":[[\"invert_yaxis\",false],[\"autorange\",false]]}],\"start\":-1.1817693036146497,\"end\":1.1817693036146497,\"reset_start\":-1.1817693036146497,\"reset_end\":1.1817693036146497}},\"x_scale\":{\"type\":\"object\",\"name\":\"LinearScale\",\"id\":\"46bbb9e7-6a3b-466a-8fb6-e6e5f415b6c5\"},\"y_scale\":{\"type\":\"object\",\"name\":\"LinearScale\",\"id\":\"87ed46a1-1288-403c-acd4-0342ed2d2e8a\"},\"title\":{\"type\":\"object\",\"name\":\"Title\",\"id\":\"876b5fd0-4b5d-4862-b0f6-5abdc3f8859b\",\"attributes\":{\"text_color\":\"black\",\"text_font_size\":\"12pt\"}},\"renderers\":[{\"type\":\"object\",\"name\":\"GlyphRenderer\",\"id\":\"6018c86f-8e4f-4d23-a41d-5d4f04b6d05e\",\"attributes\":{\"data_source\":{\"type\":\"object\",\"name\":\"ColumnDataSource\",\"id\":\"f0a778b0-5746-482c-bf57-c0491e42eef8\",\"attributes\":{\"selected\":{\"type\":\"object\",\"name\":\"Selection\",\"id\":\"cf998713-af16-4f07-9f2c-0db5a48082b2\",\"attributes\":{\"indices\":[],\"line_indices\":[]}},\"selection_policy\":{\"type\":\"object\",\"name\":\"UnionRenderers\",\"id\":\"59930233-2b38-4d9b-a10a-a76cb0bf561c\"},\"data\":{\"type\":\"map\",\"entries\":[[\"x\",{\"type\":\"ndarray\",\"array\":{\"type\":\"bytes\",\"data\":\"AAAAAAAAAACHROdKGFfmP4dE50oYV/Y/ZXMtOFLBAECHROdKGFcGQKkVoV3e7AtAZXMtOFLBEED2W4pBNYwTQIdE50oYVxZAGC1EVPshGUA=\"},\"shape\":[10],\"dtype\":\"float64\",\"order\":\"little\"}],[\"y\",{\"type\":\"ndarray\",\"array\":{\"type\":\"bytes\",\"data\":\"AAAAAAAAAAAcFjxSt5HkPxccgYyLg+8/q0xY6Hq26z/4C4p0qOPVP/QLinSo49W/qExY6Hq2678YHIGMi4Pvvx8WPFK3keS/B1wUMyamsbw=\"},\"shape\":[10],\"dtype\":\"float64\",\"order\":\"little\"}]]}}},\"view\":{\"type\":\"object\",\"name\":\"CDSView\",\"id\":\"0b96376a-3bf8-44ba-ad95-8ac70f5e90d9\",\"attributes\":{\"filter\":{\"type\":\"object\",\"name\":\"AllIndices\",\"id\":\"b47fb500-e346-4303-8a02-96ec80dd8fb4\"}}},\"glyph\":{\"type\":\"object\",\"name\":\"Scatter\",\"id\":\"680d9a12-cffd-45e9-a7de-0beaf745530b\",\"attributes\":{\"tags\":[\"apply_ranges\"],\"x\":{\"type\":\"field\",\"field\":\"x\"},\"y\":{\"type\":\"field\",\"field\":\"y\"},\"size\":{\"type\":\"value\",\"value\":5.477225575051661},\"line_color\":{\"type\":\"value\",\"value\":\"#30a2da\"},\"fill_color\":{\"type\":\"value\",\"value\":\"#30a2da\"},\"hatch_color\":{\"type\":\"value\",\"value\":\"#30a2da\"}}},\"selection_glyph\":{\"type\":\"object\",\"name\":\"Scatter\",\"id\":\"f22e873e-99b4-47be-b7f0-050a44e0ca9a\",\"attributes\":{\"tags\":[\"apply_ranges\"],\"x\":{\"type\":\"field\",\"field\":\"x\"},\"y\":{\"type\":\"field\",\"field\":\"y\"},\"size\":{\"type\":\"value\",\"value\":5.477225575051661},\"angle\":{\"type\":\"value\",\"value\":0.0},\"line_color\":{\"type\":\"value\",\"value\":\"#30a2da\"},\"line_alpha\":{\"type\":\"value\",\"value\":1.0},\"line_width\":{\"type\":\"value\",\"value\":1},\"line_join\":{\"type\":\"value\",\"value\":\"bevel\"},\"line_cap\":{\"type\":\"value\",\"value\":\"butt\"},\"line_dash\":{\"type\":\"value\",\"value\":[]},\"line_dash_offset\":{\"type\":\"value\",\"value\":0},\"fill_color\":{\"type\":\"value\",\"value\":\"#30a2da\"},\"fill_alpha\":{\"type\":\"value\",\"value\":1.0},\"hatch_color\":{\"type\":\"value\",\"value\":\"#30a2da\"},\"hatch_alpha\":{\"type\":\"value\",\"value\":1.0},\"hatch_scale\":{\"type\":\"value\",\"value\":12.0},\"hatch_pattern\":{\"type\":\"value\",\"value\":null},\"hatch_weight\":{\"type\":\"value\",\"value\":1.0},\"marker\":{\"type\":\"value\",\"value\":\"circle\"}}},\"nonselection_glyph\":{\"type\":\"object\",\"name\":\"Scatter\",\"id\":\"37005b0d-a119-4179-823a-7879a4229361\",\"attributes\":{\"tags\":[\"apply_ranges\"],\"x\":{\"type\":\"field\",\"field\":\"x\"},\"y\":{\"type\":\"field\",\"field\":\"y\"},\"size\":{\"type\":\"value\",\"value\":5.477225575051661},\"line_color\":{\"type\":\"value\",\"value\":\"#30a2da\"},\"line_alpha\":{\"type\":\"value\",\"value\":0.1},\"fill_color\":{\"type\":\"value\",\"value\":\"#30a2da\"},\"fill_alpha\":{\"type\":\"value\",\"value\":0.1},\"hatch_color\":{\"type\":\"value\",\"value\":\"#30a2da\"},\"hatch_alpha\":{\"type\":\"value\",\"value\":0.1}}},\"muted_glyph\":{\"type\":\"object\",\"name\":\"Scatter\",\"id\":\"746e90ac-be0f-4c02-a95d-5aefd353c2d1\",\"attributes\":{\"tags\":[\"apply_ranges\"],\"x\":{\"type\":\"field\",\"field\":\"x\"},\"y\":{\"type\":\"field\",\"field\":\"y\"},\"size\":{\"type\":\"value\",\"value\":5.477225575051661},\"line_color\":{\"type\":\"value\",\"value\":\"#30a2da\"},\"line_alpha\":{\"type\":\"value\",\"value\":0.2},\"fill_color\":{\"type\":\"value\",\"value\":\"#30a2da\"},\"fill_alpha\":{\"type\":\"value\",\"value\":0.2},\"hatch_color\":{\"type\":\"value\",\"value\":\"#30a2da\"},\"hatch_alpha\":{\"type\":\"value\",\"value\":0.2}}}}}],\"toolbar\":{\"type\":\"object\",\"name\":\"Toolbar\",\"id\":\"3edf6929-dcb8-4cf2-90b1-80799b6a4dfa\",\"attributes\":{\"tools\":[{\"type\":\"object\",\"name\":\"WheelZoomTool\",\"id\":\"2551083e-e272-4f04-b1ba-45bde9f3b47c\",\"attributes\":{\"tags\":[\"hv_created\"],\"renderers\":\"auto\",\"zoom_together\":\"none\"}},{\"type\":\"object\",\"name\":\"HoverTool\",\"id\":\"fa7af4aa-1fa8-48fb-9475-92d216d226b7\",\"attributes\":{\"tags\":[\"hv_created\"],\"renderers\":[{\"id\":\"6018c86f-8e4f-4d23-a41d-5d4f04b6d05e\"}],\"tooltips\":[[\"x\",\"@{x}\"],[\"y\",\"@{y}\"]]}},{\"type\":\"object\",\"name\":\"SaveTool\",\"id\":\"8939b189-f7b0-47c6-9ef1-90de6f7bea69\"},{\"type\":\"object\",\"name\":\"PanTool\",\"id\":\"fb465c53-320c-4c97-b47e-a9d87bfff995\"},{\"type\":\"object\",\"name\":\"BoxZoomTool\",\"id\":\"4f8a63b5-8861-4088-91f4-db07cc3940e4\",\"attributes\":{\"overlay\":{\"type\":\"object\",\"name\":\"BoxAnnotation\",\"id\":\"5e418c84-9f7d-4ced-9aeb-f34246e643a5\",\"attributes\":{\"syncable\":false,\"line_color\":\"black\",\"line_alpha\":1.0,\"line_width\":2,\"line_dash\":[4,4],\"fill_color\":\"lightgrey\",\"fill_alpha\":0.5,\"level\":\"overlay\",\"visible\":false,\"left\":{\"type\":\"number\",\"value\":\"nan\"},\"right\":{\"type\":\"number\",\"value\":\"nan\"},\"top\":{\"type\":\"number\",\"value\":\"nan\"},\"bottom\":{\"type\":\"number\",\"value\":\"nan\"},\"left_units\":\"canvas\",\"right_units\":\"canvas\",\"top_units\":\"canvas\",\"bottom_units\":\"canvas\",\"handles\":{\"type\":\"object\",\"name\":\"BoxInteractionHandles\",\"id\":\"b8d34799-9238-4a30-b021-363cd8f84d2b\",\"attributes\":{\"all\":{\"type\":\"object\",\"name\":\"AreaVisuals\",\"id\":\"dace3182-54ac-4379-bddd-f5546db094a6\",\"attributes\":{\"fill_color\":\"white\",\"hover_fill_color\":\"lightgray\"}}}}}}}},{\"type\":\"object\",\"name\":\"ResetTool\",\"id\":\"227f3cb1-bb95-4c56-af4a-ca4c9e00f96b\"}],\"active_drag\":{\"id\":\"fb465c53-320c-4c97-b47e-a9d87bfff995\"},\"active_scroll\":{\"id\":\"2551083e-e272-4f04-b1ba-45bde9f3b47c\"}}},\"left\":[{\"type\":\"object\",\"name\":\"LinearAxis\",\"id\":\"d8e36a17-0b71-4137-bf0a-6de20244daa5\",\"attributes\":{\"ticker\":{\"type\":\"object\",\"name\":\"BasicTicker\",\"id\":\"2045837c-c691-48e9-9750-74a9c9ed9cca\",\"attributes\":{\"mantissas\":[1,2,5]}},\"formatter\":{\"type\":\"object\",\"name\":\"BasicTickFormatter\",\"id\":\"4072b6e6-4651-4ef7-9e5c-629319a3dd09\"},\"axis_label\":\"y\",\"major_label_policy\":{\"type\":\"object\",\"name\":\"AllLabels\",\"id\":\"d936c9ae-0e55-44d3-a4ea-ab2f7bd06067\"}}}],\"below\":[{\"type\":\"object\",\"name\":\"LinearAxis\",\"id\":\"d1443c6a-bbee-4fb6-9cd2-08c7f3e2ffbf\",\"attributes\":{\"ticker\":{\"type\":\"object\",\"name\":\"BasicTicker\",\"id\":\"4188469d-ba20-4206-828b-5adf0d8b77e8\",\"attributes\":{\"mantissas\":[1,2,5]}},\"formatter\":{\"type\":\"object\",\"name\":\"BasicTickFormatter\",\"id\":\"4cb7da39-748c-4475-9c7c-f49419ab939e\"},\"axis_label\":\"x\",\"major_label_policy\":{\"type\":\"object\",\"name\":\"AllLabels\",\"id\":\"51ea57e2-6c40-486b-8886-6f32c96f1b2d\"}}}],\"center\":[{\"type\":\"object\",\"name\":\"Grid\",\"id\":\"d6268cb4-ae1f-4bfe-a1c6-1ef6ced2016f\",\"attributes\":{\"axis\":{\"id\":\"d1443c6a-bbee-4fb6-9cd2-08c7f3e2ffbf\"},\"grid_line_color\":null}},{\"type\":\"object\",\"name\":\"Grid\",\"id\":\"d9e32ee6-c602-453d-84aa-7890945b8e6c\",\"attributes\":{\"dimension\":1,\"axis\":{\"id\":\"d8e36a17-0b71-4137-bf0a-6de20244daa5\"},\"grid_line_color\":null}}],\"min_border_top\":10,\"min_border_bottom\":10,\"min_border_left\":10,\"min_border_right\":10,\"output_backend\":\"webgl\"}},{\"type\":\"object\",\"name\":\"Spacer\",\"id\":\"3a9ac8b3-a018-4ca4-9234-734ac44f2b61\",\"attributes\":{\"name\":\"HSpacer00585\",\"stylesheets\":[\"\\n:host(.pn-loading):before, .pn-loading:before {\\n  background-color: #c3c3c3;\\n  mask-size: auto calc(min(50%, 400px));\\n  -webkit-mask-size: auto calc(min(50%, 400px));\\n}\",{\"id\":\"83538e52-363d-4adb-81cc-2e578cd37dce\"},{\"id\":\"85199a46-a393-43a1-a57a-04c1b01d5aba\"},{\"id\":\"cd734033-10c2-41c1-8ce8-ac77326bc6bd\"}],\"margin\":0,\"sizing_mode\":\"stretch_width\",\"align\":\"start\"}}]}}],\"defs\":[{\"type\":\"model\",\"name\":\"ReactiveHTML1\"},{\"type\":\"model\",\"name\":\"FlexBox1\",\"properties\":[{\"name\":\"align_content\",\"kind\":\"Any\",\"default\":\"flex-start\"},{\"name\":\"align_items\",\"kind\":\"Any\",\"default\":\"flex-start\"},{\"name\":\"flex_direction\",\"kind\":\"Any\",\"default\":\"row\"},{\"name\":\"flex_wrap\",\"kind\":\"Any\",\"default\":\"wrap\"},{\"name\":\"gap\",\"kind\":\"Any\",\"default\":\"\"},{\"name\":\"justify_content\",\"kind\":\"Any\",\"default\":\"flex-start\"}]},{\"type\":\"model\",\"name\":\"FloatPanel1\",\"properties\":[{\"name\":\"config\",\"kind\":\"Any\",\"default\":{\"type\":\"map\"}},{\"name\":\"contained\",\"kind\":\"Any\",\"default\":true},{\"name\":\"position\",\"kind\":\"Any\",\"default\":\"right-top\"},{\"name\":\"offsetx\",\"kind\":\"Any\",\"default\":null},{\"name\":\"offsety\",\"kind\":\"Any\",\"default\":null},{\"name\":\"theme\",\"kind\":\"Any\",\"default\":\"primary\"},{\"name\":\"status\",\"kind\":\"Any\",\"default\":\"normalized\"}]},{\"type\":\"model\",\"name\":\"GridStack1\",\"properties\":[{\"name\":\"mode\",\"kind\":\"Any\",\"default\":\"warn\"},{\"name\":\"ncols\",\"kind\":\"Any\",\"default\":null},{\"name\":\"nrows\",\"kind\":\"Any\",\"default\":null},{\"name\":\"allow_resize\",\"kind\":\"Any\",\"default\":true},{\"name\":\"allow_drag\",\"kind\":\"Any\",\"default\":true},{\"name\":\"state\",\"kind\":\"Any\",\"default\":[]}]},{\"type\":\"model\",\"name\":\"drag1\",\"properties\":[{\"name\":\"slider_width\",\"kind\":\"Any\",\"default\":5},{\"name\":\"slider_color\",\"kind\":\"Any\",\"default\":\"black\"},{\"name\":\"value\",\"kind\":\"Any\",\"default\":50}]},{\"type\":\"model\",\"name\":\"click1\",\"properties\":[{\"name\":\"terminal_output\",\"kind\":\"Any\",\"default\":\"\"},{\"name\":\"debug_name\",\"kind\":\"Any\",\"default\":\"\"},{\"name\":\"clears\",\"kind\":\"Any\",\"default\":0}]},{\"type\":\"model\",\"name\":\"FastWrapper1\",\"properties\":[{\"name\":\"object\",\"kind\":\"Any\",\"default\":null},{\"name\":\"style\",\"kind\":\"Any\",\"default\":null}]},{\"type\":\"model\",\"name\":\"NotificationAreaBase1\",\"properties\":[{\"name\":\"js_events\",\"kind\":\"Any\",\"default\":{\"type\":\"map\"}},{\"name\":\"position\",\"kind\":\"Any\",\"default\":\"bottom-right\"},{\"name\":\"_clear\",\"kind\":\"Any\",\"default\":0}]},{\"type\":\"model\",\"name\":\"NotificationArea1\",\"properties\":[{\"name\":\"js_events\",\"kind\":\"Any\",\"default\":{\"type\":\"map\"}},{\"name\":\"notifications\",\"kind\":\"Any\",\"default\":[]},{\"name\":\"position\",\"kind\":\"Any\",\"default\":\"bottom-right\"},{\"name\":\"_clear\",\"kind\":\"Any\",\"default\":0},{\"name\":\"types\",\"kind\":\"Any\",\"default\":[{\"type\":\"map\",\"entries\":[[\"type\",\"warning\"],[\"background\",\"#ffc107\"],[\"icon\",{\"type\":\"map\",\"entries\":[[\"className\",\"fas fa-exclamation-triangle\"],[\"tagName\",\"i\"],[\"color\",\"white\"]]}]]},{\"type\":\"map\",\"entries\":[[\"type\",\"info\"],[\"background\",\"#007bff\"],[\"icon\",{\"type\":\"map\",\"entries\":[[\"className\",\"fas fa-info-circle\"],[\"tagName\",\"i\"],[\"color\",\"white\"]]}]]}]}]},{\"type\":\"model\",\"name\":\"Notification\",\"properties\":[{\"name\":\"background\",\"kind\":\"Any\",\"default\":null},{\"name\":\"duration\",\"kind\":\"Any\",\"default\":3000},{\"name\":\"icon\",\"kind\":\"Any\",\"default\":null},{\"name\":\"message\",\"kind\":\"Any\",\"default\":\"\"},{\"name\":\"notification_type\",\"kind\":\"Any\",\"default\":null},{\"name\":\"_destroyed\",\"kind\":\"Any\",\"default\":false}]},{\"type\":\"model\",\"name\":\"TemplateActions1\",\"properties\":[{\"name\":\"open_modal\",\"kind\":\"Any\",\"default\":0},{\"name\":\"close_modal\",\"kind\":\"Any\",\"default\":0}]},{\"type\":\"model\",\"name\":\"BootstrapTemplateActions1\",\"properties\":[{\"name\":\"open_modal\",\"kind\":\"Any\",\"default\":0},{\"name\":\"close_modal\",\"kind\":\"Any\",\"default\":0}]},{\"type\":\"model\",\"name\":\"TemplateEditor1\",\"properties\":[{\"name\":\"layout\",\"kind\":\"Any\",\"default\":[]}]},{\"type\":\"model\",\"name\":\"MaterialTemplateActions1\",\"properties\":[{\"name\":\"open_modal\",\"kind\":\"Any\",\"default\":0},{\"name\":\"close_modal\",\"kind\":\"Any\",\"default\":0}]},{\"type\":\"model\",\"name\":\"ReactiveESM1\",\"properties\":[{\"name\":\"esm_constants\",\"kind\":\"Any\",\"default\":{\"type\":\"map\"}}]},{\"type\":\"model\",\"name\":\"JSComponent1\",\"properties\":[{\"name\":\"esm_constants\",\"kind\":\"Any\",\"default\":{\"type\":\"map\"}}]},{\"type\":\"model\",\"name\":\"ReactComponent1\",\"properties\":[{\"name\":\"esm_constants\",\"kind\":\"Any\",\"default\":{\"type\":\"map\"}}]},{\"type\":\"model\",\"name\":\"AnyWidgetComponent1\",\"properties\":[{\"name\":\"esm_constants\",\"kind\":\"Any\",\"default\":{\"type\":\"map\"}}]},{\"type\":\"model\",\"name\":\"request_value1\",\"properties\":[{\"name\":\"fill\",\"kind\":\"Any\",\"default\":\"none\"},{\"name\":\"_synced\",\"kind\":\"Any\",\"default\":null},{\"name\":\"_request_sync\",\"kind\":\"Any\",\"default\":0}]}]}};\n",
       "  var render_items = [{\"docid\":\"eb462f90-e73a-4fd6-91cc-e27bf55c53eb\",\"roots\":{\"14454993-a38d-4bf7-82b7-6238fb6c81ba\":\"b53d8b49-1a29-4575-ade8-11a56b69666d\"},\"root_ids\":[\"14454993-a38d-4bf7-82b7-6238fb6c81ba\"]}];\n",
       "  var docs = Object.values(docs_json)\n",
       "  if (!docs) {\n",
       "    return\n",
       "  }\n",
       "  const py_version = docs[0].version.replace('rc', '-rc.').replace('.dev', '-dev.')\n",
       "  async function embed_document(root) {\n",
       "    var Bokeh = get_bokeh(root)\n",
       "    await Bokeh.embed.embed_items_notebook(docs_json, render_items);\n",
       "    for (const render_item of render_items) {\n",
       "      for (const root_id of render_item.root_ids) {\n",
       "\tconst id_el = document.getElementById(root_id)\n",
       "\tif (id_el.children.length && id_el.children[0].hasAttribute('data-root-id')) {\n",
       "\t  const root_el = id_el.children[0]\n",
       "\t  root_el.id = root_el.id + '-rendered'\n",
       "\t  for (const child of root_el.children) {\n",
       "            // Ensure JupyterLab does not capture keyboard shortcuts\n",
       "            // see: https://jupyterlab.readthedocs.io/en/4.1.x/extension/notebook.html#keyboard-interaction-model\n",
       "\t    child.setAttribute('data-lm-suppress-shortcuts', 'true')\n",
       "\t  }\n",
       "\t}\n",
       "      }\n",
       "    }\n",
       "  }\n",
       "  function get_bokeh(root) {\n",
       "    if (root.Bokeh === undefined) {\n",
       "      return null\n",
       "    } else if (root.Bokeh.version !== py_version) {\n",
       "      if (root.Bokeh.versions === undefined || !root.Bokeh.versions.has(py_version)) {\n",
       "\treturn null\n",
       "      }\n",
       "      return root.Bokeh.versions.get(py_version);\n",
       "    } else if (root.Bokeh.version === py_version) {\n",
       "      return root.Bokeh\n",
       "    }\n",
       "    return null\n",
       "  }\n",
       "  function is_loaded(root) {\n",
       "    var Bokeh = get_bokeh(root)\n",
       "    return (Bokeh != null && Bokeh.Panel !== undefined)\n",
       "  }\n",
       "  if (is_loaded(root)) {\n",
       "    embed_document(root);\n",
       "  } else {\n",
       "    var attempts = 0;\n",
       "    var timer = setInterval(function(root) {\n",
       "      if (is_loaded(root)) {\n",
       "        clearInterval(timer);\n",
       "        embed_document(root);\n",
       "      } else if (document.readyState == \"complete\") {\n",
       "        attempts++;\n",
       "        if (attempts > 200) {\n",
       "          clearInterval(timer);\n",
       "\t  var Bokeh = get_bokeh(root)\n",
       "\t  if (Bokeh == null || Bokeh.Panel == null) {\n",
       "            console.warn(\"Panel: ERROR: Unable to run Panel code because Bokeh or Panel library is missing\");\n",
       "\t  } else {\n",
       "\t    console.warn(\"Panel: WARNING: Attempting to render but not all required libraries could be resolved.\")\n",
       "\t    embed_document(root)\n",
       "\t  }\n",
       "        }\n",
       "      }\n",
       "    }, 25, root)\n",
       "  }\n",
       "})(window);</script>"
      ],
      "text/plain": [
       ":Scatter   [x]   (y)"
      ]
     },
     "execution_count": 31,
     "metadata": {
      "application/vnd.holoviews_exec.v0+json": {
       "id": "14454993-a38d-4bf7-82b7-6238fb6c81ba"
      }
     },
     "output_type": "execute_result"
    }
   ],
   "source": [
    "import numpy as np\n",
    "import pandas as pd\n",
    "import hvplot.pandas\n",
    "\n",
    "x = np.linspace(0, 2 * np.pi, 10)\n",
    "y = np.sin(x)\n",
    "\n",
    "points = {\"x\": x, \"y\": y}\n",
    "\n",
    "data = pd.DataFrame(points)\n",
    "data\n",
    "\n",
    "data.hvplot.scatter(x=\"x\", y=\"y\")\n",
    "# data.hvplot.line(x=\"x\", y=\"y\")"
   ]
  },
  {
   "cell_type": "markdown",
   "metadata": {},
   "source": [
    "## 1. 線形補間（Linear Interpolation）\n",
    "\n",
    ":特性:\n",
    "最も単純な補間手法で、隣接するデータ点を直線で結び、その間の値を推定する\n",
    "\n",
    ":適用シーン:\n",
    "データが滑らかで単調な場合や、補間が小さい範囲で必要な場合。計算が非常に高速で、データが比較的少ない場合に有効。\n",
    "\n",
    ":利点:\n",
    "シンプルで高速。\n",
    "\n",
    ":欠点:\n",
    "データが非線形に変化する場合には不正確\n",
    "\n",
    ":メソッド:\n",
    "[numpy.interp](https://numpy.org/devdocs/reference/generated/numpy.interp.html)"
   ]
  },
  {
   "cell_type": "code",
   "execution_count": null,
   "metadata": {},
   "outputs": [
    {
     "data": {},
     "metadata": {},
     "output_type": "display_data"
    },
    {
     "data": {
      "application/vnd.holoviews_exec.v0+json": "",
      "text/html": [
       "<div id='7a6cb54f-abff-429d-bb2c-0520f07ba6a8'>\n",
       "  <div id=\"a2b56ebc-bf35-44d1-bb17-178141c2bd1d\" data-root-id=\"7a6cb54f-abff-429d-bb2c-0520f07ba6a8\" style=\"display: contents;\"></div>\n",
       "</div>\n",
       "<script type=\"application/javascript\">(function(root) {\n",
       "  var docs_json = {\"17c816bf-78ed-46cb-90ee-15ee2d610ada\":{\"version\":\"3.5.2\",\"title\":\"Bokeh Application\",\"roots\":[{\"type\":\"object\",\"name\":\"Row\",\"id\":\"7a6cb54f-abff-429d-bb2c-0520f07ba6a8\",\"attributes\":{\"name\":\"Row00451\",\"tags\":[\"embedded\"],\"stylesheets\":[\"\\n:host(.pn-loading):before, .pn-loading:before {\\n  background-color: #c3c3c3;\\n  mask-size: auto calc(min(50%, 400px));\\n  -webkit-mask-size: auto calc(min(50%, 400px));\\n}\",{\"type\":\"object\",\"name\":\"ImportedStyleSheet\",\"id\":\"d0439922-664d-4311-be85-9f10baf9cf75\",\"attributes\":{\"url\":\"https://cdn.holoviz.org/panel/1.5.4/dist/css/loading.css\"}},{\"type\":\"object\",\"name\":\"ImportedStyleSheet\",\"id\":\"5d51fbda-68e1-4e49-bf4b-24518098c9ae\",\"attributes\":{\"url\":\"https://cdn.holoviz.org/panel/1.5.4/dist/css/listpanel.css\"}},{\"type\":\"object\",\"name\":\"ImportedStyleSheet\",\"id\":\"4c72df99-e86f-4f90-affb-ae1835444cd7\",\"attributes\":{\"url\":\"https://cdn.holoviz.org/panel/1.5.4/dist/bundled/theme/default.css\"}},{\"type\":\"object\",\"name\":\"ImportedStyleSheet\",\"id\":\"ae4c0b78-5b71-4ae3-99cc-c32f2b71511d\",\"attributes\":{\"url\":\"https://cdn.holoviz.org/panel/1.5.4/dist/bundled/theme/native.css\"}}],\"min_width\":700,\"margin\":0,\"sizing_mode\":\"stretch_width\",\"align\":\"start\",\"children\":[{\"type\":\"object\",\"name\":\"Spacer\",\"id\":\"12e56969-9dc8-44da-b58c-2b85fa96d950\",\"attributes\":{\"name\":\"HSpacer00455\",\"stylesheets\":[\"\\n:host(.pn-loading):before, .pn-loading:before {\\n  background-color: #c3c3c3;\\n  mask-size: auto calc(min(50%, 400px));\\n  -webkit-mask-size: auto calc(min(50%, 400px));\\n}\",{\"id\":\"d0439922-664d-4311-be85-9f10baf9cf75\"},{\"id\":\"4c72df99-e86f-4f90-affb-ae1835444cd7\"},{\"id\":\"ae4c0b78-5b71-4ae3-99cc-c32f2b71511d\"}],\"margin\":0,\"sizing_mode\":\"stretch_width\",\"align\":\"start\"}},{\"type\":\"object\",\"name\":\"Figure\",\"id\":\"780ee956-90b1-4316-99c5-9d72429a559f\",\"attributes\":{\"width\":700,\"height\":300,\"margin\":[5,10],\"sizing_mode\":\"fixed\",\"align\":\"start\",\"x_range\":{\"type\":\"object\",\"name\":\"Range1d\",\"id\":\"0d02e7ad-dbe2-4503-8bc4-e1c72d87d0b2\",\"attributes\":{\"name\":\"x\",\"tags\":[[[\"x\",null]],[]],\"end\":6.283185307179586,\"reset_start\":0.0,\"reset_end\":6.283185307179586}},\"y_range\":{\"type\":\"object\",\"name\":\"Range1d\",\"id\":\"8ebc8c44-1c6e-44b8-8ffe-1c988cd80e3b\",\"attributes\":{\"name\":\"y\",\"tags\":[[[\"y\",null]],{\"type\":\"map\",\"entries\":[[\"invert_yaxis\",false],[\"autorange\",false]]}],\"start\":-1.1749178157334148,\"end\":1.1749178157334148,\"reset_start\":-1.1749178157334148,\"reset_end\":1.1749178157334148}},\"x_scale\":{\"type\":\"object\",\"name\":\"LinearScale\",\"id\":\"cff3de4d-ad54-43bf-a22a-066ef3845fb5\"},\"y_scale\":{\"type\":\"object\",\"name\":\"LinearScale\",\"id\":\"4f5387fe-0f4a-4848-b235-184d3f7b0d5a\"},\"title\":{\"type\":\"object\",\"name\":\"Title\",\"id\":\"d2dc5ee5-f4d9-4f3a-af08-ad22bf712af4\",\"attributes\":{\"text_color\":\"black\",\"text_font_size\":\"12pt\"}},\"renderers\":[{\"type\":\"object\",\"name\":\"GlyphRenderer\",\"id\":\"e7005a83-dabb-44a9-af0e-adb9100bbdc0\",\"attributes\":{\"data_source\":{\"type\":\"object\",\"name\":\"ColumnDataSource\",\"id\":\"b35aa532-db2b-48fd-9e59-f09e6d28cae1\",\"attributes\":{\"selected\":{\"type\":\"object\",\"name\":\"Selection\",\"id\":\"3f02a343-8890-4f0b-ac08-791019dc693b\",\"attributes\":{\"indices\":[],\"line_indices\":[]}},\"selection_policy\":{\"type\":\"object\",\"name\":\"UnionRenderers\",\"id\":\"541cb2f2-4a7e-4827-a52e-4be25a510661\"},\"data\":{\"type\":\"map\",\"entries\":[[\"x\",{\"type\":\"ndarray\",\"array\":{\"type\":\"bytes\",\"data\":\"AAAAAAAAAACHROdKGFfmP4dE50oYV/Y/ZXMtOFLBAECHROdKGFcGQKkVoV3e7AtAZXMtOFLBEED2W4pBNYwTQIdE50oYVxZAGC1EVPshGUA=\"},\"shape\":[10],\"dtype\":\"float64\",\"order\":\"little\"}],[\"y\",{\"type\":\"ndarray\",\"array\":{\"type\":\"bytes\",\"data\":\"AAAAAAAAAAC6i6zzX3vkP9kBt7TFVO8/oHgg4wKR6z/THv/ls9TVP88e/+Wz1NW/nXgg4wKR67/ZAbe0xVTvv7yLrPNfe+S/B1wUMyamsbw=\"},\"shape\":[10],\"dtype\":\"float64\",\"order\":\"little\"}]]}}},\"view\":{\"type\":\"object\",\"name\":\"CDSView\",\"id\":\"dd7fcbc2-6f56-44ca-9fae-dda339cc0a92\",\"attributes\":{\"filter\":{\"type\":\"object\",\"name\":\"AllIndices\",\"id\":\"d9462a38-8507-4a24-b9df-20c4c4f10d88\"}}},\"glyph\":{\"type\":\"object\",\"name\":\"Line\",\"id\":\"0560e1a1-99c6-4232-8727-30f05356ed62\",\"attributes\":{\"tags\":[\"apply_ranges\"],\"x\":{\"type\":\"field\",\"field\":\"x\"},\"y\":{\"type\":\"field\",\"field\":\"y\"},\"line_color\":\"#30a2da\",\"line_width\":2}},\"selection_glyph\":{\"type\":\"object\",\"name\":\"Line\",\"id\":\"8d100d49-d05f-411e-817f-f39a9a006f41\",\"attributes\":{\"tags\":[\"apply_ranges\"],\"x\":{\"type\":\"field\",\"field\":\"x\"},\"y\":{\"type\":\"field\",\"field\":\"y\"},\"line_color\":\"#30a2da\",\"line_width\":2}},\"nonselection_glyph\":{\"type\":\"object\",\"name\":\"Line\",\"id\":\"547f32cd-9bcb-4f15-b3a6-2b8f0976f1c8\",\"attributes\":{\"tags\":[\"apply_ranges\"],\"x\":{\"type\":\"field\",\"field\":\"x\"},\"y\":{\"type\":\"field\",\"field\":\"y\"},\"line_color\":\"#30a2da\",\"line_alpha\":0.1,\"line_width\":2}},\"muted_glyph\":{\"type\":\"object\",\"name\":\"Line\",\"id\":\"80807c18-4546-4336-aeaa-a1e298b29398\",\"attributes\":{\"tags\":[\"apply_ranges\"],\"x\":{\"type\":\"field\",\"field\":\"x\"},\"y\":{\"type\":\"field\",\"field\":\"y\"},\"line_color\":\"#30a2da\",\"line_alpha\":0.2,\"line_width\":2}}}}],\"toolbar\":{\"type\":\"object\",\"name\":\"Toolbar\",\"id\":\"ffbff86c-3630-430c-b170-fda3061f84e0\",\"attributes\":{\"tools\":[{\"type\":\"object\",\"name\":\"WheelZoomTool\",\"id\":\"7cdb2a8f-c5a5-433f-9b24-81fe6e51de23\",\"attributes\":{\"tags\":[\"hv_created\"],\"renderers\":\"auto\",\"zoom_together\":\"none\"}},{\"type\":\"object\",\"name\":\"HoverTool\",\"id\":\"2f6e7751-811d-4bfd-a1a3-ba036675e8b9\",\"attributes\":{\"tags\":[\"hv_created\"],\"renderers\":[{\"id\":\"e7005a83-dabb-44a9-af0e-adb9100bbdc0\"}],\"tooltips\":[[\"x\",\"@{x}\"],[\"y\",\"@{y}\"]]}},{\"type\":\"object\",\"name\":\"SaveTool\",\"id\":\"fbfe8286-d770-441d-8810-711c224a43cd\"},{\"type\":\"object\",\"name\":\"PanTool\",\"id\":\"a46d6c5c-bd8d-4ccd-b6f3-568e3155ca89\"},{\"type\":\"object\",\"name\":\"BoxZoomTool\",\"id\":\"e5af4592-31ea-482c-8eb9-f10158a91b96\",\"attributes\":{\"overlay\":{\"type\":\"object\",\"name\":\"BoxAnnotation\",\"id\":\"c17fd008-7780-40d1-96f1-cc5098bfcc70\",\"attributes\":{\"syncable\":false,\"line_color\":\"black\",\"line_alpha\":1.0,\"line_width\":2,\"line_dash\":[4,4],\"fill_color\":\"lightgrey\",\"fill_alpha\":0.5,\"level\":\"overlay\",\"visible\":false,\"left\":{\"type\":\"number\",\"value\":\"nan\"},\"right\":{\"type\":\"number\",\"value\":\"nan\"},\"top\":{\"type\":\"number\",\"value\":\"nan\"},\"bottom\":{\"type\":\"number\",\"value\":\"nan\"},\"left_units\":\"canvas\",\"right_units\":\"canvas\",\"top_units\":\"canvas\",\"bottom_units\":\"canvas\",\"handles\":{\"type\":\"object\",\"name\":\"BoxInteractionHandles\",\"id\":\"e97f51db-82e2-45de-ae66-f483ebc12f3c\",\"attributes\":{\"all\":{\"type\":\"object\",\"name\":\"AreaVisuals\",\"id\":\"57c1defe-6b22-4d26-8016-ae2d5bed554a\",\"attributes\":{\"fill_color\":\"white\",\"hover_fill_color\":\"lightgray\"}}}}}}}},{\"type\":\"object\",\"name\":\"ResetTool\",\"id\":\"0bf0551c-e2c4-4044-a127-2c1051e2f31d\"}],\"active_drag\":{\"id\":\"a46d6c5c-bd8d-4ccd-b6f3-568e3155ca89\"},\"active_scroll\":{\"id\":\"7cdb2a8f-c5a5-433f-9b24-81fe6e51de23\"}}},\"left\":[{\"type\":\"object\",\"name\":\"LinearAxis\",\"id\":\"3354b6a4-299a-462b-9706-76d571026a91\",\"attributes\":{\"ticker\":{\"type\":\"object\",\"name\":\"BasicTicker\",\"id\":\"36d4c50b-f863-4daf-8f50-6b76dc5b5ee7\",\"attributes\":{\"mantissas\":[1,2,5]}},\"formatter\":{\"type\":\"object\",\"name\":\"BasicTickFormatter\",\"id\":\"948cbcf6-fde8-4c6b-8af3-dc0d7d54fad6\"},\"axis_label\":\"y\",\"major_label_policy\":{\"type\":\"object\",\"name\":\"AllLabels\",\"id\":\"43ee5201-1118-407a-ab3e-823a5c2ced3f\"}}}],\"below\":[{\"type\":\"object\",\"name\":\"LinearAxis\",\"id\":\"526d72fb-bb08-49d2-a2c1-ea07aad0c5c3\",\"attributes\":{\"ticker\":{\"type\":\"object\",\"name\":\"BasicTicker\",\"id\":\"fdeee0a4-b1fe-4afa-81e8-86e5af3e5c79\",\"attributes\":{\"mantissas\":[1,2,5]}},\"formatter\":{\"type\":\"object\",\"name\":\"BasicTickFormatter\",\"id\":\"28520583-d458-4e3e-9fdb-0b46e281e2c3\"},\"axis_label\":\"x\",\"major_label_policy\":{\"type\":\"object\",\"name\":\"AllLabels\",\"id\":\"4ed7cdae-8dc6-4754-8adb-5ea582528896\"}}}],\"center\":[{\"type\":\"object\",\"name\":\"Grid\",\"id\":\"fe03ce7e-5ce1-4f0b-a64f-05221a9d489a\",\"attributes\":{\"axis\":{\"id\":\"526d72fb-bb08-49d2-a2c1-ea07aad0c5c3\"},\"grid_line_color\":null}},{\"type\":\"object\",\"name\":\"Grid\",\"id\":\"3d36edf7-cbdc-49ef-a605-55665651c7f4\",\"attributes\":{\"dimension\":1,\"axis\":{\"id\":\"3354b6a4-299a-462b-9706-76d571026a91\"},\"grid_line_color\":null}}],\"min_border_top\":10,\"min_border_bottom\":10,\"min_border_left\":10,\"min_border_right\":10,\"output_backend\":\"webgl\"}},{\"type\":\"object\",\"name\":\"Spacer\",\"id\":\"d8669e7b-d909-49fe-85a7-b8bb814fd9d1\",\"attributes\":{\"name\":\"HSpacer00456\",\"stylesheets\":[\"\\n:host(.pn-loading):before, .pn-loading:before {\\n  background-color: #c3c3c3;\\n  mask-size: auto calc(min(50%, 400px));\\n  -webkit-mask-size: auto calc(min(50%, 400px));\\n}\",{\"id\":\"d0439922-664d-4311-be85-9f10baf9cf75\"},{\"id\":\"4c72df99-e86f-4f90-affb-ae1835444cd7\"},{\"id\":\"ae4c0b78-5b71-4ae3-99cc-c32f2b71511d\"}],\"margin\":0,\"sizing_mode\":\"stretch_width\",\"align\":\"start\"}}]}}],\"defs\":[{\"type\":\"model\",\"name\":\"ReactiveHTML1\"},{\"type\":\"model\",\"name\":\"FlexBox1\",\"properties\":[{\"name\":\"align_content\",\"kind\":\"Any\",\"default\":\"flex-start\"},{\"name\":\"align_items\",\"kind\":\"Any\",\"default\":\"flex-start\"},{\"name\":\"flex_direction\",\"kind\":\"Any\",\"default\":\"row\"},{\"name\":\"flex_wrap\",\"kind\":\"Any\",\"default\":\"wrap\"},{\"name\":\"gap\",\"kind\":\"Any\",\"default\":\"\"},{\"name\":\"justify_content\",\"kind\":\"Any\",\"default\":\"flex-start\"}]},{\"type\":\"model\",\"name\":\"FloatPanel1\",\"properties\":[{\"name\":\"config\",\"kind\":\"Any\",\"default\":{\"type\":\"map\"}},{\"name\":\"contained\",\"kind\":\"Any\",\"default\":true},{\"name\":\"position\",\"kind\":\"Any\",\"default\":\"right-top\"},{\"name\":\"offsetx\",\"kind\":\"Any\",\"default\":null},{\"name\":\"offsety\",\"kind\":\"Any\",\"default\":null},{\"name\":\"theme\",\"kind\":\"Any\",\"default\":\"primary\"},{\"name\":\"status\",\"kind\":\"Any\",\"default\":\"normalized\"}]},{\"type\":\"model\",\"name\":\"GridStack1\",\"properties\":[{\"name\":\"mode\",\"kind\":\"Any\",\"default\":\"warn\"},{\"name\":\"ncols\",\"kind\":\"Any\",\"default\":null},{\"name\":\"nrows\",\"kind\":\"Any\",\"default\":null},{\"name\":\"allow_resize\",\"kind\":\"Any\",\"default\":true},{\"name\":\"allow_drag\",\"kind\":\"Any\",\"default\":true},{\"name\":\"state\",\"kind\":\"Any\",\"default\":[]}]},{\"type\":\"model\",\"name\":\"drag1\",\"properties\":[{\"name\":\"slider_width\",\"kind\":\"Any\",\"default\":5},{\"name\":\"slider_color\",\"kind\":\"Any\",\"default\":\"black\"},{\"name\":\"value\",\"kind\":\"Any\",\"default\":50}]},{\"type\":\"model\",\"name\":\"click1\",\"properties\":[{\"name\":\"terminal_output\",\"kind\":\"Any\",\"default\":\"\"},{\"name\":\"debug_name\",\"kind\":\"Any\",\"default\":\"\"},{\"name\":\"clears\",\"kind\":\"Any\",\"default\":0}]},{\"type\":\"model\",\"name\":\"FastWrapper1\",\"properties\":[{\"name\":\"object\",\"kind\":\"Any\",\"default\":null},{\"name\":\"style\",\"kind\":\"Any\",\"default\":null}]},{\"type\":\"model\",\"name\":\"NotificationAreaBase1\",\"properties\":[{\"name\":\"js_events\",\"kind\":\"Any\",\"default\":{\"type\":\"map\"}},{\"name\":\"position\",\"kind\":\"Any\",\"default\":\"bottom-right\"},{\"name\":\"_clear\",\"kind\":\"Any\",\"default\":0}]},{\"type\":\"model\",\"name\":\"NotificationArea1\",\"properties\":[{\"name\":\"js_events\",\"kind\":\"Any\",\"default\":{\"type\":\"map\"}},{\"name\":\"notifications\",\"kind\":\"Any\",\"default\":[]},{\"name\":\"position\",\"kind\":\"Any\",\"default\":\"bottom-right\"},{\"name\":\"_clear\",\"kind\":\"Any\",\"default\":0},{\"name\":\"types\",\"kind\":\"Any\",\"default\":[{\"type\":\"map\",\"entries\":[[\"type\",\"warning\"],[\"background\",\"#ffc107\"],[\"icon\",{\"type\":\"map\",\"entries\":[[\"className\",\"fas fa-exclamation-triangle\"],[\"tagName\",\"i\"],[\"color\",\"white\"]]}]]},{\"type\":\"map\",\"entries\":[[\"type\",\"info\"],[\"background\",\"#007bff\"],[\"icon\",{\"type\":\"map\",\"entries\":[[\"className\",\"fas fa-info-circle\"],[\"tagName\",\"i\"],[\"color\",\"white\"]]}]]}]}]},{\"type\":\"model\",\"name\":\"Notification\",\"properties\":[{\"name\":\"background\",\"kind\":\"Any\",\"default\":null},{\"name\":\"duration\",\"kind\":\"Any\",\"default\":3000},{\"name\":\"icon\",\"kind\":\"Any\",\"default\":null},{\"name\":\"message\",\"kind\":\"Any\",\"default\":\"\"},{\"name\":\"notification_type\",\"kind\":\"Any\",\"default\":null},{\"name\":\"_destroyed\",\"kind\":\"Any\",\"default\":false}]},{\"type\":\"model\",\"name\":\"TemplateActions1\",\"properties\":[{\"name\":\"open_modal\",\"kind\":\"Any\",\"default\":0},{\"name\":\"close_modal\",\"kind\":\"Any\",\"default\":0}]},{\"type\":\"model\",\"name\":\"BootstrapTemplateActions1\",\"properties\":[{\"name\":\"open_modal\",\"kind\":\"Any\",\"default\":0},{\"name\":\"close_modal\",\"kind\":\"Any\",\"default\":0}]},{\"type\":\"model\",\"name\":\"TemplateEditor1\",\"properties\":[{\"name\":\"layout\",\"kind\":\"Any\",\"default\":[]}]},{\"type\":\"model\",\"name\":\"MaterialTemplateActions1\",\"properties\":[{\"name\":\"open_modal\",\"kind\":\"Any\",\"default\":0},{\"name\":\"close_modal\",\"kind\":\"Any\",\"default\":0}]},{\"type\":\"model\",\"name\":\"ReactiveESM1\",\"properties\":[{\"name\":\"esm_constants\",\"kind\":\"Any\",\"default\":{\"type\":\"map\"}}]},{\"type\":\"model\",\"name\":\"JSComponent1\",\"properties\":[{\"name\":\"esm_constants\",\"kind\":\"Any\",\"default\":{\"type\":\"map\"}}]},{\"type\":\"model\",\"name\":\"ReactComponent1\",\"properties\":[{\"name\":\"esm_constants\",\"kind\":\"Any\",\"default\":{\"type\":\"map\"}}]},{\"type\":\"model\",\"name\":\"AnyWidgetComponent1\",\"properties\":[{\"name\":\"esm_constants\",\"kind\":\"Any\",\"default\":{\"type\":\"map\"}}]},{\"type\":\"model\",\"name\":\"request_value1\",\"properties\":[{\"name\":\"fill\",\"kind\":\"Any\",\"default\":\"none\"},{\"name\":\"_synced\",\"kind\":\"Any\",\"default\":null},{\"name\":\"_request_sync\",\"kind\":\"Any\",\"default\":0}]}]}};\n",
       "  var render_items = [{\"docid\":\"17c816bf-78ed-46cb-90ee-15ee2d610ada\",\"roots\":{\"7a6cb54f-abff-429d-bb2c-0520f07ba6a8\":\"a2b56ebc-bf35-44d1-bb17-178141c2bd1d\"},\"root_ids\":[\"7a6cb54f-abff-429d-bb2c-0520f07ba6a8\"]}];\n",
       "  var docs = Object.values(docs_json)\n",
       "  if (!docs) {\n",
       "    return\n",
       "  }\n",
       "  const py_version = docs[0].version.replace('rc', '-rc.').replace('.dev', '-dev.')\n",
       "  async function embed_document(root) {\n",
       "    var Bokeh = get_bokeh(root)\n",
       "    await Bokeh.embed.embed_items_notebook(docs_json, render_items);\n",
       "    for (const render_item of render_items) {\n",
       "      for (const root_id of render_item.root_ids) {\n",
       "\tconst id_el = document.getElementById(root_id)\n",
       "\tif (id_el.children.length && id_el.children[0].hasAttribute('data-root-id')) {\n",
       "\t  const root_el = id_el.children[0]\n",
       "\t  root_el.id = root_el.id + '-rendered'\n",
       "\t  for (const child of root_el.children) {\n",
       "            // Ensure JupyterLab does not capture keyboard shortcuts\n",
       "            // see: https://jupyterlab.readthedocs.io/en/4.1.x/extension/notebook.html#keyboard-interaction-model\n",
       "\t    child.setAttribute('data-lm-suppress-shortcuts', 'true')\n",
       "\t  }\n",
       "\t}\n",
       "      }\n",
       "    }\n",
       "  }\n",
       "  function get_bokeh(root) {\n",
       "    if (root.Bokeh === undefined) {\n",
       "      return null\n",
       "    } else if (root.Bokeh.version !== py_version) {\n",
       "      if (root.Bokeh.versions === undefined || !root.Bokeh.versions.has(py_version)) {\n",
       "\treturn null\n",
       "      }\n",
       "      return root.Bokeh.versions.get(py_version);\n",
       "    } else if (root.Bokeh.version === py_version) {\n",
       "      return root.Bokeh\n",
       "    }\n",
       "    return null\n",
       "  }\n",
       "  function is_loaded(root) {\n",
       "    var Bokeh = get_bokeh(root)\n",
       "    return (Bokeh != null && Bokeh.Panel !== undefined)\n",
       "  }\n",
       "  if (is_loaded(root)) {\n",
       "    embed_document(root);\n",
       "  } else {\n",
       "    var attempts = 0;\n",
       "    var timer = setInterval(function(root) {\n",
       "      if (is_loaded(root)) {\n",
       "        clearInterval(timer);\n",
       "        embed_document(root);\n",
       "      } else if (document.readyState == \"complete\") {\n",
       "        attempts++;\n",
       "        if (attempts > 200) {\n",
       "          clearInterval(timer);\n",
       "\t  var Bokeh = get_bokeh(root)\n",
       "\t  if (Bokeh == null || Bokeh.Panel == null) {\n",
       "            console.warn(\"Panel: ERROR: Unable to run Panel code because Bokeh or Panel library is missing\");\n",
       "\t  } else {\n",
       "\t    console.warn(\"Panel: WARNING: Attempting to render but not all required libraries could be resolved.\")\n",
       "\t    embed_document(root)\n",
       "\t  }\n",
       "        }\n",
       "      }\n",
       "    }, 25, root)\n",
       "  }\n",
       "})(window);</script>"
      ],
      "text/plain": [
       ":Curve   [x]   (y)"
      ]
     },
     "execution_count": 27,
     "metadata": {
      "application/vnd.holoviews_exec.v0+json": {
       "id": "7a6cb54f-abff-429d-bb2c-0520f07ba6a8"
      }
     },
     "output_type": "execute_result"
    }
   ],
   "source": [
    "x_data = data[\"x\"]\n",
    "y_data = data[\"y\"]\n",
    "\n",
    "x_fine = np.linspace(x_data.min(), x_data.max(), 10)\n",
    "\n",
    "f = np.interp(x_fine, x_data.to_list(), y_data.to_list())\n",
    "f\n",
    "\n",
    "points = {\"x\": x_fine, \"y\": f}\n",
    "data_linear = pd.DataFrame(points)\n",
    "data_linear\n",
    "\n",
    "data_linear.hvplot.line(x=\"x\", y=\"y\")"
   ]
  },
  {
   "cell_type": "markdown",
   "metadata": {},
   "source": [
    "## 2. スプライン補間（Spline Interpolation）\n",
    "\n",
    ":特性:\n",
    "データ点間を滑らかに接続する曲線（スプライン）を用いた補間手法。\n",
    "とくに、**三次スプライン（Cubic Spline）**がよく使われる（らしい）。\n",
    "三次スプラインは、各区間が三次関数で構成され、全体として滑らかな曲線になる。\n",
    "\n",
    ":適用シーン:\n",
    "データが滑らかに変化し、ノイズが少ない場合。\n",
    "とくに、信号処理や時間シリーズデータの補間によく使用される。\n",
    "\n",
    ":利点:\n",
    "滑らかな補間が可能。データの自然な変化をよく再現できる。\n",
    "\n",
    ":欠点:\n",
    "高次のスプラインを用いると、過剰適合（オーバーフィッティング）のリスクが増すことがある。"
   ]
  },
  {
   "cell_type": "markdown",
   "metadata": {},
   "source": [
    "## 3. 多項式補間（Polynomial Interpolation）\n",
    "\n",
    ":特性:\n",
    "データセット全体を単一の多項式で補間する方法。\n",
    "ラグランジュ補間やニュートン補間が有名。\n",
    "\n",
    ":適用シーン:\n",
    "少数のデータ点に対して使用する場合。\n",
    "データが滑らかでない場合には注意が必要。\n",
    "\n",
    ":利点:\n",
    "小さなデータセットに対して適用するときには非常に精度が高くなる。\n",
    "\n",
    ":欠点:\n",
    "多くのデータ点を使用する場合、ランゲ現象（端での振動が大きくなる現象）が発生しやすくなり、適用が難しくなることがある。"
   ]
  },
  {
   "cell_type": "markdown",
   "metadata": {},
   "source": [
    "## 4. 分段線形補間（Piecewise Linear Interpolation）\n",
    "\n",
    ":特性:\n",
    "複数の線形セグメントを連結して補間する手法。\n",
    "区間ごとに線形関数で補間を行う。\n",
    "\n",
    ":適用シーン:\n",
    "データが多いが、それほど滑らかである必要がない場合。\n",
    "\n",
    ":利点:\n",
    "計算が高速で、全体的に安定。\n",
    "\n",
    ":欠点:\n",
    "曲線部分が不足しているため、滑らかさが犠牲になることがある。"
   ]
  },
  {
   "cell_type": "markdown",
   "metadata": {},
   "source": [
    "## 5. 正弦補間（Sinc Interpolation）\n",
    "\n",
    ":特性:\n",
    "周波数領域で考慮される理想的な補間手法。\n",
    "とくにバンドリミット信号（サンプリング定理に従う信号）に適している。\n",
    "\n",
    ":適用シーン:\n",
    "信号処理。\n",
    "とくにデジタル信号の再構成に適している。\n",
    "\n",
    ":利点:\n",
    "理想的な周波数特性を持ち、バンドリミット信号に対しては非常に高精度。\n",
    "\n",
    ":欠点:\n",
    "計算量が多く、ノイズがあると不正確な結果になることがある。"
   ]
  },
  {
   "cell_type": "markdown",
   "metadata": {},
   "source": [
    "## 6. 移動平均補間（Moving Average Interpolation）\n",
    "\n",
    ":特性:\n",
    "近傍のデータ点の平均を取って補間する手法。\n",
    "スムージング効果がある。\n",
    "\n",
    ":適用シーン:\n",
    "ノイズが多いデータや、滑らかさが重要な場合。\n",
    "\n",
    ":利点:\n",
    "データの変動を抑え、平滑に補間できる。\n",
    "\n",
    ":欠点:\n",
    "急激な変動があるデータでは、元の形状が失われることがある。"
   ]
  },
  {
   "cell_type": "markdown",
   "metadata": {},
   "source": [
    "# 3次スプライン補間\n",
    "\n",
    "- 宇宙線の信号には3次スプライン補間が適しているらしい\n",
    "- 3次スプライン補間は、分割定義された3次多項式の補間関数で補間する形式\n",
    "- 関数全体がなめらかで連続的になるように、データ点ごとの補間関数を構成することが必要"
   ]
  },
  {
   "cell_type": "markdown",
   "metadata": {},
   "source": [
    "## フィット関数\n",
    "\n",
    "A cubic spline is composed of several cubic polynomials, each defined on a subinterval between two data points\n",
    "\n",
    "### データ区間\n",
    "\n",
    "```math\n",
    "[x_{i}, x_{i+1}]\n",
    "```\n",
    "\n",
    "### 3次スプライン関数\n",
    "\n",
    "```math\n",
    "S_{i} (x) = a_{i} + b_{i} (x - x_{i}) + c_{i} (x - x_{i})^{2} + d_{3} (x - x_{i})^{3}\n",
    "```\n",
    "\n",
    "$a_{i}, b_{i}, c_{i}, d_{i}$ はそれぞれのデータ区間の係数"
   ]
  },
  {
   "cell_type": "markdown",
   "metadata": {},
   "source": [
    "# コードサンプル\n",
    "\n",
    "- `scipy.interpolate`を使ったサンプル\n",
    "- https://docs.scipy.org/doc/scipy/reference/generated/scipy.interpolate.CubicSpline.html"
   ]
  },
  {
   "cell_type": "code",
   "execution_count": null,
   "metadata": {},
   "outputs": [],
   "source": [
    "import numpy as np\n",
    "import pandas as pd\n",
    "import matplotlib.pyplot as plt\n",
    "from scipy.interpolate import CubicSpline\n",
    "import hvplot.pandas\n",
    "\n",
    "# サンプルデータの生成\n",
    "# サンプリングされた時系列データを模擬\n",
    "time = np.linspace(0, 10, 10)  # 10点のサンプルデータ\n",
    "amplitude = np.exp(-time) * np.sin(2 * np.pi * time)\n",
    "\n",
    "# Pandas DataFrameにデータを格納\n",
    "df = pd.DataFrame({\"time\": time, \"amplitude\": amplitude})\n",
    "\n",
    "# 三次スプライン補間を実行\n",
    "cs = CubicSpline(df[\"time\"], df[\"amplitude\"])\n",
    "\n",
    "# 補間後のデータを生成\n",
    "time_new = np.linspace(0, 10, 500)  # より細かい時間軸に補間\n",
    "amplitude_new = cs(time_new)\n",
    "\n",
    "# 元のデータと補間後のデータをプロット\n",
    "plt.figure(figsize=(10, 6))\n",
    "plt.plot(df[\"time\"], df[\"amplitude\"], \"o\", label=\"Original Data\", markersize=5)\n",
    "plt.plot(time_new, amplitude_new, \"-\", label=\"Cubic Spline Interpolation\")\n",
    "plt.xlabel(\"Time\")\n",
    "plt.ylabel(\"Amplitude\")\n",
    "plt.legend()\n",
    "plt.title(\"Cubic Spline Interpolation of Sample Data\")\n",
    "plt.grid(True)\n",
    "plt.show()"
   ]
  },
  {
   "cell_type": "markdown",
   "metadata": {},
   "source": [
    "## 要素を分割"
   ]
  },
  {
   "cell_type": "code",
   "execution_count": null,
   "metadata": {},
   "outputs": [],
   "source": [
    "# 宇宙線の信号を模した波形を作成\n",
    "# np.linspace(start, stop, num)\n",
    "\n",
    "time = np.linspace(0, 10, 10)  # 10点のサンプルデータ\n",
    "amplitude = np.exp(-time) * np.sin(2 * np.pi * time)\n",
    "data = pd.DataFrame({\"time\": time, \"amplitude\": amplitude})\n",
    "\n",
    "data.hvplot.scatter(x=\"time\", y=\"amplitude\")"
   ]
  },
  {
   "cell_type": "code",
   "execution_count": null,
   "metadata": {},
   "outputs": [],
   "source": [
    "# 三次スプライン補間を実行\n",
    "# CubicSpline(x, y) -> CubicSpline\n",
    "cs = CubicSpline(data[\"time\"], data[\"amplitude\"])"
   ]
  },
  {
   "cell_type": "markdown",
   "metadata": {},
   "source": [
    "- ドキュメントには明記されていないけれど、CubicSplineオブジェクトの中には、それぞれの区間の補間関数がある\n",
    "  - ``cs.c``の中に4つのリストがある -> $a, b, c, d$ に相当\n",
    "  - それらは、それぞれ10点ある -> $a_i, b_i, c_i, d_i$ に相当"
   ]
  },
  {
   "cell_type": "code",
   "execution_count": null,
   "metadata": {},
   "outputs": [],
   "source": [
    "# 補間関数の係数（a_i, b_i, c_i, d_i）の二次元配列（numpy.ndarray）\n",
    "# cs.c\n",
    "cs.x  # x\n",
    "cs.axis  # 0\n",
    "cs.extrapolate  # True\n",
    "\n",
    "# cs.antiderivative() -> CubicSpline\n",
    "# cs.derivative() -> CubicSpline\n",
    "# cs.from_bernstein_basis() -> CubicSpline\n",
    "# cs.from_spline() -> CubicSpline\n",
    "# cs.integrate() -> float\n",
    "# cs.roots() -> numpy.ndarray\n",
    "# cs.solve() -> numpy.ndarray"
   ]
  },
  {
   "cell_type": "code",
   "execution_count": null,
   "metadata": {},
   "outputs": [],
   "source": [
    "# 補間後のデータを生成\n",
    "time_new = np.linspace(0, 10, 500)  # より細かい時間軸に補間\n",
    "amplitude_new = cs(time_new)\n",
    "splined = pd.DataFrame({\"time\": time_new, \"amplitude\": amplitude_new})\n",
    "\n",
    "splined.hvplot.line(x=\"time\", y=\"amplitude\")"
   ]
  },
  {
   "cell_type": "code",
   "execution_count": null,
   "metadata": {},
   "outputs": [],
   "source": [
    "(\n",
    "    splined.hvplot.line(x=\"time\", y=\"amplitude\", grid=True, width=600, height=400)\n",
    "    * data.hvplot.scatter(x=\"time\", y=\"amplitude\", grid=True, color=\"red\")\n",
    ")"
   ]
  },
  {
   "cell_type": "markdown",
   "metadata": {},
   "source": [
    "# スプライン補間の精度を評価する\n",
    "\n",
    "スプライン補間の精度を評価するには、\n",
    "補間結果を既知の値（＝真の値）と比較するか、\n",
    "スプラインがデータにどの程度フィットするかをさまざまな基準に従って評価する必要がある"
   ]
  },
  {
   "cell_type": "markdown",
   "metadata": {},
   "source": [
    "## 1. ビジュアルチェック\n",
    "\n",
    "スプラインを元のデータと一緒にプロットし、視覚的に不一致がないか確認する\n",
    "\n",
    "- スプラインとデータ点をプロット： スプラインがどの程度データの形状に沿っているかを比較する\n",
    "- 振動をチェック： 特にデータ点の少ない領域や境界で、スプラインに非現実的な振動が生じないことを確認する"
   ]
  },
  {
   "cell_type": "markdown",
   "metadata": {},
   "source": [
    "## 2. 残差分析\n",
    "\n",
    "元のデータポイントと、そのポイントでのスプラインによって予測された値との差（残差）を確認する。\n",
    "残差が小さいほど、より正確なスプラインであることを示す。\n",
    "\n",
    "1. 残差を計算する\n",
    "2. 残差をプロットする: 適切にフィットできていれば0周辺にランダム分布するはず\n",
    "3. RMSE（Root Mean Square Error）を計算する\n",
    "\n",
    "\n",
    "```math\n",
    "R_{i} = y_{i} − \\hat{y}_{i}​\n",
    "```\n",
    "\n",
    "$y_{i}$は実データ、$\\hat{y}_{i}$はスプライン補間したでデータ\n",
    "\n",
    "\n",
    "RMSE=\n",
    "n\n",
    "1\n",
    "​\n",
    "\n",
    "i=1\n",
    "∑\n",
    "n\n",
    "​\n",
    " Residual\n",
    "i\n",
    "2"
   ]
  },
  {
   "cell_type": "markdown",
   "metadata": {},
   "source": [
    "​\n",
    "\n",
    "​\n",
    "\n",
    "RMSE provides a single number summarizing the average size of the residuals.\n",
    "\n",
    "1. Cross-Validation\n",
    "If you have a limited dataset, cross-validation can be a powerful method to assess the spline’s performance. The idea is to fit the spline on a subset of the data (training set) and evaluate its performance on another subset (validation set).\n",
    "\n",
    "Leave-One-Out Cross-Validation (LOOCV):\n",
    "For each data point, leave it out of the fitting process, fit the spline to the remaining data, and then evaluate how well the spline predicts the left-out point.\n",
    "Compute the error for each left-out point and summarize them (e.g., with RMSE).\n",
    "k-Fold Cross-Validation:\n",
    "Divide the data into\n",
    "𝑘\n",
    "k subsets.\n",
    "For each subset, fit the spline on the remaining\n",
    "𝑘\n",
    "−\n",
    "1\n",
    "k−1 subsets and validate it on the left-out subset.\n",
    "Average the errors across all folds.\n",
    "4. Comparison with Known Analytical Solutions\n",
    "If the underlying function that generated the data is known, you can compare the spline to this known function.\n",
    "\n",
    "Generate a high-resolution set of data points from the known function.\n",
    "Evaluate the spline at these points and compare the results.\n",
    "Calculate errors such as RMSE, mean absolute error (MAE), or maximum absolute error.\n",
    "5. Spline Smoothness and Overfitting Check\n",
    "Check second derivatives: A very smooth spline should have reasonably smooth second derivatives. You can compute and plot the second derivatives to ensure the spline isn't too wavy.\n",
    "Overfitting detection: Overfitting occurs when the spline fits the noise in the data rather than the underlying trend. If the spline is too complex (e.g., if you use too many data points or the boundary conditions are too strict), it might follow every little fluctuation in the data. Regularization or a simpler spline might be necessary to avoid overfitting."
   ]
  },
  {
   "cell_type": "code",
   "execution_count": null,
   "metadata": {},
   "outputs": [],
   "source": [
    "data\n",
    "splined"
   ]
  }
 ],
 "metadata": {
  "kernelspec": {
   "display_name": ".venv",
   "language": "python",
   "name": "python3"
  },
  "language_info": {
   "codemirror_mode": {
    "name": "ipython",
    "version": 3
   },
   "file_extension": ".py",
   "mimetype": "text/x-python",
   "name": "python",
   "nbconvert_exporter": "python",
   "pygments_lexer": "ipython3",
   "version": "3.11.10"
  }
 },
 "nbformat": 4,
 "nbformat_minor": 2
}

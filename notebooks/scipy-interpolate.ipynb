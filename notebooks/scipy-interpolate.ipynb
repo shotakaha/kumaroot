{
 "cells": [
  {
   "cell_type": "markdown",
   "metadata": {},
   "source": [
    "# データを補間したい（``scipy.interpolate``）"
   ]
  },
  {
   "cell_type": "markdown",
   "metadata": {},
   "source": [
    "## 1. 線形補間（Linear Interpolation）\n",
    "\n",
    ":特性:\n",
    "最も単純な補間手法で、隣接するデータ点を直線で結び、その間の値を推定する\n",
    "\n",
    ":適用シーン:\n",
    "データが滑らかで単調な場合や、補間が小さい範囲で必要な場合。計算が非常に高速で、データが比較的少ない場合に有効。\n",
    "\n",
    ":利点:\n",
    "シンプルで高速。\n",
    "\n",
    ":欠点:\n",
    "データが非線形に変化する場合には不正確"
   ]
  },
  {
   "cell_type": "markdown",
   "metadata": {},
   "source": [
    "## 2. スプライン補間（Spline Interpolation）\n",
    "\n",
    ":特性:\n",
    "データ点間を滑らかに接続する曲線（スプライン）を用いた補間手法。\n",
    "とくに、**三次スプライン（Cubic Spline）**がよく使われる（らしい）。\n",
    "三次スプラインは、各区間が三次関数で構成され、全体として滑らかな曲線になる。\n",
    "\n",
    ":適用シーン:\n",
    "データが滑らかに変化し、ノイズが少ない場合。\n",
    "とくに、信号処理や時間シリーズデータの補間によく使用される。\n",
    "\n",
    ":利点:\n",
    "滑らかな補間が可能。データの自然な変化をよく再現できる。\n",
    "\n",
    ":欠点:\n",
    "高次のスプラインを用いると、過剰適合（オーバーフィッティング）のリスクが増すことがある。"
   ]
  },
  {
   "cell_type": "markdown",
   "metadata": {},
   "source": [
    "## 3. 多項式補間（Polynomial Interpolation）\n",
    "\n",
    ":特性:\n",
    "データセット全体を単一の多項式で補間する方法。\n",
    "ラグランジュ補間やニュートン補間が有名。\n",
    "\n",
    ":適用シーン:\n",
    "少数のデータ点に対して使用する場合。\n",
    "データが滑らかでない場合には注意が必要。\n",
    "\n",
    ":利点:\n",
    "小さなデータセットに対して適用するときには非常に精度が高くなる。\n",
    "\n",
    ":欠点:\n",
    "多くのデータ点を使用する場合、ランゲ現象（端での振動が大きくなる現象）が発生しやすくなり、適用が難しくなることがある。"
   ]
  },
  {
   "cell_type": "markdown",
   "metadata": {},
   "source": [
    "## 4. 分段線形補間（Piecewise Linear Interpolation）\n",
    "\n",
    ":特性:\n",
    "複数の線形セグメントを連結して補間する手法。\n",
    "区間ごとに線形関数で補間を行う。\n",
    "\n",
    ":適用シーン:\n",
    "データが多いが、それほど滑らかである必要がない場合。\n",
    "\n",
    ":利点:\n",
    "計算が高速で、全体的に安定。\n",
    "\n",
    ":欠点:\n",
    "曲線部分が不足しているため、滑らかさが犠牲になることがある。"
   ]
  },
  {
   "cell_type": "markdown",
   "metadata": {},
   "source": [
    "## 5. 正弦補間（Sinc Interpolation）\n",
    "\n",
    ":特性:\n",
    "周波数領域で考慮される理想的な補間手法。\n",
    "とくにバンドリミット信号（サンプリング定理に従う信号）に適している。\n",
    "\n",
    ":適用シーン:\n",
    "信号処理。\n",
    "とくにデジタル信号の再構成に適している。\n",
    "\n",
    ":利点:\n",
    "理想的な周波数特性を持ち、バンドリミット信号に対しては非常に高精度。\n",
    "\n",
    ":欠点:\n",
    "計算量が多く、ノイズがあると不正確な結果になることがある。"
   ]
  },
  {
   "cell_type": "markdown",
   "metadata": {},
   "source": [
    "## 6. 移動平均補間（Moving Average Interpolation）\n",
    "\n",
    ":特性:\n",
    "近傍のデータ点の平均を取って補間する手法。\n",
    "スムージング効果がある。\n",
    "\n",
    ":適用シーン:\n",
    "ノイズが多いデータや、滑らかさが重要な場合。\n",
    "\n",
    ":利点:\n",
    "データの変動を抑え、平滑に補間できる。\n",
    "\n",
    ":欠点:\n",
    "急激な変動があるデータでは、元の形状が失われることがある。"
   ]
  },
  {
   "cell_type": "markdown",
   "metadata": {},
   "source": [
    "# 3次スプライン補間\n",
    "\n",
    "- 宇宙線の信号には3次スプライン補間が適しているらしい\n",
    "- 3次スプライン補間は、分割定義された3次多項式の補間関数で補間する形式\n",
    "- 関数全体がなめらかで連続的になるように、データ点ごとの補間関数を構成することが必要"
   ]
  },
  {
   "cell_type": "markdown",
   "metadata": {},
   "source": [
    "## フィット関数\n",
    "\n",
    "A cubic spline is composed of several cubic polynomials, each defined on a subinterval between two data points \n",
    "\n",
    "### データ区間 \n",
    "\n",
    "```math\n",
    "[x_{i}, x_{i+1}]\n",
    "```\n",
    "\n",
    "### 3次スプライン関数\n",
    "\n",
    "```math\n",
    "S_{i} (x) = a_{i} + b_{i} (x - x_{i}) + c_{i} (x - x_{i})^{2} + d_{3} (x - x_{i})^{3}\n",
    "```\n",
    "\n",
    "$a_{i}, b_{i}, c_{i}, d_{i}$ はそれぞれのデータ区間の係数\n"
   ]
  },
  {
   "cell_type": "markdown",
   "metadata": {},
   "source": [
    "# コードサンプル\n",
    "\n",
    "- `scipy.interpolate`を使ったサンプル\n",
    "- https://docs.scipy.org/doc/scipy/reference/generated/scipy.interpolate.CubicSpline.html"
   ]
  },
  {
   "cell_type": "code",
   "execution_count": null,
   "metadata": {},
   "outputs": [],
   "source": [
    "import numpy as np\n",
    "import pandas as pd\n",
    "import matplotlib.pyplot as plt\n",
    "from scipy.interpolate import CubicSpline\n",
    "import hvplot.pandas\n",
    "\n",
    "# サンプルデータの生成\n",
    "# サンプリングされた時系列データを模擬\n",
    "time = np.linspace(0, 10, 10)  # 10点のサンプルデータ\n",
    "amplitude = np.exp(-time) * np.sin(2 * np.pi * time)\n",
    "\n",
    "# Pandas DataFrameにデータを格納\n",
    "df = pd.DataFrame({\"time\": time, \"amplitude\": amplitude})\n",
    "\n",
    "# 三次スプライン補間を実行\n",
    "cs = CubicSpline(df[\"time\"], df[\"amplitude\"])\n",
    "\n",
    "# 補間後のデータを生成\n",
    "time_new = np.linspace(0, 10, 500)  # より細かい時間軸に補間\n",
    "amplitude_new = cs(time_new)\n",
    "\n",
    "# 元のデータと補間後のデータをプロット\n",
    "plt.figure(figsize=(10, 6))\n",
    "plt.plot(df[\"time\"], df[\"amplitude\"], \"o\", label=\"Original Data\", markersize=5)\n",
    "plt.plot(time_new, amplitude_new, \"-\", label=\"Cubic Spline Interpolation\")\n",
    "plt.xlabel(\"Time\")\n",
    "plt.ylabel(\"Amplitude\")\n",
    "plt.legend()\n",
    "plt.title(\"Cubic Spline Interpolation of Sample Data\")\n",
    "plt.grid(True)\n",
    "plt.show()"
   ]
  },
  {
   "cell_type": "markdown",
   "metadata": {},
   "source": [
    "## 要素を分割"
   ]
  },
  {
   "cell_type": "code",
   "execution_count": null,
   "metadata": {},
   "outputs": [],
   "source": [
    "# 宇宙線の信号を模した波形を作成\n",
    "# np.linspace(start, stop, num)\n",
    "\n",
    "time = np.linspace(0, 10, 10)  # 10点のサンプルデータ\n",
    "amplitude = np.exp(-time) * np.sin(2 * np.pi * time)\n",
    "data = pd.DataFrame({\"time\": time, \"amplitude\": amplitude})\n",
    "\n",
    "data.hvplot.scatter(x=\"time\", y=\"amplitude\")"
   ]
  },
  {
   "cell_type": "code",
   "execution_count": null,
   "metadata": {},
   "outputs": [],
   "source": [
    "# 三次スプライン補間を実行\n",
    "# CubicSpline(x, y) -> CubicSpline\n",
    "cs = CubicSpline(data[\"time\"], data[\"amplitude\"])"
   ]
  },
  {
   "cell_type": "markdown",
   "metadata": {},
   "source": [
    "- ドキュメントには明記されていないけれど、CubicSplineオブジェクトの中には、それぞれの区間の補間関数がある\n",
    "  - ``cs.c``の中に4つのリストがある -> $a, b, c, d$ に相当\n",
    "  - それらは、それぞれ10点ある -> $a_i, b_i, c_i, d_i$ に相当"
   ]
  },
  {
   "cell_type": "code",
   "execution_count": null,
   "metadata": {},
   "outputs": [],
   "source": [
    "# 補間関数の係数（a_i, b_i, c_i, d_i）の二次元配列（numpy.ndarray）\n",
    "# cs.c\n",
    "cs.x  # x\n",
    "cs.axis  # 0\n",
    "cs.extrapolate  # True\n",
    "\n",
    "# cs.antiderivative() -> CubicSpline\n",
    "# cs.derivative() -> CubicSpline\n",
    "# cs.from_bernstein_basis() -> CubicSpline\n",
    "# cs.from_spline() -> CubicSpline\n",
    "# cs.integrate() -> float\n",
    "# cs.roots() -> numpy.ndarray\n",
    "# cs.solve() -> numpy.ndarray"
   ]
  },
  {
   "cell_type": "code",
   "execution_count": null,
   "metadata": {},
   "outputs": [],
   "source": [
    "# 補間後のデータを生成\n",
    "time_new = np.linspace(0, 10, 500)  # より細かい時間軸に補間\n",
    "amplitude_new = cs(time_new)\n",
    "splined = pd.DataFrame({\"time\": time_new, \"amplitude\": amplitude_new})\n",
    "\n",
    "splined.hvplot.line(x=\"time\", y=\"amplitude\")"
   ]
  },
  {
   "cell_type": "code",
   "execution_count": null,
   "metadata": {},
   "outputs": [],
   "source": [
    "(\n",
    "    splined.hvplot.line(x=\"time\", y=\"amplitude\", grid=True, width=600, height=400)\n",
    "    * data.hvplot.scatter(x=\"time\", y=\"amplitude\", grid=True, color=\"red\")\n",
    ")"
   ]
  },
  {
   "cell_type": "markdown",
   "metadata": {},
   "source": [
    "# スプライン補間の精度を評価する\n",
    "\n",
    "スプライン補間の精度を評価するには、\n",
    "補間結果を既知の値（＝真の値）と比較するか、\n",
    "スプラインがデータにどの程度フィットするかをさまざまな基準に従って評価する必要がある"
   ]
  },
  {
   "cell_type": "markdown",
   "metadata": {},
   "source": [
    "## 1. ビジュアルチェック\n",
    "\n",
    "スプラインを元のデータと一緒にプロットし、視覚的に不一致がないか確認する\n",
    "\n",
    "- スプラインとデータ点をプロット： スプラインがどの程度データの形状に沿っているかを比較する\n",
    "- 振動をチェック： 特にデータ点の少ない領域や境界で、スプラインに非現実的な振動が生じないことを確認する\n"
   ]
  },
  {
   "cell_type": "markdown",
   "metadata": {},
   "source": [
    "## 2. 残差分析\n",
    "\n",
    "元のデータポイントと、そのポイントでのスプラインによって予測された値との差（残差）を確認する。\n",
    "残差が小さいほど、より正確なスプラインであることを示す。\n",
    "\n",
    "1. 残差を計算する\n",
    "2. 残差をプロットする: 適切にフィットできていれば0周辺にランダム分布するはず\n",
    "3. RMSE（Root Mean Square Error）を計算する\n",
    "\n",
    "\n",
    "```math\n",
    "R_{i} = y_{i} − \\hat{y}_{i}​\n",
    "```\n",
    "\n",
    "$y_{i}$は実データ、$\\hat{y}_{i}$はスプライン補間したでデータ\n",
    "\n",
    "\n",
    "RMSE= \n",
    "n\n",
    "1\n",
    "​\n",
    "  \n",
    "i=1\n",
    "∑\n",
    "n\n",
    "​\n",
    " Residual \n",
    "i\n",
    "2\n"
   ]
  },
  {
   "cell_type": "markdown",
   "metadata": {},
   "source": [
    "​\n",
    " \n",
    "​\n",
    " \n",
    "RMSE provides a single number summarizing the average size of the residuals.\n",
    "\n",
    "1. Cross-Validation\n",
    "If you have a limited dataset, cross-validation can be a powerful method to assess the spline’s performance. The idea is to fit the spline on a subset of the data (training set) and evaluate its performance on another subset (validation set).\n",
    "\n",
    "Leave-One-Out Cross-Validation (LOOCV):\n",
    "For each data point, leave it out of the fitting process, fit the spline to the remaining data, and then evaluate how well the spline predicts the left-out point.\n",
    "Compute the error for each left-out point and summarize them (e.g., with RMSE).\n",
    "k-Fold Cross-Validation:\n",
    "Divide the data into \n",
    "𝑘\n",
    "k subsets.\n",
    "For each subset, fit the spline on the remaining \n",
    "𝑘\n",
    "−\n",
    "1\n",
    "k−1 subsets and validate it on the left-out subset.\n",
    "Average the errors across all folds.\n",
    "4. Comparison with Known Analytical Solutions\n",
    "If the underlying function that generated the data is known, you can compare the spline to this known function.\n",
    "\n",
    "Generate a high-resolution set of data points from the known function.\n",
    "Evaluate the spline at these points and compare the results.\n",
    "Calculate errors such as RMSE, mean absolute error (MAE), or maximum absolute error.\n",
    "5. Spline Smoothness and Overfitting Check\n",
    "Check second derivatives: A very smooth spline should have reasonably smooth second derivatives. You can compute and plot the second derivatives to ensure the spline isn't too wavy.\n",
    "Overfitting detection: Overfitting occurs when the spline fits the noise in the data rather than the underlying trend. If the spline is too complex (e.g., if you use too many data points or the boundary conditions are too strict), it might follow every little fluctuation in the data. Regularization or a simpler spline might be necessary to avoid overfitting."
   ]
  },
  {
   "cell_type": "code",
   "execution_count": null,
   "metadata": {},
   "outputs": [],
   "source": [
    "data\n",
    "splined"
   ]
  }
 ],
 "metadata": {
  "kernelspec": {
   "display_name": ".venv",
   "language": "python",
   "name": "python3"
  },
  "language_info": {
   "codemirror_mode": {
    "name": "ipython",
    "version": 3
   },
   "file_extension": ".py",
   "mimetype": "text/x-python",
   "name": "python",
   "nbconvert_exporter": "python",
   "pygments_lexer": "ipython3",
   "version": "3.11.9"
  }
 },
 "nbformat": 4,
 "nbformat_minor": 2
}

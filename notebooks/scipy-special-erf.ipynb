{
 "cells": [
  {
   "cell_type": "markdown",
   "metadata": {},
   "source": [
    "# 誤差関数／補正誤差関数"
   ]
  },
  {
   "cell_type": "code",
   "execution_count": null,
   "metadata": {},
   "outputs": [],
   "source": [
    "from scipy.special import erf, erfc\n",
    "import pandas as pd\n",
    "import numpy as np\n",
    "import hvplot.pandas"
   ]
  },
  {
   "cell_type": "code",
   "execution_count": null,
   "metadata": {},
   "outputs": [],
   "source": [
    "def gauss_function(x, amp, mu, sigma):\n",
    "    n = (x - mu) ** 2\n",
    "    d = 2 * sigma**2\n",
    "    f = amp * np.exp(-n / d)\n",
    "    return f"
   ]
  },
  {
   "cell_type": "code",
   "execution_count": null,
   "metadata": {},
   "outputs": [],
   "source": [
    "def erf_function(x, amp, mu, sigma):\n",
    "    f = amp * erf((x - mu) / sigma) + 1\n",
    "    return f"
   ]
  },
  {
   "cell_type": "code",
   "execution_count": null,
   "metadata": {},
   "outputs": [],
   "source": [
    "def erfc_function(x, amp, mu, sigma):\n",
    "    f = amp * erfc((x - mu) / sigma)\n",
    "    return f"
   ]
  },
  {
   "cell_type": "code",
   "execution_count": null,
   "metadata": {
    "lines_to_next_cell": 2
   },
   "outputs": [],
   "source": [
    "x = np.arange(250, 300, 1)\n",
    "amp = 1\n",
    "mu = 280\n",
    "sigma = 5\n",
    "\n",
    "y1 = gauss_function(x, amp, mu, sigma)\n",
    "y2 = erf_function(x, amp, mu, sigma)\n",
    "y3 = erfc_function(x, amp, mu, sigma)\n",
    "\n",
    "data = pd.DataFrame(\n",
    "    {\n",
    "        \"x\": x,\n",
    "        \"y1\": y1,\n",
    "        \"y2\": y2,\n",
    "        \"y3\": y3,\n",
    "    }\n",
    ")\n",
    "\n",
    "data.hvplot.scatter(x=\"x\", grid=True, width=800, height=400)"
   ]
  },
  {
   "cell_type": "code",
   "execution_count": null,
   "metadata": {},
   "outputs": [],
   "source": [
    "erf_function(x, amp, mu, sigma)"
   ]
  }
 ],
 "metadata": {
  "kernelspec": {
   "display_name": ".venv",
   "language": "python",
   "name": "python3"
  },
  "language_info": {
   "codemirror_mode": {
    "name": "ipython",
    "version": 3
   },
   "file_extension": ".py",
   "mimetype": "text/x-python",
   "name": "python",
   "nbconvert_exporter": "python",
   "pygments_lexer": "ipython3",
   "version": "3.11.9"
  }
 },
 "nbformat": 4,
 "nbformat_minor": 2
}

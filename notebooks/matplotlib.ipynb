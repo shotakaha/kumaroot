{
 "cells": [
  {
   "cell_type": "markdown",
   "metadata": {},
   "source": [
    "# matplotlibの使い方\n",
    "\n",
    "``matplotlib``の使い方を確認します。\n",
    "また``pandas.DataFrame.plot``と組み合わせた使い方も確認します。"
   ]
  },
  {
   "cell_type": "markdown",
   "metadata": {},
   "source": [
    "# 参考サイト\n",
    "\n",
    "1. [SciKit Learn: The Iris Dataset](https://scikit-learn.org/stable/auto_examples/datasets/plot_iris_dataset.html)\n",
    "2. [matplotlib: The Lifecycle of a Plot](https://matplotlib.org/stable/tutorials/lifecycle.html)\n",
    "3. [matplotlib: Quick start guide](https://matplotlib.org/stable/users/explain/quick_start.html)\n",
    "4. [matplotlib: APIs](https://matplotlib.org/stable/users/explain/figure/api_interfaces.html)"
   ]
  },
  {
   "cell_type": "markdown",
   "metadata": {},
   "source": [
    "## モジュールのインポート\n",
    "\n",
    " 利用するモジュールのバージョンを確認します。"
   ]
  },
  {
   "cell_type": "code",
   "execution_count": null,
   "metadata": {},
   "outputs": [],
   "source": [
    "import matplotlib as mpl\n",
    "import pandas as pd\n",
    "\n",
    "print(f\"Pandas: {pd.__version__}\")\n",
    "print(f\"Matplotlib: {mpl.__version__}\")"
   ]
  },
  {
   "cell_type": "markdown",
   "metadata": {},
   "source": [
    "## カラーマップ名の確認\n",
    "\n",
    "- 利用可能なカラーマップ名は``matplotlib.colormaps``で確認できます。\n",
    "- カラーマップ名は170種類あります。"
   ]
  },
  {
   "cell_type": "code",
   "execution_count": null,
   "metadata": {},
   "outputs": [],
   "source": [
    "# mpl.colormaps()\n",
    "# len(mpl.colormaps()) # 170"
   ]
  },
  {
   "cell_type": "markdown",
   "metadata": {},
   "source": [
    "# 散布図を作成する\n",
    "\n",
    "``matplotlib.axes.Axes.scatter``と``pandas.DataFrame.plot``を使った方法で散布図を作成します。"
   ]
  },
  {
   "cell_type": "markdown",
   "metadata": {},
   "source": [
    "## 散布図を作成する（``Axes.scatter``）\n",
    "\n",
    "- サンプルデータに``scikit-learn``に付属しているアヤメのデータを使っています。\n",
    "- プロットに日本語フォントを利用するため``japanize_matplotlib``をインポートしています。\n",
    "- オプジェクト指向スタイル（``OO-style``）でプロットを作成しています。"
   ]
  },
  {
   "cell_type": "code",
   "execution_count": null,
   "metadata": {},
   "outputs": [],
   "source": [
    "from sklearn import datasets\n",
    "import matplotlib.pyplot as plt\n",
    "import japanize_matplotlib  # noqa: F401\n",
    "\n",
    "# サンプルデータを pd.DataFrame で読み込む\n",
    "iris = datasets.load_iris(as_frame=True)\n",
    "\n",
    "# Figure, Axesオブジェクトを作成する\n",
    "_, ax = plt.subplots()\n",
    "\n",
    "# 散布図を作成する\n",
    "scatter = ax.scatter(\n",
    "    data=iris.frame,\n",
    "    x=\"sepal length (cm)\",\n",
    "    y=\"sepal width (cm)\",\n",
    "    c=\"target\",  # マーカーの色\n",
    "    marker=\"P\",  # マーカーの形\n",
    ")\n",
    "ax.set_xlabel(\"がく片の長さ (cm)\")\n",
    "ax.set_ylabel(\"がく片の幅 (cm)\")\n",
    "ax.set_title(\"アヤメ\")\n",
    "_ = ax.legend(\n",
    "    scatter.legend_elements()[0],\n",
    "    iris.target_names,\n",
    "    loc=\"upper right\",\n",
    "    title=\"分類\",\n",
    ")"
   ]
  },
  {
   "cell_type": "markdown",
   "metadata": {},
   "source": [
    "## 散布図を作成する（``pd.DataFrame.plot``）\n",
    "\n",
    "- ``Axes.scatter``で作成した図と同様のものを``pandas.DataFrame.plot``で作成しました。\n",
    "- ひとつのプロットを作成する場合``plt.subplots()``は不要です。\n",
    "- オプションを利用して、プロットの見た目も一括で設定できます。"
   ]
  },
  {
   "cell_type": "code",
   "execution_count": null,
   "metadata": {},
   "outputs": [],
   "source": [
    "from sklearn import datasets\n",
    "import matplotlib.pyplot as plt\n",
    "\n",
    "iris = datasets.load_iris(as_frame=True)\n",
    "\n",
    "# _, axs = plt.subplots()\n",
    "\n",
    "iris.frame.plot(\n",
    "    kind=\"scatter\",\n",
    "    x=\"sepal length (cm)\",\n",
    "    y=\"sepal width (cm)\",\n",
    "    c=\"target\",\n",
    "    marker=\"P\",\n",
    "    title=\"アヤメ\",\n",
    "    xlabel=\"がく片の長さ (cm)\",\n",
    "    ylabel=\"がく片の幅 (cm)\",\n",
    "    grid=True,\n",
    "    cmap=\"viridis\",\n",
    ")"
   ]
  },
  {
   "cell_type": "markdown",
   "metadata": {},
   "source": [
    "# キャンバスを分割したい（``matplotlib.pyplot.subplots``）\n",
    "\n",
    "- [matplotlib.pyplot.subplots](https://matplotlib.org/stable/api/_as_gen/matplotlib.pyplot.subplots.html)\n",
    "- ``plt.subplots``を使って、キャンバスを（2行1列に）分割しています。\n",
    "- ``pandas.DataFrame.plot``の``ax``オプションを使って、どの場所に描画するか指定しています。"
   ]
  },
  {
   "cell_type": "code",
   "execution_count": null,
   "metadata": {},
   "outputs": [],
   "source": [
    "from sklearn import datasets\n",
    "import matplotlib.pyplot as plt\n",
    "\n",
    "iris = datasets.load_iris(as_frame=True)\n",
    "_, axs = plt.subplots(2, 1, figsize=(8, 6))\n",
    "\n",
    "# 上段\n",
    "iris.frame.plot(\n",
    "    kind=\"scatter\",\n",
    "    x=\"sepal length (cm)\",\n",
    "    y=\"sepal width (cm)\",\n",
    "    c=\"target\",\n",
    "    ax=axs[0],\n",
    "    cmap=\"viridis\",\n",
    ")\n",
    "\n",
    "# 下段\n",
    "iris.frame.plot(\n",
    "    kind=\"scatter\",\n",
    "    x=\"petal length (cm)\",\n",
    "    y=\"petal width (cm)\",\n",
    "    c=\"target\",\n",
    "    ax=axs[1],\n",
    "    cmap=\"viridis\",\n",
    ")"
   ]
  },
  {
   "cell_type": "markdown",
   "metadata": {},
   "source": [
    "# キャンバスをもっと分割したい（``matplotlib.pyplot.subplot_mosaic``）\n",
    "\n",
    "- [matplotlib.pyplot.subplot_mosaic](https://matplotlib.org/stable/api/_as_gen/matplotlib.pyplot.subplot_mosaic.html)\n",
    "- 散布図と、その投影ヒストグラムを作成したい（でもできてない）"
   ]
  },
  {
   "cell_type": "code",
   "execution_count": null,
   "metadata": {},
   "outputs": [],
   "source": [
    "from sklearn import datasets\n",
    "import matplotlib.pyplot as plt\n",
    "\n",
    "iris = datasets.load_iris(as_frame=True)\n",
    "\n",
    "mosaic = [[\"A\", \"A\", \".\"], [\"B\", \"B\", \"C\"], [\"B\", \"B\", \"C\"]]\n",
    "\n",
    "fig, axs = plt.subplot_mosaic(\n",
    "    mosaic=mosaic,\n",
    "    layout=\"constrained\",\n",
    "    figsize=(10, 10),\n",
    ")\n",
    "\n",
    "# メイン\n",
    "limit_x = (4, 8)\n",
    "limit_y = (2, 5)\n",
    "\n",
    "iris.frame.plot(\n",
    "    kind=\"scatter\",\n",
    "    x=\"sepal length (cm)\",\n",
    "    y=\"sepal width (cm)\",\n",
    "    c=\"target\",\n",
    "    cmap=\"viridis\",\n",
    "    ax=axs[\"B\"],\n",
    "    colorbar=False,\n",
    "    legend=True,\n",
    "    xlim=limit_x,\n",
    "    ylim=limit_y,\n",
    ")\n",
    "\n",
    "# サブ\n",
    "names = [\"sepal length (cm)\"]\n",
    "iris.frame[names].plot(\n",
    "    kind=\"hist\",\n",
    "    xlim=limit_x,\n",
    "    bins=40,\n",
    "    ax=axs[\"A\"],\n",
    ")\n",
    "\n",
    "# サブ\n",
    "names = [\"sepal width (cm)\"]\n",
    "iris.frame[names].plot(\n",
    "    kind=\"hist\",\n",
    "    ax=axs[\"C\"],\n",
    "    ylim=limit_y,\n",
    "    bins=30,\n",
    "    orientation=\"horizontal\",\n",
    ")"
   ]
  }
 ],
 "metadata": {
  "kernelspec": {
   "display_name": ".venv",
   "language": "python",
   "name": "python3"
  },
  "language_info": {
   "codemirror_mode": {
    "name": "ipython",
    "version": 3
   },
   "file_extension": ".py",
   "mimetype": "text/x-python",
   "name": "python",
   "nbconvert_exporter": "python",
   "pygments_lexer": "ipython3",
   "version": "3.11.7"
  }
 },
 "nbformat": 4,
 "nbformat_minor": 2
}

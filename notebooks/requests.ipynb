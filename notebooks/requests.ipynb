{
 "cells": [
  {
   "cell_type": "markdown",
   "metadata": {},
   "source": [
    "# HTTP操作モジュールの比較\n",
    "\n",
    "- `requests`: https://requests.readthedocs.io/en/latest/user/quickstart/\n",
    "- `httpx`: https://www.python-httpx.org/\n",
    "- `urllib.request`: https://docs.python.org/3/library/urllib.request.html#module-urllib.request"
   ]
  },
  {
   "cell_type": "markdown",
   "metadata": {},
   "source": [
    "リクエストを送るURLは``https://httpbin.org``にする。\n",
    "このサーバーは、HTTPリクエストとレスポンスの動作をテストするための無料のサービス。\n",
    "\n",
    "``https://httpbin.org/get``はエコーサーバーになっていて、送信したHTTPリクエストの結果を、JSON形式のコンテンツで返してくれます。\n",
    "APIの開発やクライアントの挙動をデバッグする際に非常に便利です。"
   ]
  },
  {
   "cell_type": "code",
   "execution_count": null,
   "metadata": {},
   "outputs": [],
   "source": [
    "# TARGET_URL = \"https://example.com\"\n",
    "TARGET_URL = \"https://httpbin.org/get\""
   ]
  },
  {
   "cell_type": "markdown",
   "metadata": {},
   "source": [
    "インポート\n",
    "\n",
    "- `urllib.request`: 標準モジュール\n",
    "- `requests`: `poetry add requests --group dev`\n",
    "- `httpx`: `poetry add httpx --group dev`"
   ]
  },
  {
   "cell_type": "code",
   "execution_count": null,
   "metadata": {},
   "outputs": [],
   "source": [
    "import urllib.request\n",
    "import urllib.parse\n",
    "import requests\n",
    "import httpx\n",
    "\n",
    "print(f\"{requests.__version__=}\")\n",
    "print(f\"{httpx.__version__=}\")"
   ]
  },
  {
   "cell_type": "markdown",
   "metadata": {},
   "source": [
    "# リクエストの作成\n",
    "\n",
    "基本となる`GET`メソッドで、URLをリクエストしてみます。\n",
    "`urllib`は`urlopen`関数を使います。\n",
    "`requests`と`httpx`は`get`関数を使います。"
   ]
  },
  {
   "cell_type": "code",
   "execution_count": null,
   "metadata": {},
   "outputs": [],
   "source": [
    "r_url = urllib.request.urlopen(TARGET_URL, timeout=5)\n",
    "r_req = requests.get(TARGET_URL, timeout=5)\n",
    "r_hpx = httpx.get(TARGET_URL, timeout=5)"
   ]
  },
  {
   "cell_type": "markdown",
   "metadata": {},
   "source": [
    "## 結果を確認\n",
    "\n",
    "`urllib`はオブジェクトのアドレスが返ってくるので、実行結果がすぐにはわかりませんが、`requests`と`httpx`はオブジェクトを`print`するだけで実行結果が確認できます。"
   ]
  },
  {
   "cell_type": "code",
   "execution_count": null,
   "metadata": {},
   "outputs": [],
   "source": [
    "print(f\"{r_url=}\")\n",
    "print(f\"{r_req=}\")\n",
    "print(f\"{r_hpx=}\")"
   ]
  },
  {
   "cell_type": "markdown",
   "metadata": {},
   "source": [
    "オブジェクトの型を確認"
   ]
  },
  {
   "cell_type": "code",
   "execution_count": null,
   "metadata": {},
   "outputs": [],
   "source": [
    "print(f\"{type(r_url)=}\")\n",
    "print(f\"{type(r_req)=}\")\n",
    "print(f\"{type(r_hpx)=}\")"
   ]
  },
  {
   "cell_type": "markdown",
   "metadata": {},
   "source": [
    "関数のシグネチャ\n",
    "\n",
    "```python\n",
    "urllib.request.urlopen(\n",
    "    url,    # str or Requestオブジェクト\n",
    "    data=None,\n",
    "    timeout=<object object at 0x1022b4840>,\n",
    "    *,\n",
    "    cafile=None,      # CA情報\n",
    "    capath=None,      # CA情報\n",
    "    cadefault=False,  # ignored by default\n",
    "    context=None,     # ssl.SSLContext instance\n",
    ")\n",
    "```\n",
    "\n",
    "```python\n",
    "requests.get(\n",
    "    url,\n",
    "    params=None,   # dict\n",
    "    **kwargs,      # request(kwargs)\n",
    "    )\n",
    "\n",
    "requests.request(\n",
    "    method,    # str: [\"GET\", \"OPTIONS\", \"HEAD\", \"POST\", \"PUT\", \"PATCH\", \"DELETE\"]\n",
    "    url,\n",
    "    **kwargs,  # params, data, headers, cookies, timeout, cert,\n",
    "    )\n",
    "```\n",
    "\n",
    "```python\n",
    "httpx.get(\n",
    "    url: 'URL | str',\n",
    "    *,\n",
    "    params: 'QueryParamTypes | None' = None,\n",
    "    headers: 'HeaderTypes | None' = None,\n",
    "    cookies: 'CookieTypes | None' = None,\n",
    "    auth: 'AuthTypes | None' = None,\n",
    "    proxy: 'ProxyTypes | None' = None,\n",
    "    proxies: 'ProxiesTypes | None' = None,\n",
    "    follow_redirects: 'bool' = False,\n",
    "    cert: 'CertTypes | None' = None,\n",
    "    verify: 'VerifyTypes' = True,\n",
    "    timeout: 'TimeoutTypes' = Timeout(timeout=5.0),\n",
    "    trust_env: 'bool' = True,\n",
    ") -> 'Response'\n",
    "```"
   ]
  },
  {
   "cell_type": "markdown",
   "metadata": {},
   "source": [
    "# ヘッダーを操作したい\n",
    "\n",
    "- レスポンスのヘッダー確認する\n",
    "- リクエストにヘッダーを追加する"
   ]
  },
  {
   "cell_type": "markdown",
   "metadata": {},
   "source": [
    "## レスポンスのヘッダーを確認する\n",
    "\n",
    "レスポンスで取得したオブジェクトにはヘッダー情報が含まれています。\n",
    "`urllib.request`は`r.headers.items()`、\n",
    "`requests`と`httpx`は`r.headers`で確認できます。"
   ]
  },
  {
   "cell_type": "code",
   "execution_count": null,
   "metadata": {},
   "outputs": [],
   "source": [
    "print(f\"{r_url.headers.items()=}\")\n",
    "print(f\"{r_req.headers=}\")\n",
    "print(f\"{r_hpx.headers=}\")"
   ]
  },
  {
   "cell_type": "markdown",
   "metadata": {},
   "source": [
    "## リクエストにヘッダーを追加する\n",
    "\n",
    "`requests.get`と`httpx.get`は`headers`オプションで、ヘッダー情報を追加できます。\n",
    "`urllib.request`では`urllib.request.Request`オジェクトを作成し、`urlopen`に渡すことで、ヘッダー情報を追加できます。"
   ]
  },
  {
   "cell_type": "code",
   "execution_count": null,
   "metadata": {},
   "outputs": [],
   "source": [
    "HEADERS = {\"user-agent\": \"kumaroot-test/0.0.1\"}\n",
    "\n",
    "r = urllib.request.Request(url=TARGET_URL, headers=HEADERS, method=\"GET\")\n",
    "r_url = urllib.request.urlopen(r, timeout=5)\n",
    "r_req = requests.get(TARGET_URL, headers=HEADERS, timeout=5)\n",
    "r_hpx = httpx.get(TARGET_URL, headers=HEADERS, timeout=5)"
   ]
  },
  {
   "cell_type": "markdown",
   "metadata": {},
   "source": [
    "追加した情報は、それぞれのモジュールの`Request`オブジェクトで確認できる。"
   ]
  },
  {
   "cell_type": "code",
   "execution_count": null,
   "metadata": {},
   "outputs": [],
   "source": [
    "print(f\"{r.headers=}\")\n",
    "print(f\"{r_req.request.headers=}\")\n",
    "print(f\"{r_hpx.request.headers=}\")"
   ]
  },
  {
   "cell_type": "markdown",
   "metadata": {},
   "source": [
    "レスポンスには含まれない"
   ]
  },
  {
   "cell_type": "code",
   "execution_count": null,
   "metadata": {},
   "outputs": [],
   "source": [
    "print(f\"{r_url.headers.items()=}\")\n",
    "print(f\"{r_req.headers=}\")\n",
    "print(f\"{r_hpx.headers=}\")"
   ]
  },
  {
   "cell_type": "markdown",
   "metadata": {},
   "source": [
    "# クエリ操作したい\n",
    "\n",
    "- リクエストするときにクエリ（＝パラメーター）を追加したい\n",
    "\n",
    "`requests.get`と`httpx.get`は`params`オプションで追加できる。\n",
    "`urllib`モジュールでは、`urllib.parse.urlencode`でURLを作成し、`urlopen`または、`urllib.request.Request`に渡すことで追加できる。"
   ]
  },
  {
   "cell_type": "code",
   "execution_count": null,
   "metadata": {},
   "outputs": [],
   "source": [
    "HEADERS = {\"user-agent\": \"kumaroot-test/0.0.1\"}\n",
    "PARAMS = {\"key1\": \"valu1\", \"key2\": \"value2\"}\n",
    "\n",
    "# クエリ付きURLの作り方は力づく\n",
    "PARAMS_URL = TARGET_URL + \"?\" + urllib.parse.urlencode(query=PARAMS)\n",
    "r = urllib.request.Request(url=PARAMS_URL, headers=HEADERS, method=\"GET\")\n",
    "r_url = urllib.request.urlopen(r, timeout=5)\n",
    "\n",
    "r_req = requests.get(TARGET_URL, headers=HEADERS, params=PARAMS, timeout=5)\n",
    "r_hpx = httpx.get(TARGET_URL, headers=HEADERS, params=PARAMS, timeout=5)"
   ]
  },
  {
   "cell_type": "code",
   "execution_count": null,
   "metadata": {},
   "outputs": [],
   "source": [
    "print(f\"{r_url.url=}\")\n",
    "print(f\"{r_req.request.url=}\")\n",
    "print(f\"{r_hpx.request.url=}\")"
   ]
  },
  {
   "cell_type": "markdown",
   "metadata": {},
   "source": [
    "# ステータスを確認したい\n",
    "\n",
    "``httpbin.org/status/ステータスコード``を使って、200番台（SUCCESS）以外の状態のレスポンスを確認できます。\n",
    "`urllib.request`は例外処理が必要です。\n",
    "`requests`と`httpx`は不要です。"
   ]
  },
  {
   "cell_type": "code",
   "execution_count": null,
   "metadata": {},
   "outputs": [],
   "source": [
    "import urllib.request\n",
    "import urllib.error\n",
    "\n",
    "# TARGET_URL = \"https://httpbin.org/status/200\"\n",
    "TARGET_URL = \"https://httpbin.org/status/401\"\n",
    "\n",
    "try:\n",
    "    r_url = urllib.request.urlopen(TARGET_URL, timeout=5)\n",
    "except urllib.error.HTTPError as e:\n",
    "    print(e)\n",
    "    print(f\"{e.url=}\")\n",
    "    print(f\"{e.code=}\")\n",
    "    print(f\"{e.reason=}\")\n",
    "\n",
    "r_req = requests.get(TARGET_URL, timeout=5)\n",
    "r_hpx = httpx.get(TARGET_URL, timeout=5)"
   ]
  },
  {
   "cell_type": "markdown",
   "metadata": {},
   "source": [
    "例外処理が発生すると、`r_url`が生成されないため、以下は`requests`と`httpx`のレスポンスを確認する"
   ]
  },
  {
   "cell_type": "code",
   "execution_count": null,
   "metadata": {},
   "outputs": [],
   "source": [
    "print(f\"{r_req.status_code=}\")\n",
    "print(f\"{r_hpx.status_code=}\")"
   ]
  },
  {
   "cell_type": "code",
   "execution_count": null,
   "metadata": {},
   "outputs": [],
   "source": [
    "print(f\"{r_req.ok=}\")\n",
    "print(f\"{r_hpx.is_success=}\")"
   ]
  },
  {
   "cell_type": "code",
   "execution_count": null,
   "metadata": {},
   "outputs": [],
   "source": [
    "print(f\"{r_url.reason=}\")\n",
    "print(f\"{r_req.reason=}\")\n",
    "print(f\"{r_hpx.reason_phrase=}\")"
   ]
  },
  {
   "cell_type": "markdown",
   "metadata": {},
   "source": [
    "# レスポンスを確認\n",
    "\n",
    "- `r.text` : `str`\n",
    "- `r.content` : `bytes`\n",
    "- `r.json()` : `dict`"
   ]
  },
  {
   "cell_type": "code",
   "execution_count": null,
   "metadata": {},
   "outputs": [],
   "source": [
    "TARGE_URL = \"https://httpbin.org/get\"\n",
    "\n",
    "r_url = urllib.request.urlopen(TARGET_URL, timeout=5)\n",
    "r_req = requests.get(TARGET_URL, timeout=5)\n",
    "r_hpx = httpx.get(TARGET_URL, timeout=5)"
   ]
  },
  {
   "cell_type": "markdown",
   "metadata": {},
   "source": [
    "## `urllib.request`\n",
    "\n",
    "- `read()`: レスポンスのデータをbytes形式で一括で読み込む\n",
    "- `readline()`: レスポンスから1行ずつデータを読み込む\n",
    "- `readlines()`: レスポンスのすべての行をリスト型で読み込む\n",
    "\n",
    "これらの関数はデータを「ストリーム」で読み込むため、終端で空になる"
   ]
  },
  {
   "cell_type": "code",
   "execution_count": null,
   "metadata": {},
   "outputs": [],
   "source": [
    "data = r_url.read()\n",
    "content = data.decode(\"utf-8\")\n",
    "\n",
    "with open(\"content_urllib.txt\", \"w\") as f:\n",
    "    print(content)\n",
    "    f.write(content)"
   ]
  },
  {
   "cell_type": "code",
   "execution_count": null,
   "metadata": {},
   "outputs": [],
   "source": [
    "content = r_req.text\n",
    "\n",
    "with open(\"content_requests.txt\", \"w\") as f:\n",
    "    print(content)\n",
    "    f.write(content)"
   ]
  },
  {
   "cell_type": "code",
   "execution_count": null,
   "metadata": {},
   "outputs": [],
   "source": [
    "r_hpx.encoding = \"utf-8\"\n",
    "content = r_hpx.text\n",
    "\n",
    "with open(\"content_httpx.txt\", \"w\") as f:\n",
    "    print(content)\n",
    "    f.write(content)"
   ]
  },
  {
   "cell_type": "markdown",
   "metadata": {},
   "source": [
    "# 実際のユースケースで確認"
   ]
  },
  {
   "cell_type": "code",
   "execution_count": null,
   "metadata": {},
   "outputs": [],
   "source": [
    "DUMMY_URL = \"https://docs.google.com/spreadsheets/d/16Sc_UgShNuxMfRnBiFsjmfThE1VfVhJf3jgmxNvFeEI/edit?gid=0#gid=0\"\n",
    "EXPORT_URL = \"https://docs.google.com/spreadsheets/d/16Sc_UgShNuxMfRnBiFsjmfThE1VfVhJf3jgmxNvFeEI/export?gid=0&format=csv\"\n",
    "\n",
    "BASE_URL = \"https://docs.google.com/spreadsheets/d/16Sc_UgShNuxMfRnBiFsjmfThE1VfVhJf3jgmxNvFeEI/export\"\n",
    "PARAMS = {\"gid\": \"0\", \"format\": \"csv\"}"
   ]
  },
  {
   "cell_type": "code",
   "execution_count": null,
   "metadata": {},
   "outputs": [],
   "source": [
    "# クエリ付きURLの作り方は力づく\n",
    "PARAMS_URL = BASE_URL + \"?\" + urllib.parse.urlencode(query=PARAMS)\n",
    "r = urllib.request.Request(url=PARAMS_URL, headers=HEADERS, method=\"GET\")\n",
    "r_url = urllib.request.urlopen(r, timeout=5)\n",
    "\n",
    "r_req = requests.get(BASE_URL, headers=HEADERS, params=PARAMS, timeout=5)\n",
    "r_req.encoding = \"utf-8\"\n",
    "\n",
    "r_hpx = httpx.get(\n",
    "    BASE_URL, headers=HEADERS, params=PARAMS, timeout=5, follow_redirects=True\n",
    ")\n",
    "r_hpx.encoding = \"utf-8\""
   ]
  },
  {
   "cell_type": "code",
   "execution_count": null,
   "metadata": {},
   "outputs": [],
   "source": [
    "data = r_url.read()\n",
    "content = data.decode(\"utf-8\")\n",
    "with open(\"content_urllib.csv\", \"w\") as f:\n",
    "    # print(content)\n",
    "    f.write(content)\n",
    "\n",
    "\n",
    "content = r_req.text\n",
    "with open(\"content_requests.csv\", \"w\") as f:\n",
    "    # print(content)\n",
    "    f.write(content)\n",
    "\n",
    "###\n",
    "\n",
    "\n",
    "content = r_hpx.text\n",
    "with open(\"content_httpx.csv\", \"w\", encoding=\"utf-8\") as f:\n",
    "    # print(content)\n",
    "    f.write(content)"
   ]
  },
  {
   "cell_type": "code",
   "execution_count": null,
   "metadata": {},
   "outputs": [],
   "source": [
    "httpx.URL?"
   ]
  }
 ],
 "metadata": {
  "kernelspec": {
   "display_name": ".venv",
   "language": "python",
   "name": "python3"
  },
  "language_info": {
   "codemirror_mode": {
    "name": "ipython",
    "version": 3
   },
   "file_extension": ".py",
   "mimetype": "text/x-python",
   "name": "python",
   "nbconvert_exporter": "python",
   "pygments_lexer": "ipython3",
   "version": "3.11.10"
  }
 },
 "nbformat": 4,
 "nbformat_minor": 2
}

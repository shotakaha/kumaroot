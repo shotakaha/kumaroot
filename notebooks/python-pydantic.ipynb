{
 "cells": [
  {
   "cell_type": "markdown",
   "metadata": {},
   "source": [
    "# データクラスしたい（`pydantic`）\n",
    "\n",
    "- https://docs.pydantic.dev/latest/"
   ]
  },
  {
   "cell_type": "code",
   "execution_count": null,
   "metadata": {},
   "outputs": [],
   "source": [
    "from pydantic import BaseModel\n",
    "\n",
    "\n",
    "class UserSettings(BaseModel):\n",
    "    settings: str\n",
    "    \"\"\"（位置引数）\"\"\"\n",
    "\n",
    "    drive: str = \"\"\n",
    "    \"\"\"（オプション）\"\"\"\n",
    "\n",
    "\n",
    "us = UserSettings(settings=\"設定ファイル名\")\n",
    "us"
   ]
  },
  {
   "cell_type": "code",
   "execution_count": null,
   "metadata": {},
   "outputs": [],
   "source": [
    "us.model_dump()"
   ]
  },
  {
   "cell_type": "code",
   "execution_count": null,
   "metadata": {},
   "outputs": [],
   "source": [
    "us.model_dump_json()"
   ]
  },
  {
   "cell_type": "markdown",
   "metadata": {},
   "source": [
    "## ``pd.DataFrame``したい\n",
    "\n",
    "- ``pd.DataFrame``はPydanticが標準で利用できる型ではない\n",
    "- モデルの設定の変更が必要\n",
    "- ``arbitrary_types_allowed=True``すると、該当のフィールドでバリデーションが効かなくなる"
   ]
  },
  {
   "cell_type": "code",
   "execution_count": null,
   "metadata": {},
   "outputs": [],
   "source": [
    "from pydantic import BaseModel, ConfigDict\n",
    "import pandas as pd\n",
    "\n",
    "\n",
    "class UserSettings(BaseModel):\n",
    "    model_config = ConfigDict(arbitrary_types_allowed=True)\n",
    "\n",
    "    settings: str\n",
    "    \"\"\"（位置引数）\"\"\"\n",
    "\n",
    "    drive: str = \"\"\n",
    "    \"\"\"（オプション）\"\"\"\n",
    "\n",
    "    data: pd.DataFrame = pd.DataFrame()\n",
    "\n",
    "\n",
    "us = UserSettings(settings=\"設定ファイル名\")\n",
    "us.model_dump()"
   ]
  },
  {
   "cell_type": "markdown",
   "metadata": {},
   "source": [
    "``model_dump()``でシリアライズできる"
   ]
  },
  {
   "cell_type": "code",
   "execution_count": null,
   "metadata": {},
   "outputs": [],
   "source": [
    "us.drive = 1\n",
    "us.model_dump()"
   ]
  },
  {
   "cell_type": "markdown",
   "metadata": {},
   "source": [
    "- ``model_dump_json()``はできない\n",
    "- ``PydanticSerializationError: Unable to serialize unknown type: <class 'pandas.core.frame.DataFrame'>``"
   ]
  },
  {
   "cell_type": "code",
   "execution_count": null,
   "metadata": {},
   "outputs": [],
   "source": [
    "# us.model_dump_json()\n"
   ]
  },
  {
   "cell_type": "markdown",
   "metadata": {},
   "source": [
    "## カスタムバリデーターしたい\n",
    "\n",
    "- ``pd.DataFrame``に対するバリデーションを自分で定義できる"
   ]
  },
  {
   "cell_type": "code",
   "execution_count": null,
   "metadata": {},
   "outputs": [],
   "source": [
    "from pydantic import BaseModel, field_validator\n",
    "import pandas as pd\n",
    "from typing import Any\n",
    "\n",
    "\n",
    "class UserSettings(BaseModel):\n",
    "    settings: str\n",
    "    drive: str\n",
    "    data: Any = pd.DataFrame({\"timestamp\": []})\n",
    "\n",
    "    @field_validator(\"data\")\n",
    "    def check_dataframe(cls, field_value):\n",
    "        if not isinstance(field_value, pd.DataFrame):\n",
    "            raise ValueError(\"data must be a pandas.DataFrame\")\n",
    "        required_columns = [\"timestamp\"]\n",
    "        if not all(col in field_value.columns for col in required_columns):\n",
    "            raise ValueError(\n",
    "                f\"DataFrame must contain the following columns: {required_columns}\"\n",
    "            )\n",
    "\n",
    "        return field_value"
   ]
  },
  {
   "cell_type": "code",
   "execution_count": null,
   "metadata": {},
   "outputs": [],
   "source": [
    "us = UserSettings(settings=\"設定ファイル名\", drive=\".\")\n",
    "# us = UserSettings(settings=\"設定ファイル名\", drive=\".\", data=pd.DataFrame({\"time\": []}))"
   ]
  },
  {
   "cell_type": "code",
   "execution_count": null,
   "metadata": {},
   "outputs": [],
   "source": [
    "us.model_dump()"
   ]
  },
  {
   "cell_type": "code",
   "execution_count": null,
   "metadata": {},
   "outputs": [],
   "source": [
    "# us.model_dump_json()\n"
   ]
  },
  {
   "cell_type": "markdown",
   "metadata": {},
   "source": [
    "## 設定ファイルしたい\n",
    "\n",
    "- TOML形式の設定ファイル\n",
    "- ``tomllib``で読み込み辞書型に変換\n",
    "- ``**dict``で展開して、クラスを初期化"
   ]
  },
  {
   "cell_type": "code",
   "execution_count": null,
   "metadata": {},
   "outputs": [],
   "source": [
    "import tomllib\n",
    "from pydantic import BaseModel\n",
    "\n",
    "\n",
    "class UserSettings(BaseModel):\n",
    "    device: str\n",
    "    baudrate: int\n",
    "\n",
    "\n",
    "settings_str = \"\"\"\n",
    "device=\"/dev/ttyUSB0\"\n",
    "baudrate=1000\n",
    "\"\"\"\n",
    "\n",
    "sd = tomllib.loads(settings_str)\n",
    "UserSettings(**sd)"
   ]
  },
  {
   "cell_type": "markdown",
   "metadata": {},
   "source": [
    "階層構造（セクション）を持つ設定"
   ]
  },
  {
   "cell_type": "code",
   "execution_count": null,
   "metadata": {},
   "outputs": [],
   "source": [
    "import tomllib\n",
    "import datetime\n",
    "from pydantic import BaseModel\n",
    "\n",
    "\n",
    "class UserSettings(BaseModel):\n",
    "    string: str\n",
    "    integer: int\n",
    "    number: float\n",
    "    boolean: bool\n",
    "    local_datetime: datetime.datetime\n",
    "    local_date: datetime.date\n",
    "    local_time: datetime.time\n",
    "    array: list\n",
    "    table: dict\n",
    "    inline_table: dict\n",
    "    array_table: list\n",
    "\n",
    "\n",
    "settings_string = \"\"\"\n",
    "[basic]\n",
    "string = \"str\"\n",
    "integer = 10\n",
    "number = 100.0\n",
    "boolean = true\n",
    "\n",
    "[datetime]\n",
    "local_datetime = \"2024-08-28 12:34:56\"\n",
    "local_date = \"2024-08-28\"\n",
    "local_time = \"12:34:56\"\n",
    "\n",
    "[arrays]\n",
    "array = [\"array1\", \"array2\", 0]\n",
    "inline_table = { k1 = \"v1\", k2 = \"v2\" }\n",
    "[arrays.table]\n",
    "k1 = \"v1\"\n",
    "k2 = 10\n",
    "\n",
    "[[arrays.array_table]]\n",
    "key = \"key1\"\n",
    "value = \"value1\"\n",
    "\n",
    "[[arrays.array_table]]\n",
    "key = \"key2\"\n",
    "value = \"value2\"\n",
    "\"\"\"\n",
    "\n",
    "sd = tomllib.loads(settings_string)\n",
    "\n",
    "args = {**sd.get(\"basic\", {}), **sd.get(\"datetime\", {}), **sd.get(\"arrays\", {})}\n",
    "\n",
    "UserSettings(**args)"
   ]
  },
  {
   "cell_type": "code",
   "execution_count": null,
   "metadata": {},
   "outputs": [],
   "source": []
  },
  {
   "cell_type": "code",
   "execution_count": null,
   "metadata": {},
   "outputs": [],
   "source": []
  }
 ],
 "metadata": {
  "kernelspec": {
   "display_name": ".venv",
   "language": "python",
   "name": "python3"
  },
  "language_info": {
   "codemirror_mode": {
    "name": "ipython",
    "version": 3
   },
   "file_extension": ".py",
   "mimetype": "text/x-python",
   "name": "python",
   "nbconvert_exporter": "python",
   "pygments_lexer": "ipython3",
   "version": "3.11.10"
  }
 },
 "nbformat": 4,
 "nbformat_minor": 2
}

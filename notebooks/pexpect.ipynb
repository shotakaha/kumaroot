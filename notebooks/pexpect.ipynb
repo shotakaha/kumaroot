{
 "cells": [
  {
   "cell_type": "markdown",
   "metadata": {},
   "source": [
    "# pexpect\n",
    "\n",
    "- `pexpect`で対話処理を自動化する\n",
    "- `rsync`でリモートサーバーからローカルにデータを同期する\n",
    "- `ssh`ログインしてサーバー情報をファイルに出力する"
   ]
  }
 ],
 "metadata": {
  "language_info": {
   "name": "python"
  }
 },
 "nbformat": 4,
 "nbformat_minor": 2
}

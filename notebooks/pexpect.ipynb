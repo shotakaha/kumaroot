{
 "cells": [
  {
   "cell_type": "markdown",
   "metadata": {},
   "source": [
    "# pexpect\n",
    "\n",
    "- `pexpect`で対話処理を自動化する\n",
    "- `rsync`でリモートサーバーからローカルにデータを同期する\n",
    "- `ssh`ログインしてサーバー情報をファイルに出力する"
   ]
  },
  {
   "cell_type": "code",
   "execution_count": null,
   "metadata": {},
   "outputs": [],
   "source": [
    "import os\n",
    "\n",
    "import pexpect\n",
    "\n",
    "print(f\"{pexpect.__version__=}\")"
   ]
  },
  {
   "cell_type": "markdown",
   "metadata": {},
   "source": [
    "環境変数を読み込む"
   ]
  },
  {
   "cell_type": "code",
   "execution_count": null,
   "metadata": {},
   "outputs": [],
   "source": [
    "import dotenv\n",
    "\n",
    "dotenv.load_dotenv()"
   ]
  },
  {
   "cell_type": "code",
   "execution_count": 3,
   "metadata": {},
   "outputs": [],
   "source": [
    "hostname = os.environ.get(\"HOST\")\n",
    "username = os.environ.get(\"USER\")\n",
    "password = os.environ.get(\"PASSWORD\")"
   ]
  },
  {
   "cell_type": "markdown",
   "metadata": {},
   "source": [
    "- `pexect.spwan`で`rsync`コマンドを実行する\n",
    "- ホストに接続すると表示される`password:`という文字列を`expect`する"
   ]
  },
  {
   "cell_type": "code",
   "execution_count": 4,
   "metadata": {},
   "outputs": [],
   "source": [
    "options = [\"-auvz\", \"--dry-run\", '--rsync-path=\"~/.local/bin/rsync\"']\n",
    "src = f\"{username}@{hostname}:~/README.md\"\n",
    "dest = \".\"\n",
    "cmd = (\" \").join([\"rsync\", *options, src, dest])\n",
    "# cmd"
   ]
  },
  {
   "cell_type": "code",
   "execution_count": null,
   "metadata": {},
   "outputs": [],
   "source": [
    "child = pexpect.spawn(cmd)\n",
    "child.expect([\"password:\"])"
   ]
  },
  {
   "cell_type": "markdown",
   "metadata": {},
   "source": [
    "- `password:`の文字列を確認したら、`sendline`でパスワードを送信する\n",
    "- パスワード認証に成功すると`rsync`でファイル転送が開始する\n",
    "- 転送終了の判断のために`pexpect.EOF`を`expect`"
   ]
  },
  {
   "cell_type": "code",
   "execution_count": null,
   "metadata": {},
   "outputs": [],
   "source": [
    "child.sendline(password)\n",
    "child.expect(pexpect.EOF)\n",
    "child.terminate()"
   ]
  },
  {
   "cell_type": "markdown",
   "metadata": {},
   "source": [
    "- 転送時に標準出力に表示された内容は、`expect`でマッチした文字列の前（`before`）で確認できる\n",
    "- `before`はバイナリー文字列になっているため`.decode(\"utf-8\")`でテキスト文字列に変換する"
   ]
  },
  {
   "cell_type": "code",
   "execution_count": null,
   "metadata": {},
   "outputs": [],
   "source": [
    "print(child.before.decode(\"utf-8\"))\n",
    "# print(child.after.decode(\"utf-8\"))"
   ]
  },
  {
   "cell_type": "markdown",
   "metadata": {},
   "source": [
    "- `pexpect.pxssh`モジュールを使ってSSH接続する\n",
    "- `ssh`接続してファイルを作成する"
   ]
  },
  {
   "cell_type": "code",
   "execution_count": 8,
   "metadata": {},
   "outputs": [],
   "source": [
    "from pexpect import pxssh"
   ]
  },
  {
   "cell_type": "markdown",
   "id": "93378d3f",
   "metadata": {},
   "source": [
    "- ログインに必要な情報を準備する\n",
    "- パスワードはソースコードにベタ書きせず、環境変数などから読み込む"
   ]
  },
  {
   "cell_type": "code",
   "execution_count": 9,
   "metadata": {},
   "outputs": [],
   "source": [
    "hostname = os.environ.get(\"HOST\")\n",
    "username = os.environ.get(\"USER\")\n",
    "password = os.environ.get(\"PASSWORD\")"
   ]
  },
  {
   "cell_type": "markdown",
   "id": "e0cf51fd",
   "metadata": {},
   "source": [
    "- `pexpext.pxssh.pxssh()`オブジェクトを初期化する\n",
    "  - `encoding=\"utf-8\"`を指定すると、`.decode`が不要になる\n",
    "- `.login`でSSHログインする\n",
    "  - 初回のパスワード認証時にはRSAキーを`known_hosts`に登録する必要がある\n",
    "  - そのような処理もうまくやってくれる（らしい）\n",
    "  - ログインに成功すると`True`が返ってくるので、成功／失敗に使える？\n",
    "- 接続できないと`ExceptionPxssh`クラスを送出する\n",
    "  - `Could not establish connection to host`"
   ]
  },
  {
   "cell_type": "code",
   "execution_count": 12,
   "metadata": {},
   "outputs": [],
   "source": [
    "ssh = pxssh.pxssh(encoding=\"utf-8\")\n",
    "connected = ssh.login(hostname, username, password)"
   ]
  },
  {
   "cell_type": "markdown",
   "id": "09db6534",
   "metadata": {},
   "source": [
    "- `uptime`コマンドを実行する\n",
    "- コマンド実行後に、プロンプトが返ってくるのを待つ\n",
    "  - `.prompt()`という便利関数がある\n",
    "  - `.expect(\"[\\\\$\\\\#]\")`と同等\n",
    "- 実行結果は`.before`で確認できる"
   ]
  },
  {
   "cell_type": "code",
   "execution_count": null,
   "metadata": {},
   "outputs": [],
   "source": [
    "ssh.sendline(\"uptime\")\n",
    "ssh.prompt()\n",
    "print(ssh.before)"
   ]
  },
  {
   "cell_type": "markdown",
   "id": "f338229f",
   "metadata": {},
   "source": [
    "- `touch`コマンドで空のファイルを作成する"
   ]
  },
  {
   "cell_type": "code",
   "execution_count": null,
   "metadata": {},
   "outputs": [],
   "source": [
    "ssh.sendline(\"netstat\")\n",
    "ssh.prompt()\n",
    "print(ssh.before)"
   ]
  },
  {
   "cell_type": "markdown",
   "id": "5f4e7cf7",
   "metadata": {},
   "source": [
    "- 終わったらログアウトする"
   ]
  },
  {
   "cell_type": "code",
   "execution_count": 15,
   "metadata": {},
   "outputs": [],
   "source": [
    "ssh.logout()"
   ]
  },
  {
   "cell_type": "markdown",
   "id": "3835f66d",
   "metadata": {},
   "source": [
    "- `pxssh.pxssh`オブジェクトを調べた\n",
    "- `.prompt()`で処理を待てるのは、`.PROMPT`が設定されているから\n",
    "- `.PROMPT`の初期値は``'\\\\[PEXPECT\\\\][\\\\$\\\\#] '``になってる\n",
    "  - `\\\\[PEXPECT\\\\]` => `[PEXPECT]` : これはよくわからない\n",
    "  - `[\\\\$\\\\#]` => `$`（通常ユーザー） or `#`（管理者ユーザー）"
   ]
  },
  {
   "cell_type": "markdown",
   "metadata": {},
   "source": [
    "# おまけ\n",
    "\n",
    "- `pxssh`をまねして、`pexpect.spawn`でSSH接続する"
   ]
  },
  {
   "cell_type": "code",
   "execution_count": 16,
   "metadata": {},
   "outputs": [],
   "source": [
    "hostname = os.environ.get(\"HOST\")\n",
    "username = os.environ.get(\"USER\")\n",
    "password = os.environ.get(\"PASSWORD\")"
   ]
  },
  {
   "cell_type": "code",
   "execution_count": 25,
   "metadata": {},
   "outputs": [],
   "source": [
    "cmd = (\" \").join([\"ssh\", f\"{username}@{hostname}\"])\n",
    "PROMPT = \"[\\\\$\\\\#] \""
   ]
  },
  {
   "cell_type": "code",
   "execution_count": null,
   "metadata": {},
   "outputs": [],
   "source": [
    "child = pexpect.spawn(cmd)\n",
    "child.expect(\"password:\")\n",
    "print(child.before.decode(\"utf-8\"))"
   ]
  },
  {
   "cell_type": "code",
   "execution_count": null,
   "metadata": {},
   "outputs": [],
   "source": [
    "child.sendline(password)\n",
    "child.expect(PROMPT)\n",
    "print(child.before.decode(\"utf-8\"))"
   ]
  },
  {
   "cell_type": "code",
   "execution_count": null,
   "metadata": {},
   "outputs": [],
   "source": [
    "child.sendline(\"uptime\")\n",
    "child.expect(PROMPT)\n",
    "print(child.before.decode(\"utf-8\"))"
   ]
  },
  {
   "cell_type": "code",
   "execution_count": null,
   "metadata": {},
   "outputs": [],
   "source": [
    "child.sendline(\"last\")\n",
    "child.expect(PROMPT)\n",
    "print(child.before.decode(\"utf-8\"))"
   ]
  },
  {
   "cell_type": "code",
   "execution_count": null,
   "metadata": {},
   "outputs": [],
   "source": [
    "child.terminate(force=True)"
   ]
  }
 ],
 "metadata": {
  "kernelspec": {
   "display_name": ".venv",
   "language": "python",
   "name": "python3"
  },
  "language_info": {
   "codemirror_mode": {
    "name": "ipython",
    "version": 3
   },
   "file_extension": ".py",
   "mimetype": "text/x-python",
   "name": "python",
   "nbconvert_exporter": "python",
   "pygments_lexer": "ipython3",
   "version": "3.11.10"
  }
 },
 "nbformat": 4,
 "nbformat_minor": 2
}
